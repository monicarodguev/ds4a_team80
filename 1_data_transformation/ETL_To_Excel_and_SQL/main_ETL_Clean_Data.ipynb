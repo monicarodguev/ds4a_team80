{
 "cells": [
  {
   "cell_type": "markdown",
   "metadata": {},
   "source": [
    "# Libraries"
   ]
  },
  {
   "cell_type": "code",
   "execution_count": 1,
   "metadata": {
    "run_control": {
     "marked": true
    }
   },
   "outputs": [],
   "source": [
    "###\n",
    "### TEAM 80 - OMNIVIDA\n",
    "### ETL form Omnivida to Excel cleanned files to use\n",
    "###\n",
    "\n",
    "# Libraries\n",
    "import pandas as pd\n",
    "import datetime as dt\n",
    "import numpy as np\n",
    "import os\n",
    "import re\n",
    "import unidecode  # to remove accent in column names\n",
    "\n",
    "import seaborn as sns\n",
    "import matplotlib.pyplot as plt\n",
    "import plotly.graph_objects as go\n",
    "import plotly.express as px\n",
    "\n",
    "#import generic_funcions as gf"
   ]
  },
  {
   "cell_type": "markdown",
   "metadata": {},
   "source": [
    "# Functions definitions"
   ]
  },
  {
   "cell_type": "code",
   "execution_count": 2,
   "metadata": {
    "run_control": {
     "marked": true
    }
   },
   "outputs": [],
   "source": [
    "archivos = os.listdir(\"./data/\")"
   ]
  },
  {
   "cell_type": "code",
   "execution_count": 3,
   "metadata": {
    "code_folding": [
     0
    ],
    "run_control": {
     "marked": true
    }
   },
   "outputs": [
    {
     "name": "stdout",
     "output_type": "stream",
     "text": [
      "ACT.xlsx\n",
      "ACT_DESAGREGADO.xlsx\n",
      "Adherencia.xlsx\n",
      "Antecedentes_familiares.xlsx\n",
      "Antecedentes_patologicos.xlsx\n",
      "Ayudas_diagnosticas.xlsx\n",
      "Biologicos Asma.xlsx\n",
      "Calidad de vida relacioada en salud.xlsx\n",
      "Datos basicos.xlsx\n",
      "Disnea.xlsx\n",
      "Farmacovigilancia RAM.xlsx\n",
      "Habitos.xlsx\n",
      "Hospitalizaciones.xlsx\n",
      "Incosistencias en reclamacion.xlsx\n",
      "Medicamentos.xlsx\n",
      "Mediciones de peso y talla.xlsx\n",
      "Urgencias.xlsx\n",
      "Vacunacion.xlsx\n"
     ]
    }
   ],
   "source": [
    "for namefile in archivos:\n",
    "    print(namefile)"
   ]
  },
  {
   "cell_type": "markdown",
   "metadata": {},
   "source": [
    "## Function: clean_columns"
   ]
  },
  {
   "cell_type": "code",
   "execution_count": 4,
   "metadata": {
    "run_control": {
     "marked": true
    }
   },
   "outputs": [],
   "source": [
    "# clean_columns: remove accent, special characters and perform lower case\n",
    "#                taken into account special files or columns as dates\n",
    "# Parameters: df: a data frame of a file\n",
    "# Value: return the df with names columns normalized (lowercase, no spetial characters, space by underscore)\n",
    "#        the ID by patient is replaced by patient_id\n",
    "\n",
    "\n",
    "def clean_columns(df):\n",
    "\n",
    "    # -------------------------------------------------------- #\n",
    "    # Search for name used to identify id patient if new file\n",
    "    # are added this list must be updated\n",
    "    # -------------------------------------------------------- #\n",
    "    id_names = [\n",
    "        'id', 'Id', 'ID', 'NUMERO IDENTIFICACION', 'ds_identificacion',\n",
    "        'DS_IDENTIFICACION', 'Numero_Identificacion', 'Identificacion',\n",
    "        'NRO_IDENTIFICACION', 'DS_IDENTIFICACION', 'IDENTIFICACIÓN',\n",
    "        'Numero_de_documento'\n",
    "    ]\n",
    "    # Extract the name used un the file to identify the patient\n",
    "    id_column = list(set(id_names) & set(df.columns))\n",
    "    if len(id_column) == 0:\n",
    "        # By default the first column\n",
    "        df.rename(columns={df.columns[0]: \"patient_id\"}, inplace=True)\n",
    "    else:\n",
    "        # If there is a match use it\n",
    "        df.rename(columns={id_column[0]: \"patient_id\"}, inplace=True)\n",
    "\n",
    "    # Remove latin accent\n",
    "    df.columns = list(map(lambda x: unidecode.unidecode(x), df.columns))\n",
    "    # Replace non-printable spaces by simple space\n",
    "    df.columns = df.columns.str.replace(pat=\"[\\b]\", repl=\" \", regex=True)\n",
    "    # Replace punctuation (like parenthesis) by simple space\n",
    "    df.columns = df.columns.str.replace(pat=\"[^a-zA-Z0-9]\",\n",
    "                                        repl=\" \",\n",
    "                                        regex=True)\n",
    "    # To lower case\n",
    "    df.columns = df.columns.str.lower()\n",
    "    # Strip blank space (delete extra spaces)\n",
    "    df.columns = df.columns.str.strip()\n",
    "    # Replace bank space by underscore\n",
    "    df.columns = df.columns.str.replace(pat=\" \", repl=\"_\", regex=True)\n",
    "    # Strip double underscore\n",
    "    df.columns = df.columns.str.strip('_')\n",
    "\n",
    "    # -------------------------------------------------------- #\n",
    "    # Particular cases where dates are integers in Excel\n",
    "    # -------------------------------------------------------- #\n",
    "\n",
    "    # Error DATE type in \"Hospitalizaciones.xlsx\"\n",
    "    if ('fecha_ingreso' in df.columns):\n",
    "        if df.dtypes['fecha_ingreso'] != 'datetime64[ns]':\n",
    "            df['fecha_ingreso'] = pd.TimedeltaIndex(\n",
    "                df['fecha_ingreso'], unit='d') + dt.datetime(1899, 12, 30)\n",
    "    if ('fecha_egreso' in df.columns):\n",
    "        if df.dtypes['fecha_egreso'] != 'datetime64[ns]':\n",
    "            df['fecha_egreso'] = pd.TimedeltaIndex(\n",
    "                df['fecha_egreso'], unit='d') + dt.datetime(1899, 12, 30)\n",
    "\n",
    "    # Error DATE type in Datos Basicos\n",
    "    if ('fe_nacimiento' in df.columns):\n",
    "        if (df.dtypes['fe_nacimiento'] != 'datetime64[ns]'):\n",
    "            df['fe_nacimiento'] = pd.to_datetime(df['fe_nacimiento'])\n",
    "\n",
    "    # Error DATE type in incosistencias_en_reclamacion\n",
    "    if ('fe_registro' in df.columns):\n",
    "        if (df.dtypes['fe_registro'] != 'datetime64[ns]'):\n",
    "            df['fe_registro'] = pd.to_datetime(df['fe_registro'])\n",
    "\n",
    "    # Put the patient_id in the first column\n",
    "    dfcol = df['patient_id']\n",
    "    df.drop(labels=['patient_id'], axis=1, inplace=True)\n",
    "    df.insert(0, 'patient_id', dfcol)\n",
    "\n",
    "    return df"
   ]
  },
  {
   "cell_type": "markdown",
   "metadata": {
    "heading_collapsed": true
   },
   "source": [
    "## Function: SQLType"
   ]
  },
  {
   "cell_type": "code",
   "execution_count": 5,
   "metadata": {
    "hidden": true,
    "run_control": {
     "marked": true
    }
   },
   "outputs": [],
   "source": [
    "# SQLType: return SQL type variable given python type Useful to CREATE TABLE\n",
    "# Parameters: string type\n",
    "# Value: return SQL equivalent type\n",
    "def SQLType(str):\n",
    "    if str == 'int64':\n",
    "        return \"INTEGER\"\n",
    "    elif str == 'object':\n",
    "        return \"TEXT\"\n",
    "    elif str == 'datetime64[ns]':\n",
    "        return \"DATE\"\n",
    "    elif str == 'float64':\n",
    "        return \"FLOAT\"\n",
    "    else:\n",
    "        return \"TEXT\""
   ]
  },
  {
   "cell_type": "markdown",
   "metadata": {},
   "source": [
    "## Funtion: CREATE_SQL_Script"
   ]
  },
  {
   "cell_type": "code",
   "execution_count": 6,
   "metadata": {
    "run_control": {
     "marked": true
    }
   },
   "outputs": [],
   "source": [
    "# CREATE_SQL_Script: using the file name of a file write the script to CREATE TABLE\n",
    "#                    in a SQL data base.\n",
    "# Parameters: the file name and the data frame and the text file name (append mode)\n",
    "# Value: write a text file with SQL script\n",
    "\n",
    "\n",
    "def CREATE_SQL_Script(namefile, df_datatypes, ScriptName):\n",
    "    # Clean the name of the file to be used as table name\n",
    "    namefile_clean = namefile.replace(\".xlsx\", \"\").lower().replace(' ', '_')\n",
    "    QSL_File = open(ScriptName, \"a\")\n",
    "    QSL_File.write(\"CREATE TABLE \" + namefile_clean + '(\\n')\n",
    "\n",
    "    # for datos_basicos the primary key is the patient_id for all others files is a regular consecutive number\n",
    "    if namefile_clean != \"datos_basicos\":\n",
    "        # Standard Primary key\n",
    "        QSL_File.write(namefile_clean +\n",
    "                       \"_id INTEGER NOT NULL AUTO_INCREMENT PRIMARY KEY,\\n\")\n",
    "\n",
    "        # loop over datatype that has the type of each column\n",
    "        for id_df in range(len(df_datatypes) - 1):\n",
    "            QSL_File.write(df_datatypes.loc[id_df, 'Variable'] + ' ' +\n",
    "                           df_datatypes.loc[id_df, 'SQLType'] + ',\\n')\n",
    "\n",
    "        # The last out of the loop to close the parenthesis and make new lines\n",
    "        id_df = id_df + 1\n",
    "        QSL_File.write(df_datatypes.loc[id_df, 'Variable'] + ' ' +\n",
    "                       df_datatypes.loc[id_df, 'SQLType'] + ',\\n')\n",
    "        QSL_File.write(\n",
    "            'FOREIGN KEY (patient_id) references datos_basicos(patient_id)' +\n",
    "            ');\\n\\n')\n",
    "    else:\n",
    "        # to run the script to create Tables the first must by datos_basicos\n",
    "        for id_df in range(len(df_datatypes) - 1):\n",
    "            if id_df == 0:\n",
    "                # the first column is the patient_id primary key\n",
    "                QSL_File.write(df_datatypes.loc[id_df, 'Variable'] + ' ' +\n",
    "                               \"INTEGER NOT NULL PRIMARY KEY\" + ',\\n')\n",
    "            else:\n",
    "                QSL_File.write(df_datatypes.loc[id_df, 'Variable'] + ' ' +\n",
    "                               df_datatypes.loc[id_df, 'SQLType'] + ',\\n')\n",
    "\n",
    "        id_df = id_df + 1\n",
    "        QSL_File.write(df_datatypes.loc[id_df, 'Variable'] + ' ' +\n",
    "                       df_datatypes.loc[id_df, 'SQLType'] + ');\\n\\n')\n",
    "\n",
    "    QSL_File.close()"
   ]
  },
  {
   "cell_type": "markdown",
   "metadata": {
    "heading_collapsed": true
   },
   "source": [
    "## Function: CREATE_Copy_Script"
   ]
  },
  {
   "cell_type": "code",
   "execution_count": 7,
   "metadata": {
    "hidden": true,
    "run_control": {
     "marked": true
    }
   },
   "outputs": [],
   "source": [
    "# CREATE_Copy_Script: using the file name  create the scrip to copy data to DBase\n",
    "# Parameters: the file name and the data frame and the text file name (append mode)\n",
    "# Value: write a text file with copy script\n",
    "def CREATE_Copy_Script(namefile, df_datatypes, ScriptName):\n",
    "    # Clean the name of the file to be used as table name\n",
    "    namefile_clean = namefile.replace(\".xlsx\", \"\").lower().replace(' ', '_')\n",
    "    QSL_File = open(ScriptName, \"a\")\n",
    "\n",
    "    QSL_File.write(\"%%sql postgresql://\\n\" + \"\\copy \" + namefile_clean +\n",
    "                   \" FROM './data_clean/csv/\" + namefile_clean + \".csv'\" +\n",
    "                   \" with (format CSV, header true, delimiter ',');\\n\\n\")\n",
    "\n",
    "    QSL_File.close()"
   ]
  },
  {
   "cell_type": "markdown",
   "metadata": {},
   "source": [
    "# Example"
   ]
  },
  {
   "cell_type": "code",
   "execution_count": 8,
   "metadata": {
    "run_control": {
     "marked": true
    }
   },
   "outputs": [
    {
     "name": "stdout",
     "output_type": "stream",
     "text": [
      "<class 'pandas.core.frame.DataFrame'>\n",
      "RangeIndex: 888 entries, 0 to 887\n",
      "Data columns (total 17 columns):\n",
      " #   Column               Non-Null Count  Dtype  \n",
      "---  ------               --------------  -----  \n",
      " 0   ID                   888 non-null    int64  \n",
      " 1   edad                 887 non-null    float64\n",
      " 2   genero               886 non-null    object \n",
      " 3   escolaridad          877 non-null    object \n",
      " 4   EstadoCivil          878 non-null    object \n",
      " 5   Preferencia          202 non-null    object \n",
      " 6   Departamento         886 non-null    object \n",
      " 7   Ciudad               886 non-null    object \n",
      " 8   Estrato              887 non-null    float64\n",
      " 9   Zona                 887 non-null    object \n",
      " 10  AcompaÃ±ante         861 non-null    object \n",
      " 11  NivelSocioEconomico  871 non-null    object \n",
      " 12  Ocupacion            861 non-null    object \n",
      " 13  Regimen              861 non-null    object \n",
      " 14  TipoAfiliacion       861 non-null    object \n",
      " 15  RelacionLaboral      861 non-null    object \n",
      " 16  FE_NACIMIENTO        887 non-null    object \n",
      "dtypes: float64(2), int64(1), object(14)\n",
      "memory usage: 118.1+ KB\n",
      "<class 'pandas.core.frame.DataFrame'>\n",
      "Int64Index: 872 entries, 0 to 887\n",
      "Data columns (total 17 columns):\n",
      " #   Column               Non-Null Count  Dtype         \n",
      "---  ------               --------------  -----         \n",
      " 0   patient_id           872 non-null    int64         \n",
      " 1   edad                 872 non-null    float64       \n",
      " 2   genero               870 non-null    object        \n",
      " 3   escolaridad          862 non-null    object        \n",
      " 4   estadocivil          862 non-null    object        \n",
      " 5   preferencia          194 non-null    object        \n",
      " 6   departamento         870 non-null    object        \n",
      " 7   ciudad               870 non-null    object        \n",
      " 8   estrato              871 non-null    float64       \n",
      " 9   zona                 871 non-null    object        \n",
      " 10  acompaa__ante        845 non-null    object        \n",
      " 11  nivelsocioeconomico  855 non-null    object        \n",
      " 12  ocupacion            845 non-null    object        \n",
      " 13  regimen              845 non-null    object        \n",
      " 14  tipoafiliacion       845 non-null    object        \n",
      " 15  relacionlaboral      845 non-null    object        \n",
      " 16  fe_nacimiento        872 non-null    datetime64[ns]\n",
      "dtypes: datetime64[ns](1), float64(2), int64(1), object(13)\n",
      "memory usage: 122.6+ KB\n"
     ]
    },
    {
     "data": {
      "text/html": [
       "<div>\n",
       "<style scoped>\n",
       "    .dataframe tbody tr th:only-of-type {\n",
       "        vertical-align: middle;\n",
       "    }\n",
       "\n",
       "    .dataframe tbody tr th {\n",
       "        vertical-align: top;\n",
       "    }\n",
       "\n",
       "    .dataframe thead th {\n",
       "        text-align: right;\n",
       "    }\n",
       "</style>\n",
       "<table border=\"1\" class=\"dataframe\">\n",
       "  <thead>\n",
       "    <tr style=\"text-align: right;\">\n",
       "      <th></th>\n",
       "      <th>patient_id</th>\n",
       "      <th>edad</th>\n",
       "      <th>genero</th>\n",
       "      <th>escolaridad</th>\n",
       "      <th>estadocivil</th>\n",
       "      <th>preferencia</th>\n",
       "      <th>departamento</th>\n",
       "      <th>ciudad</th>\n",
       "      <th>estrato</th>\n",
       "      <th>zona</th>\n",
       "      <th>acompaa__ante</th>\n",
       "      <th>nivelsocioeconomico</th>\n",
       "      <th>ocupacion</th>\n",
       "      <th>regimen</th>\n",
       "      <th>tipoafiliacion</th>\n",
       "      <th>relacionlaboral</th>\n",
       "      <th>fe_nacimiento</th>\n",
       "    </tr>\n",
       "  </thead>\n",
       "  <tbody>\n",
       "    <tr>\n",
       "      <th>0</th>\n",
       "      <td>500547</td>\n",
       "      <td>58.0</td>\n",
       "      <td>M</td>\n",
       "      <td>SECUNDARIA</td>\n",
       "      <td>CASADO (A)</td>\n",
       "      <td>HETEROSEXUAL</td>\n",
       "      <td>ANTIOQUIA</td>\n",
       "      <td>MEDELLIN</td>\n",
       "      <td>3.0</td>\n",
       "      <td>URBANA</td>\n",
       "      <td>PACIENTE</td>\n",
       "      <td>A</td>\n",
       "      <td>EMPLEADO</td>\n",
       "      <td>CONTRIBUTIVO</td>\n",
       "      <td>COTIZANTE</td>\n",
       "      <td>EMPLEADO</td>\n",
       "      <td>1962-05-19</td>\n",
       "    </tr>\n",
       "    <tr>\n",
       "      <th>1</th>\n",
       "      <td>500588</td>\n",
       "      <td>15.0</td>\n",
       "      <td>M</td>\n",
       "      <td>PRIMARIA</td>\n",
       "      <td>SOLTERO (A)</td>\n",
       "      <td>NaN</td>\n",
       "      <td>CUNDINAMARCA</td>\n",
       "      <td>BOGOTA</td>\n",
       "      <td>2.0</td>\n",
       "      <td>URBANA</td>\n",
       "      <td>MADRE</td>\n",
       "      <td>B</td>\n",
       "      <td>ESTUDIANTE</td>\n",
       "      <td>CONTRIBUTIVO</td>\n",
       "      <td>BENEFICIARIO</td>\n",
       "      <td>MENOR NO LABORA</td>\n",
       "      <td>2004-12-19</td>\n",
       "    </tr>\n",
       "    <tr>\n",
       "      <th>2</th>\n",
       "      <td>502989</td>\n",
       "      <td>29.0</td>\n",
       "      <td>M</td>\n",
       "      <td>UNIVERSITARIO</td>\n",
       "      <td>SOLTERO (A)</td>\n",
       "      <td>HETEROSEXUAL</td>\n",
       "      <td>ANTIOQUIA</td>\n",
       "      <td>MEDELLIN</td>\n",
       "      <td>3.0</td>\n",
       "      <td>URBANA</td>\n",
       "      <td>MADRE</td>\n",
       "      <td>A</td>\n",
       "      <td>SIN DEFINIR</td>\n",
       "      <td>CONTRIBUTIVO</td>\n",
       "      <td>BENEFICIARIO</td>\n",
       "      <td>SIN EMPLEO</td>\n",
       "      <td>1990-08-22</td>\n",
       "    </tr>\n",
       "    <tr>\n",
       "      <th>3</th>\n",
       "      <td>506808</td>\n",
       "      <td>11.0</td>\n",
       "      <td>M</td>\n",
       "      <td>EDAD PREESCOLAR</td>\n",
       "      <td>SOLTERO (A)</td>\n",
       "      <td>HETEROSEXUAL</td>\n",
       "      <td>ANTIOQUIA</td>\n",
       "      <td>BELLO</td>\n",
       "      <td>1.0</td>\n",
       "      <td>URBANA</td>\n",
       "      <td>MADRE</td>\n",
       "      <td>A</td>\n",
       "      <td>ESTUDIANTE</td>\n",
       "      <td>CONTRIBUTIVO</td>\n",
       "      <td>BENEFICIARIO</td>\n",
       "      <td>MENOR NO LABORA</td>\n",
       "      <td>2008-10-06</td>\n",
       "    </tr>\n",
       "    <tr>\n",
       "      <th>4</th>\n",
       "      <td>512938</td>\n",
       "      <td>22.0</td>\n",
       "      <td>F</td>\n",
       "      <td>SECUNDARIA</td>\n",
       "      <td>SOLTERO (A)</td>\n",
       "      <td>HETEROSEXUAL</td>\n",
       "      <td>ANTIOQUIA</td>\n",
       "      <td>MEDELLIN</td>\n",
       "      <td>3.0</td>\n",
       "      <td>URBANA</td>\n",
       "      <td>PACIENTE</td>\n",
       "      <td>A</td>\n",
       "      <td>EMPLEADO</td>\n",
       "      <td>CONTRIBUTIVO</td>\n",
       "      <td>COTIZANTE</td>\n",
       "      <td>EMPLEADO</td>\n",
       "      <td>1997-10-15</td>\n",
       "    </tr>\n",
       "  </tbody>\n",
       "</table>\n",
       "</div>"
      ],
      "text/plain": [
       "   patient_id  edad genero      escolaridad  estadocivil   preferencia  \\\n",
       "0      500547  58.0      M       SECUNDARIA   CASADO (A)  HETEROSEXUAL   \n",
       "1      500588  15.0      M         PRIMARIA  SOLTERO (A)           NaN   \n",
       "2      502989  29.0      M    UNIVERSITARIO  SOLTERO (A)  HETEROSEXUAL   \n",
       "3      506808  11.0      M  EDAD PREESCOLAR  SOLTERO (A)  HETEROSEXUAL   \n",
       "4      512938  22.0      F       SECUNDARIA  SOLTERO (A)  HETEROSEXUAL   \n",
       "\n",
       "   departamento    ciudad  estrato    zona acompaa__ante nivelsocioeconomico  \\\n",
       "0     ANTIOQUIA  MEDELLIN      3.0  URBANA      PACIENTE                   A   \n",
       "1  CUNDINAMARCA    BOGOTA      2.0  URBANA         MADRE                   B   \n",
       "2     ANTIOQUIA  MEDELLIN      3.0  URBANA         MADRE                   A   \n",
       "3     ANTIOQUIA     BELLO      1.0  URBANA         MADRE                   A   \n",
       "4     ANTIOQUIA  MEDELLIN      3.0  URBANA      PACIENTE                   A   \n",
       "\n",
       "     ocupacion       regimen tipoafiliacion  relacionlaboral fe_nacimiento  \n",
       "0     EMPLEADO  CONTRIBUTIVO      COTIZANTE         EMPLEADO    1962-05-19  \n",
       "1   ESTUDIANTE  CONTRIBUTIVO   BENEFICIARIO  MENOR NO LABORA    2004-12-19  \n",
       "2  SIN DEFINIR  CONTRIBUTIVO   BENEFICIARIO       SIN EMPLEO    1990-08-22  \n",
       "3   ESTUDIANTE  CONTRIBUTIVO   BENEFICIARIO  MENOR NO LABORA    2008-10-06  \n",
       "4     EMPLEADO  CONTRIBUTIVO      COTIZANTE         EMPLEADO    1997-10-15  "
      ]
     },
     "execution_count": 8,
     "metadata": {},
     "output_type": "execute_result"
    }
   ],
   "source": [
    "# Example\n",
    "#namefile = archivos[12]\n",
    "namefile = archivos[8]\n",
    "\n",
    "df = pd.read_excel(\"./data/\" + namefile)\n",
    "df.info()\n",
    "df = clean_columns(df)\n",
    "\n",
    "df.drop_duplicates(\"patient_id\", keep='last', inplace=True)\n",
    "\n",
    "df.info()\n",
    "df.head()"
   ]
  },
  {
   "cell_type": "markdown",
   "metadata": {},
   "source": [
    "# Run Script main"
   ]
  },
  {
   "cell_type": "code",
   "execution_count": 10,
   "metadata": {
    "run_control": {
     "marked": true
    }
   },
   "outputs": [
    {
     "name": "stdout",
     "output_type": "stream",
     "text": [
      " # ---------------- ACT.xlsx-------------- #\n",
      " # ---------------- ACT_DESAGREGADO.xlsx-------------- #\n",
      " # ---------------- Adherencia.xlsx-------------- #\n",
      " # ---------------- Antecedentes_familiares.xlsx-------------- #\n",
      " # ---------------- Antecedentes_patologicos.xlsx-------------- #\n",
      " # ---------------- Ayudas_diagnosticas.xlsx-------------- #\n",
      " # ---------------- Biologicos Asma.xlsx-------------- #\n",
      " # ---------------- Calidad de vida relacioada en salud.xlsx-------------- #\n",
      " # ---------------- Datos basicos.xlsx-------------- #\n",
      " # ---------------- Disnea.xlsx-------------- #\n",
      " # ---------------- Farmacovigilancia RAM.xlsx-------------- #\n",
      " # ---------------- Habitos.xlsx-------------- #\n",
      " # ---------------- Hospitalizaciones.xlsx-------------- #\n",
      " # ---------------- Incosistencias en reclamacion.xlsx-------------- #\n",
      " # ---------------- Medicamentos.xlsx-------------- #\n",
      " # ---------------- Mediciones de peso y talla.xlsx-------------- #\n",
      " # ---------------- Urgencias.xlsx-------------- #\n",
      " # ---------------- Vacunacion.xlsx-------------- #\n"
     ]
    }
   ],
   "source": [
    "# Because our data are small files but Creating Excels is not needed\n",
    "# Just for fun!\n",
    "\n",
    "# To create and excel file with all the cleanned dataframes as sheet's\n",
    "XLSwriter_Data = pd.ExcelWriter('./data_clean/All_Files_in_ONE.xlsx')\n",
    "\n",
    "# To create and excel file with df.info() of each data frame as documentation\n",
    "XLSwriter_Info = pd.ExcelWriter('./data_clean/Info_Files_in_ONE.xlsx')\n",
    "\n",
    "# Becuase in some files there are patients' ids there are not in datos basicos\n",
    "# We need to drop thoses rows. We will always merge with datos basicos\n",
    "df_datos_basicos = pd.read_excel(\"./data/Datos basicos.xlsx\")\n",
    "# We only need the id column\n",
    "df_datos_basicos = df_datos_basicos.loc[:, ['ID']]\n",
    "df_datos_basicos.columns = ['patient_id']\n",
    "df_datos_basicos.drop_duplicates(keep='last')\n",
    "\n",
    "for namefile in archivos:\n",
    "    # Read a file\n",
    "    df = pd.read_excel(\"./data/\" + namefile)\n",
    "    # Clean dataframe\n",
    "    df = clean_columns(df)\n",
    "    df = pd.merge(df, df_datos_basicos, on='patient_id')\n",
    "\n",
    "    # A clean name to save files\n",
    "    namefile_clean = namefile.replace(\".xlsx\", \"\").lower().replace(' ', '_')\n",
    "\n",
    "    # Remove duplicates en datos basicos\n",
    "    if namefile_clean == \"datos_basicos\":\n",
    "        df.drop_duplicates(\"patient_id\", keep='last', inplace=True)\n",
    "    else:\n",
    "        df.drop_duplicates(keep='last', inplace=True)\n",
    "    # Write each dataframe to a different worksheet.\n",
    "    df.to_excel(XLSwriter_Data, sheet_name=namefile_clean[0:30], index=False)\n",
    "\n",
    "    # Files also written in a new folder\n",
    "    df.to_excel(\"./data_clean/xlsx/\" + namefile_clean + \".xlsx\", index=False)\n",
    "    df.to_csv(\"./data_clean/csv/\" + namefile_clean + \".csv\", index=False)\n",
    "\n",
    "    # Extract type variables to create a documentation file or SQL CREATE TABLE\n",
    "    df_datatypes = pd.DataFrame(df.dtypes).reset_index()\n",
    "    df_datatypes.columns = ['Variable', 'PythonType']\n",
    "    df_datatypes['SQLType'] = list(map(SQLType, df_datatypes['PythonType']))\n",
    "\n",
    "    # datos_basicos must be created first because it has the patient_id key\n",
    "    # A different script can be used to be runned first\n",
    "    if namefile_clean == 'datos_basicos':\n",
    "        CREATE_SQL_Script(\n",
    "            namefile, df_datatypes,\n",
    "            \"./data_clean/SQL_Script_CREATE_BD_datos_basicos.sql\")\n",
    "    else:\n",
    "        CREATE_SQL_Script(namefile, df_datatypes,\n",
    "                          \"./data_clean/SQL_Script_CREATE_BD_All_others.sql\")\n",
    "\n",
    "    # Write each info as a sheet in Excel\n",
    "    df_datatypes.to_excel(XLSwriter_Info,\n",
    "                          sheet_name=namefile.lower()[0:30],\n",
    "                          index=False)\n",
    "\n",
    "    # Create the copy Script to be used in pstgress\n",
    "    CREATE_Copy_Script(namefile, df_datatypes,\n",
    "                       \"./data_clean/SQL_Copy_Script.sql\")\n",
    "\n",
    "    print(\" # ---------------- \" + namefile + \"-------------- #\")\n",
    "\n",
    "# Save Excels\n",
    "XLSwriter_Data.save()\n",
    "XLSwriter_Info.save()"
   ]
  },
  {
   "cell_type": "markdown",
   "metadata": {},
   "source": [
    "create table datos_basicos (\n",
    "    patient_id integer primary key,\n",
    "    name CHAR(55));\n",
    "\n",
    "create hospitalizaciones (\n",
    "    id integer primary key,\n",
    "    country_id integer,\n",
    "    name CHAR(55),\n",
    "    foreign key (datos_basicos_patient_id) references datos_basicos(patient_id));\n",
    "    \n",
    "%%sql postgresql://\n",
    "    \\copy productmodelproductdescriptionculture FROM 'data/csvs/productmodelproductdescriptionculture.csv' with (format CSV, header true, delimiter ',\n"
   ]
  },
  {
   "cell_type": "markdown",
   "metadata": {},
   "source": [
    "# To read an Excel file with multiple sheets"
   ]
  },
  {
   "cell_type": "code",
   "execution_count": null,
   "metadata": {
    "cell_style": "center",
    "code_folding": [],
    "run_control": {
     "marked": true
    }
   },
   "outputs": [],
   "source": [
    "#Read all sheets directly into an ordered dictionary.\n",
    "sheet_to_df_map = pd.read_excel(file_name, sheet_name=None)\n",
    "\n",
    "#Read the excel file and get a list of sheets. Then chose and load the sheets.\n",
    "xls = pd.ExcelFile('excel_file_path.xls')\n",
    "# Now you can list all sheets in the file\n",
    "xls.sheet_names\n",
    "# ['house', 'house_extra', ...]\n",
    "# to read just one sheet to dataframe:\n",
    "df = pd.read_excel(file_name, sheetname=\"house\")"
   ]
  }
 ],
 "metadata": {
  "celltoolbar": "Raw Cell Format",
  "hide_input": false,
  "kernelspec": {
   "display_name": "Python 3",
   "language": "python",
   "name": "python3"
  },
  "language_info": {
   "codemirror_mode": {
    "name": "ipython",
    "version": 3
   },
   "file_extension": ".py",
   "mimetype": "text/x-python",
   "name": "python",
   "nbconvert_exporter": "python",
   "pygments_lexer": "ipython3",
   "version": "3.7.6"
  },
  "toc": {
   "base_numbering": 1,
   "nav_menu": {
    "height": "68px",
    "width": "196px"
   },
   "number_sections": true,
   "sideBar": true,
   "skip_h1_title": false,
   "title_cell": "Table of Contents",
   "title_sidebar": "Contents",
   "toc_cell": false,
   "toc_position": {
    "height": "calc(100% - 180px)",
    "left": "10px",
    "top": "150px",
    "width": "352px"
   },
   "toc_section_display": true,
   "toc_window_display": true
  },
  "varInspector": {
   "cols": {
    "lenName": 16,
    "lenType": 16,
    "lenVar": 40
   },
   "kernels_config": {
    "python": {
     "delete_cmd_postfix": "",
     "delete_cmd_prefix": "del ",
     "library": "var_list.py",
     "varRefreshCmd": "print(var_dic_list())"
    },
    "r": {
     "delete_cmd_postfix": ") ",
     "delete_cmd_prefix": "rm(",
     "library": "var_list.r",
     "varRefreshCmd": "cat(var_dic_list()) "
    }
   },
   "position": {
    "height": "163.917px",
    "left": "1280px",
    "right": "20px",
    "top": "184px",
    "width": "470.5px"
   },
   "types_to_exclude": [
    "module",
    "function",
    "builtin_function_or_method",
    "instance",
    "_Feature"
   ],
   "window_display": false
  }
 },
 "nbformat": 4,
 "nbformat_minor": 4
}
