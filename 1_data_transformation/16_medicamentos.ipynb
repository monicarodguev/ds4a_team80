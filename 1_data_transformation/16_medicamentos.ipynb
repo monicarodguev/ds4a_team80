{
 "cells": [
  {
   "cell_type": "markdown",
   "metadata": {},
   "source": [
    "# DATA TRANSFORMATION - 16_medicamentos\n",
    "## 0. Previos\n",
    "\n",
    "Se cargan las bases y las librerías a utilizar."
   ]
  },
  {
   "cell_type": "code",
   "execution_count": 1,
   "metadata": {},
   "outputs": [],
   "source": [
    "# Librerías\n",
    "import pandas as pd\n",
    "import seaborn as sns\n",
    "import matplotlib.pyplot as plt\n",
    "import datetime\n",
    "import numpy as np\n",
    "\n",
    "import generic_funcions as gf\n",
    "\n",
    "ruta_archivos = 'C:/Users/monic/documentos/ds4a/project/datos/'"
   ]
  },
  {
   "cell_type": "markdown",
   "metadata": {},
   "source": [
    "## 1. Load"
   ]
  },
  {
   "cell_type": "code",
   "execution_count": 2,
   "metadata": {},
   "outputs": [],
   "source": [
    "modulo = 'Medicamentos'"
   ]
  },
  {
   "cell_type": "code",
   "execution_count": 3,
   "metadata": {},
   "outputs": [],
   "source": [
    "dcc = gf.diccionario_llaves()"
   ]
  },
  {
   "cell_type": "code",
   "execution_count": null,
   "metadata": {},
   "outputs": [],
   "source": [
    "base = gf.carga_datos( ruta = ruta_archivos, diccionario = dcc, modulo = modulo )\n",
    "base.head()"
   ]
  },
  {
   "cell_type": "markdown",
   "metadata": {},
   "source": [
    "## 2. Transform"
   ]
  },
  {
   "cell_type": "code",
   "execution_count": null,
   "metadata": {},
   "outputs": [],
   "source": [
    "base = gf.letra_codigo( base, 'Codigo_Diagnostico_EPS_Op' )\n",
    "base.head()"
   ]
  },
  {
   "cell_type": "markdown",
   "metadata": {},
   "source": [
    "* Number of delivered doses per month\n",
    "* Number of different diseases per month"
   ]
  },
  {
   "cell_type": "code",
   "execution_count": null,
   "metadata": {},
   "outputs": [],
   "source": [
    "base_ = base.groupby(['id','year','month','Codigo_Diagnostico_EPS_Op_cod'])['Numero_Cantidad_Prestaciones'].sum().\\\n",
    "    reset_index( name = 'num_doses' )\n",
    "base_['num_dis'] = 1\n",
    "base_.head()"
   ]
  },
  {
   "cell_type": "code",
   "execution_count": null,
   "metadata": {},
   "outputs": [],
   "source": [
    "# all diagnoses different form j will be in the same category\n",
    "base_['diag'] = base_['Codigo_Diagnostico_EPS_Op_cod'].apply( lambda x : 'j' if x == 'j' else 'otra' )"
   ]
  },
  {
   "cell_type": "code",
   "execution_count": null,
   "metadata": {},
   "outputs": [],
   "source": [
    "# pivot table to have separate variables, nans replaced with zero\n",
    "base_p = base_.pivot_table(index=['id','year','month'], columns='diag', values=['num_doses','num_dis'], aggfunc=np.sum).reset_index()\n",
    "base_p.columns = ['_'.join(col).strip() for col in base_p.columns.values]\n",
    "base_p.fillna( 0 , inplace = True)\n",
    "base_p.head()"
   ]
  },
  {
   "cell_type": "markdown",
   "metadata": {},
   "source": [
    "* Flag variables"
   ]
  },
  {
   "cell_type": "code",
   "execution_count": null,
   "metadata": {},
   "outputs": [],
   "source": [
    "base_p['num_dis'] = base_p['num_dis_otra'] + base_p['num_dis_j']\n",
    "base_p['flag_otra'] = base_p['num_dis_otra'].apply( lambda x : 0 if x == 0 else 1 )\n",
    "base_p.rename( columns={ 'num_dis_j':'flag_j' }, inplace=True)\n",
    "base_p.head()"
   ]
  },
  {
   "cell_type": "code",
   "execution_count": null,
   "metadata": {},
   "outputs": [],
   "source": [
    "# add prefix\n",
    "base_p.columns = ['med_' + s for s in base_p.columns]"
   ]
  },
  {
   "cell_type": "code",
   "execution_count": null,
   "metadata": {},
   "outputs": [],
   "source": [
    "base_p.rename( columns={ 'med_id_':'id', 'med_year_':'year', 'med_month_':'month' }, inplace=True)\n",
    "base_p.head()"
   ]
  },
  {
   "cell_type": "markdown",
   "metadata": {},
   "source": [
    "## 3. Merge with ids table"
   ]
  },
  {
   "cell_type": "code",
   "execution_count": null,
   "metadata": {},
   "outputs": [],
   "source": [
    "ids_mensual = gf.base_ids_mensual( ruta_archivos )\n",
    "base_final_med = ids_mensual.merge( base_p, how='left')\n",
    "base_final_med.head()"
   ]
  }
 ],
 "metadata": {
  "kernelspec": {
   "display_name": "Python 3",
   "language": "python",
   "name": "python3"
  },
  "language_info": {
   "codemirror_mode": {
    "name": "ipython",
    "version": 3
   },
   "file_extension": ".py",
   "mimetype": "text/x-python",
   "name": "python",
   "nbconvert_exporter": "python",
   "pygments_lexer": "ipython3",
   "version": "3.8.3"
  }
 },
 "nbformat": 4,
 "nbformat_minor": 4
}
