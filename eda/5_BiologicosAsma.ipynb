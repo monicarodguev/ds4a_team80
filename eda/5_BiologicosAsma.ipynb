{
 "cells": [
  {
   "cell_type": "markdown",
   "metadata": {},
   "source": [
    "# Packages\n",
    "Se usa plotly para graficar\n",
    " - Instalar paquete: conda install jupyterlab \"ipywidgets=7.5\""
   ]
  },
  {
   "cell_type": "code",
   "execution_count": 155,
   "metadata": {},
   "outputs": [],
   "source": [
    "import pandas as pd\n",
    "import numpy as np\n",
    "import plotly.graph_objects as go\n",
    "import plotly.express as px\n",
    "from datetime import datetime"
   ]
  },
  {
   "cell_type": "markdown",
   "metadata": {
    "heading_collapsed": true
   },
   "source": [
    "# Load of files"
   ]
  },
  {
   "cell_type": "code",
   "execution_count": 156,
   "metadata": {
    "hidden": true
   },
   "outputs": [
    {
     "data": {
      "text/plain": [
       "'C:\\\\Users\\\\rbonilla\\\\Documents\\\\GitHub\\\\ds4a_team80\\\\0_eda'"
      ]
     },
     "execution_count": 156,
     "metadata": {},
     "output_type": "execute_result"
    }
   ],
   "source": [
    "pwd()"
   ]
  },
  {
   "cell_type": "code",
   "execution_count": 157,
   "metadata": {
    "hidden": true
   },
   "outputs": [
    {
     "name": "stdout",
     "output_type": "stream",
     "text": [
      "<class 'pandas.core.frame.DataFrame'>\n",
      "RangeIndex: 12594 entries, 0 to 12593\n",
      "Data columns (total 5 columns):\n",
      " #   Column                Non-Null Count  Dtype         \n",
      "---  ------                --------------  -----         \n",
      " 0   Identificacion        12594 non-null  int64         \n",
      " 1   Fecha_Dcto            12594 non-null  datetime64[ns]\n",
      " 2   Nombre_Producto_Mvto  12594 non-null  object        \n",
      " 3   Nom_Generico          12594 non-null  object        \n",
      " 4   Cantidad              12594 non-null  int64         \n",
      "dtypes: datetime64[ns](1), int64(2), object(2)\n",
      "memory usage: 492.1+ KB\n"
     ]
    }
   ],
   "source": [
    "dataBiologicos = pd.read_excel(r'C:\\Users\\rbonilla\\Google Drive\\work\\TheProfessional\\Cursos\\DS4A\\team80\\codigo\\data\\Biologicos Asma.xlsx', sheet_name='data')\n",
    "dataBiologicos.info()"
   ]
  },
  {
   "cell_type": "code",
   "execution_count": 158,
   "metadata": {
    "hidden": true
   },
   "outputs": [
    {
     "data": {
      "text/html": [
       "<div>\n",
       "<style scoped>\n",
       "    .dataframe tbody tr th:only-of-type {\n",
       "        vertical-align: middle;\n",
       "    }\n",
       "\n",
       "    .dataframe tbody tr th {\n",
       "        vertical-align: top;\n",
       "    }\n",
       "\n",
       "    .dataframe thead th {\n",
       "        text-align: right;\n",
       "    }\n",
       "</style>\n",
       "<table border=\"1\" class=\"dataframe\">\n",
       "  <thead>\n",
       "    <tr style=\"text-align: right;\">\n",
       "      <th></th>\n",
       "      <th>Identificacion</th>\n",
       "      <th>Fecha_Dcto</th>\n",
       "      <th>Nombre_Producto_Mvto</th>\n",
       "      <th>Nom_Generico</th>\n",
       "      <th>Cantidad</th>\n",
       "    </tr>\n",
       "  </thead>\n",
       "  <tbody>\n",
       "    <tr>\n",
       "      <th>0</th>\n",
       "      <td>1853167</td>\n",
       "      <td>2019-08-02</td>\n",
       "      <td>OMALIZUMAB 150 MG POLV INY (XOLAIR)-21755-4896</td>\n",
       "      <td>OMALIZUMAB</td>\n",
       "      <td>2</td>\n",
       "    </tr>\n",
       "    <tr>\n",
       "      <th>1</th>\n",
       "      <td>695889</td>\n",
       "      <td>2019-07-31</td>\n",
       "      <td>OMALIZUMAB 150 MG POLV INY (XOLAIR)-21755-4896</td>\n",
       "      <td>OMALIZUMAB</td>\n",
       "      <td>2</td>\n",
       "    </tr>\n",
       "    <tr>\n",
       "      <th>2</th>\n",
       "      <td>1534187</td>\n",
       "      <td>2019-01-05</td>\n",
       "      <td>OMALIZUMAB SOLUCIÓN INYECTABLE 150MG /1ML (XOL...</td>\n",
       "      <td>OMALIZUMAB</td>\n",
       "      <td>4</td>\n",
       "    </tr>\n",
       "    <tr>\n",
       "      <th>3</th>\n",
       "      <td>1831103</td>\n",
       "      <td>2018-12-03</td>\n",
       "      <td>OMALIZUMAB SOLUCIÓN INYECTABLE 150MG /1ML (XOL...</td>\n",
       "      <td>OMALIZUMAB</td>\n",
       "      <td>3</td>\n",
       "    </tr>\n",
       "    <tr>\n",
       "      <th>4</th>\n",
       "      <td>1831103</td>\n",
       "      <td>2019-01-03</td>\n",
       "      <td>OMALIZUMAB SOLUCIÓN INYECTABLE 150MG /1ML (XOL...</td>\n",
       "      <td>OMALIZUMAB</td>\n",
       "      <td>3</td>\n",
       "    </tr>\n",
       "  </tbody>\n",
       "</table>\n",
       "</div>"
      ],
      "text/plain": [
       "   Identificacion Fecha_Dcto  \\\n",
       "0         1853167 2019-08-02   \n",
       "1          695889 2019-07-31   \n",
       "2         1534187 2019-01-05   \n",
       "3         1831103 2018-12-03   \n",
       "4         1831103 2019-01-03   \n",
       "\n",
       "                                Nombre_Producto_Mvto Nom_Generico  Cantidad  \n",
       "0     OMALIZUMAB 150 MG POLV INY (XOLAIR)-21755-4896   OMALIZUMAB         2  \n",
       "1     OMALIZUMAB 150 MG POLV INY (XOLAIR)-21755-4896   OMALIZUMAB         2  \n",
       "2  OMALIZUMAB SOLUCIÓN INYECTABLE 150MG /1ML (XOL...   OMALIZUMAB         4  \n",
       "3  OMALIZUMAB SOLUCIÓN INYECTABLE 150MG /1ML (XOL...   OMALIZUMAB         3  \n",
       "4  OMALIZUMAB SOLUCIÓN INYECTABLE 150MG /1ML (XOL...   OMALIZUMAB         3  "
      ]
     },
     "execution_count": 158,
     "metadata": {},
     "output_type": "execute_result"
    }
   ],
   "source": [
    "dataBiologicos = dataBiologicos.loc[dataBiologicos['Cantidad']>=0]\n",
    "dataBiologicos.head()"
   ]
  },
  {
   "cell_type": "markdown",
   "metadata": {},
   "source": [
    "# Counts by variable"
   ]
  },
  {
   "cell_type": "markdown",
   "metadata": {},
   "source": [
    "Se crea una columna igual al indice para aplicar las funciones de agrupación por fecha (año o mees, etc.)"
   ]
  },
  {
   "cell_type": "code",
   "execution_count": 159,
   "metadata": {},
   "outputs": [],
   "source": [
    "dataBiologicos.index = dataBiologicos.Fecha_Dcto\n",
    "#dataBiologicos[\"FullDate\"] = dataBiologicos.index\n",
    "#dataBiologicos['Year'] = dataBiologicos['Fecha_Dcto'].dt.year\n",
    "dataBiologicos['Year'] = dataBiologicos.Fecha_Dcto.dt.year\n",
    "dataBiologicos['Month'] = dataBiologicos.Fecha_Dcto.dt.month"
   ]
  },
  {
   "cell_type": "markdown",
   "metadata": {},
   "source": [
    "Se crea un df temporal para la gráfica\n",
    "Los años se vuelven categorías para agrupar facilmente"
   ]
  },
  {
   "cell_type": "code",
   "execution_count": 160,
   "metadata": {},
   "outputs": [],
   "source": [
    "dftemp = dataBiologicos.pivot_table(values = 'Cantidad',\n",
    "    index=['Nom_Generico', 'Year'],\n",
    "    columns=None,\n",
    "    aggfunc='sum').reset_index()\n",
    "\n",
    "dftemp['Year'] = dftemp.Year.astype('category')\n",
    "dftemp = dftemp.sort_values(by = ['Year'])"
   ]
  },
  {
   "cell_type": "markdown",
   "metadata": {},
   "source": [
    "## Figure"
   ]
  },
  {
   "cell_type": "code",
   "execution_count": 161,
   "metadata": {},
   "outputs": [
    {
     "data": {
      "application/vnd.plotly.v1+json": {
       "config": {
        "plotlyServerURL": "https://plot.ly"
       },
       "data": [
        {
         "alignmentgroup": "True",
         "hovertemplate": "Year=2016<br>Nom_Generico=%{x}<br>Cantidad=%{text}<extra></extra>",
         "legendgroup": "2016",
         "marker": {
          "color": "rgb(229, 134, 6)",
          "line": {
           "color": "#303030",
           "width": 1.5
          }
         },
         "name": "2016",
         "offsetgroup": "2016",
         "opacity": 0.9,
         "orientation": "v",
         "showlegend": true,
         "text": [
          25
         ],
         "textposition": "outside",
         "texttemplate": "%{text:.2s}",
         "type": "bar",
         "x": [
          "OMALIZUMAB"
         ],
         "xaxis": "x",
         "y": [
          25
         ],
         "yaxis": "y"
        },
        {
         "alignmentgroup": "True",
         "hovertemplate": "Year=2017<br>Nom_Generico=%{x}<br>Cantidad=%{text}<extra></extra>",
         "legendgroup": "2017",
         "marker": {
          "color": "rgb(93, 105, 177)",
          "line": {
           "color": "#303030",
           "width": 1.5
          }
         },
         "name": "2017",
         "offsetgroup": "2017",
         "opacity": 0.9,
         "orientation": "v",
         "showlegend": true,
         "text": [
          627
         ],
         "textposition": "outside",
         "texttemplate": "%{text:.2s}",
         "type": "bar",
         "x": [
          "OMALIZUMAB"
         ],
         "xaxis": "x",
         "y": [
          627
         ],
         "yaxis": "y"
        },
        {
         "alignmentgroup": "True",
         "hovertemplate": "Year=2018<br>Nom_Generico=%{x}<br>Cantidad=%{text}<extra></extra>",
         "legendgroup": "2018",
         "marker": {
          "color": "rgb(82, 188, 163)",
          "line": {
           "color": "#303030",
           "width": 1.5
          }
         },
         "name": "2018",
         "offsetgroup": "2018",
         "opacity": 0.9,
         "orientation": "v",
         "showlegend": true,
         "text": [
          11444
         ],
         "textposition": "outside",
         "texttemplate": "%{text:.2s}",
         "type": "bar",
         "x": [
          "OMALIZUMAB"
         ],
         "xaxis": "x",
         "y": [
          11444
         ],
         "yaxis": "y"
        },
        {
         "alignmentgroup": "True",
         "hovertemplate": "Year=2019<br>Nom_Generico=%{x}<br>Cantidad=%{text}<extra></extra>",
         "legendgroup": "2019",
         "marker": {
          "color": "rgb(153, 201, 69)",
          "line": {
           "color": "#303030",
           "width": 1.5
          }
         },
         "name": "2019",
         "offsetgroup": "2019",
         "opacity": 0.9,
         "orientation": "v",
         "showlegend": true,
         "text": [
          210,
          43,
          76,
          10716
         ],
         "textposition": "outside",
         "texttemplate": "%{text:.2s}",
         "type": "bar",
         "x": [
          "BENRALIZUMAB",
          "DUPILUMAB",
          "MEPOLIZUMAB",
          "OMALIZUMAB"
         ],
         "xaxis": "x",
         "y": [
          210,
          43,
          76,
          10716
         ],
         "yaxis": "y"
        },
        {
         "alignmentgroup": "True",
         "hovertemplate": "Year=2020<br>Nom_Generico=%{x}<br>Cantidad=%{text}<extra></extra>",
         "legendgroup": "2020",
         "marker": {
          "color": "rgb(204, 97, 176)",
          "line": {
           "color": "#303030",
           "width": 1.5
          }
         },
         "name": "2020",
         "offsetgroup": "2020",
         "opacity": 0.9,
         "orientation": "v",
         "showlegend": true,
         "text": [
          206,
          275,
          101,
          3286
         ],
         "textposition": "outside",
         "texttemplate": "%{text:.2s}",
         "type": "bar",
         "x": [
          "BENRALIZUMAB",
          "DUPILUMAB",
          "MEPOLIZUMAB",
          "OMALIZUMAB"
         ],
         "xaxis": "x",
         "y": [
          206,
          275,
          101,
          3286
         ],
         "yaxis": "y"
        }
       ],
       "layout": {
        "barmode": "group",
        "font": {
         "size": 12
        },
        "legend": {
         "title": {
          "text": "Year"
         },
         "tracegroupgap": 0
        },
        "margin": {
         "t": 60
        },
        "plot_bgcolor": "#BABABA",
        "template": {
         "data": {
          "bar": [
           {
            "error_x": {
             "color": "#2a3f5f"
            },
            "error_y": {
             "color": "#2a3f5f"
            },
            "marker": {
             "line": {
              "color": "#E5ECF6",
              "width": 0.5
             }
            },
            "type": "bar"
           }
          ],
          "barpolar": [
           {
            "marker": {
             "line": {
              "color": "#E5ECF6",
              "width": 0.5
             }
            },
            "type": "barpolar"
           }
          ],
          "carpet": [
           {
            "aaxis": {
             "endlinecolor": "#2a3f5f",
             "gridcolor": "white",
             "linecolor": "white",
             "minorgridcolor": "white",
             "startlinecolor": "#2a3f5f"
            },
            "baxis": {
             "endlinecolor": "#2a3f5f",
             "gridcolor": "white",
             "linecolor": "white",
             "minorgridcolor": "white",
             "startlinecolor": "#2a3f5f"
            },
            "type": "carpet"
           }
          ],
          "choropleth": [
           {
            "colorbar": {
             "outlinewidth": 0,
             "ticks": ""
            },
            "type": "choropleth"
           }
          ],
          "contour": [
           {
            "colorbar": {
             "outlinewidth": 0,
             "ticks": ""
            },
            "colorscale": [
             [
              0,
              "#0d0887"
             ],
             [
              0.1111111111111111,
              "#46039f"
             ],
             [
              0.2222222222222222,
              "#7201a8"
             ],
             [
              0.3333333333333333,
              "#9c179e"
             ],
             [
              0.4444444444444444,
              "#bd3786"
             ],
             [
              0.5555555555555556,
              "#d8576b"
             ],
             [
              0.6666666666666666,
              "#ed7953"
             ],
             [
              0.7777777777777778,
              "#fb9f3a"
             ],
             [
              0.8888888888888888,
              "#fdca26"
             ],
             [
              1,
              "#f0f921"
             ]
            ],
            "type": "contour"
           }
          ],
          "contourcarpet": [
           {
            "colorbar": {
             "outlinewidth": 0,
             "ticks": ""
            },
            "type": "contourcarpet"
           }
          ],
          "heatmap": [
           {
            "colorbar": {
             "outlinewidth": 0,
             "ticks": ""
            },
            "colorscale": [
             [
              0,
              "#0d0887"
             ],
             [
              0.1111111111111111,
              "#46039f"
             ],
             [
              0.2222222222222222,
              "#7201a8"
             ],
             [
              0.3333333333333333,
              "#9c179e"
             ],
             [
              0.4444444444444444,
              "#bd3786"
             ],
             [
              0.5555555555555556,
              "#d8576b"
             ],
             [
              0.6666666666666666,
              "#ed7953"
             ],
             [
              0.7777777777777778,
              "#fb9f3a"
             ],
             [
              0.8888888888888888,
              "#fdca26"
             ],
             [
              1,
              "#f0f921"
             ]
            ],
            "type": "heatmap"
           }
          ],
          "heatmapgl": [
           {
            "colorbar": {
             "outlinewidth": 0,
             "ticks": ""
            },
            "colorscale": [
             [
              0,
              "#0d0887"
             ],
             [
              0.1111111111111111,
              "#46039f"
             ],
             [
              0.2222222222222222,
              "#7201a8"
             ],
             [
              0.3333333333333333,
              "#9c179e"
             ],
             [
              0.4444444444444444,
              "#bd3786"
             ],
             [
              0.5555555555555556,
              "#d8576b"
             ],
             [
              0.6666666666666666,
              "#ed7953"
             ],
             [
              0.7777777777777778,
              "#fb9f3a"
             ],
             [
              0.8888888888888888,
              "#fdca26"
             ],
             [
              1,
              "#f0f921"
             ]
            ],
            "type": "heatmapgl"
           }
          ],
          "histogram": [
           {
            "marker": {
             "colorbar": {
              "outlinewidth": 0,
              "ticks": ""
             }
            },
            "type": "histogram"
           }
          ],
          "histogram2d": [
           {
            "colorbar": {
             "outlinewidth": 0,
             "ticks": ""
            },
            "colorscale": [
             [
              0,
              "#0d0887"
             ],
             [
              0.1111111111111111,
              "#46039f"
             ],
             [
              0.2222222222222222,
              "#7201a8"
             ],
             [
              0.3333333333333333,
              "#9c179e"
             ],
             [
              0.4444444444444444,
              "#bd3786"
             ],
             [
              0.5555555555555556,
              "#d8576b"
             ],
             [
              0.6666666666666666,
              "#ed7953"
             ],
             [
              0.7777777777777778,
              "#fb9f3a"
             ],
             [
              0.8888888888888888,
              "#fdca26"
             ],
             [
              1,
              "#f0f921"
             ]
            ],
            "type": "histogram2d"
           }
          ],
          "histogram2dcontour": [
           {
            "colorbar": {
             "outlinewidth": 0,
             "ticks": ""
            },
            "colorscale": [
             [
              0,
              "#0d0887"
             ],
             [
              0.1111111111111111,
              "#46039f"
             ],
             [
              0.2222222222222222,
              "#7201a8"
             ],
             [
              0.3333333333333333,
              "#9c179e"
             ],
             [
              0.4444444444444444,
              "#bd3786"
             ],
             [
              0.5555555555555556,
              "#d8576b"
             ],
             [
              0.6666666666666666,
              "#ed7953"
             ],
             [
              0.7777777777777778,
              "#fb9f3a"
             ],
             [
              0.8888888888888888,
              "#fdca26"
             ],
             [
              1,
              "#f0f921"
             ]
            ],
            "type": "histogram2dcontour"
           }
          ],
          "mesh3d": [
           {
            "colorbar": {
             "outlinewidth": 0,
             "ticks": ""
            },
            "type": "mesh3d"
           }
          ],
          "parcoords": [
           {
            "line": {
             "colorbar": {
              "outlinewidth": 0,
              "ticks": ""
             }
            },
            "type": "parcoords"
           }
          ],
          "pie": [
           {
            "automargin": true,
            "type": "pie"
           }
          ],
          "scatter": [
           {
            "marker": {
             "colorbar": {
              "outlinewidth": 0,
              "ticks": ""
             }
            },
            "type": "scatter"
           }
          ],
          "scatter3d": [
           {
            "line": {
             "colorbar": {
              "outlinewidth": 0,
              "ticks": ""
             }
            },
            "marker": {
             "colorbar": {
              "outlinewidth": 0,
              "ticks": ""
             }
            },
            "type": "scatter3d"
           }
          ],
          "scattercarpet": [
           {
            "marker": {
             "colorbar": {
              "outlinewidth": 0,
              "ticks": ""
             }
            },
            "type": "scattercarpet"
           }
          ],
          "scattergeo": [
           {
            "marker": {
             "colorbar": {
              "outlinewidth": 0,
              "ticks": ""
             }
            },
            "type": "scattergeo"
           }
          ],
          "scattergl": [
           {
            "marker": {
             "colorbar": {
              "outlinewidth": 0,
              "ticks": ""
             }
            },
            "type": "scattergl"
           }
          ],
          "scattermapbox": [
           {
            "marker": {
             "colorbar": {
              "outlinewidth": 0,
              "ticks": ""
             }
            },
            "type": "scattermapbox"
           }
          ],
          "scatterpolar": [
           {
            "marker": {
             "colorbar": {
              "outlinewidth": 0,
              "ticks": ""
             }
            },
            "type": "scatterpolar"
           }
          ],
          "scatterpolargl": [
           {
            "marker": {
             "colorbar": {
              "outlinewidth": 0,
              "ticks": ""
             }
            },
            "type": "scatterpolargl"
           }
          ],
          "scatterternary": [
           {
            "marker": {
             "colorbar": {
              "outlinewidth": 0,
              "ticks": ""
             }
            },
            "type": "scatterternary"
           }
          ],
          "surface": [
           {
            "colorbar": {
             "outlinewidth": 0,
             "ticks": ""
            },
            "colorscale": [
             [
              0,
              "#0d0887"
             ],
             [
              0.1111111111111111,
              "#46039f"
             ],
             [
              0.2222222222222222,
              "#7201a8"
             ],
             [
              0.3333333333333333,
              "#9c179e"
             ],
             [
              0.4444444444444444,
              "#bd3786"
             ],
             [
              0.5555555555555556,
              "#d8576b"
             ],
             [
              0.6666666666666666,
              "#ed7953"
             ],
             [
              0.7777777777777778,
              "#fb9f3a"
             ],
             [
              0.8888888888888888,
              "#fdca26"
             ],
             [
              1,
              "#f0f921"
             ]
            ],
            "type": "surface"
           }
          ],
          "table": [
           {
            "cells": {
             "fill": {
              "color": "#EBF0F8"
             },
             "line": {
              "color": "white"
             }
            },
            "header": {
             "fill": {
              "color": "#C8D4E3"
             },
             "line": {
              "color": "white"
             }
            },
            "type": "table"
           }
          ]
         },
         "layout": {
          "annotationdefaults": {
           "arrowcolor": "#2a3f5f",
           "arrowhead": 0,
           "arrowwidth": 1
          },
          "coloraxis": {
           "colorbar": {
            "outlinewidth": 0,
            "ticks": ""
           }
          },
          "colorscale": {
           "diverging": [
            [
             0,
             "#8e0152"
            ],
            [
             0.1,
             "#c51b7d"
            ],
            [
             0.2,
             "#de77ae"
            ],
            [
             0.3,
             "#f1b6da"
            ],
            [
             0.4,
             "#fde0ef"
            ],
            [
             0.5,
             "#f7f7f7"
            ],
            [
             0.6,
             "#e6f5d0"
            ],
            [
             0.7,
             "#b8e186"
            ],
            [
             0.8,
             "#7fbc41"
            ],
            [
             0.9,
             "#4d9221"
            ],
            [
             1,
             "#276419"
            ]
           ],
           "sequential": [
            [
             0,
             "#0d0887"
            ],
            [
             0.1111111111111111,
             "#46039f"
            ],
            [
             0.2222222222222222,
             "#7201a8"
            ],
            [
             0.3333333333333333,
             "#9c179e"
            ],
            [
             0.4444444444444444,
             "#bd3786"
            ],
            [
             0.5555555555555556,
             "#d8576b"
            ],
            [
             0.6666666666666666,
             "#ed7953"
            ],
            [
             0.7777777777777778,
             "#fb9f3a"
            ],
            [
             0.8888888888888888,
             "#fdca26"
            ],
            [
             1,
             "#f0f921"
            ]
           ],
           "sequentialminus": [
            [
             0,
             "#0d0887"
            ],
            [
             0.1111111111111111,
             "#46039f"
            ],
            [
             0.2222222222222222,
             "#7201a8"
            ],
            [
             0.3333333333333333,
             "#9c179e"
            ],
            [
             0.4444444444444444,
             "#bd3786"
            ],
            [
             0.5555555555555556,
             "#d8576b"
            ],
            [
             0.6666666666666666,
             "#ed7953"
            ],
            [
             0.7777777777777778,
             "#fb9f3a"
            ],
            [
             0.8888888888888888,
             "#fdca26"
            ],
            [
             1,
             "#f0f921"
            ]
           ]
          },
          "colorway": [
           "#636efa",
           "#EF553B",
           "#00cc96",
           "#ab63fa",
           "#FFA15A",
           "#19d3f3",
           "#FF6692",
           "#B6E880",
           "#FF97FF",
           "#FECB52"
          ],
          "font": {
           "color": "#2a3f5f"
          },
          "geo": {
           "bgcolor": "white",
           "lakecolor": "white",
           "landcolor": "#E5ECF6",
           "showlakes": true,
           "showland": true,
           "subunitcolor": "white"
          },
          "hoverlabel": {
           "align": "left"
          },
          "hovermode": "closest",
          "mapbox": {
           "style": "light"
          },
          "paper_bgcolor": "white",
          "plot_bgcolor": "#E5ECF6",
          "polar": {
           "angularaxis": {
            "gridcolor": "white",
            "linecolor": "white",
            "ticks": ""
           },
           "bgcolor": "#E5ECF6",
           "radialaxis": {
            "gridcolor": "white",
            "linecolor": "white",
            "ticks": ""
           }
          },
          "scene": {
           "xaxis": {
            "backgroundcolor": "#E5ECF6",
            "gridcolor": "white",
            "gridwidth": 2,
            "linecolor": "white",
            "showbackground": true,
            "ticks": "",
            "zerolinecolor": "white"
           },
           "yaxis": {
            "backgroundcolor": "#E5ECF6",
            "gridcolor": "white",
            "gridwidth": 2,
            "linecolor": "white",
            "showbackground": true,
            "ticks": "",
            "zerolinecolor": "white"
           },
           "zaxis": {
            "backgroundcolor": "#E5ECF6",
            "gridcolor": "white",
            "gridwidth": 2,
            "linecolor": "white",
            "showbackground": true,
            "ticks": "",
            "zerolinecolor": "white"
           }
          },
          "shapedefaults": {
           "line": {
            "color": "#2a3f5f"
           }
          },
          "ternary": {
           "aaxis": {
            "gridcolor": "white",
            "linecolor": "white",
            "ticks": ""
           },
           "baxis": {
            "gridcolor": "white",
            "linecolor": "white",
            "ticks": ""
           },
           "bgcolor": "#E5ECF6",
           "caxis": {
            "gridcolor": "white",
            "linecolor": "white",
            "ticks": ""
           }
          },
          "title": {
           "x": 0.05
          },
          "xaxis": {
           "automargin": true,
           "gridcolor": "white",
           "linecolor": "white",
           "ticks": "",
           "title": {
            "standoff": 15
           },
           "zerolinecolor": "white",
           "zerolinewidth": 2
          },
          "yaxis": {
           "automargin": true,
           "gridcolor": "white",
           "linecolor": "white",
           "ticks": "",
           "title": {
            "standoff": 15
           },
           "zerolinecolor": "white",
           "zerolinewidth": 2
          }
         }
        },
        "title": {
         "text": "Delivered MK by year"
        },
        "xaxis": {
         "anchor": "y",
         "domain": [
          0,
          1
         ],
         "title": {
          "text": "MK"
         }
        },
        "yaxis": {
         "anchor": "x",
         "domain": [
          0,
          1
         ],
         "title": {
          "text": "Total count"
         },
         "type": "log"
        }
       }
      },
      "text/html": [
       "<div>\n",
       "        \n",
       "        \n",
       "            <div id=\"c81f952a-db6c-4ed9-ab3b-2344e961ca6f\" class=\"plotly-graph-div\" style=\"height:525px; width:100%;\"></div>\n",
       "            <script type=\"text/javascript\">\n",
       "                require([\"plotly\"], function(Plotly) {\n",
       "                    window.PLOTLYENV=window.PLOTLYENV || {};\n",
       "                    \n",
       "                if (document.getElementById(\"c81f952a-db6c-4ed9-ab3b-2344e961ca6f\")) {\n",
       "                    Plotly.newPlot(\n",
       "                        'c81f952a-db6c-4ed9-ab3b-2344e961ca6f',\n",
       "                        [{\"alignmentgroup\": \"True\", \"hovertemplate\": \"Year=2016<br>Nom_Generico=%{x}<br>Cantidad=%{text}<extra></extra>\", \"legendgroup\": \"2016\", \"marker\": {\"color\": \"rgb(229, 134, 6)\", \"line\": {\"color\": \"#303030\", \"width\": 1.5}}, \"name\": \"2016\", \"offsetgroup\": \"2016\", \"opacity\": 0.9, \"orientation\": \"v\", \"showlegend\": true, \"text\": [25.0], \"textposition\": \"outside\", \"texttemplate\": \"%{text:.2s}\", \"type\": \"bar\", \"x\": [\"OMALIZUMAB\"], \"xaxis\": \"x\", \"y\": [25], \"yaxis\": \"y\"}, {\"alignmentgroup\": \"True\", \"hovertemplate\": \"Year=2017<br>Nom_Generico=%{x}<br>Cantidad=%{text}<extra></extra>\", \"legendgroup\": \"2017\", \"marker\": {\"color\": \"rgb(93, 105, 177)\", \"line\": {\"color\": \"#303030\", \"width\": 1.5}}, \"name\": \"2017\", \"offsetgroup\": \"2017\", \"opacity\": 0.9, \"orientation\": \"v\", \"showlegend\": true, \"text\": [627.0], \"textposition\": \"outside\", \"texttemplate\": \"%{text:.2s}\", \"type\": \"bar\", \"x\": [\"OMALIZUMAB\"], \"xaxis\": \"x\", \"y\": [627], \"yaxis\": \"y\"}, {\"alignmentgroup\": \"True\", \"hovertemplate\": \"Year=2018<br>Nom_Generico=%{x}<br>Cantidad=%{text}<extra></extra>\", \"legendgroup\": \"2018\", \"marker\": {\"color\": \"rgb(82, 188, 163)\", \"line\": {\"color\": \"#303030\", \"width\": 1.5}}, \"name\": \"2018\", \"offsetgroup\": \"2018\", \"opacity\": 0.9, \"orientation\": \"v\", \"showlegend\": true, \"text\": [11444.0], \"textposition\": \"outside\", \"texttemplate\": \"%{text:.2s}\", \"type\": \"bar\", \"x\": [\"OMALIZUMAB\"], \"xaxis\": \"x\", \"y\": [11444], \"yaxis\": \"y\"}, {\"alignmentgroup\": \"True\", \"hovertemplate\": \"Year=2019<br>Nom_Generico=%{x}<br>Cantidad=%{text}<extra></extra>\", \"legendgroup\": \"2019\", \"marker\": {\"color\": \"rgb(153, 201, 69)\", \"line\": {\"color\": \"#303030\", \"width\": 1.5}}, \"name\": \"2019\", \"offsetgroup\": \"2019\", \"opacity\": 0.9, \"orientation\": \"v\", \"showlegend\": true, \"text\": [210.0, 43.0, 76.0, 10716.0], \"textposition\": \"outside\", \"texttemplate\": \"%{text:.2s}\", \"type\": \"bar\", \"x\": [\"BENRALIZUMAB\", \"DUPILUMAB\", \"MEPOLIZUMAB\", \"OMALIZUMAB\"], \"xaxis\": \"x\", \"y\": [210, 43, 76, 10716], \"yaxis\": \"y\"}, {\"alignmentgroup\": \"True\", \"hovertemplate\": \"Year=2020<br>Nom_Generico=%{x}<br>Cantidad=%{text}<extra></extra>\", \"legendgroup\": \"2020\", \"marker\": {\"color\": \"rgb(204, 97, 176)\", \"line\": {\"color\": \"#303030\", \"width\": 1.5}}, \"name\": \"2020\", \"offsetgroup\": \"2020\", \"opacity\": 0.9, \"orientation\": \"v\", \"showlegend\": true, \"text\": [206.0, 275.0, 101.0, 3286.0], \"textposition\": \"outside\", \"texttemplate\": \"%{text:.2s}\", \"type\": \"bar\", \"x\": [\"BENRALIZUMAB\", \"DUPILUMAB\", \"MEPOLIZUMAB\", \"OMALIZUMAB\"], \"xaxis\": \"x\", \"y\": [206, 275, 101, 3286], \"yaxis\": \"y\"}],\n",
       "                        {\"barmode\": \"group\", \"font\": {\"size\": 12}, \"legend\": {\"title\": {\"text\": \"Year\"}, \"tracegroupgap\": 0}, \"margin\": {\"t\": 60}, \"plot_bgcolor\": \"#BABABA\", \"template\": {\"data\": {\"bar\": [{\"error_x\": {\"color\": \"#2a3f5f\"}, \"error_y\": {\"color\": \"#2a3f5f\"}, \"marker\": {\"line\": {\"color\": \"#E5ECF6\", \"width\": 0.5}}, \"type\": \"bar\"}], \"barpolar\": [{\"marker\": {\"line\": {\"color\": \"#E5ECF6\", \"width\": 0.5}}, \"type\": \"barpolar\"}], \"carpet\": [{\"aaxis\": {\"endlinecolor\": \"#2a3f5f\", \"gridcolor\": \"white\", \"linecolor\": \"white\", \"minorgridcolor\": \"white\", \"startlinecolor\": \"#2a3f5f\"}, \"baxis\": {\"endlinecolor\": \"#2a3f5f\", \"gridcolor\": \"white\", \"linecolor\": \"white\", \"minorgridcolor\": \"white\", \"startlinecolor\": \"#2a3f5f\"}, \"type\": \"carpet\"}], \"choropleth\": [{\"colorbar\": {\"outlinewidth\": 0, \"ticks\": \"\"}, \"type\": \"choropleth\"}], \"contour\": [{\"colorbar\": {\"outlinewidth\": 0, \"ticks\": \"\"}, \"colorscale\": [[0.0, \"#0d0887\"], [0.1111111111111111, \"#46039f\"], [0.2222222222222222, \"#7201a8\"], [0.3333333333333333, \"#9c179e\"], [0.4444444444444444, \"#bd3786\"], [0.5555555555555556, \"#d8576b\"], [0.6666666666666666, \"#ed7953\"], [0.7777777777777778, \"#fb9f3a\"], [0.8888888888888888, \"#fdca26\"], [1.0, \"#f0f921\"]], \"type\": \"contour\"}], \"contourcarpet\": [{\"colorbar\": {\"outlinewidth\": 0, \"ticks\": \"\"}, \"type\": \"contourcarpet\"}], \"heatmap\": [{\"colorbar\": {\"outlinewidth\": 0, \"ticks\": \"\"}, \"colorscale\": [[0.0, \"#0d0887\"], [0.1111111111111111, \"#46039f\"], [0.2222222222222222, \"#7201a8\"], [0.3333333333333333, \"#9c179e\"], [0.4444444444444444, \"#bd3786\"], [0.5555555555555556, \"#d8576b\"], [0.6666666666666666, \"#ed7953\"], [0.7777777777777778, \"#fb9f3a\"], [0.8888888888888888, \"#fdca26\"], [1.0, \"#f0f921\"]], \"type\": \"heatmap\"}], \"heatmapgl\": [{\"colorbar\": {\"outlinewidth\": 0, \"ticks\": \"\"}, \"colorscale\": [[0.0, \"#0d0887\"], [0.1111111111111111, \"#46039f\"], [0.2222222222222222, \"#7201a8\"], [0.3333333333333333, \"#9c179e\"], [0.4444444444444444, \"#bd3786\"], [0.5555555555555556, \"#d8576b\"], [0.6666666666666666, \"#ed7953\"], [0.7777777777777778, \"#fb9f3a\"], [0.8888888888888888, \"#fdca26\"], [1.0, \"#f0f921\"]], \"type\": \"heatmapgl\"}], \"histogram\": [{\"marker\": {\"colorbar\": {\"outlinewidth\": 0, \"ticks\": \"\"}}, \"type\": \"histogram\"}], \"histogram2d\": [{\"colorbar\": {\"outlinewidth\": 0, \"ticks\": \"\"}, \"colorscale\": [[0.0, \"#0d0887\"], [0.1111111111111111, \"#46039f\"], [0.2222222222222222, \"#7201a8\"], [0.3333333333333333, \"#9c179e\"], [0.4444444444444444, \"#bd3786\"], [0.5555555555555556, \"#d8576b\"], [0.6666666666666666, \"#ed7953\"], [0.7777777777777778, \"#fb9f3a\"], [0.8888888888888888, \"#fdca26\"], [1.0, \"#f0f921\"]], \"type\": \"histogram2d\"}], \"histogram2dcontour\": [{\"colorbar\": {\"outlinewidth\": 0, \"ticks\": \"\"}, \"colorscale\": [[0.0, \"#0d0887\"], [0.1111111111111111, \"#46039f\"], [0.2222222222222222, \"#7201a8\"], [0.3333333333333333, \"#9c179e\"], [0.4444444444444444, \"#bd3786\"], [0.5555555555555556, \"#d8576b\"], [0.6666666666666666, \"#ed7953\"], [0.7777777777777778, \"#fb9f3a\"], [0.8888888888888888, \"#fdca26\"], [1.0, \"#f0f921\"]], \"type\": \"histogram2dcontour\"}], \"mesh3d\": [{\"colorbar\": {\"outlinewidth\": 0, \"ticks\": \"\"}, \"type\": \"mesh3d\"}], \"parcoords\": [{\"line\": {\"colorbar\": {\"outlinewidth\": 0, \"ticks\": \"\"}}, \"type\": \"parcoords\"}], \"pie\": [{\"automargin\": true, \"type\": \"pie\"}], \"scatter\": [{\"marker\": {\"colorbar\": {\"outlinewidth\": 0, \"ticks\": \"\"}}, \"type\": \"scatter\"}], \"scatter3d\": [{\"line\": {\"colorbar\": {\"outlinewidth\": 0, \"ticks\": \"\"}}, \"marker\": {\"colorbar\": {\"outlinewidth\": 0, \"ticks\": \"\"}}, \"type\": \"scatter3d\"}], \"scattercarpet\": [{\"marker\": {\"colorbar\": {\"outlinewidth\": 0, \"ticks\": \"\"}}, \"type\": \"scattercarpet\"}], \"scattergeo\": [{\"marker\": {\"colorbar\": {\"outlinewidth\": 0, \"ticks\": \"\"}}, \"type\": \"scattergeo\"}], \"scattergl\": [{\"marker\": {\"colorbar\": {\"outlinewidth\": 0, \"ticks\": \"\"}}, \"type\": \"scattergl\"}], \"scattermapbox\": [{\"marker\": {\"colorbar\": {\"outlinewidth\": 0, \"ticks\": \"\"}}, \"type\": \"scattermapbox\"}], \"scatterpolar\": [{\"marker\": {\"colorbar\": {\"outlinewidth\": 0, \"ticks\": \"\"}}, \"type\": \"scatterpolar\"}], \"scatterpolargl\": [{\"marker\": {\"colorbar\": {\"outlinewidth\": 0, \"ticks\": \"\"}}, \"type\": \"scatterpolargl\"}], \"scatterternary\": [{\"marker\": {\"colorbar\": {\"outlinewidth\": 0, \"ticks\": \"\"}}, \"type\": \"scatterternary\"}], \"surface\": [{\"colorbar\": {\"outlinewidth\": 0, \"ticks\": \"\"}, \"colorscale\": [[0.0, \"#0d0887\"], [0.1111111111111111, \"#46039f\"], [0.2222222222222222, \"#7201a8\"], [0.3333333333333333, \"#9c179e\"], [0.4444444444444444, \"#bd3786\"], [0.5555555555555556, \"#d8576b\"], [0.6666666666666666, \"#ed7953\"], [0.7777777777777778, \"#fb9f3a\"], [0.8888888888888888, \"#fdca26\"], [1.0, \"#f0f921\"]], \"type\": \"surface\"}], \"table\": [{\"cells\": {\"fill\": {\"color\": \"#EBF0F8\"}, \"line\": {\"color\": \"white\"}}, \"header\": {\"fill\": {\"color\": \"#C8D4E3\"}, \"line\": {\"color\": \"white\"}}, \"type\": \"table\"}]}, \"layout\": {\"annotationdefaults\": {\"arrowcolor\": \"#2a3f5f\", \"arrowhead\": 0, \"arrowwidth\": 1}, \"coloraxis\": {\"colorbar\": {\"outlinewidth\": 0, \"ticks\": \"\"}}, \"colorscale\": {\"diverging\": [[0, \"#8e0152\"], [0.1, \"#c51b7d\"], [0.2, \"#de77ae\"], [0.3, \"#f1b6da\"], [0.4, \"#fde0ef\"], [0.5, \"#f7f7f7\"], [0.6, \"#e6f5d0\"], [0.7, \"#b8e186\"], [0.8, \"#7fbc41\"], [0.9, \"#4d9221\"], [1, \"#276419\"]], \"sequential\": [[0.0, \"#0d0887\"], [0.1111111111111111, \"#46039f\"], [0.2222222222222222, \"#7201a8\"], [0.3333333333333333, \"#9c179e\"], [0.4444444444444444, \"#bd3786\"], [0.5555555555555556, \"#d8576b\"], [0.6666666666666666, \"#ed7953\"], [0.7777777777777778, \"#fb9f3a\"], [0.8888888888888888, \"#fdca26\"], [1.0, \"#f0f921\"]], \"sequentialminus\": [[0.0, \"#0d0887\"], [0.1111111111111111, \"#46039f\"], [0.2222222222222222, \"#7201a8\"], [0.3333333333333333, \"#9c179e\"], [0.4444444444444444, \"#bd3786\"], [0.5555555555555556, \"#d8576b\"], [0.6666666666666666, \"#ed7953\"], [0.7777777777777778, \"#fb9f3a\"], [0.8888888888888888, \"#fdca26\"], [1.0, \"#f0f921\"]]}, \"colorway\": [\"#636efa\", \"#EF553B\", \"#00cc96\", \"#ab63fa\", \"#FFA15A\", \"#19d3f3\", \"#FF6692\", \"#B6E880\", \"#FF97FF\", \"#FECB52\"], \"font\": {\"color\": \"#2a3f5f\"}, \"geo\": {\"bgcolor\": \"white\", \"lakecolor\": \"white\", \"landcolor\": \"#E5ECF6\", \"showlakes\": true, \"showland\": true, \"subunitcolor\": \"white\"}, \"hoverlabel\": {\"align\": \"left\"}, \"hovermode\": \"closest\", \"mapbox\": {\"style\": \"light\"}, \"paper_bgcolor\": \"white\", \"plot_bgcolor\": \"#E5ECF6\", \"polar\": {\"angularaxis\": {\"gridcolor\": \"white\", \"linecolor\": \"white\", \"ticks\": \"\"}, \"bgcolor\": \"#E5ECF6\", \"radialaxis\": {\"gridcolor\": \"white\", \"linecolor\": \"white\", \"ticks\": \"\"}}, \"scene\": {\"xaxis\": {\"backgroundcolor\": \"#E5ECF6\", \"gridcolor\": \"white\", \"gridwidth\": 2, \"linecolor\": \"white\", \"showbackground\": true, \"ticks\": \"\", \"zerolinecolor\": \"white\"}, \"yaxis\": {\"backgroundcolor\": \"#E5ECF6\", \"gridcolor\": \"white\", \"gridwidth\": 2, \"linecolor\": \"white\", \"showbackground\": true, \"ticks\": \"\", \"zerolinecolor\": \"white\"}, \"zaxis\": {\"backgroundcolor\": \"#E5ECF6\", \"gridcolor\": \"white\", \"gridwidth\": 2, \"linecolor\": \"white\", \"showbackground\": true, \"ticks\": \"\", \"zerolinecolor\": \"white\"}}, \"shapedefaults\": {\"line\": {\"color\": \"#2a3f5f\"}}, \"ternary\": {\"aaxis\": {\"gridcolor\": \"white\", \"linecolor\": \"white\", \"ticks\": \"\"}, \"baxis\": {\"gridcolor\": \"white\", \"linecolor\": \"white\", \"ticks\": \"\"}, \"bgcolor\": \"#E5ECF6\", \"caxis\": {\"gridcolor\": \"white\", \"linecolor\": \"white\", \"ticks\": \"\"}}, \"title\": {\"x\": 0.05}, \"xaxis\": {\"automargin\": true, \"gridcolor\": \"white\", \"linecolor\": \"white\", \"ticks\": \"\", \"title\": {\"standoff\": 15}, \"zerolinecolor\": \"white\", \"zerolinewidth\": 2}, \"yaxis\": {\"automargin\": true, \"gridcolor\": \"white\", \"linecolor\": \"white\", \"ticks\": \"\", \"title\": {\"standoff\": 15}, \"zerolinecolor\": \"white\", \"zerolinewidth\": 2}}}, \"title\": {\"text\": \"Delivered MK by year\"}, \"xaxis\": {\"anchor\": \"y\", \"domain\": [0.0, 1.0], \"title\": {\"text\": \"MK\"}}, \"yaxis\": {\"anchor\": \"x\", \"domain\": [0.0, 1.0], \"title\": {\"text\": \"Total count\"}, \"type\": \"log\"}},\n",
       "                        {\"responsive\": true}\n",
       "                    ).then(function(){\n",
       "                            \n",
       "var gd = document.getElementById('c81f952a-db6c-4ed9-ab3b-2344e961ca6f');\n",
       "var x = new MutationObserver(function (mutations, observer) {{\n",
       "        var display = window.getComputedStyle(gd).display;\n",
       "        if (!display || display === 'none') {{\n",
       "            console.log([gd, 'removed!']);\n",
       "            Plotly.purge(gd);\n",
       "            observer.disconnect();\n",
       "        }}\n",
       "}});\n",
       "\n",
       "// Listen for the removal of the full notebook cells\n",
       "var notebookContainer = gd.closest('#notebook-container');\n",
       "if (notebookContainer) {{\n",
       "    x.observe(notebookContainer, {childList: true});\n",
       "}}\n",
       "\n",
       "// Listen for the clearing of the current output cell\n",
       "var outputEl = gd.closest('.output');\n",
       "if (outputEl) {{\n",
       "    x.observe(outputEl, {childList: true});\n",
       "}}\n",
       "\n",
       "                        })\n",
       "                };\n",
       "                });\n",
       "            </script>\n",
       "        </div>"
      ]
     },
     "metadata": {},
     "output_type": "display_data"
    }
   ],
   "source": [
    "fig = px.bar(data_frame=dftemp, x = 'Nom_Generico', y = \"Cantidad\",\n",
    "             color = \"Year\",\n",
    "             color_discrete_sequence = px.colors.qualitative.Vivid,\n",
    "             barmode='group',\n",
    "            text = \"Cantidad\")\n",
    "\n",
    "fig.update_traces(texttemplate='%{text:.2s}', textposition='outside')\n",
    "\n",
    "fig.update_layout(yaxis_type='log',\n",
    "                  title_text='Delivered MK by year',\n",
    "                  xaxis_title=\"MK\",\n",
    "                  yaxis_title=\"Total count\",\n",
    "                  font=dict(\n",
    "                      #family=\"Courier New, monospace\",\n",
    "                      size=12,\n",
    "                      #color=\"#7f7f7f\"\n",
    "                  ),\n",
    "                  plot_bgcolor = '#BABABA'\n",
    "                 )\n",
    "\n",
    "fig.update_traces(\n",
    "    #marker_color='rgb(158,202,225)',\n",
    "    marker_line_color='#303030',\n",
    "    marker_line_width=1.5,\n",
    "    opacity=0.9)\n",
    "\n",
    "fig.show()"
   ]
  },
  {
   "cell_type": "code",
   "execution_count": 162,
   "metadata": {},
   "outputs": [
    {
     "data": {
      "text/html": [
       "<div>\n",
       "<style scoped>\n",
       "    .dataframe tbody tr th:only-of-type {\n",
       "        vertical-align: middle;\n",
       "    }\n",
       "\n",
       "    .dataframe tbody tr th {\n",
       "        vertical-align: top;\n",
       "    }\n",
       "\n",
       "    .dataframe thead th {\n",
       "        text-align: right;\n",
       "    }\n",
       "</style>\n",
       "<table border=\"1\" class=\"dataframe\">\n",
       "  <thead>\n",
       "    <tr style=\"text-align: right;\">\n",
       "      <th></th>\n",
       "      <th>Nom_Generico</th>\n",
       "      <th>Fecha_Dcto</th>\n",
       "      <th>Cantidad</th>\n",
       "    </tr>\n",
       "  </thead>\n",
       "  <tbody>\n",
       "    <tr>\n",
       "      <th>0</th>\n",
       "      <td>BENRALIZUMAB</td>\n",
       "      <td>2019-03-31</td>\n",
       "      <td>1</td>\n",
       "    </tr>\n",
       "    <tr>\n",
       "      <th>1</th>\n",
       "      <td>BENRALIZUMAB</td>\n",
       "      <td>2019-04-30</td>\n",
       "      <td>5</td>\n",
       "    </tr>\n",
       "    <tr>\n",
       "      <th>2</th>\n",
       "      <td>BENRALIZUMAB</td>\n",
       "      <td>2019-05-31</td>\n",
       "      <td>12</td>\n",
       "    </tr>\n",
       "    <tr>\n",
       "      <th>3</th>\n",
       "      <td>BENRALIZUMAB</td>\n",
       "      <td>2019-06-30</td>\n",
       "      <td>21</td>\n",
       "    </tr>\n",
       "    <tr>\n",
       "      <th>4</th>\n",
       "      <td>BENRALIZUMAB</td>\n",
       "      <td>2019-07-31</td>\n",
       "      <td>18</td>\n",
       "    </tr>\n",
       "  </tbody>\n",
       "</table>\n",
       "</div>"
      ],
      "text/plain": [
       "   Nom_Generico Fecha_Dcto  Cantidad\n",
       "0  BENRALIZUMAB 2019-03-31         1\n",
       "1  BENRALIZUMAB 2019-04-30         5\n",
       "2  BENRALIZUMAB 2019-05-31        12\n",
       "3  BENRALIZUMAB 2019-06-30        21\n",
       "4  BENRALIZUMAB 2019-07-31        18"
      ]
     },
     "execution_count": 162,
     "metadata": {},
     "output_type": "execute_result"
    }
   ],
   "source": [
    "dftemp = dataBiologicos.groupby(['Nom_Generico',pd.Grouper(key='Fecha_Dcto', freq='M')])['Cantidad'].sum()\n",
    "dftemp = dftemp.reset_index()\n",
    "dftemp.head()"
   ]
  },
  {
   "cell_type": "code",
   "execution_count": 163,
   "metadata": {},
   "outputs": [
    {
     "data": {
      "application/vnd.plotly.v1+json": {
       "config": {
        "plotlyServerURL": "https://plot.ly"
       },
       "data": [
        {
         "hovertemplate": "Nom_Generico=BENRALIZUMAB<br>Fecha_Dcto=%{x}<br>Cantidad=%{y}<extra></extra>",
         "legendgroup": "BENRALIZUMAB",
         "line": {
          "color": "#636efa",
          "dash": "solid"
         },
         "mode": "lines",
         "name": "BENRALIZUMAB",
         "showlegend": true,
         "type": "scatter",
         "x": [
          "2019-03-31T00:00:00",
          "2019-04-30T00:00:00",
          "2019-05-31T00:00:00",
          "2019-06-30T00:00:00",
          "2019-07-31T00:00:00",
          "2019-08-31T00:00:00",
          "2019-09-30T00:00:00",
          "2019-10-31T00:00:00",
          "2019-11-30T00:00:00",
          "2019-12-31T00:00:00",
          "2020-01-31T00:00:00",
          "2020-02-29T00:00:00",
          "2020-03-31T00:00:00",
          "2020-04-30T00:00:00",
          "2020-05-31T00:00:00"
         ],
         "xaxis": "x",
         "y": [
          1,
          5,
          12,
          21,
          18,
          24,
          24,
          35,
          33,
          37,
          44,
          45,
          37,
          45,
          35
         ],
         "yaxis": "y"
        },
        {
         "hovertemplate": "Nom_Generico=DUPILUMAB<br>Fecha_Dcto=%{x}<br>Cantidad=%{y}<extra></extra>",
         "legendgroup": "DUPILUMAB",
         "line": {
          "color": "#EF553B",
          "dash": "solid"
         },
         "mode": "lines",
         "name": "DUPILUMAB",
         "showlegend": true,
         "type": "scatter",
         "x": [
          "2019-10-31T00:00:00",
          "2019-11-30T00:00:00",
          "2019-12-31T00:00:00",
          "2020-01-31T00:00:00",
          "2020-02-29T00:00:00",
          "2020-03-31T00:00:00",
          "2020-04-30T00:00:00",
          "2020-05-31T00:00:00"
         ],
         "xaxis": "x",
         "y": [
          4,
          11,
          28,
          42,
          43,
          57,
          71,
          62
         ],
         "yaxis": "y"
        },
        {
         "hovertemplate": "Nom_Generico=MEPOLIZUMAB<br>Fecha_Dcto=%{x}<br>Cantidad=%{y}<extra></extra>",
         "legendgroup": "MEPOLIZUMAB",
         "line": {
          "color": "#00cc96",
          "dash": "solid"
         },
         "mode": "lines",
         "name": "MEPOLIZUMAB",
         "showlegend": true,
         "type": "scatter",
         "x": [
          "2019-07-31T00:00:00",
          "2019-08-31T00:00:00",
          "2019-09-30T00:00:00",
          "2019-10-31T00:00:00",
          "2019-11-30T00:00:00",
          "2019-12-31T00:00:00",
          "2020-01-31T00:00:00",
          "2020-02-29T00:00:00",
          "2020-03-31T00:00:00",
          "2020-04-30T00:00:00",
          "2020-05-31T00:00:00"
         ],
         "xaxis": "x",
         "y": [
          4,
          8,
          14,
          17,
          15,
          18,
          17,
          22,
          20,
          23,
          19
         ],
         "yaxis": "y"
        },
        {
         "hovertemplate": "Nom_Generico=OMALIZUMAB<br>Fecha_Dcto=%{x}<br>Cantidad=%{y}<extra></extra>",
         "legendgroup": "OMALIZUMAB",
         "line": {
          "color": "#ab63fa",
          "dash": "solid"
         },
         "mode": "lines",
         "name": "OMALIZUMAB",
         "showlegend": true,
         "type": "scatter",
         "x": [
          "2018-01-31T00:00:00",
          "2018-02-28T00:00:00",
          "2018-03-31T00:00:00",
          "2018-04-30T00:00:00",
          "2018-05-31T00:00:00",
          "2018-06-30T00:00:00",
          "2018-07-31T00:00:00",
          "2018-08-31T00:00:00",
          "2018-09-30T00:00:00",
          "2018-10-31T00:00:00",
          "2018-11-30T00:00:00",
          "2018-12-31T00:00:00",
          "2019-01-31T00:00:00",
          "2019-02-28T00:00:00",
          "2019-03-31T00:00:00",
          "2019-04-30T00:00:00",
          "2019-05-31T00:00:00",
          "2019-06-30T00:00:00",
          "2019-07-31T00:00:00",
          "2019-08-31T00:00:00",
          "2019-09-30T00:00:00",
          "2019-10-31T00:00:00",
          "2019-11-30T00:00:00",
          "2019-12-31T00:00:00",
          "2020-01-31T00:00:00",
          "2020-02-29T00:00:00",
          "2020-03-31T00:00:00",
          "2020-04-30T00:00:00",
          "2020-05-31T00:00:00"
         ],
         "xaxis": "x",
         "y": [
          974,
          870,
          983,
          950,
          734,
          1013,
          1099,
          1024,
          897,
          952,
          940,
          1008,
          1095,
          1062,
          1066,
          1007,
          964,
          847,
          886,
          889,
          816,
          787,
          655,
          642,
          667,
          585,
          645,
          677,
          712
         ],
         "yaxis": "y"
        }
       ],
       "layout": {
        "font": {
         "size": 12
        },
        "legend": {
         "title": {},
         "tracegroupgap": 0
        },
        "margin": {
         "t": 60
        },
        "template": {
         "data": {
          "bar": [
           {
            "error_x": {
             "color": "#2a3f5f"
            },
            "error_y": {
             "color": "#2a3f5f"
            },
            "marker": {
             "line": {
              "color": "#E5ECF6",
              "width": 0.5
             }
            },
            "type": "bar"
           }
          ],
          "barpolar": [
           {
            "marker": {
             "line": {
              "color": "#E5ECF6",
              "width": 0.5
             }
            },
            "type": "barpolar"
           }
          ],
          "carpet": [
           {
            "aaxis": {
             "endlinecolor": "#2a3f5f",
             "gridcolor": "white",
             "linecolor": "white",
             "minorgridcolor": "white",
             "startlinecolor": "#2a3f5f"
            },
            "baxis": {
             "endlinecolor": "#2a3f5f",
             "gridcolor": "white",
             "linecolor": "white",
             "minorgridcolor": "white",
             "startlinecolor": "#2a3f5f"
            },
            "type": "carpet"
           }
          ],
          "choropleth": [
           {
            "colorbar": {
             "outlinewidth": 0,
             "ticks": ""
            },
            "type": "choropleth"
           }
          ],
          "contour": [
           {
            "colorbar": {
             "outlinewidth": 0,
             "ticks": ""
            },
            "colorscale": [
             [
              0,
              "#0d0887"
             ],
             [
              0.1111111111111111,
              "#46039f"
             ],
             [
              0.2222222222222222,
              "#7201a8"
             ],
             [
              0.3333333333333333,
              "#9c179e"
             ],
             [
              0.4444444444444444,
              "#bd3786"
             ],
             [
              0.5555555555555556,
              "#d8576b"
             ],
             [
              0.6666666666666666,
              "#ed7953"
             ],
             [
              0.7777777777777778,
              "#fb9f3a"
             ],
             [
              0.8888888888888888,
              "#fdca26"
             ],
             [
              1,
              "#f0f921"
             ]
            ],
            "type": "contour"
           }
          ],
          "contourcarpet": [
           {
            "colorbar": {
             "outlinewidth": 0,
             "ticks": ""
            },
            "type": "contourcarpet"
           }
          ],
          "heatmap": [
           {
            "colorbar": {
             "outlinewidth": 0,
             "ticks": ""
            },
            "colorscale": [
             [
              0,
              "#0d0887"
             ],
             [
              0.1111111111111111,
              "#46039f"
             ],
             [
              0.2222222222222222,
              "#7201a8"
             ],
             [
              0.3333333333333333,
              "#9c179e"
             ],
             [
              0.4444444444444444,
              "#bd3786"
             ],
             [
              0.5555555555555556,
              "#d8576b"
             ],
             [
              0.6666666666666666,
              "#ed7953"
             ],
             [
              0.7777777777777778,
              "#fb9f3a"
             ],
             [
              0.8888888888888888,
              "#fdca26"
             ],
             [
              1,
              "#f0f921"
             ]
            ],
            "type": "heatmap"
           }
          ],
          "heatmapgl": [
           {
            "colorbar": {
             "outlinewidth": 0,
             "ticks": ""
            },
            "colorscale": [
             [
              0,
              "#0d0887"
             ],
             [
              0.1111111111111111,
              "#46039f"
             ],
             [
              0.2222222222222222,
              "#7201a8"
             ],
             [
              0.3333333333333333,
              "#9c179e"
             ],
             [
              0.4444444444444444,
              "#bd3786"
             ],
             [
              0.5555555555555556,
              "#d8576b"
             ],
             [
              0.6666666666666666,
              "#ed7953"
             ],
             [
              0.7777777777777778,
              "#fb9f3a"
             ],
             [
              0.8888888888888888,
              "#fdca26"
             ],
             [
              1,
              "#f0f921"
             ]
            ],
            "type": "heatmapgl"
           }
          ],
          "histogram": [
           {
            "marker": {
             "colorbar": {
              "outlinewidth": 0,
              "ticks": ""
             }
            },
            "type": "histogram"
           }
          ],
          "histogram2d": [
           {
            "colorbar": {
             "outlinewidth": 0,
             "ticks": ""
            },
            "colorscale": [
             [
              0,
              "#0d0887"
             ],
             [
              0.1111111111111111,
              "#46039f"
             ],
             [
              0.2222222222222222,
              "#7201a8"
             ],
             [
              0.3333333333333333,
              "#9c179e"
             ],
             [
              0.4444444444444444,
              "#bd3786"
             ],
             [
              0.5555555555555556,
              "#d8576b"
             ],
             [
              0.6666666666666666,
              "#ed7953"
             ],
             [
              0.7777777777777778,
              "#fb9f3a"
             ],
             [
              0.8888888888888888,
              "#fdca26"
             ],
             [
              1,
              "#f0f921"
             ]
            ],
            "type": "histogram2d"
           }
          ],
          "histogram2dcontour": [
           {
            "colorbar": {
             "outlinewidth": 0,
             "ticks": ""
            },
            "colorscale": [
             [
              0,
              "#0d0887"
             ],
             [
              0.1111111111111111,
              "#46039f"
             ],
             [
              0.2222222222222222,
              "#7201a8"
             ],
             [
              0.3333333333333333,
              "#9c179e"
             ],
             [
              0.4444444444444444,
              "#bd3786"
             ],
             [
              0.5555555555555556,
              "#d8576b"
             ],
             [
              0.6666666666666666,
              "#ed7953"
             ],
             [
              0.7777777777777778,
              "#fb9f3a"
             ],
             [
              0.8888888888888888,
              "#fdca26"
             ],
             [
              1,
              "#f0f921"
             ]
            ],
            "type": "histogram2dcontour"
           }
          ],
          "mesh3d": [
           {
            "colorbar": {
             "outlinewidth": 0,
             "ticks": ""
            },
            "type": "mesh3d"
           }
          ],
          "parcoords": [
           {
            "line": {
             "colorbar": {
              "outlinewidth": 0,
              "ticks": ""
             }
            },
            "type": "parcoords"
           }
          ],
          "pie": [
           {
            "automargin": true,
            "type": "pie"
           }
          ],
          "scatter": [
           {
            "marker": {
             "colorbar": {
              "outlinewidth": 0,
              "ticks": ""
             }
            },
            "type": "scatter"
           }
          ],
          "scatter3d": [
           {
            "line": {
             "colorbar": {
              "outlinewidth": 0,
              "ticks": ""
             }
            },
            "marker": {
             "colorbar": {
              "outlinewidth": 0,
              "ticks": ""
             }
            },
            "type": "scatter3d"
           }
          ],
          "scattercarpet": [
           {
            "marker": {
             "colorbar": {
              "outlinewidth": 0,
              "ticks": ""
             }
            },
            "type": "scattercarpet"
           }
          ],
          "scattergeo": [
           {
            "marker": {
             "colorbar": {
              "outlinewidth": 0,
              "ticks": ""
             }
            },
            "type": "scattergeo"
           }
          ],
          "scattergl": [
           {
            "marker": {
             "colorbar": {
              "outlinewidth": 0,
              "ticks": ""
             }
            },
            "type": "scattergl"
           }
          ],
          "scattermapbox": [
           {
            "marker": {
             "colorbar": {
              "outlinewidth": 0,
              "ticks": ""
             }
            },
            "type": "scattermapbox"
           }
          ],
          "scatterpolar": [
           {
            "marker": {
             "colorbar": {
              "outlinewidth": 0,
              "ticks": ""
             }
            },
            "type": "scatterpolar"
           }
          ],
          "scatterpolargl": [
           {
            "marker": {
             "colorbar": {
              "outlinewidth": 0,
              "ticks": ""
             }
            },
            "type": "scatterpolargl"
           }
          ],
          "scatterternary": [
           {
            "marker": {
             "colorbar": {
              "outlinewidth": 0,
              "ticks": ""
             }
            },
            "type": "scatterternary"
           }
          ],
          "surface": [
           {
            "colorbar": {
             "outlinewidth": 0,
             "ticks": ""
            },
            "colorscale": [
             [
              0,
              "#0d0887"
             ],
             [
              0.1111111111111111,
              "#46039f"
             ],
             [
              0.2222222222222222,
              "#7201a8"
             ],
             [
              0.3333333333333333,
              "#9c179e"
             ],
             [
              0.4444444444444444,
              "#bd3786"
             ],
             [
              0.5555555555555556,
              "#d8576b"
             ],
             [
              0.6666666666666666,
              "#ed7953"
             ],
             [
              0.7777777777777778,
              "#fb9f3a"
             ],
             [
              0.8888888888888888,
              "#fdca26"
             ],
             [
              1,
              "#f0f921"
             ]
            ],
            "type": "surface"
           }
          ],
          "table": [
           {
            "cells": {
             "fill": {
              "color": "#EBF0F8"
             },
             "line": {
              "color": "white"
             }
            },
            "header": {
             "fill": {
              "color": "#C8D4E3"
             },
             "line": {
              "color": "white"
             }
            },
            "type": "table"
           }
          ]
         },
         "layout": {
          "annotationdefaults": {
           "arrowcolor": "#2a3f5f",
           "arrowhead": 0,
           "arrowwidth": 1
          },
          "coloraxis": {
           "colorbar": {
            "outlinewidth": 0,
            "ticks": ""
           }
          },
          "colorscale": {
           "diverging": [
            [
             0,
             "#8e0152"
            ],
            [
             0.1,
             "#c51b7d"
            ],
            [
             0.2,
             "#de77ae"
            ],
            [
             0.3,
             "#f1b6da"
            ],
            [
             0.4,
             "#fde0ef"
            ],
            [
             0.5,
             "#f7f7f7"
            ],
            [
             0.6,
             "#e6f5d0"
            ],
            [
             0.7,
             "#b8e186"
            ],
            [
             0.8,
             "#7fbc41"
            ],
            [
             0.9,
             "#4d9221"
            ],
            [
             1,
             "#276419"
            ]
           ],
           "sequential": [
            [
             0,
             "#0d0887"
            ],
            [
             0.1111111111111111,
             "#46039f"
            ],
            [
             0.2222222222222222,
             "#7201a8"
            ],
            [
             0.3333333333333333,
             "#9c179e"
            ],
            [
             0.4444444444444444,
             "#bd3786"
            ],
            [
             0.5555555555555556,
             "#d8576b"
            ],
            [
             0.6666666666666666,
             "#ed7953"
            ],
            [
             0.7777777777777778,
             "#fb9f3a"
            ],
            [
             0.8888888888888888,
             "#fdca26"
            ],
            [
             1,
             "#f0f921"
            ]
           ],
           "sequentialminus": [
            [
             0,
             "#0d0887"
            ],
            [
             0.1111111111111111,
             "#46039f"
            ],
            [
             0.2222222222222222,
             "#7201a8"
            ],
            [
             0.3333333333333333,
             "#9c179e"
            ],
            [
             0.4444444444444444,
             "#bd3786"
            ],
            [
             0.5555555555555556,
             "#d8576b"
            ],
            [
             0.6666666666666666,
             "#ed7953"
            ],
            [
             0.7777777777777778,
             "#fb9f3a"
            ],
            [
             0.8888888888888888,
             "#fdca26"
            ],
            [
             1,
             "#f0f921"
            ]
           ]
          },
          "colorway": [
           "#636efa",
           "#EF553B",
           "#00cc96",
           "#ab63fa",
           "#FFA15A",
           "#19d3f3",
           "#FF6692",
           "#B6E880",
           "#FF97FF",
           "#FECB52"
          ],
          "font": {
           "color": "#2a3f5f"
          },
          "geo": {
           "bgcolor": "white",
           "lakecolor": "white",
           "landcolor": "#E5ECF6",
           "showlakes": true,
           "showland": true,
           "subunitcolor": "white"
          },
          "hoverlabel": {
           "align": "left"
          },
          "hovermode": "closest",
          "mapbox": {
           "style": "light"
          },
          "paper_bgcolor": "white",
          "plot_bgcolor": "#E5ECF6",
          "polar": {
           "angularaxis": {
            "gridcolor": "white",
            "linecolor": "white",
            "ticks": ""
           },
           "bgcolor": "#E5ECF6",
           "radialaxis": {
            "gridcolor": "white",
            "linecolor": "white",
            "ticks": ""
           }
          },
          "scene": {
           "xaxis": {
            "backgroundcolor": "#E5ECF6",
            "gridcolor": "white",
            "gridwidth": 2,
            "linecolor": "white",
            "showbackground": true,
            "ticks": "",
            "zerolinecolor": "white"
           },
           "yaxis": {
            "backgroundcolor": "#E5ECF6",
            "gridcolor": "white",
            "gridwidth": 2,
            "linecolor": "white",
            "showbackground": true,
            "ticks": "",
            "zerolinecolor": "white"
           },
           "zaxis": {
            "backgroundcolor": "#E5ECF6",
            "gridcolor": "white",
            "gridwidth": 2,
            "linecolor": "white",
            "showbackground": true,
            "ticks": "",
            "zerolinecolor": "white"
           }
          },
          "shapedefaults": {
           "line": {
            "color": "#2a3f5f"
           }
          },
          "ternary": {
           "aaxis": {
            "gridcolor": "white",
            "linecolor": "white",
            "ticks": ""
           },
           "baxis": {
            "gridcolor": "white",
            "linecolor": "white",
            "ticks": ""
           },
           "bgcolor": "#E5ECF6",
           "caxis": {
            "gridcolor": "white",
            "linecolor": "white",
            "ticks": ""
           }
          },
          "title": {
           "x": 0.05
          },
          "xaxis": {
           "automargin": true,
           "gridcolor": "white",
           "linecolor": "white",
           "ticks": "",
           "title": {
            "standoff": 15
           },
           "zerolinecolor": "white",
           "zerolinewidth": 2
          },
          "yaxis": {
           "automargin": true,
           "gridcolor": "white",
           "linecolor": "white",
           "ticks": "",
           "title": {
            "standoff": 15
           },
           "zerolinecolor": "white",
           "zerolinewidth": 2
          }
         }
        },
        "title": {
         "text": "Monthly evolution of MK claims"
        },
        "xaxis": {
         "anchor": "y",
         "domain": [
          0,
          1
         ],
         "title": {
          "text": "Month"
         }
        },
        "yaxis": {
         "anchor": "x",
         "domain": [
          0,
          1
         ],
         "title": {
          "text": "Count"
         },
         "type": "log"
        }
       }
      },
      "text/html": [
       "<div>\n",
       "        \n",
       "        \n",
       "            <div id=\"91c21b7a-a770-4367-a12d-1faae6ef5f97\" class=\"plotly-graph-div\" style=\"height:525px; width:100%;\"></div>\n",
       "            <script type=\"text/javascript\">\n",
       "                require([\"plotly\"], function(Plotly) {\n",
       "                    window.PLOTLYENV=window.PLOTLYENV || {};\n",
       "                    \n",
       "                if (document.getElementById(\"91c21b7a-a770-4367-a12d-1faae6ef5f97\")) {\n",
       "                    Plotly.newPlot(\n",
       "                        '91c21b7a-a770-4367-a12d-1faae6ef5f97',\n",
       "                        [{\"hovertemplate\": \"Nom_Generico=BENRALIZUMAB<br>Fecha_Dcto=%{x}<br>Cantidad=%{y}<extra></extra>\", \"legendgroup\": \"BENRALIZUMAB\", \"line\": {\"color\": \"#636efa\", \"dash\": \"solid\"}, \"mode\": \"lines\", \"name\": \"BENRALIZUMAB\", \"showlegend\": true, \"type\": \"scatter\", \"x\": [\"2019-03-31T00:00:00\", \"2019-04-30T00:00:00\", \"2019-05-31T00:00:00\", \"2019-06-30T00:00:00\", \"2019-07-31T00:00:00\", \"2019-08-31T00:00:00\", \"2019-09-30T00:00:00\", \"2019-10-31T00:00:00\", \"2019-11-30T00:00:00\", \"2019-12-31T00:00:00\", \"2020-01-31T00:00:00\", \"2020-02-29T00:00:00\", \"2020-03-31T00:00:00\", \"2020-04-30T00:00:00\", \"2020-05-31T00:00:00\"], \"xaxis\": \"x\", \"y\": [1, 5, 12, 21, 18, 24, 24, 35, 33, 37, 44, 45, 37, 45, 35], \"yaxis\": \"y\"}, {\"hovertemplate\": \"Nom_Generico=DUPILUMAB<br>Fecha_Dcto=%{x}<br>Cantidad=%{y}<extra></extra>\", \"legendgroup\": \"DUPILUMAB\", \"line\": {\"color\": \"#EF553B\", \"dash\": \"solid\"}, \"mode\": \"lines\", \"name\": \"DUPILUMAB\", \"showlegend\": true, \"type\": \"scatter\", \"x\": [\"2019-10-31T00:00:00\", \"2019-11-30T00:00:00\", \"2019-12-31T00:00:00\", \"2020-01-31T00:00:00\", \"2020-02-29T00:00:00\", \"2020-03-31T00:00:00\", \"2020-04-30T00:00:00\", \"2020-05-31T00:00:00\"], \"xaxis\": \"x\", \"y\": [4, 11, 28, 42, 43, 57, 71, 62], \"yaxis\": \"y\"}, {\"hovertemplate\": \"Nom_Generico=MEPOLIZUMAB<br>Fecha_Dcto=%{x}<br>Cantidad=%{y}<extra></extra>\", \"legendgroup\": \"MEPOLIZUMAB\", \"line\": {\"color\": \"#00cc96\", \"dash\": \"solid\"}, \"mode\": \"lines\", \"name\": \"MEPOLIZUMAB\", \"showlegend\": true, \"type\": \"scatter\", \"x\": [\"2019-07-31T00:00:00\", \"2019-08-31T00:00:00\", \"2019-09-30T00:00:00\", \"2019-10-31T00:00:00\", \"2019-11-30T00:00:00\", \"2019-12-31T00:00:00\", \"2020-01-31T00:00:00\", \"2020-02-29T00:00:00\", \"2020-03-31T00:00:00\", \"2020-04-30T00:00:00\", \"2020-05-31T00:00:00\"], \"xaxis\": \"x\", \"y\": [4, 8, 14, 17, 15, 18, 17, 22, 20, 23, 19], \"yaxis\": \"y\"}, {\"hovertemplate\": \"Nom_Generico=OMALIZUMAB<br>Fecha_Dcto=%{x}<br>Cantidad=%{y}<extra></extra>\", \"legendgroup\": \"OMALIZUMAB\", \"line\": {\"color\": \"#ab63fa\", \"dash\": \"solid\"}, \"mode\": \"lines\", \"name\": \"OMALIZUMAB\", \"showlegend\": true, \"type\": \"scatter\", \"x\": [\"2018-01-31T00:00:00\", \"2018-02-28T00:00:00\", \"2018-03-31T00:00:00\", \"2018-04-30T00:00:00\", \"2018-05-31T00:00:00\", \"2018-06-30T00:00:00\", \"2018-07-31T00:00:00\", \"2018-08-31T00:00:00\", \"2018-09-30T00:00:00\", \"2018-10-31T00:00:00\", \"2018-11-30T00:00:00\", \"2018-12-31T00:00:00\", \"2019-01-31T00:00:00\", \"2019-02-28T00:00:00\", \"2019-03-31T00:00:00\", \"2019-04-30T00:00:00\", \"2019-05-31T00:00:00\", \"2019-06-30T00:00:00\", \"2019-07-31T00:00:00\", \"2019-08-31T00:00:00\", \"2019-09-30T00:00:00\", \"2019-10-31T00:00:00\", \"2019-11-30T00:00:00\", \"2019-12-31T00:00:00\", \"2020-01-31T00:00:00\", \"2020-02-29T00:00:00\", \"2020-03-31T00:00:00\", \"2020-04-30T00:00:00\", \"2020-05-31T00:00:00\"], \"xaxis\": \"x\", \"y\": [974, 870, 983, 950, 734, 1013, 1099, 1024, 897, 952, 940, 1008, 1095, 1062, 1066, 1007, 964, 847, 886, 889, 816, 787, 655, 642, 667, 585, 645, 677, 712], \"yaxis\": \"y\"}],\n",
       "                        {\"font\": {\"size\": 12}, \"legend\": {\"title\": {}, \"tracegroupgap\": 0}, \"margin\": {\"t\": 60}, \"template\": {\"data\": {\"bar\": [{\"error_x\": {\"color\": \"#2a3f5f\"}, \"error_y\": {\"color\": \"#2a3f5f\"}, \"marker\": {\"line\": {\"color\": \"#E5ECF6\", \"width\": 0.5}}, \"type\": \"bar\"}], \"barpolar\": [{\"marker\": {\"line\": {\"color\": \"#E5ECF6\", \"width\": 0.5}}, \"type\": \"barpolar\"}], \"carpet\": [{\"aaxis\": {\"endlinecolor\": \"#2a3f5f\", \"gridcolor\": \"white\", \"linecolor\": \"white\", \"minorgridcolor\": \"white\", \"startlinecolor\": \"#2a3f5f\"}, \"baxis\": {\"endlinecolor\": \"#2a3f5f\", \"gridcolor\": \"white\", \"linecolor\": \"white\", \"minorgridcolor\": \"white\", \"startlinecolor\": \"#2a3f5f\"}, \"type\": \"carpet\"}], \"choropleth\": [{\"colorbar\": {\"outlinewidth\": 0, \"ticks\": \"\"}, \"type\": \"choropleth\"}], \"contour\": [{\"colorbar\": {\"outlinewidth\": 0, \"ticks\": \"\"}, \"colorscale\": [[0.0, \"#0d0887\"], [0.1111111111111111, \"#46039f\"], [0.2222222222222222, \"#7201a8\"], [0.3333333333333333, \"#9c179e\"], [0.4444444444444444, \"#bd3786\"], [0.5555555555555556, \"#d8576b\"], [0.6666666666666666, \"#ed7953\"], [0.7777777777777778, \"#fb9f3a\"], [0.8888888888888888, \"#fdca26\"], [1.0, \"#f0f921\"]], \"type\": \"contour\"}], \"contourcarpet\": [{\"colorbar\": {\"outlinewidth\": 0, \"ticks\": \"\"}, \"type\": \"contourcarpet\"}], \"heatmap\": [{\"colorbar\": {\"outlinewidth\": 0, \"ticks\": \"\"}, \"colorscale\": [[0.0, \"#0d0887\"], [0.1111111111111111, \"#46039f\"], [0.2222222222222222, \"#7201a8\"], [0.3333333333333333, \"#9c179e\"], [0.4444444444444444, \"#bd3786\"], [0.5555555555555556, \"#d8576b\"], [0.6666666666666666, \"#ed7953\"], [0.7777777777777778, \"#fb9f3a\"], [0.8888888888888888, \"#fdca26\"], [1.0, \"#f0f921\"]], \"type\": \"heatmap\"}], \"heatmapgl\": [{\"colorbar\": {\"outlinewidth\": 0, \"ticks\": \"\"}, \"colorscale\": [[0.0, \"#0d0887\"], [0.1111111111111111, \"#46039f\"], [0.2222222222222222, \"#7201a8\"], [0.3333333333333333, \"#9c179e\"], [0.4444444444444444, \"#bd3786\"], [0.5555555555555556, \"#d8576b\"], [0.6666666666666666, \"#ed7953\"], [0.7777777777777778, \"#fb9f3a\"], [0.8888888888888888, \"#fdca26\"], [1.0, \"#f0f921\"]], \"type\": \"heatmapgl\"}], \"histogram\": [{\"marker\": {\"colorbar\": {\"outlinewidth\": 0, \"ticks\": \"\"}}, \"type\": \"histogram\"}], \"histogram2d\": [{\"colorbar\": {\"outlinewidth\": 0, \"ticks\": \"\"}, \"colorscale\": [[0.0, \"#0d0887\"], [0.1111111111111111, \"#46039f\"], [0.2222222222222222, \"#7201a8\"], [0.3333333333333333, \"#9c179e\"], [0.4444444444444444, \"#bd3786\"], [0.5555555555555556, \"#d8576b\"], [0.6666666666666666, \"#ed7953\"], [0.7777777777777778, \"#fb9f3a\"], [0.8888888888888888, \"#fdca26\"], [1.0, \"#f0f921\"]], \"type\": \"histogram2d\"}], \"histogram2dcontour\": [{\"colorbar\": {\"outlinewidth\": 0, \"ticks\": \"\"}, \"colorscale\": [[0.0, \"#0d0887\"], [0.1111111111111111, \"#46039f\"], [0.2222222222222222, \"#7201a8\"], [0.3333333333333333, \"#9c179e\"], [0.4444444444444444, \"#bd3786\"], [0.5555555555555556, \"#d8576b\"], [0.6666666666666666, \"#ed7953\"], [0.7777777777777778, \"#fb9f3a\"], [0.8888888888888888, \"#fdca26\"], [1.0, \"#f0f921\"]], \"type\": \"histogram2dcontour\"}], \"mesh3d\": [{\"colorbar\": {\"outlinewidth\": 0, \"ticks\": \"\"}, \"type\": \"mesh3d\"}], \"parcoords\": [{\"line\": {\"colorbar\": {\"outlinewidth\": 0, \"ticks\": \"\"}}, \"type\": \"parcoords\"}], \"pie\": [{\"automargin\": true, \"type\": \"pie\"}], \"scatter\": [{\"marker\": {\"colorbar\": {\"outlinewidth\": 0, \"ticks\": \"\"}}, \"type\": \"scatter\"}], \"scatter3d\": [{\"line\": {\"colorbar\": {\"outlinewidth\": 0, \"ticks\": \"\"}}, \"marker\": {\"colorbar\": {\"outlinewidth\": 0, \"ticks\": \"\"}}, \"type\": \"scatter3d\"}], \"scattercarpet\": [{\"marker\": {\"colorbar\": {\"outlinewidth\": 0, \"ticks\": \"\"}}, \"type\": \"scattercarpet\"}], \"scattergeo\": [{\"marker\": {\"colorbar\": {\"outlinewidth\": 0, \"ticks\": \"\"}}, \"type\": \"scattergeo\"}], \"scattergl\": [{\"marker\": {\"colorbar\": {\"outlinewidth\": 0, \"ticks\": \"\"}}, \"type\": \"scattergl\"}], \"scattermapbox\": [{\"marker\": {\"colorbar\": {\"outlinewidth\": 0, \"ticks\": \"\"}}, \"type\": \"scattermapbox\"}], \"scatterpolar\": [{\"marker\": {\"colorbar\": {\"outlinewidth\": 0, \"ticks\": \"\"}}, \"type\": \"scatterpolar\"}], \"scatterpolargl\": [{\"marker\": {\"colorbar\": {\"outlinewidth\": 0, \"ticks\": \"\"}}, \"type\": \"scatterpolargl\"}], \"scatterternary\": [{\"marker\": {\"colorbar\": {\"outlinewidth\": 0, \"ticks\": \"\"}}, \"type\": \"scatterternary\"}], \"surface\": [{\"colorbar\": {\"outlinewidth\": 0, \"ticks\": \"\"}, \"colorscale\": [[0.0, \"#0d0887\"], [0.1111111111111111, \"#46039f\"], [0.2222222222222222, \"#7201a8\"], [0.3333333333333333, \"#9c179e\"], [0.4444444444444444, \"#bd3786\"], [0.5555555555555556, \"#d8576b\"], [0.6666666666666666, \"#ed7953\"], [0.7777777777777778, \"#fb9f3a\"], [0.8888888888888888, \"#fdca26\"], [1.0, \"#f0f921\"]], \"type\": \"surface\"}], \"table\": [{\"cells\": {\"fill\": {\"color\": \"#EBF0F8\"}, \"line\": {\"color\": \"white\"}}, \"header\": {\"fill\": {\"color\": \"#C8D4E3\"}, \"line\": {\"color\": \"white\"}}, \"type\": \"table\"}]}, \"layout\": {\"annotationdefaults\": {\"arrowcolor\": \"#2a3f5f\", \"arrowhead\": 0, \"arrowwidth\": 1}, \"coloraxis\": {\"colorbar\": {\"outlinewidth\": 0, \"ticks\": \"\"}}, \"colorscale\": {\"diverging\": [[0, \"#8e0152\"], [0.1, \"#c51b7d\"], [0.2, \"#de77ae\"], [0.3, \"#f1b6da\"], [0.4, \"#fde0ef\"], [0.5, \"#f7f7f7\"], [0.6, \"#e6f5d0\"], [0.7, \"#b8e186\"], [0.8, \"#7fbc41\"], [0.9, \"#4d9221\"], [1, \"#276419\"]], \"sequential\": [[0.0, \"#0d0887\"], [0.1111111111111111, \"#46039f\"], [0.2222222222222222, \"#7201a8\"], [0.3333333333333333, \"#9c179e\"], [0.4444444444444444, \"#bd3786\"], [0.5555555555555556, \"#d8576b\"], [0.6666666666666666, \"#ed7953\"], [0.7777777777777778, \"#fb9f3a\"], [0.8888888888888888, \"#fdca26\"], [1.0, \"#f0f921\"]], \"sequentialminus\": [[0.0, \"#0d0887\"], [0.1111111111111111, \"#46039f\"], [0.2222222222222222, \"#7201a8\"], [0.3333333333333333, \"#9c179e\"], [0.4444444444444444, \"#bd3786\"], [0.5555555555555556, \"#d8576b\"], [0.6666666666666666, \"#ed7953\"], [0.7777777777777778, \"#fb9f3a\"], [0.8888888888888888, \"#fdca26\"], [1.0, \"#f0f921\"]]}, \"colorway\": [\"#636efa\", \"#EF553B\", \"#00cc96\", \"#ab63fa\", \"#FFA15A\", \"#19d3f3\", \"#FF6692\", \"#B6E880\", \"#FF97FF\", \"#FECB52\"], \"font\": {\"color\": \"#2a3f5f\"}, \"geo\": {\"bgcolor\": \"white\", \"lakecolor\": \"white\", \"landcolor\": \"#E5ECF6\", \"showlakes\": true, \"showland\": true, \"subunitcolor\": \"white\"}, \"hoverlabel\": {\"align\": \"left\"}, \"hovermode\": \"closest\", \"mapbox\": {\"style\": \"light\"}, \"paper_bgcolor\": \"white\", \"plot_bgcolor\": \"#E5ECF6\", \"polar\": {\"angularaxis\": {\"gridcolor\": \"white\", \"linecolor\": \"white\", \"ticks\": \"\"}, \"bgcolor\": \"#E5ECF6\", \"radialaxis\": {\"gridcolor\": \"white\", \"linecolor\": \"white\", \"ticks\": \"\"}}, \"scene\": {\"xaxis\": {\"backgroundcolor\": \"#E5ECF6\", \"gridcolor\": \"white\", \"gridwidth\": 2, \"linecolor\": \"white\", \"showbackground\": true, \"ticks\": \"\", \"zerolinecolor\": \"white\"}, \"yaxis\": {\"backgroundcolor\": \"#E5ECF6\", \"gridcolor\": \"white\", \"gridwidth\": 2, \"linecolor\": \"white\", \"showbackground\": true, \"ticks\": \"\", \"zerolinecolor\": \"white\"}, \"zaxis\": {\"backgroundcolor\": \"#E5ECF6\", \"gridcolor\": \"white\", \"gridwidth\": 2, \"linecolor\": \"white\", \"showbackground\": true, \"ticks\": \"\", \"zerolinecolor\": \"white\"}}, \"shapedefaults\": {\"line\": {\"color\": \"#2a3f5f\"}}, \"ternary\": {\"aaxis\": {\"gridcolor\": \"white\", \"linecolor\": \"white\", \"ticks\": \"\"}, \"baxis\": {\"gridcolor\": \"white\", \"linecolor\": \"white\", \"ticks\": \"\"}, \"bgcolor\": \"#E5ECF6\", \"caxis\": {\"gridcolor\": \"white\", \"linecolor\": \"white\", \"ticks\": \"\"}}, \"title\": {\"x\": 0.05}, \"xaxis\": {\"automargin\": true, \"gridcolor\": \"white\", \"linecolor\": \"white\", \"ticks\": \"\", \"title\": {\"standoff\": 15}, \"zerolinecolor\": \"white\", \"zerolinewidth\": 2}, \"yaxis\": {\"automargin\": true, \"gridcolor\": \"white\", \"linecolor\": \"white\", \"ticks\": \"\", \"title\": {\"standoff\": 15}, \"zerolinecolor\": \"white\", \"zerolinewidth\": 2}}}, \"title\": {\"text\": \"Monthly evolution of MK claims\"}, \"xaxis\": {\"anchor\": \"y\", \"domain\": [0.0, 1.0], \"title\": {\"text\": \"Month\"}}, \"yaxis\": {\"anchor\": \"x\", \"domain\": [0.0, 1.0], \"title\": {\"text\": \"Count\"}, \"type\": \"log\"}},\n",
       "                        {\"responsive\": true}\n",
       "                    ).then(function(){\n",
       "                            \n",
       "var gd = document.getElementById('91c21b7a-a770-4367-a12d-1faae6ef5f97');\n",
       "var x = new MutationObserver(function (mutations, observer) {{\n",
       "        var display = window.getComputedStyle(gd).display;\n",
       "        if (!display || display === 'none') {{\n",
       "            console.log([gd, 'removed!']);\n",
       "            Plotly.purge(gd);\n",
       "            observer.disconnect();\n",
       "        }}\n",
       "}});\n",
       "\n",
       "// Listen for the removal of the full notebook cells\n",
       "var notebookContainer = gd.closest('#notebook-container');\n",
       "if (notebookContainer) {{\n",
       "    x.observe(notebookContainer, {childList: true});\n",
       "}}\n",
       "\n",
       "// Listen for the clearing of the current output cell\n",
       "var outputEl = gd.closest('.output');\n",
       "if (outputEl) {{\n",
       "    x.observe(outputEl, {childList: true});\n",
       "}}\n",
       "\n",
       "                        })\n",
       "                };\n",
       "                });\n",
       "            </script>\n",
       "        </div>"
      ]
     },
     "metadata": {},
     "output_type": "display_data"
    }
   ],
   "source": [
    "fig = px.line(data_frame=dftemp[dftemp['Fecha_Dcto']>'2018-01-01'], x='Fecha_Dcto', y = 'Cantidad',\n",
    "              color = 'Nom_Generico')\n",
    "\n",
    "fig.update_layout(yaxis_type='log')\n",
    "fig.update_layout(title_text = \"Monthly evolution of MK claims\",\n",
    "                 xaxis_title = \"Month\",\n",
    "                 yaxis_title = \"Count\",\n",
    "                  legend_title_text=None,\n",
    "                  font=dict(\n",
    "                      #family=\"Courier New, monospace\",\n",
    "                      size=12,\n",
    "                      #color=\"#7f7f7f\"\n",
    "                  )\n",
    "                 )\n",
    "fig.show()"
   ]
  },
  {
   "cell_type": "markdown",
   "metadata": {},
   "source": [
    "# Time in Treatment"
   ]
  },
  {
   "cell_type": "markdown",
   "metadata": {},
   "source": [
    "Time is calculate from the first medication clain until de last in the database"
   ]
  },
  {
   "cell_type": "code",
   "execution_count": 164,
   "metadata": {},
   "outputs": [
    {
     "data": {
      "text/plain": [
       "Index(['Identificacion', 'Fecha_Dcto', 'Nombre_Producto_Mvto', 'Nom_Generico',\n",
       "       'Cantidad', 'Year', 'Month'],\n",
       "      dtype='object')"
      ]
     },
     "execution_count": 164,
     "metadata": {},
     "output_type": "execute_result"
    }
   ],
   "source": [
    "dataBiologicos.columns"
   ]
  },
  {
   "cell_type": "code",
   "execution_count": 165,
   "metadata": {
    "scrolled": true
   },
   "outputs": [
    {
     "data": {
      "text/html": [
       "<div>\n",
       "<style scoped>\n",
       "    .dataframe tbody tr th:only-of-type {\n",
       "        vertical-align: middle;\n",
       "    }\n",
       "\n",
       "    .dataframe tbody tr th {\n",
       "        vertical-align: top;\n",
       "    }\n",
       "\n",
       "    .dataframe thead th {\n",
       "        text-align: right;\n",
       "    }\n",
       "</style>\n",
       "<table border=\"1\" class=\"dataframe\">\n",
       "  <thead>\n",
       "    <tr style=\"text-align: right;\">\n",
       "      <th></th>\n",
       "      <th>min</th>\n",
       "      <th>max</th>\n",
       "      <th>Delta_Time</th>\n",
       "    </tr>\n",
       "    <tr>\n",
       "      <th>Identificacion</th>\n",
       "      <th></th>\n",
       "      <th></th>\n",
       "      <th></th>\n",
       "    </tr>\n",
       "  </thead>\n",
       "  <tbody>\n",
       "    <tr>\n",
       "      <th>500547</th>\n",
       "      <td>2019-07-13</td>\n",
       "      <td>2019-07-13</td>\n",
       "      <td>0</td>\n",
       "    </tr>\n",
       "    <tr>\n",
       "      <th>500588</th>\n",
       "      <td>2017-12-07</td>\n",
       "      <td>2019-10-19</td>\n",
       "      <td>681</td>\n",
       "    </tr>\n",
       "    <tr>\n",
       "      <th>502989</th>\n",
       "      <td>2018-01-25</td>\n",
       "      <td>2020-04-22</td>\n",
       "      <td>818</td>\n",
       "    </tr>\n",
       "    <tr>\n",
       "      <th>506808</th>\n",
       "      <td>2018-01-22</td>\n",
       "      <td>2018-08-21</td>\n",
       "      <td>211</td>\n",
       "    </tr>\n",
       "    <tr>\n",
       "      <th>512938</th>\n",
       "      <td>2017-12-20</td>\n",
       "      <td>2020-05-20</td>\n",
       "      <td>882</td>\n",
       "    </tr>\n",
       "  </tbody>\n",
       "</table>\n",
       "</div>"
      ],
      "text/plain": [
       "                      min        max  Delta_Time\n",
       "Identificacion                                  \n",
       "500547         2019-07-13 2019-07-13           0\n",
       "500588         2017-12-07 2019-10-19         681\n",
       "502989         2018-01-25 2020-04-22         818\n",
       "506808         2018-01-22 2018-08-21         211\n",
       "512938         2017-12-20 2020-05-20         882"
      ]
     },
     "execution_count": 165,
     "metadata": {},
     "output_type": "execute_result"
    }
   ],
   "source": [
    "dftemp = dataBiologicos.groupby('Identificacion').agg({'Fecha_Dcto':['min', 'max', lambda x: (x.max() - x.min()).days]})\n",
    "dftemp.columns = dftemp.columns.droplevel(0)\n",
    "dftemp.head()\n",
    "\n",
    "grep = dftemp.columns.str.contains(pat = 'lambda')\n",
    "colname = dftemp.columns[grep]\n",
    "colname[0]\n",
    "dftemp.rename(columns = {colname[0]:\"Delta_Time\"}, inplace = True)\n",
    "\n",
    "dftemp.head()"
   ]
  },
  {
   "cell_type": "code",
   "execution_count": 166,
   "metadata": {},
   "outputs": [
    {
     "data": {
      "text/html": [
       "<div>\n",
       "<style scoped>\n",
       "    .dataframe tbody tr th:only-of-type {\n",
       "        vertical-align: middle;\n",
       "    }\n",
       "\n",
       "    .dataframe tbody tr th {\n",
       "        vertical-align: top;\n",
       "    }\n",
       "\n",
       "    .dataframe thead th {\n",
       "        text-align: right;\n",
       "    }\n",
       "</style>\n",
       "<table border=\"1\" class=\"dataframe\">\n",
       "  <thead>\n",
       "    <tr style=\"text-align: right;\">\n",
       "      <th></th>\n",
       "      <th>min</th>\n",
       "      <th>max</th>\n",
       "      <th>Delta_Time</th>\n",
       "    </tr>\n",
       "    <tr>\n",
       "      <th>Identificacion</th>\n",
       "      <th></th>\n",
       "      <th></th>\n",
       "      <th></th>\n",
       "    </tr>\n",
       "  </thead>\n",
       "  <tbody>\n",
       "    <tr>\n",
       "      <th>1194113</th>\n",
       "      <td>2017-03-06</td>\n",
       "      <td>2020-05-20</td>\n",
       "      <td>1171</td>\n",
       "    </tr>\n",
       "    <tr>\n",
       "      <th>1671179</th>\n",
       "      <td>2016-11-16</td>\n",
       "      <td>2019-07-10</td>\n",
       "      <td>966</td>\n",
       "    </tr>\n",
       "    <tr>\n",
       "      <th>1715065</th>\n",
       "      <td>2017-12-07</td>\n",
       "      <td>2020-05-30</td>\n",
       "      <td>905</td>\n",
       "    </tr>\n",
       "    <tr>\n",
       "      <th>1561697</th>\n",
       "      <td>2017-10-17</td>\n",
       "      <td>2020-04-08</td>\n",
       "      <td>904</td>\n",
       "    </tr>\n",
       "    <tr>\n",
       "      <th>1729099</th>\n",
       "      <td>2017-12-06</td>\n",
       "      <td>2020-05-28</td>\n",
       "      <td>904</td>\n",
       "    </tr>\n",
       "    <tr>\n",
       "      <th>...</th>\n",
       "      <td>...</td>\n",
       "      <td>...</td>\n",
       "      <td>...</td>\n",
       "    </tr>\n",
       "    <tr>\n",
       "      <th>1534187</th>\n",
       "      <td>2019-01-05</td>\n",
       "      <td>2019-01-05</td>\n",
       "      <td>0</td>\n",
       "    </tr>\n",
       "    <tr>\n",
       "      <th>607756</th>\n",
       "      <td>2020-04-02</td>\n",
       "      <td>2020-04-02</td>\n",
       "      <td>0</td>\n",
       "    </tr>\n",
       "    <tr>\n",
       "      <th>1559689</th>\n",
       "      <td>2017-12-28</td>\n",
       "      <td>2017-12-28</td>\n",
       "      <td>0</td>\n",
       "    </tr>\n",
       "    <tr>\n",
       "      <th>1560441</th>\n",
       "      <td>2020-05-12</td>\n",
       "      <td>2020-05-12</td>\n",
       "      <td>0</td>\n",
       "    </tr>\n",
       "    <tr>\n",
       "      <th>500547</th>\n",
       "      <td>2019-07-13</td>\n",
       "      <td>2019-07-13</td>\n",
       "      <td>0</td>\n",
       "    </tr>\n",
       "  </tbody>\n",
       "</table>\n",
       "<p>828 rows × 3 columns</p>\n",
       "</div>"
      ],
      "text/plain": [
       "                      min        max  Delta_Time\n",
       "Identificacion                                  \n",
       "1194113        2017-03-06 2020-05-20        1171\n",
       "1671179        2016-11-16 2019-07-10         966\n",
       "1715065        2017-12-07 2020-05-30         905\n",
       "1561697        2017-10-17 2020-04-08         904\n",
       "1729099        2017-12-06 2020-05-28         904\n",
       "...                   ...        ...         ...\n",
       "1534187        2019-01-05 2019-01-05           0\n",
       "607756         2020-04-02 2020-04-02           0\n",
       "1559689        2017-12-28 2017-12-28           0\n",
       "1560441        2020-05-12 2020-05-12           0\n",
       "500547         2019-07-13 2019-07-13           0\n",
       "\n",
       "[828 rows x 3 columns]"
      ]
     },
     "execution_count": 166,
     "metadata": {},
     "output_type": "execute_result"
    }
   ],
   "source": [
    "dftemp.sort_values(by = \"Delta_Time\", ascending=False )"
   ]
  },
  {
   "cell_type": "markdown",
   "metadata": {},
   "source": [
    "## Figure"
   ]
  },
  {
   "cell_type": "code",
   "execution_count": 167,
   "metadata": {},
   "outputs": [
    {
     "data": {
      "application/vnd.plotly.v1+json": {
       "config": {
        "plotlyServerURL": "https://plot.ly"
       },
       "data": [
        {
         "alignmentgroup": "True",
         "bingroup": "x",
         "hovertemplate": "Delta_Time=%{x}<br>count=%{y}<extra></extra>",
         "legendgroup": "",
         "marker": {
          "color": "#FF6E00"
         },
         "name": "",
         "nbinsx": 50,
         "offsetgroup": "",
         "orientation": "v",
         "showlegend": false,
         "type": "histogram",
         "x": [
          0,
          681,
          818,
          211,
          882,
          871,
          867,
          0,
          342,
          40,
          85,
          66,
          498,
          318,
          62,
          44,
          867,
          30,
          876,
          804,
          892,
          751,
          61,
          380,
          121,
          858,
          0,
          62,
          0,
          677,
          241,
          0,
          239,
          318,
          720,
          0,
          0,
          29,
          135,
          357,
          648,
          62,
          401,
          0,
          7,
          61,
          586,
          69,
          0,
          245,
          788,
          0,
          0,
          542,
          741,
          817,
          0,
          0,
          422,
          58,
          554,
          262,
          0,
          0,
          712,
          860,
          69,
          698,
          180,
          200,
          0,
          414,
          58,
          0,
          539,
          0,
          869,
          79,
          0,
          43,
          158,
          888,
          0,
          37,
          0,
          398,
          598,
          849,
          896,
          667,
          846,
          727,
          0,
          697,
          0,
          65,
          883,
          840,
          70,
          525,
          58,
          351,
          0,
          398,
          842,
          264,
          891,
          892,
          169,
          776,
          841,
          891,
          150,
          603,
          477,
          0,
          477,
          679,
          894,
          262,
          21,
          888,
          555,
          180,
          346,
          57,
          230,
          530,
          261,
          769,
          499,
          874,
          862,
          139,
          637,
          41,
          885,
          62,
          793,
          886,
          460,
          900,
          63,
          64,
          737,
          853,
          696,
          395,
          0,
          196,
          0,
          264,
          734,
          148,
          35,
          502,
          367,
          370,
          0,
          892,
          0,
          485,
          0,
          557,
          464,
          0,
          547,
          74,
          752,
          266,
          431,
          223,
          375,
          547,
          750,
          870,
          256,
          148,
          190,
          262,
          641,
          880,
          239,
          0,
          868,
          0,
          176,
          303,
          0,
          885,
          784,
          855,
          0,
          611,
          106,
          875,
          512,
          835,
          686,
          360,
          149,
          28,
          426,
          531,
          155,
          669,
          0,
          336,
          30,
          743,
          891,
          259,
          14,
          867,
          810,
          392,
          834,
          1,
          507,
          0,
          703,
          566,
          748,
          210,
          366,
          887,
          0,
          72,
          884,
          0,
          31,
          829,
          834,
          774,
          0,
          820,
          41,
          825,
          202,
          86,
          810,
          29,
          794,
          455,
          0,
          653,
          40,
          97,
          175,
          0,
          845,
          411,
          553,
          0,
          52,
          0,
          883,
          651,
          377,
          215,
          667,
          363,
          319,
          304,
          0,
          823,
          882,
          60,
          345,
          871,
          882,
          392,
          0,
          65,
          755,
          0,
          0,
          181,
          113,
          247,
          127,
          69,
          30,
          365,
          0,
          313,
          277,
          211,
          807,
          861,
          0,
          885,
          694,
          556,
          571,
          544,
          724,
          698,
          120,
          89,
          799,
          0,
          61,
          646,
          458,
          366,
          847,
          269,
          643,
          491,
          399,
          814,
          572,
          75,
          0,
          0,
          0,
          0,
          32,
          896,
          28,
          565,
          874,
          0,
          691,
          297,
          267,
          0,
          859,
          896,
          56,
          245,
          0,
          777,
          0,
          577,
          282,
          91,
          307,
          867,
          835,
          0,
          406,
          124,
          181,
          700,
          146,
          409,
          854,
          861,
          331,
          896,
          857,
          0,
          869,
          732,
          903,
          739,
          400,
          637,
          545,
          135,
          852,
          375,
          460,
          243,
          498,
          419,
          0,
          0,
          130,
          211,
          115,
          783,
          248,
          877,
          419,
          900,
          1171,
          463,
          356,
          251,
          122,
          716,
          5,
          608,
          378,
          103,
          113,
          0,
          0,
          0,
          0,
          237,
          238,
          867,
          136,
          82,
          880,
          743,
          880,
          893,
          112,
          580,
          725,
          0,
          848,
          273,
          330,
          843,
          0,
          870,
          0,
          0,
          874,
          489,
          841,
          567,
          226,
          902,
          822,
          88,
          123,
          0,
          267,
          713,
          0,
          252,
          881,
          0,
          764,
          111,
          120,
          118,
          74,
          666,
          30,
          124,
          565,
          109,
          61,
          0,
          237,
          167,
          840,
          528,
          876,
          0,
          726,
          874,
          880,
          0,
          877,
          85,
          63,
          267,
          848,
          833,
          0,
          254,
          146,
          0,
          0,
          897,
          879,
          62,
          822,
          61,
          815,
          0,
          799,
          64,
          0,
          290,
          102,
          0,
          865,
          753,
          717,
          63,
          306,
          60,
          902,
          0,
          588,
          0,
          881,
          238,
          684,
          275,
          657,
          429,
          634,
          882,
          236,
          61,
          0,
          398,
          796,
          469,
          0,
          718,
          57,
          870,
          505,
          329,
          92,
          143,
          60,
          0,
          0,
          715,
          859,
          348,
          231,
          535,
          340,
          0,
          292,
          211,
          863,
          481,
          891,
          5,
          109,
          72,
          625,
          450,
          150,
          7,
          260,
          526,
          503,
          0,
          90,
          0,
          0,
          344,
          62,
          852,
          817,
          873,
          0,
          641,
          0,
          145,
          84,
          125,
          265,
          839,
          831,
          178,
          505,
          392,
          374,
          884,
          695,
          281,
          819,
          571,
          634,
          779,
          243,
          0,
          511,
          840,
          708,
          858,
          85,
          516,
          868,
          571,
          461,
          304,
          0,
          0,
          904,
          356,
          71,
          33,
          168,
          427,
          527,
          866,
          738,
          869,
          34,
          490,
          638,
          246,
          372,
          876,
          0,
          26,
          224,
          217,
          234,
          413,
          637,
          0,
          0,
          324,
          890,
          298,
          755,
          643,
          224,
          870,
          588,
          799,
          873,
          583,
          0,
          235,
          0,
          0,
          0,
          64,
          21,
          334,
          455,
          30,
          280,
          93,
          284,
          388,
          379,
          720,
          0,
          577,
          638,
          890,
          0,
          270,
          0,
          882,
          966,
          246,
          30,
          27,
          378,
          642,
          30,
          888,
          83,
          147,
          0,
          32,
          875,
          190,
          894,
          0,
          151,
          881,
          574,
          315,
          0,
          13,
          418,
          27,
          0,
          0,
          665,
          84,
          840,
          636,
          905,
          861,
          104,
          418,
          716,
          7,
          631,
          367,
          47,
          88,
          904,
          716,
          173,
          306,
          0,
          873,
          434,
          517,
          0,
          0,
          7,
          0,
          678,
          252,
          876,
          0,
          0,
          7,
          456,
          583,
          863,
          0,
          0,
          432,
          24,
          0,
          693,
          851,
          876,
          215,
          79,
          783,
          0,
          793,
          0,
          404,
          853,
          786,
          154,
          447,
          876,
          873,
          356,
          92,
          0,
          0,
          889,
          129,
          819,
          247,
          630,
          522,
          241,
          609,
          692,
          294,
          853,
          423,
          533,
          122,
          627,
          755,
          616,
          87,
          819,
          371,
          832,
          0,
          875,
          66,
          868,
          0,
          730,
          63,
          0,
          709,
          760,
          873,
          0,
          527,
          484,
          0,
          237,
          269,
          776,
          0,
          860,
          0,
          811,
          32,
          817,
          889,
          518,
          795,
          488,
          35,
          292,
          684,
          32,
          371,
          548,
          57,
          274,
          444,
          724,
          46,
          157,
          121,
          40,
          574,
          78,
          763,
          282,
          748,
          516,
          660,
          389,
          551,
          285,
          91,
          780,
          0,
          236,
          889,
          28,
          212,
          721,
          836,
          127,
          486,
          89,
          0,
          30,
          867,
          156,
          0,
          181,
          0,
          885,
          760,
          692,
          48,
          841,
          0,
          736,
          0,
          880,
          852,
          712,
          897,
          662,
          806
         ],
         "xaxis": "x",
         "yaxis": "y"
        },
        {
         "alignmentgroup": "True",
         "hovertemplate": "Delta_Time=%{x}<extra></extra>",
         "legendgroup": "",
         "marker": {
          "color": "#FF6E00"
         },
         "name": "",
         "notched": true,
         "offsetgroup": "",
         "showlegend": false,
         "type": "box",
         "x": [
          0,
          681,
          818,
          211,
          882,
          871,
          867,
          0,
          342,
          40,
          85,
          66,
          498,
          318,
          62,
          44,
          867,
          30,
          876,
          804,
          892,
          751,
          61,
          380,
          121,
          858,
          0,
          62,
          0,
          677,
          241,
          0,
          239,
          318,
          720,
          0,
          0,
          29,
          135,
          357,
          648,
          62,
          401,
          0,
          7,
          61,
          586,
          69,
          0,
          245,
          788,
          0,
          0,
          542,
          741,
          817,
          0,
          0,
          422,
          58,
          554,
          262,
          0,
          0,
          712,
          860,
          69,
          698,
          180,
          200,
          0,
          414,
          58,
          0,
          539,
          0,
          869,
          79,
          0,
          43,
          158,
          888,
          0,
          37,
          0,
          398,
          598,
          849,
          896,
          667,
          846,
          727,
          0,
          697,
          0,
          65,
          883,
          840,
          70,
          525,
          58,
          351,
          0,
          398,
          842,
          264,
          891,
          892,
          169,
          776,
          841,
          891,
          150,
          603,
          477,
          0,
          477,
          679,
          894,
          262,
          21,
          888,
          555,
          180,
          346,
          57,
          230,
          530,
          261,
          769,
          499,
          874,
          862,
          139,
          637,
          41,
          885,
          62,
          793,
          886,
          460,
          900,
          63,
          64,
          737,
          853,
          696,
          395,
          0,
          196,
          0,
          264,
          734,
          148,
          35,
          502,
          367,
          370,
          0,
          892,
          0,
          485,
          0,
          557,
          464,
          0,
          547,
          74,
          752,
          266,
          431,
          223,
          375,
          547,
          750,
          870,
          256,
          148,
          190,
          262,
          641,
          880,
          239,
          0,
          868,
          0,
          176,
          303,
          0,
          885,
          784,
          855,
          0,
          611,
          106,
          875,
          512,
          835,
          686,
          360,
          149,
          28,
          426,
          531,
          155,
          669,
          0,
          336,
          30,
          743,
          891,
          259,
          14,
          867,
          810,
          392,
          834,
          1,
          507,
          0,
          703,
          566,
          748,
          210,
          366,
          887,
          0,
          72,
          884,
          0,
          31,
          829,
          834,
          774,
          0,
          820,
          41,
          825,
          202,
          86,
          810,
          29,
          794,
          455,
          0,
          653,
          40,
          97,
          175,
          0,
          845,
          411,
          553,
          0,
          52,
          0,
          883,
          651,
          377,
          215,
          667,
          363,
          319,
          304,
          0,
          823,
          882,
          60,
          345,
          871,
          882,
          392,
          0,
          65,
          755,
          0,
          0,
          181,
          113,
          247,
          127,
          69,
          30,
          365,
          0,
          313,
          277,
          211,
          807,
          861,
          0,
          885,
          694,
          556,
          571,
          544,
          724,
          698,
          120,
          89,
          799,
          0,
          61,
          646,
          458,
          366,
          847,
          269,
          643,
          491,
          399,
          814,
          572,
          75,
          0,
          0,
          0,
          0,
          32,
          896,
          28,
          565,
          874,
          0,
          691,
          297,
          267,
          0,
          859,
          896,
          56,
          245,
          0,
          777,
          0,
          577,
          282,
          91,
          307,
          867,
          835,
          0,
          406,
          124,
          181,
          700,
          146,
          409,
          854,
          861,
          331,
          896,
          857,
          0,
          869,
          732,
          903,
          739,
          400,
          637,
          545,
          135,
          852,
          375,
          460,
          243,
          498,
          419,
          0,
          0,
          130,
          211,
          115,
          783,
          248,
          877,
          419,
          900,
          1171,
          463,
          356,
          251,
          122,
          716,
          5,
          608,
          378,
          103,
          113,
          0,
          0,
          0,
          0,
          237,
          238,
          867,
          136,
          82,
          880,
          743,
          880,
          893,
          112,
          580,
          725,
          0,
          848,
          273,
          330,
          843,
          0,
          870,
          0,
          0,
          874,
          489,
          841,
          567,
          226,
          902,
          822,
          88,
          123,
          0,
          267,
          713,
          0,
          252,
          881,
          0,
          764,
          111,
          120,
          118,
          74,
          666,
          30,
          124,
          565,
          109,
          61,
          0,
          237,
          167,
          840,
          528,
          876,
          0,
          726,
          874,
          880,
          0,
          877,
          85,
          63,
          267,
          848,
          833,
          0,
          254,
          146,
          0,
          0,
          897,
          879,
          62,
          822,
          61,
          815,
          0,
          799,
          64,
          0,
          290,
          102,
          0,
          865,
          753,
          717,
          63,
          306,
          60,
          902,
          0,
          588,
          0,
          881,
          238,
          684,
          275,
          657,
          429,
          634,
          882,
          236,
          61,
          0,
          398,
          796,
          469,
          0,
          718,
          57,
          870,
          505,
          329,
          92,
          143,
          60,
          0,
          0,
          715,
          859,
          348,
          231,
          535,
          340,
          0,
          292,
          211,
          863,
          481,
          891,
          5,
          109,
          72,
          625,
          450,
          150,
          7,
          260,
          526,
          503,
          0,
          90,
          0,
          0,
          344,
          62,
          852,
          817,
          873,
          0,
          641,
          0,
          145,
          84,
          125,
          265,
          839,
          831,
          178,
          505,
          392,
          374,
          884,
          695,
          281,
          819,
          571,
          634,
          779,
          243,
          0,
          511,
          840,
          708,
          858,
          85,
          516,
          868,
          571,
          461,
          304,
          0,
          0,
          904,
          356,
          71,
          33,
          168,
          427,
          527,
          866,
          738,
          869,
          34,
          490,
          638,
          246,
          372,
          876,
          0,
          26,
          224,
          217,
          234,
          413,
          637,
          0,
          0,
          324,
          890,
          298,
          755,
          643,
          224,
          870,
          588,
          799,
          873,
          583,
          0,
          235,
          0,
          0,
          0,
          64,
          21,
          334,
          455,
          30,
          280,
          93,
          284,
          388,
          379,
          720,
          0,
          577,
          638,
          890,
          0,
          270,
          0,
          882,
          966,
          246,
          30,
          27,
          378,
          642,
          30,
          888,
          83,
          147,
          0,
          32,
          875,
          190,
          894,
          0,
          151,
          881,
          574,
          315,
          0,
          13,
          418,
          27,
          0,
          0,
          665,
          84,
          840,
          636,
          905,
          861,
          104,
          418,
          716,
          7,
          631,
          367,
          47,
          88,
          904,
          716,
          173,
          306,
          0,
          873,
          434,
          517,
          0,
          0,
          7,
          0,
          678,
          252,
          876,
          0,
          0,
          7,
          456,
          583,
          863,
          0,
          0,
          432,
          24,
          0,
          693,
          851,
          876,
          215,
          79,
          783,
          0,
          793,
          0,
          404,
          853,
          786,
          154,
          447,
          876,
          873,
          356,
          92,
          0,
          0,
          889,
          129,
          819,
          247,
          630,
          522,
          241,
          609,
          692,
          294,
          853,
          423,
          533,
          122,
          627,
          755,
          616,
          87,
          819,
          371,
          832,
          0,
          875,
          66,
          868,
          0,
          730,
          63,
          0,
          709,
          760,
          873,
          0,
          527,
          484,
          0,
          237,
          269,
          776,
          0,
          860,
          0,
          811,
          32,
          817,
          889,
          518,
          795,
          488,
          35,
          292,
          684,
          32,
          371,
          548,
          57,
          274,
          444,
          724,
          46,
          157,
          121,
          40,
          574,
          78,
          763,
          282,
          748,
          516,
          660,
          389,
          551,
          285,
          91,
          780,
          0,
          236,
          889,
          28,
          212,
          721,
          836,
          127,
          486,
          89,
          0,
          30,
          867,
          156,
          0,
          181,
          0,
          885,
          760,
          692,
          48,
          841,
          0,
          736,
          0,
          880,
          852,
          712,
          897,
          662,
          806
         ],
         "xaxis": "x2",
         "yaxis": "y2"
        }
       ],
       "layout": {
        "barmode": "relative",
        "legend": {
         "tracegroupgap": 0
        },
        "margin": {
         "t": 60
        },
        "template": {
         "data": {
          "bar": [
           {
            "error_x": {
             "color": "#2a3f5f"
            },
            "error_y": {
             "color": "#2a3f5f"
            },
            "marker": {
             "line": {
              "color": "#E5ECF6",
              "width": 0.5
             }
            },
            "type": "bar"
           }
          ],
          "barpolar": [
           {
            "marker": {
             "line": {
              "color": "#E5ECF6",
              "width": 0.5
             }
            },
            "type": "barpolar"
           }
          ],
          "carpet": [
           {
            "aaxis": {
             "endlinecolor": "#2a3f5f",
             "gridcolor": "white",
             "linecolor": "white",
             "minorgridcolor": "white",
             "startlinecolor": "#2a3f5f"
            },
            "baxis": {
             "endlinecolor": "#2a3f5f",
             "gridcolor": "white",
             "linecolor": "white",
             "minorgridcolor": "white",
             "startlinecolor": "#2a3f5f"
            },
            "type": "carpet"
           }
          ],
          "choropleth": [
           {
            "colorbar": {
             "outlinewidth": 0,
             "ticks": ""
            },
            "type": "choropleth"
           }
          ],
          "contour": [
           {
            "colorbar": {
             "outlinewidth": 0,
             "ticks": ""
            },
            "colorscale": [
             [
              0,
              "#0d0887"
             ],
             [
              0.1111111111111111,
              "#46039f"
             ],
             [
              0.2222222222222222,
              "#7201a8"
             ],
             [
              0.3333333333333333,
              "#9c179e"
             ],
             [
              0.4444444444444444,
              "#bd3786"
             ],
             [
              0.5555555555555556,
              "#d8576b"
             ],
             [
              0.6666666666666666,
              "#ed7953"
             ],
             [
              0.7777777777777778,
              "#fb9f3a"
             ],
             [
              0.8888888888888888,
              "#fdca26"
             ],
             [
              1,
              "#f0f921"
             ]
            ],
            "type": "contour"
           }
          ],
          "contourcarpet": [
           {
            "colorbar": {
             "outlinewidth": 0,
             "ticks": ""
            },
            "type": "contourcarpet"
           }
          ],
          "heatmap": [
           {
            "colorbar": {
             "outlinewidth": 0,
             "ticks": ""
            },
            "colorscale": [
             [
              0,
              "#0d0887"
             ],
             [
              0.1111111111111111,
              "#46039f"
             ],
             [
              0.2222222222222222,
              "#7201a8"
             ],
             [
              0.3333333333333333,
              "#9c179e"
             ],
             [
              0.4444444444444444,
              "#bd3786"
             ],
             [
              0.5555555555555556,
              "#d8576b"
             ],
             [
              0.6666666666666666,
              "#ed7953"
             ],
             [
              0.7777777777777778,
              "#fb9f3a"
             ],
             [
              0.8888888888888888,
              "#fdca26"
             ],
             [
              1,
              "#f0f921"
             ]
            ],
            "type": "heatmap"
           }
          ],
          "heatmapgl": [
           {
            "colorbar": {
             "outlinewidth": 0,
             "ticks": ""
            },
            "colorscale": [
             [
              0,
              "#0d0887"
             ],
             [
              0.1111111111111111,
              "#46039f"
             ],
             [
              0.2222222222222222,
              "#7201a8"
             ],
             [
              0.3333333333333333,
              "#9c179e"
             ],
             [
              0.4444444444444444,
              "#bd3786"
             ],
             [
              0.5555555555555556,
              "#d8576b"
             ],
             [
              0.6666666666666666,
              "#ed7953"
             ],
             [
              0.7777777777777778,
              "#fb9f3a"
             ],
             [
              0.8888888888888888,
              "#fdca26"
             ],
             [
              1,
              "#f0f921"
             ]
            ],
            "type": "heatmapgl"
           }
          ],
          "histogram": [
           {
            "marker": {
             "colorbar": {
              "outlinewidth": 0,
              "ticks": ""
             }
            },
            "type": "histogram"
           }
          ],
          "histogram2d": [
           {
            "colorbar": {
             "outlinewidth": 0,
             "ticks": ""
            },
            "colorscale": [
             [
              0,
              "#0d0887"
             ],
             [
              0.1111111111111111,
              "#46039f"
             ],
             [
              0.2222222222222222,
              "#7201a8"
             ],
             [
              0.3333333333333333,
              "#9c179e"
             ],
             [
              0.4444444444444444,
              "#bd3786"
             ],
             [
              0.5555555555555556,
              "#d8576b"
             ],
             [
              0.6666666666666666,
              "#ed7953"
             ],
             [
              0.7777777777777778,
              "#fb9f3a"
             ],
             [
              0.8888888888888888,
              "#fdca26"
             ],
             [
              1,
              "#f0f921"
             ]
            ],
            "type": "histogram2d"
           }
          ],
          "histogram2dcontour": [
           {
            "colorbar": {
             "outlinewidth": 0,
             "ticks": ""
            },
            "colorscale": [
             [
              0,
              "#0d0887"
             ],
             [
              0.1111111111111111,
              "#46039f"
             ],
             [
              0.2222222222222222,
              "#7201a8"
             ],
             [
              0.3333333333333333,
              "#9c179e"
             ],
             [
              0.4444444444444444,
              "#bd3786"
             ],
             [
              0.5555555555555556,
              "#d8576b"
             ],
             [
              0.6666666666666666,
              "#ed7953"
             ],
             [
              0.7777777777777778,
              "#fb9f3a"
             ],
             [
              0.8888888888888888,
              "#fdca26"
             ],
             [
              1,
              "#f0f921"
             ]
            ],
            "type": "histogram2dcontour"
           }
          ],
          "mesh3d": [
           {
            "colorbar": {
             "outlinewidth": 0,
             "ticks": ""
            },
            "type": "mesh3d"
           }
          ],
          "parcoords": [
           {
            "line": {
             "colorbar": {
              "outlinewidth": 0,
              "ticks": ""
             }
            },
            "type": "parcoords"
           }
          ],
          "pie": [
           {
            "automargin": true,
            "type": "pie"
           }
          ],
          "scatter": [
           {
            "marker": {
             "colorbar": {
              "outlinewidth": 0,
              "ticks": ""
             }
            },
            "type": "scatter"
           }
          ],
          "scatter3d": [
           {
            "line": {
             "colorbar": {
              "outlinewidth": 0,
              "ticks": ""
             }
            },
            "marker": {
             "colorbar": {
              "outlinewidth": 0,
              "ticks": ""
             }
            },
            "type": "scatter3d"
           }
          ],
          "scattercarpet": [
           {
            "marker": {
             "colorbar": {
              "outlinewidth": 0,
              "ticks": ""
             }
            },
            "type": "scattercarpet"
           }
          ],
          "scattergeo": [
           {
            "marker": {
             "colorbar": {
              "outlinewidth": 0,
              "ticks": ""
             }
            },
            "type": "scattergeo"
           }
          ],
          "scattergl": [
           {
            "marker": {
             "colorbar": {
              "outlinewidth": 0,
              "ticks": ""
             }
            },
            "type": "scattergl"
           }
          ],
          "scattermapbox": [
           {
            "marker": {
             "colorbar": {
              "outlinewidth": 0,
              "ticks": ""
             }
            },
            "type": "scattermapbox"
           }
          ],
          "scatterpolar": [
           {
            "marker": {
             "colorbar": {
              "outlinewidth": 0,
              "ticks": ""
             }
            },
            "type": "scatterpolar"
           }
          ],
          "scatterpolargl": [
           {
            "marker": {
             "colorbar": {
              "outlinewidth": 0,
              "ticks": ""
             }
            },
            "type": "scatterpolargl"
           }
          ],
          "scatterternary": [
           {
            "marker": {
             "colorbar": {
              "outlinewidth": 0,
              "ticks": ""
             }
            },
            "type": "scatterternary"
           }
          ],
          "surface": [
           {
            "colorbar": {
             "outlinewidth": 0,
             "ticks": ""
            },
            "colorscale": [
             [
              0,
              "#0d0887"
             ],
             [
              0.1111111111111111,
              "#46039f"
             ],
             [
              0.2222222222222222,
              "#7201a8"
             ],
             [
              0.3333333333333333,
              "#9c179e"
             ],
             [
              0.4444444444444444,
              "#bd3786"
             ],
             [
              0.5555555555555556,
              "#d8576b"
             ],
             [
              0.6666666666666666,
              "#ed7953"
             ],
             [
              0.7777777777777778,
              "#fb9f3a"
             ],
             [
              0.8888888888888888,
              "#fdca26"
             ],
             [
              1,
              "#f0f921"
             ]
            ],
            "type": "surface"
           }
          ],
          "table": [
           {
            "cells": {
             "fill": {
              "color": "#EBF0F8"
             },
             "line": {
              "color": "white"
             }
            },
            "header": {
             "fill": {
              "color": "#C8D4E3"
             },
             "line": {
              "color": "white"
             }
            },
            "type": "table"
           }
          ]
         },
         "layout": {
          "annotationdefaults": {
           "arrowcolor": "#2a3f5f",
           "arrowhead": 0,
           "arrowwidth": 1
          },
          "coloraxis": {
           "colorbar": {
            "outlinewidth": 0,
            "ticks": ""
           }
          },
          "colorscale": {
           "diverging": [
            [
             0,
             "#8e0152"
            ],
            [
             0.1,
             "#c51b7d"
            ],
            [
             0.2,
             "#de77ae"
            ],
            [
             0.3,
             "#f1b6da"
            ],
            [
             0.4,
             "#fde0ef"
            ],
            [
             0.5,
             "#f7f7f7"
            ],
            [
             0.6,
             "#e6f5d0"
            ],
            [
             0.7,
             "#b8e186"
            ],
            [
             0.8,
             "#7fbc41"
            ],
            [
             0.9,
             "#4d9221"
            ],
            [
             1,
             "#276419"
            ]
           ],
           "sequential": [
            [
             0,
             "#0d0887"
            ],
            [
             0.1111111111111111,
             "#46039f"
            ],
            [
             0.2222222222222222,
             "#7201a8"
            ],
            [
             0.3333333333333333,
             "#9c179e"
            ],
            [
             0.4444444444444444,
             "#bd3786"
            ],
            [
             0.5555555555555556,
             "#d8576b"
            ],
            [
             0.6666666666666666,
             "#ed7953"
            ],
            [
             0.7777777777777778,
             "#fb9f3a"
            ],
            [
             0.8888888888888888,
             "#fdca26"
            ],
            [
             1,
             "#f0f921"
            ]
           ],
           "sequentialminus": [
            [
             0,
             "#0d0887"
            ],
            [
             0.1111111111111111,
             "#46039f"
            ],
            [
             0.2222222222222222,
             "#7201a8"
            ],
            [
             0.3333333333333333,
             "#9c179e"
            ],
            [
             0.4444444444444444,
             "#bd3786"
            ],
            [
             0.5555555555555556,
             "#d8576b"
            ],
            [
             0.6666666666666666,
             "#ed7953"
            ],
            [
             0.7777777777777778,
             "#fb9f3a"
            ],
            [
             0.8888888888888888,
             "#fdca26"
            ],
            [
             1,
             "#f0f921"
            ]
           ]
          },
          "colorway": [
           "#636efa",
           "#EF553B",
           "#00cc96",
           "#ab63fa",
           "#FFA15A",
           "#19d3f3",
           "#FF6692",
           "#B6E880",
           "#FF97FF",
           "#FECB52"
          ],
          "font": {
           "color": "#2a3f5f"
          },
          "geo": {
           "bgcolor": "white",
           "lakecolor": "white",
           "landcolor": "#E5ECF6",
           "showlakes": true,
           "showland": true,
           "subunitcolor": "white"
          },
          "hoverlabel": {
           "align": "left"
          },
          "hovermode": "closest",
          "mapbox": {
           "style": "light"
          },
          "paper_bgcolor": "white",
          "plot_bgcolor": "#E5ECF6",
          "polar": {
           "angularaxis": {
            "gridcolor": "white",
            "linecolor": "white",
            "ticks": ""
           },
           "bgcolor": "#E5ECF6",
           "radialaxis": {
            "gridcolor": "white",
            "linecolor": "white",
            "ticks": ""
           }
          },
          "scene": {
           "xaxis": {
            "backgroundcolor": "#E5ECF6",
            "gridcolor": "white",
            "gridwidth": 2,
            "linecolor": "white",
            "showbackground": true,
            "ticks": "",
            "zerolinecolor": "white"
           },
           "yaxis": {
            "backgroundcolor": "#E5ECF6",
            "gridcolor": "white",
            "gridwidth": 2,
            "linecolor": "white",
            "showbackground": true,
            "ticks": "",
            "zerolinecolor": "white"
           },
           "zaxis": {
            "backgroundcolor": "#E5ECF6",
            "gridcolor": "white",
            "gridwidth": 2,
            "linecolor": "white",
            "showbackground": true,
            "ticks": "",
            "zerolinecolor": "white"
           }
          },
          "shapedefaults": {
           "line": {
            "color": "#2a3f5f"
           }
          },
          "ternary": {
           "aaxis": {
            "gridcolor": "white",
            "linecolor": "white",
            "ticks": ""
           },
           "baxis": {
            "gridcolor": "white",
            "linecolor": "white",
            "ticks": ""
           },
           "bgcolor": "#E5ECF6",
           "caxis": {
            "gridcolor": "white",
            "linecolor": "white",
            "ticks": ""
           }
          },
          "title": {
           "x": 0.05
          },
          "xaxis": {
           "automargin": true,
           "gridcolor": "white",
           "linecolor": "white",
           "ticks": "",
           "title": {
            "standoff": 15
           },
           "zerolinecolor": "white",
           "zerolinewidth": 2
          },
          "yaxis": {
           "automargin": true,
           "gridcolor": "white",
           "linecolor": "white",
           "ticks": "",
           "title": {
            "standoff": 15
           },
           "zerolinecolor": "white",
           "zerolinewidth": 2
          }
         }
        },
        "title": {
         "text": "Distribution of the ellapced time since first treatment to last one"
        },
        "xaxis": {
         "anchor": "y",
         "domain": [
          0,
          1
         ],
         "title": {
          "text": "Time(days)"
         }
        },
        "xaxis2": {
         "anchor": "y2",
         "domain": [
          0,
          1
         ],
         "matches": "x",
         "showgrid": true,
         "showticklabels": false
        },
        "yaxis": {
         "anchor": "x",
         "domain": [
          0,
          0.8316
         ],
         "title": {
          "text": "No. of patients"
         }
        },
        "yaxis2": {
         "anchor": "x2",
         "domain": [
          0.8416,
          1
         ],
         "matches": "y2",
         "showgrid": false,
         "showline": false,
         "showticklabels": false,
         "ticks": ""
        }
       }
      },
      "text/html": [
       "<div>\n",
       "        \n",
       "        \n",
       "            <div id=\"ae86a7fa-6883-465e-a503-1a59b13aadf7\" class=\"plotly-graph-div\" style=\"height:525px; width:100%;\"></div>\n",
       "            <script type=\"text/javascript\">\n",
       "                require([\"plotly\"], function(Plotly) {\n",
       "                    window.PLOTLYENV=window.PLOTLYENV || {};\n",
       "                    \n",
       "                if (document.getElementById(\"ae86a7fa-6883-465e-a503-1a59b13aadf7\")) {\n",
       "                    Plotly.newPlot(\n",
       "                        'ae86a7fa-6883-465e-a503-1a59b13aadf7',\n",
       "                        [{\"alignmentgroup\": \"True\", \"bingroup\": \"x\", \"hovertemplate\": \"Delta_Time=%{x}<br>count=%{y}<extra></extra>\", \"legendgroup\": \"\", \"marker\": {\"color\": \"#FF6E00\"}, \"name\": \"\", \"nbinsx\": 50, \"offsetgroup\": \"\", \"orientation\": \"v\", \"showlegend\": false, \"type\": \"histogram\", \"x\": [0, 681, 818, 211, 882, 871, 867, 0, 342, 40, 85, 66, 498, 318, 62, 44, 867, 30, 876, 804, 892, 751, 61, 380, 121, 858, 0, 62, 0, 677, 241, 0, 239, 318, 720, 0, 0, 29, 135, 357, 648, 62, 401, 0, 7, 61, 586, 69, 0, 245, 788, 0, 0, 542, 741, 817, 0, 0, 422, 58, 554, 262, 0, 0, 712, 860, 69, 698, 180, 200, 0, 414, 58, 0, 539, 0, 869, 79, 0, 43, 158, 888, 0, 37, 0, 398, 598, 849, 896, 667, 846, 727, 0, 697, 0, 65, 883, 840, 70, 525, 58, 351, 0, 398, 842, 264, 891, 892, 169, 776, 841, 891, 150, 603, 477, 0, 477, 679, 894, 262, 21, 888, 555, 180, 346, 57, 230, 530, 261, 769, 499, 874, 862, 139, 637, 41, 885, 62, 793, 886, 460, 900, 63, 64, 737, 853, 696, 395, 0, 196, 0, 264, 734, 148, 35, 502, 367, 370, 0, 892, 0, 485, 0, 557, 464, 0, 547, 74, 752, 266, 431, 223, 375, 547, 750, 870, 256, 148, 190, 262, 641, 880, 239, 0, 868, 0, 176, 303, 0, 885, 784, 855, 0, 611, 106, 875, 512, 835, 686, 360, 149, 28, 426, 531, 155, 669, 0, 336, 30, 743, 891, 259, 14, 867, 810, 392, 834, 1, 507, 0, 703, 566, 748, 210, 366, 887, 0, 72, 884, 0, 31, 829, 834, 774, 0, 820, 41, 825, 202, 86, 810, 29, 794, 455, 0, 653, 40, 97, 175, 0, 845, 411, 553, 0, 52, 0, 883, 651, 377, 215, 667, 363, 319, 304, 0, 823, 882, 60, 345, 871, 882, 392, 0, 65, 755, 0, 0, 181, 113, 247, 127, 69, 30, 365, 0, 313, 277, 211, 807, 861, 0, 885, 694, 556, 571, 544, 724, 698, 120, 89, 799, 0, 61, 646, 458, 366, 847, 269, 643, 491, 399, 814, 572, 75, 0, 0, 0, 0, 32, 896, 28, 565, 874, 0, 691, 297, 267, 0, 859, 896, 56, 245, 0, 777, 0, 577, 282, 91, 307, 867, 835, 0, 406, 124, 181, 700, 146, 409, 854, 861, 331, 896, 857, 0, 869, 732, 903, 739, 400, 637, 545, 135, 852, 375, 460, 243, 498, 419, 0, 0, 130, 211, 115, 783, 248, 877, 419, 900, 1171, 463, 356, 251, 122, 716, 5, 608, 378, 103, 113, 0, 0, 0, 0, 237, 238, 867, 136, 82, 880, 743, 880, 893, 112, 580, 725, 0, 848, 273, 330, 843, 0, 870, 0, 0, 874, 489, 841, 567, 226, 902, 822, 88, 123, 0, 267, 713, 0, 252, 881, 0, 764, 111, 120, 118, 74, 666, 30, 124, 565, 109, 61, 0, 237, 167, 840, 528, 876, 0, 726, 874, 880, 0, 877, 85, 63, 267, 848, 833, 0, 254, 146, 0, 0, 897, 879, 62, 822, 61, 815, 0, 799, 64, 0, 290, 102, 0, 865, 753, 717, 63, 306, 60, 902, 0, 588, 0, 881, 238, 684, 275, 657, 429, 634, 882, 236, 61, 0, 398, 796, 469, 0, 718, 57, 870, 505, 329, 92, 143, 60, 0, 0, 715, 859, 348, 231, 535, 340, 0, 292, 211, 863, 481, 891, 5, 109, 72, 625, 450, 150, 7, 260, 526, 503, 0, 90, 0, 0, 344, 62, 852, 817, 873, 0, 641, 0, 145, 84, 125, 265, 839, 831, 178, 505, 392, 374, 884, 695, 281, 819, 571, 634, 779, 243, 0, 511, 840, 708, 858, 85, 516, 868, 571, 461, 304, 0, 0, 904, 356, 71, 33, 168, 427, 527, 866, 738, 869, 34, 490, 638, 246, 372, 876, 0, 26, 224, 217, 234, 413, 637, 0, 0, 324, 890, 298, 755, 643, 224, 870, 588, 799, 873, 583, 0, 235, 0, 0, 0, 64, 21, 334, 455, 30, 280, 93, 284, 388, 379, 720, 0, 577, 638, 890, 0, 270, 0, 882, 966, 246, 30, 27, 378, 642, 30, 888, 83, 147, 0, 32, 875, 190, 894, 0, 151, 881, 574, 315, 0, 13, 418, 27, 0, 0, 665, 84, 840, 636, 905, 861, 104, 418, 716, 7, 631, 367, 47, 88, 904, 716, 173, 306, 0, 873, 434, 517, 0, 0, 7, 0, 678, 252, 876, 0, 0, 7, 456, 583, 863, 0, 0, 432, 24, 0, 693, 851, 876, 215, 79, 783, 0, 793, 0, 404, 853, 786, 154, 447, 876, 873, 356, 92, 0, 0, 889, 129, 819, 247, 630, 522, 241, 609, 692, 294, 853, 423, 533, 122, 627, 755, 616, 87, 819, 371, 832, 0, 875, 66, 868, 0, 730, 63, 0, 709, 760, 873, 0, 527, 484, 0, 237, 269, 776, 0, 860, 0, 811, 32, 817, 889, 518, 795, 488, 35, 292, 684, 32, 371, 548, 57, 274, 444, 724, 46, 157, 121, 40, 574, 78, 763, 282, 748, 516, 660, 389, 551, 285, 91, 780, 0, 236, 889, 28, 212, 721, 836, 127, 486, 89, 0, 30, 867, 156, 0, 181, 0, 885, 760, 692, 48, 841, 0, 736, 0, 880, 852, 712, 897, 662, 806], \"xaxis\": \"x\", \"yaxis\": \"y\"}, {\"alignmentgroup\": \"True\", \"hovertemplate\": \"Delta_Time=%{x}<extra></extra>\", \"legendgroup\": \"\", \"marker\": {\"color\": \"#FF6E00\"}, \"name\": \"\", \"notched\": true, \"offsetgroup\": \"\", \"showlegend\": false, \"type\": \"box\", \"x\": [0, 681, 818, 211, 882, 871, 867, 0, 342, 40, 85, 66, 498, 318, 62, 44, 867, 30, 876, 804, 892, 751, 61, 380, 121, 858, 0, 62, 0, 677, 241, 0, 239, 318, 720, 0, 0, 29, 135, 357, 648, 62, 401, 0, 7, 61, 586, 69, 0, 245, 788, 0, 0, 542, 741, 817, 0, 0, 422, 58, 554, 262, 0, 0, 712, 860, 69, 698, 180, 200, 0, 414, 58, 0, 539, 0, 869, 79, 0, 43, 158, 888, 0, 37, 0, 398, 598, 849, 896, 667, 846, 727, 0, 697, 0, 65, 883, 840, 70, 525, 58, 351, 0, 398, 842, 264, 891, 892, 169, 776, 841, 891, 150, 603, 477, 0, 477, 679, 894, 262, 21, 888, 555, 180, 346, 57, 230, 530, 261, 769, 499, 874, 862, 139, 637, 41, 885, 62, 793, 886, 460, 900, 63, 64, 737, 853, 696, 395, 0, 196, 0, 264, 734, 148, 35, 502, 367, 370, 0, 892, 0, 485, 0, 557, 464, 0, 547, 74, 752, 266, 431, 223, 375, 547, 750, 870, 256, 148, 190, 262, 641, 880, 239, 0, 868, 0, 176, 303, 0, 885, 784, 855, 0, 611, 106, 875, 512, 835, 686, 360, 149, 28, 426, 531, 155, 669, 0, 336, 30, 743, 891, 259, 14, 867, 810, 392, 834, 1, 507, 0, 703, 566, 748, 210, 366, 887, 0, 72, 884, 0, 31, 829, 834, 774, 0, 820, 41, 825, 202, 86, 810, 29, 794, 455, 0, 653, 40, 97, 175, 0, 845, 411, 553, 0, 52, 0, 883, 651, 377, 215, 667, 363, 319, 304, 0, 823, 882, 60, 345, 871, 882, 392, 0, 65, 755, 0, 0, 181, 113, 247, 127, 69, 30, 365, 0, 313, 277, 211, 807, 861, 0, 885, 694, 556, 571, 544, 724, 698, 120, 89, 799, 0, 61, 646, 458, 366, 847, 269, 643, 491, 399, 814, 572, 75, 0, 0, 0, 0, 32, 896, 28, 565, 874, 0, 691, 297, 267, 0, 859, 896, 56, 245, 0, 777, 0, 577, 282, 91, 307, 867, 835, 0, 406, 124, 181, 700, 146, 409, 854, 861, 331, 896, 857, 0, 869, 732, 903, 739, 400, 637, 545, 135, 852, 375, 460, 243, 498, 419, 0, 0, 130, 211, 115, 783, 248, 877, 419, 900, 1171, 463, 356, 251, 122, 716, 5, 608, 378, 103, 113, 0, 0, 0, 0, 237, 238, 867, 136, 82, 880, 743, 880, 893, 112, 580, 725, 0, 848, 273, 330, 843, 0, 870, 0, 0, 874, 489, 841, 567, 226, 902, 822, 88, 123, 0, 267, 713, 0, 252, 881, 0, 764, 111, 120, 118, 74, 666, 30, 124, 565, 109, 61, 0, 237, 167, 840, 528, 876, 0, 726, 874, 880, 0, 877, 85, 63, 267, 848, 833, 0, 254, 146, 0, 0, 897, 879, 62, 822, 61, 815, 0, 799, 64, 0, 290, 102, 0, 865, 753, 717, 63, 306, 60, 902, 0, 588, 0, 881, 238, 684, 275, 657, 429, 634, 882, 236, 61, 0, 398, 796, 469, 0, 718, 57, 870, 505, 329, 92, 143, 60, 0, 0, 715, 859, 348, 231, 535, 340, 0, 292, 211, 863, 481, 891, 5, 109, 72, 625, 450, 150, 7, 260, 526, 503, 0, 90, 0, 0, 344, 62, 852, 817, 873, 0, 641, 0, 145, 84, 125, 265, 839, 831, 178, 505, 392, 374, 884, 695, 281, 819, 571, 634, 779, 243, 0, 511, 840, 708, 858, 85, 516, 868, 571, 461, 304, 0, 0, 904, 356, 71, 33, 168, 427, 527, 866, 738, 869, 34, 490, 638, 246, 372, 876, 0, 26, 224, 217, 234, 413, 637, 0, 0, 324, 890, 298, 755, 643, 224, 870, 588, 799, 873, 583, 0, 235, 0, 0, 0, 64, 21, 334, 455, 30, 280, 93, 284, 388, 379, 720, 0, 577, 638, 890, 0, 270, 0, 882, 966, 246, 30, 27, 378, 642, 30, 888, 83, 147, 0, 32, 875, 190, 894, 0, 151, 881, 574, 315, 0, 13, 418, 27, 0, 0, 665, 84, 840, 636, 905, 861, 104, 418, 716, 7, 631, 367, 47, 88, 904, 716, 173, 306, 0, 873, 434, 517, 0, 0, 7, 0, 678, 252, 876, 0, 0, 7, 456, 583, 863, 0, 0, 432, 24, 0, 693, 851, 876, 215, 79, 783, 0, 793, 0, 404, 853, 786, 154, 447, 876, 873, 356, 92, 0, 0, 889, 129, 819, 247, 630, 522, 241, 609, 692, 294, 853, 423, 533, 122, 627, 755, 616, 87, 819, 371, 832, 0, 875, 66, 868, 0, 730, 63, 0, 709, 760, 873, 0, 527, 484, 0, 237, 269, 776, 0, 860, 0, 811, 32, 817, 889, 518, 795, 488, 35, 292, 684, 32, 371, 548, 57, 274, 444, 724, 46, 157, 121, 40, 574, 78, 763, 282, 748, 516, 660, 389, 551, 285, 91, 780, 0, 236, 889, 28, 212, 721, 836, 127, 486, 89, 0, 30, 867, 156, 0, 181, 0, 885, 760, 692, 48, 841, 0, 736, 0, 880, 852, 712, 897, 662, 806], \"xaxis\": \"x2\", \"yaxis\": \"y2\"}],\n",
       "                        {\"barmode\": \"relative\", \"legend\": {\"tracegroupgap\": 0}, \"margin\": {\"t\": 60}, \"template\": {\"data\": {\"bar\": [{\"error_x\": {\"color\": \"#2a3f5f\"}, \"error_y\": {\"color\": \"#2a3f5f\"}, \"marker\": {\"line\": {\"color\": \"#E5ECF6\", \"width\": 0.5}}, \"type\": \"bar\"}], \"barpolar\": [{\"marker\": {\"line\": {\"color\": \"#E5ECF6\", \"width\": 0.5}}, \"type\": \"barpolar\"}], \"carpet\": [{\"aaxis\": {\"endlinecolor\": \"#2a3f5f\", \"gridcolor\": \"white\", \"linecolor\": \"white\", \"minorgridcolor\": \"white\", \"startlinecolor\": \"#2a3f5f\"}, \"baxis\": {\"endlinecolor\": \"#2a3f5f\", \"gridcolor\": \"white\", \"linecolor\": \"white\", \"minorgridcolor\": \"white\", \"startlinecolor\": \"#2a3f5f\"}, \"type\": \"carpet\"}], \"choropleth\": [{\"colorbar\": {\"outlinewidth\": 0, \"ticks\": \"\"}, \"type\": \"choropleth\"}], \"contour\": [{\"colorbar\": {\"outlinewidth\": 0, \"ticks\": \"\"}, \"colorscale\": [[0.0, \"#0d0887\"], [0.1111111111111111, \"#46039f\"], [0.2222222222222222, \"#7201a8\"], [0.3333333333333333, \"#9c179e\"], [0.4444444444444444, \"#bd3786\"], [0.5555555555555556, \"#d8576b\"], [0.6666666666666666, \"#ed7953\"], [0.7777777777777778, \"#fb9f3a\"], [0.8888888888888888, \"#fdca26\"], [1.0, \"#f0f921\"]], \"type\": \"contour\"}], \"contourcarpet\": [{\"colorbar\": {\"outlinewidth\": 0, \"ticks\": \"\"}, \"type\": \"contourcarpet\"}], \"heatmap\": [{\"colorbar\": {\"outlinewidth\": 0, \"ticks\": \"\"}, \"colorscale\": [[0.0, \"#0d0887\"], [0.1111111111111111, \"#46039f\"], [0.2222222222222222, \"#7201a8\"], [0.3333333333333333, \"#9c179e\"], [0.4444444444444444, \"#bd3786\"], [0.5555555555555556, \"#d8576b\"], [0.6666666666666666, \"#ed7953\"], [0.7777777777777778, \"#fb9f3a\"], [0.8888888888888888, \"#fdca26\"], [1.0, \"#f0f921\"]], \"type\": \"heatmap\"}], \"heatmapgl\": [{\"colorbar\": {\"outlinewidth\": 0, \"ticks\": \"\"}, \"colorscale\": [[0.0, \"#0d0887\"], [0.1111111111111111, \"#46039f\"], [0.2222222222222222, \"#7201a8\"], [0.3333333333333333, \"#9c179e\"], [0.4444444444444444, \"#bd3786\"], [0.5555555555555556, \"#d8576b\"], [0.6666666666666666, \"#ed7953\"], [0.7777777777777778, \"#fb9f3a\"], [0.8888888888888888, \"#fdca26\"], [1.0, \"#f0f921\"]], \"type\": \"heatmapgl\"}], \"histogram\": [{\"marker\": {\"colorbar\": {\"outlinewidth\": 0, \"ticks\": \"\"}}, \"type\": \"histogram\"}], \"histogram2d\": [{\"colorbar\": {\"outlinewidth\": 0, \"ticks\": \"\"}, \"colorscale\": [[0.0, \"#0d0887\"], [0.1111111111111111, \"#46039f\"], [0.2222222222222222, \"#7201a8\"], [0.3333333333333333, \"#9c179e\"], [0.4444444444444444, \"#bd3786\"], [0.5555555555555556, \"#d8576b\"], [0.6666666666666666, \"#ed7953\"], [0.7777777777777778, \"#fb9f3a\"], [0.8888888888888888, \"#fdca26\"], [1.0, \"#f0f921\"]], \"type\": \"histogram2d\"}], \"histogram2dcontour\": [{\"colorbar\": {\"outlinewidth\": 0, \"ticks\": \"\"}, \"colorscale\": [[0.0, \"#0d0887\"], [0.1111111111111111, \"#46039f\"], [0.2222222222222222, \"#7201a8\"], [0.3333333333333333, \"#9c179e\"], [0.4444444444444444, \"#bd3786\"], [0.5555555555555556, \"#d8576b\"], [0.6666666666666666, \"#ed7953\"], [0.7777777777777778, \"#fb9f3a\"], [0.8888888888888888, \"#fdca26\"], [1.0, \"#f0f921\"]], \"type\": \"histogram2dcontour\"}], \"mesh3d\": [{\"colorbar\": {\"outlinewidth\": 0, \"ticks\": \"\"}, \"type\": \"mesh3d\"}], \"parcoords\": [{\"line\": {\"colorbar\": {\"outlinewidth\": 0, \"ticks\": \"\"}}, \"type\": \"parcoords\"}], \"pie\": [{\"automargin\": true, \"type\": \"pie\"}], \"scatter\": [{\"marker\": {\"colorbar\": {\"outlinewidth\": 0, \"ticks\": \"\"}}, \"type\": \"scatter\"}], \"scatter3d\": [{\"line\": {\"colorbar\": {\"outlinewidth\": 0, \"ticks\": \"\"}}, \"marker\": {\"colorbar\": {\"outlinewidth\": 0, \"ticks\": \"\"}}, \"type\": \"scatter3d\"}], \"scattercarpet\": [{\"marker\": {\"colorbar\": {\"outlinewidth\": 0, \"ticks\": \"\"}}, \"type\": \"scattercarpet\"}], \"scattergeo\": [{\"marker\": {\"colorbar\": {\"outlinewidth\": 0, \"ticks\": \"\"}}, \"type\": \"scattergeo\"}], \"scattergl\": [{\"marker\": {\"colorbar\": {\"outlinewidth\": 0, \"ticks\": \"\"}}, \"type\": \"scattergl\"}], \"scattermapbox\": [{\"marker\": {\"colorbar\": {\"outlinewidth\": 0, \"ticks\": \"\"}}, \"type\": \"scattermapbox\"}], \"scatterpolar\": [{\"marker\": {\"colorbar\": {\"outlinewidth\": 0, \"ticks\": \"\"}}, \"type\": \"scatterpolar\"}], \"scatterpolargl\": [{\"marker\": {\"colorbar\": {\"outlinewidth\": 0, \"ticks\": \"\"}}, \"type\": \"scatterpolargl\"}], \"scatterternary\": [{\"marker\": {\"colorbar\": {\"outlinewidth\": 0, \"ticks\": \"\"}}, \"type\": \"scatterternary\"}], \"surface\": [{\"colorbar\": {\"outlinewidth\": 0, \"ticks\": \"\"}, \"colorscale\": [[0.0, \"#0d0887\"], [0.1111111111111111, \"#46039f\"], [0.2222222222222222, \"#7201a8\"], [0.3333333333333333, \"#9c179e\"], [0.4444444444444444, \"#bd3786\"], [0.5555555555555556, \"#d8576b\"], [0.6666666666666666, \"#ed7953\"], [0.7777777777777778, \"#fb9f3a\"], [0.8888888888888888, \"#fdca26\"], [1.0, \"#f0f921\"]], \"type\": \"surface\"}], \"table\": [{\"cells\": {\"fill\": {\"color\": \"#EBF0F8\"}, \"line\": {\"color\": \"white\"}}, \"header\": {\"fill\": {\"color\": \"#C8D4E3\"}, \"line\": {\"color\": \"white\"}}, \"type\": \"table\"}]}, \"layout\": {\"annotationdefaults\": {\"arrowcolor\": \"#2a3f5f\", \"arrowhead\": 0, \"arrowwidth\": 1}, \"coloraxis\": {\"colorbar\": {\"outlinewidth\": 0, \"ticks\": \"\"}}, \"colorscale\": {\"diverging\": [[0, \"#8e0152\"], [0.1, \"#c51b7d\"], [0.2, \"#de77ae\"], [0.3, \"#f1b6da\"], [0.4, \"#fde0ef\"], [0.5, \"#f7f7f7\"], [0.6, \"#e6f5d0\"], [0.7, \"#b8e186\"], [0.8, \"#7fbc41\"], [0.9, \"#4d9221\"], [1, \"#276419\"]], \"sequential\": [[0.0, \"#0d0887\"], [0.1111111111111111, \"#46039f\"], [0.2222222222222222, \"#7201a8\"], [0.3333333333333333, \"#9c179e\"], [0.4444444444444444, \"#bd3786\"], [0.5555555555555556, \"#d8576b\"], [0.6666666666666666, \"#ed7953\"], [0.7777777777777778, \"#fb9f3a\"], [0.8888888888888888, \"#fdca26\"], [1.0, \"#f0f921\"]], \"sequentialminus\": [[0.0, \"#0d0887\"], [0.1111111111111111, \"#46039f\"], [0.2222222222222222, \"#7201a8\"], [0.3333333333333333, \"#9c179e\"], [0.4444444444444444, \"#bd3786\"], [0.5555555555555556, \"#d8576b\"], [0.6666666666666666, \"#ed7953\"], [0.7777777777777778, \"#fb9f3a\"], [0.8888888888888888, \"#fdca26\"], [1.0, \"#f0f921\"]]}, \"colorway\": [\"#636efa\", \"#EF553B\", \"#00cc96\", \"#ab63fa\", \"#FFA15A\", \"#19d3f3\", \"#FF6692\", \"#B6E880\", \"#FF97FF\", \"#FECB52\"], \"font\": {\"color\": \"#2a3f5f\"}, \"geo\": {\"bgcolor\": \"white\", \"lakecolor\": \"white\", \"landcolor\": \"#E5ECF6\", \"showlakes\": true, \"showland\": true, \"subunitcolor\": \"white\"}, \"hoverlabel\": {\"align\": \"left\"}, \"hovermode\": \"closest\", \"mapbox\": {\"style\": \"light\"}, \"paper_bgcolor\": \"white\", \"plot_bgcolor\": \"#E5ECF6\", \"polar\": {\"angularaxis\": {\"gridcolor\": \"white\", \"linecolor\": \"white\", \"ticks\": \"\"}, \"bgcolor\": \"#E5ECF6\", \"radialaxis\": {\"gridcolor\": \"white\", \"linecolor\": \"white\", \"ticks\": \"\"}}, \"scene\": {\"xaxis\": {\"backgroundcolor\": \"#E5ECF6\", \"gridcolor\": \"white\", \"gridwidth\": 2, \"linecolor\": \"white\", \"showbackground\": true, \"ticks\": \"\", \"zerolinecolor\": \"white\"}, \"yaxis\": {\"backgroundcolor\": \"#E5ECF6\", \"gridcolor\": \"white\", \"gridwidth\": 2, \"linecolor\": \"white\", \"showbackground\": true, \"ticks\": \"\", \"zerolinecolor\": \"white\"}, \"zaxis\": {\"backgroundcolor\": \"#E5ECF6\", \"gridcolor\": \"white\", \"gridwidth\": 2, \"linecolor\": \"white\", \"showbackground\": true, \"ticks\": \"\", \"zerolinecolor\": \"white\"}}, \"shapedefaults\": {\"line\": {\"color\": \"#2a3f5f\"}}, \"ternary\": {\"aaxis\": {\"gridcolor\": \"white\", \"linecolor\": \"white\", \"ticks\": \"\"}, \"baxis\": {\"gridcolor\": \"white\", \"linecolor\": \"white\", \"ticks\": \"\"}, \"bgcolor\": \"#E5ECF6\", \"caxis\": {\"gridcolor\": \"white\", \"linecolor\": \"white\", \"ticks\": \"\"}}, \"title\": {\"x\": 0.05}, \"xaxis\": {\"automargin\": true, \"gridcolor\": \"white\", \"linecolor\": \"white\", \"ticks\": \"\", \"title\": {\"standoff\": 15}, \"zerolinecolor\": \"white\", \"zerolinewidth\": 2}, \"yaxis\": {\"automargin\": true, \"gridcolor\": \"white\", \"linecolor\": \"white\", \"ticks\": \"\", \"title\": {\"standoff\": 15}, \"zerolinecolor\": \"white\", \"zerolinewidth\": 2}}}, \"title\": {\"text\": \"Distribution of the ellapced time since first treatment to last one\"}, \"xaxis\": {\"anchor\": \"y\", \"domain\": [0.0, 1.0], \"title\": {\"text\": \"Time(days)\"}}, \"xaxis2\": {\"anchor\": \"y2\", \"domain\": [0.0, 1.0], \"matches\": \"x\", \"showgrid\": true, \"showticklabels\": false}, \"yaxis\": {\"anchor\": \"x\", \"domain\": [0.0, 0.8316], \"title\": {\"text\": \"No. of patients\"}}, \"yaxis2\": {\"anchor\": \"x2\", \"domain\": [0.8416, 1.0], \"matches\": \"y2\", \"showgrid\": false, \"showline\": false, \"showticklabels\": false, \"ticks\": \"\"}},\n",
       "                        {\"responsive\": true}\n",
       "                    ).then(function(){\n",
       "                            \n",
       "var gd = document.getElementById('ae86a7fa-6883-465e-a503-1a59b13aadf7');\n",
       "var x = new MutationObserver(function (mutations, observer) {{\n",
       "        var display = window.getComputedStyle(gd).display;\n",
       "        if (!display || display === 'none') {{\n",
       "            console.log([gd, 'removed!']);\n",
       "            Plotly.purge(gd);\n",
       "            observer.disconnect();\n",
       "        }}\n",
       "}});\n",
       "\n",
       "// Listen for the removal of the full notebook cells\n",
       "var notebookContainer = gd.closest('#notebook-container');\n",
       "if (notebookContainer) {{\n",
       "    x.observe(notebookContainer, {childList: true});\n",
       "}}\n",
       "\n",
       "// Listen for the clearing of the current output cell\n",
       "var outputEl = gd.closest('.output');\n",
       "if (outputEl) {{\n",
       "    x.observe(outputEl, {childList: true});\n",
       "}}\n",
       "\n",
       "                        })\n",
       "                };\n",
       "                });\n",
       "            </script>\n",
       "        </div>"
      ]
     },
     "metadata": {},
     "output_type": "display_data"
    }
   ],
   "source": [
    "fig = px.histogram(data_frame=dftemp[(dftemp['Delta_Time']>=0) & (dftemp['Delta_Time'] < 1200)],\n",
    "             x = 'Delta_Time',\n",
    "             nbins = 50,\n",
    "             marginal = \"box\",\n",
    "            color_discrete_sequence=['#FF6E00'] # color of histogram bars\n",
    "                  )\n",
    "fig.update_layout(title_text = \"Distribution of the ellapced time since first treatment to last one\",\n",
    "                 xaxis_title = \"Time(days)\",\n",
    "                 yaxis_title = \"No. of patients\"\n",
    "                 )"
   ]
  },
  {
   "cell_type": "markdown",
   "metadata": {},
   "source": [
    "## Analysis\n",
    "What we are seen here is that the proportion (or probability) of patients that are in the proyect (ashma) are equal.  \n",
    "The probability that a patient has been in the study 1 day or 10 or 100 are the same.  \n",
    "The number of patients with more that 900 days in the study are only 110. "
   ]
  },
  {
   "cell_type": "markdown",
   "metadata": {},
   "source": [
    "We face the problem that we have not enought data to perform a tiem seires analysis, at least in the traditional sense."
   ]
  },
  {
   "cell_type": "markdown",
   "metadata": {},
   "source": [
    "# Analysis of the amount of treatment (medication) has been delivered by Omnivida by patient."
   ]
  },
  {
   "cell_type": "code",
   "execution_count": 168,
   "metadata": {},
   "outputs": [
    {
     "data": {
      "text/plain": [
       "Index(['Identificacion', 'Fecha_Dcto', 'Nombre_Producto_Mvto', 'Nom_Generico',\n",
       "       'Cantidad', 'Year', 'Month'],\n",
       "      dtype='object')"
      ]
     },
     "execution_count": 168,
     "metadata": {},
     "output_type": "execute_result"
    }
   ],
   "source": [
    "dataBiologicos.columns"
   ]
  },
  {
   "cell_type": "code",
   "execution_count": 169,
   "metadata": {},
   "outputs": [
    {
     "data": {
      "text/html": [
       "<div>\n",
       "<style scoped>\n",
       "    .dataframe tbody tr th:only-of-type {\n",
       "        vertical-align: middle;\n",
       "    }\n",
       "\n",
       "    .dataframe tbody tr th {\n",
       "        vertical-align: top;\n",
       "    }\n",
       "\n",
       "    .dataframe thead th {\n",
       "        text-align: right;\n",
       "    }\n",
       "</style>\n",
       "<table border=\"1\" class=\"dataframe\">\n",
       "  <thead>\n",
       "    <tr style=\"text-align: right;\">\n",
       "      <th></th>\n",
       "      <th>Cantidad_Total</th>\n",
       "      <th>Conteo_Evento</th>\n",
       "      <th>Delta_Time</th>\n",
       "    </tr>\n",
       "    <tr>\n",
       "      <th>Identificacion</th>\n",
       "      <th></th>\n",
       "      <th></th>\n",
       "      <th></th>\n",
       "    </tr>\n",
       "  </thead>\n",
       "  <tbody>\n",
       "    <tr>\n",
       "      <th>500547</th>\n",
       "      <td>2</td>\n",
       "      <td>1</td>\n",
       "      <td>0</td>\n",
       "    </tr>\n",
       "    <tr>\n",
       "      <th>500588</th>\n",
       "      <td>72</td>\n",
       "      <td>28</td>\n",
       "      <td>681</td>\n",
       "    </tr>\n",
       "    <tr>\n",
       "      <th>502989</th>\n",
       "      <td>42</td>\n",
       "      <td>23</td>\n",
       "      <td>818</td>\n",
       "    </tr>\n",
       "    <tr>\n",
       "      <th>506808</th>\n",
       "      <td>12</td>\n",
       "      <td>9</td>\n",
       "      <td>211</td>\n",
       "    </tr>\n",
       "    <tr>\n",
       "      <th>512938</th>\n",
       "      <td>80</td>\n",
       "      <td>20</td>\n",
       "      <td>882</td>\n",
       "    </tr>\n",
       "  </tbody>\n",
       "</table>\n",
       "</div>"
      ],
      "text/plain": [
       "                Cantidad_Total  Conteo_Evento  Delta_Time\n",
       "Identificacion                                           \n",
       "500547                       2              1           0\n",
       "500588                      72             28         681\n",
       "502989                      42             23         818\n",
       "506808                      12              9         211\n",
       "512938                      80             20         882"
      ]
     },
     "execution_count": 169,
     "metadata": {},
     "output_type": "execute_result"
    }
   ],
   "source": [
    "#dftemp = dataBiologicos.groupby('Identificacion').agg({'Cantidad':sum, 'Month':'count'})\n",
    "dftemp = dataBiologicos.groupby('Identificacion').agg(\n",
    "    Cantidad_Total=pd.NamedAgg(column='Cantidad', aggfunc=sum),\n",
    "    Conteo_Evento=pd.NamedAgg(column='Cantidad', aggfunc='count'),\n",
    "    Delta_Time=pd.NamedAgg(\n",
    "        column=\"Fecha_Dcto\", \n",
    "        aggfunc=lambda x: (max(x) - min(x)).days)    \n",
    ")\n",
    "dftemp.head()\n",
    "#px.bar(data_frame=dftemp, x = Delta_Time)"
   ]
  },
  {
   "cell_type": "markdown",
   "metadata": {},
   "source": [
    "## Figure"
   ]
  },
  {
   "cell_type": "code",
   "execution_count": 170,
   "metadata": {},
   "outputs": [
    {
     "data": {
      "application/vnd.plotly.v1+json": {
       "config": {
        "plotlyServerURL": "https://plot.ly"
       },
       "data": [
        {
         "hovertemplate": "Delta_Time=%{x}<br>Cantidad_Total=%{y}<extra></extra>",
         "legendgroup": "",
         "marker": {
          "color": "#636efa",
          "symbol": "circle"
         },
         "mode": "markers",
         "name": "",
         "showlegend": false,
         "type": "scatter",
         "x": [
          0,
          681,
          818,
          211,
          882,
          871,
          867,
          0,
          342,
          40,
          85,
          66,
          498,
          318,
          62,
          44,
          867,
          30,
          876,
          804,
          892,
          751,
          61,
          380,
          121,
          858,
          0,
          62,
          0,
          677,
          241,
          0,
          239,
          318,
          720,
          0,
          0,
          29,
          135,
          357,
          648,
          62,
          401,
          0,
          7,
          61,
          586,
          69,
          0,
          245,
          788,
          0,
          0,
          542,
          741,
          817,
          0,
          0,
          422,
          58,
          554,
          262,
          0,
          0,
          712,
          860,
          69,
          698,
          180,
          200,
          0,
          414,
          58,
          0,
          539,
          0,
          869,
          79,
          0,
          43,
          158,
          888,
          0,
          37,
          0,
          398,
          598,
          849,
          896,
          667,
          846,
          727,
          0,
          697,
          0,
          65,
          883,
          840,
          70,
          525,
          58,
          351,
          0,
          398,
          842,
          264,
          891,
          892,
          169,
          776,
          841,
          891,
          150,
          603,
          477,
          0,
          477,
          679,
          894,
          262,
          21,
          888,
          555,
          180,
          346,
          57,
          230,
          530,
          261,
          769,
          499,
          874,
          862,
          139,
          637,
          41,
          885,
          62,
          793,
          886,
          460,
          900,
          63,
          64,
          737,
          853,
          696,
          395,
          0,
          196,
          0,
          264,
          734,
          148,
          35,
          502,
          367,
          370,
          0,
          892,
          0,
          485,
          0,
          557,
          464,
          0,
          547,
          74,
          752,
          266,
          431,
          223,
          375,
          547,
          750,
          870,
          256,
          148,
          190,
          262,
          641,
          880,
          239,
          0,
          868,
          0,
          176,
          303,
          0,
          885,
          784,
          855,
          0,
          611,
          106,
          875,
          512,
          835,
          686,
          360,
          149,
          28,
          426,
          531,
          155,
          669,
          0,
          336,
          30,
          743,
          891,
          259,
          14,
          867,
          810,
          392,
          834,
          1,
          507,
          0,
          703,
          566,
          748,
          210,
          366,
          887,
          0,
          72,
          884,
          0,
          31,
          829,
          834,
          774,
          0,
          820,
          41,
          825,
          202,
          86,
          810,
          29,
          794,
          455,
          0,
          653,
          40,
          97,
          175,
          0,
          845,
          411,
          553,
          0,
          52,
          0,
          883,
          651,
          377,
          215,
          667,
          363,
          319,
          304,
          0,
          823,
          882,
          60,
          345,
          871,
          882,
          392,
          0,
          65,
          755,
          0,
          0,
          181,
          113,
          247,
          127,
          69,
          30,
          365,
          0,
          313,
          277,
          211,
          807,
          861,
          0,
          885,
          694,
          556,
          571,
          544,
          724,
          698,
          120,
          89,
          799,
          0,
          61,
          646,
          458,
          366,
          847,
          269,
          643,
          491,
          399,
          814,
          572,
          75,
          0,
          0,
          0,
          0,
          32,
          896,
          28,
          565,
          874,
          0,
          691,
          297,
          267,
          0,
          859,
          896,
          56,
          245,
          0,
          777,
          0,
          577,
          282,
          91,
          307,
          867,
          835,
          0,
          406,
          124,
          181,
          700,
          146,
          409,
          854,
          861,
          331,
          896,
          857,
          0,
          869,
          732,
          903,
          739,
          400,
          637,
          545,
          135,
          852,
          375,
          460,
          243,
          498,
          419,
          0,
          0,
          130,
          211,
          115,
          783,
          248,
          877,
          419,
          900,
          1171,
          463,
          356,
          251,
          122,
          716,
          5,
          608,
          378,
          103,
          113,
          0,
          0,
          0,
          0,
          237,
          238,
          867,
          136,
          82,
          880,
          743,
          880,
          893,
          112,
          580,
          725,
          0,
          848,
          273,
          330,
          843,
          0,
          870,
          0,
          0,
          874,
          489,
          841,
          567,
          226,
          902,
          822,
          88,
          123,
          0,
          267,
          713,
          0,
          252,
          881,
          0,
          764,
          111,
          120,
          118,
          74,
          666,
          30,
          124,
          565,
          109,
          61,
          0,
          237,
          167,
          840,
          528,
          876,
          0,
          726,
          874,
          880,
          0,
          877,
          85,
          63,
          267,
          848,
          833,
          0,
          254,
          146,
          0,
          0,
          897,
          879,
          62,
          822,
          61,
          815,
          0,
          799,
          64,
          0,
          290,
          102,
          0,
          865,
          753,
          717,
          63,
          306,
          60,
          902,
          0,
          588,
          0,
          881,
          238,
          684,
          275,
          657,
          429,
          634,
          882,
          236,
          61,
          0,
          398,
          796,
          469,
          0,
          718,
          57,
          870,
          505,
          329,
          92,
          143,
          60,
          0,
          0,
          715,
          859,
          348,
          231,
          535,
          340,
          0,
          292,
          211,
          863,
          481,
          891,
          5,
          109,
          72,
          625,
          450,
          150,
          7,
          260,
          526,
          503,
          0,
          90,
          0,
          0,
          344,
          62,
          852,
          817,
          873,
          0,
          641,
          0,
          145,
          84,
          125,
          265,
          839,
          831,
          178,
          505,
          392,
          374,
          884,
          695,
          281,
          819,
          571,
          634,
          779,
          243,
          0,
          511,
          840,
          708,
          858,
          85,
          516,
          868,
          571,
          461,
          304,
          0,
          0,
          904,
          356,
          71,
          33,
          168,
          427,
          527,
          866,
          738,
          869,
          34,
          490,
          638,
          246,
          372,
          876,
          0,
          26,
          224,
          217,
          234,
          413,
          637,
          0,
          0,
          324,
          890,
          298,
          755,
          643,
          224,
          870,
          588,
          799,
          873,
          583,
          0,
          235,
          0,
          0,
          0,
          64,
          21,
          334,
          455,
          30,
          280,
          93,
          284,
          388,
          379,
          720,
          0,
          577,
          638,
          890,
          0,
          270,
          0,
          882,
          966,
          246,
          30,
          27,
          378,
          642,
          30,
          888,
          83,
          147,
          0,
          32,
          875,
          190,
          894,
          0,
          151,
          881,
          574,
          315,
          0,
          13,
          418,
          27,
          0,
          0,
          665,
          84,
          840,
          636,
          905,
          861,
          104,
          418,
          716,
          7,
          631,
          367,
          47,
          88,
          904,
          716,
          173,
          306,
          0,
          873,
          434,
          517,
          0,
          0,
          7,
          0,
          678,
          252,
          876,
          0,
          0,
          7,
          456,
          583,
          863,
          0,
          0,
          432,
          24,
          0,
          693,
          851,
          876,
          215,
          79,
          783,
          0,
          793,
          0,
          404,
          853,
          786,
          154,
          447,
          876,
          873,
          356,
          92,
          0,
          0,
          889,
          129,
          819,
          247,
          630,
          522,
          241,
          609,
          692,
          294,
          853,
          423,
          533,
          122,
          627,
          755,
          616,
          87,
          819,
          371,
          832,
          0,
          875,
          66,
          868,
          0,
          730,
          63,
          0,
          709,
          760,
          873,
          0,
          527,
          484,
          0,
          237,
          269,
          776,
          0,
          860,
          0,
          811,
          32,
          817,
          889,
          518,
          795,
          488,
          35,
          292,
          684,
          32,
          371,
          548,
          57,
          274,
          444,
          724,
          46,
          157,
          121,
          40,
          574,
          78,
          763,
          282,
          748,
          516,
          660,
          389,
          551,
          285,
          91,
          780,
          0,
          236,
          889,
          28,
          212,
          721,
          836,
          127,
          486,
          89,
          0,
          30,
          867,
          156,
          0,
          181,
          0,
          885,
          760,
          692,
          48,
          841,
          0,
          736,
          0,
          880,
          852,
          712,
          897,
          662,
          806
         ],
         "xaxis": "x",
         "y": [
          2,
          72,
          42,
          12,
          80,
          100,
          58,
          1,
          30,
          2,
          8,
          9,
          16,
          27,
          6,
          4,
          130,
          6,
          88,
          60,
          159,
          41,
          4,
          18,
          18,
          63,
          4,
          6,
          2,
          46,
          6,
          2,
          3,
          30,
          16,
          2,
          2,
          4,
          33,
          15,
          108,
          6,
          7,
          2,
          4,
          4,
          60,
          3,
          1,
          7,
          18,
          2,
          1,
          84,
          3,
          22,
          2,
          2,
          30,
          2,
          94,
          6,
          2,
          2,
          23,
          79,
          3,
          42,
          5,
          10,
          0,
          44,
          6,
          2,
          30,
          0,
          8,
          6,
          1,
          2,
          33,
          27,
          2,
          2,
          2,
          52,
          18,
          104,
          94,
          35,
          46,
          150,
          2,
          84,
          2,
          4,
          58,
          42,
          6,
          6,
          2,
          36,
          2,
          19,
          73,
          12,
          20,
          116,
          5,
          64,
          38,
          79,
          18,
          17,
          32,
          2,
          49,
          60,
          101,
          40,
          8,
          58,
          8,
          24,
          22,
          6,
          21,
          66,
          6,
          20,
          21,
          137,
          164,
          8,
          68,
          5,
          144,
          7,
          26,
          135,
          15,
          61,
          3,
          3,
          6,
          77,
          35,
          2,
          2,
          5,
          2,
          12,
          75,
          2,
          4,
          42,
          8,
          8,
          1,
          103,
          2,
          14,
          2,
          104,
          10,
          1,
          62,
          4,
          47,
          18,
          8,
          64,
          4,
          34,
          64,
          71,
          9,
          13,
          12,
          10,
          56,
          110,
          36,
          2,
          73,
          3,
          40,
          30,
          4,
          68,
          56,
          120,
          2,
          2,
          8,
          69,
          46,
          50,
          49,
          12,
          12,
          6,
          45,
          46,
          33,
          92,
          2,
          24,
          4,
          12,
          98,
          14,
          3,
          64,
          192,
          28,
          27,
          3,
          16,
          2,
          110,
          16,
          51,
          57,
          31,
          115,
          2,
          8,
          42,
          4,
          4,
          36,
          28,
          10,
          2,
          32,
          8,
          144,
          21,
          4,
          118,
          4,
          63,
          18,
          2,
          4,
          2,
          8,
          16,
          2,
          50,
          114,
          49,
          2,
          2,
          2,
          137,
          4,
          18,
          16,
          46,
          64,
          7,
          15,
          3,
          48,
          110,
          2,
          36,
          180,
          175,
          56,
          2,
          4,
          7,
          2,
          2,
          15,
          10,
          9,
          8,
          3,
          4,
          8,
          1,
          22,
          16,
          6,
          78,
          52,
          2,
          109,
          23,
          34,
          4,
          49,
          4,
          6,
          12,
          3,
          43,
          3,
          3,
          60,
          11,
          28,
          21,
          24,
          48,
          26,
          11,
          82,
          68,
          8,
          2,
          2,
          2,
          2,
          6,
          240,
          8,
          32,
          54,
          2,
          6,
          55,
          10,
          2,
          97,
          118,
          16,
          28,
          2,
          66,
          4,
          12,
          17,
          8,
          20,
          30,
          53,
          2,
          52,
          33,
          24,
          23,
          6,
          96,
          50,
          14,
          40,
          78,
          69,
          2,
          50,
          72,
          159,
          5,
          14,
          57,
          10,
          7,
          94,
          18,
          32,
          28,
          60,
          24,
          2,
          2,
          22,
          24,
          3,
          14,
          6,
          92,
          13,
          256,
          128,
          42,
          6,
          60,
          8,
          41,
          2,
          19,
          27,
          3,
          5,
          2,
          2,
          1,
          0,
          26,
          12,
          168,
          8,
          6,
          140,
          7,
          32,
          90,
          3,
          7,
          80,
          2,
          123,
          10,
          22,
          138,
          2,
          44,
          1,
          2,
          54,
          16,
          52,
          24,
          16,
          88,
          153,
          4,
          4,
          2,
          28,
          42,
          2,
          10,
          81,
          2,
          100,
          6,
          4,
          4,
          9,
          35,
          4,
          18,
          96,
          10,
          6,
          2,
          44,
          28,
          47,
          18,
          35,
          0,
          2,
          58,
          17,
          2,
          110,
          16,
          3,
          4,
          107,
          49,
          4,
          21,
          24,
          2,
          2,
          94,
          65,
          5,
          18,
          4,
          28,
          2,
          17,
          4,
          2,
          12,
          8,
          2,
          24,
          41,
          184,
          6,
          22,
          6,
          48,
          1,
          152,
          2,
          53,
          33,
          27,
          44,
          80,
          29,
          6,
          20,
          15,
          6,
          2,
          4,
          158,
          32,
          2,
          4,
          8,
          169,
          26,
          14,
          4,
          7,
          6,
          2,
          2,
          90,
          147,
          10,
          12,
          12,
          5,
          2,
          11,
          8,
          60,
          84,
          174,
          8,
          2,
          18,
          44,
          24,
          7,
          4,
          18,
          105,
          39,
          2,
          4,
          1,
          2,
          32,
          2,
          79,
          56,
          70,
          2,
          60,
          2,
          4,
          6,
          4,
          32,
          17,
          56,
          12,
          15,
          8,
          22,
          202,
          24,
          14,
          157,
          117,
          33,
          28,
          24,
          4,
          48,
          25,
          59,
          38,
          6,
          17,
          14,
          44,
          60,
          7,
          2,
          1,
          9,
          42,
          6,
          2,
          14,
          48,
          11,
          55,
          30,
          58,
          4,
          28,
          17,
          16,
          12,
          48,
          2,
          9,
          49,
          28,
          11,
          14,
          54,
          2,
          2,
          9,
          172,
          10,
          47,
          31,
          22,
          86,
          15,
          25,
          78,
          38,
          2,
          9,
          2,
          2,
          2,
          3,
          4,
          75,
          26,
          8,
          8,
          8,
          28,
          9,
          22,
          10,
          2,
          36,
          48,
          99,
          2,
          12,
          2,
          189,
          155,
          10,
          4,
          4,
          8,
          50,
          4,
          86,
          3,
          11,
          3,
          4,
          27,
          24,
          200,
          1,
          6,
          28,
          14,
          6,
          2,
          6,
          26,
          4,
          2,
          1,
          18,
          8,
          54,
          34,
          79,
          23,
          4,
          104,
          94,
          4,
          38,
          20,
          4,
          6,
          29,
          131,
          12,
          7,
          1,
          81,
          82,
          30,
          2,
          2,
          4,
          2,
          38,
          6,
          84,
          1,
          2,
          2,
          73,
          22,
          55,
          2,
          6,
          20,
          2,
          2,
          53,
          144,
          168,
          10,
          6,
          47,
          2,
          66,
          2,
          22,
          100,
          23,
          14,
          24,
          70,
          104,
          48,
          4,
          2,
          2,
          46,
          6,
          24,
          6,
          38,
          16,
          6,
          14,
          76,
          23,
          46,
          14,
          12,
          10,
          30,
          5,
          80,
          6,
          75,
          24,
          39,
          1,
          45,
          4,
          54,
          2,
          19,
          2,
          1,
          192,
          16,
          18,
          2,
          18,
          22,
          2,
          6,
          76,
          32,
          2,
          28,
          2,
          28,
          4,
          31,
          55,
          8,
          75,
          66,
          4,
          6,
          70,
          6,
          28,
          108,
          6,
          40,
          58,
          19,
          6,
          4,
          3,
          5,
          8,
          4,
          67,
          64,
          144,
          11,
          51,
          24,
          44,
          7,
          8,
          91,
          2,
          4,
          66,
          4,
          24,
          18,
          176,
          5,
          16,
          6,
          2,
          4,
          94,
          4,
          2,
          5,
          1,
          112,
          29,
          129,
          2,
          80,
          2,
          6,
          1,
          60,
          52,
          38,
          159,
          19,
          42
         ],
         "yaxis": "y"
        },
        {
         "alignmentgroup": "True",
         "bingroup": "x",
         "hovertemplate": "Delta_Time=%{x}<br>count=%{y}<extra></extra>",
         "legendgroup": "",
         "marker": {
          "color": "#636efa"
         },
         "name": "",
         "offsetgroup": "",
         "opacity": 0.5,
         "showlegend": false,
         "type": "histogram",
         "x": [
          0,
          681,
          818,
          211,
          882,
          871,
          867,
          0,
          342,
          40,
          85,
          66,
          498,
          318,
          62,
          44,
          867,
          30,
          876,
          804,
          892,
          751,
          61,
          380,
          121,
          858,
          0,
          62,
          0,
          677,
          241,
          0,
          239,
          318,
          720,
          0,
          0,
          29,
          135,
          357,
          648,
          62,
          401,
          0,
          7,
          61,
          586,
          69,
          0,
          245,
          788,
          0,
          0,
          542,
          741,
          817,
          0,
          0,
          422,
          58,
          554,
          262,
          0,
          0,
          712,
          860,
          69,
          698,
          180,
          200,
          0,
          414,
          58,
          0,
          539,
          0,
          869,
          79,
          0,
          43,
          158,
          888,
          0,
          37,
          0,
          398,
          598,
          849,
          896,
          667,
          846,
          727,
          0,
          697,
          0,
          65,
          883,
          840,
          70,
          525,
          58,
          351,
          0,
          398,
          842,
          264,
          891,
          892,
          169,
          776,
          841,
          891,
          150,
          603,
          477,
          0,
          477,
          679,
          894,
          262,
          21,
          888,
          555,
          180,
          346,
          57,
          230,
          530,
          261,
          769,
          499,
          874,
          862,
          139,
          637,
          41,
          885,
          62,
          793,
          886,
          460,
          900,
          63,
          64,
          737,
          853,
          696,
          395,
          0,
          196,
          0,
          264,
          734,
          148,
          35,
          502,
          367,
          370,
          0,
          892,
          0,
          485,
          0,
          557,
          464,
          0,
          547,
          74,
          752,
          266,
          431,
          223,
          375,
          547,
          750,
          870,
          256,
          148,
          190,
          262,
          641,
          880,
          239,
          0,
          868,
          0,
          176,
          303,
          0,
          885,
          784,
          855,
          0,
          611,
          106,
          875,
          512,
          835,
          686,
          360,
          149,
          28,
          426,
          531,
          155,
          669,
          0,
          336,
          30,
          743,
          891,
          259,
          14,
          867,
          810,
          392,
          834,
          1,
          507,
          0,
          703,
          566,
          748,
          210,
          366,
          887,
          0,
          72,
          884,
          0,
          31,
          829,
          834,
          774,
          0,
          820,
          41,
          825,
          202,
          86,
          810,
          29,
          794,
          455,
          0,
          653,
          40,
          97,
          175,
          0,
          845,
          411,
          553,
          0,
          52,
          0,
          883,
          651,
          377,
          215,
          667,
          363,
          319,
          304,
          0,
          823,
          882,
          60,
          345,
          871,
          882,
          392,
          0,
          65,
          755,
          0,
          0,
          181,
          113,
          247,
          127,
          69,
          30,
          365,
          0,
          313,
          277,
          211,
          807,
          861,
          0,
          885,
          694,
          556,
          571,
          544,
          724,
          698,
          120,
          89,
          799,
          0,
          61,
          646,
          458,
          366,
          847,
          269,
          643,
          491,
          399,
          814,
          572,
          75,
          0,
          0,
          0,
          0,
          32,
          896,
          28,
          565,
          874,
          0,
          691,
          297,
          267,
          0,
          859,
          896,
          56,
          245,
          0,
          777,
          0,
          577,
          282,
          91,
          307,
          867,
          835,
          0,
          406,
          124,
          181,
          700,
          146,
          409,
          854,
          861,
          331,
          896,
          857,
          0,
          869,
          732,
          903,
          739,
          400,
          637,
          545,
          135,
          852,
          375,
          460,
          243,
          498,
          419,
          0,
          0,
          130,
          211,
          115,
          783,
          248,
          877,
          419,
          900,
          1171,
          463,
          356,
          251,
          122,
          716,
          5,
          608,
          378,
          103,
          113,
          0,
          0,
          0,
          0,
          237,
          238,
          867,
          136,
          82,
          880,
          743,
          880,
          893,
          112,
          580,
          725,
          0,
          848,
          273,
          330,
          843,
          0,
          870,
          0,
          0,
          874,
          489,
          841,
          567,
          226,
          902,
          822,
          88,
          123,
          0,
          267,
          713,
          0,
          252,
          881,
          0,
          764,
          111,
          120,
          118,
          74,
          666,
          30,
          124,
          565,
          109,
          61,
          0,
          237,
          167,
          840,
          528,
          876,
          0,
          726,
          874,
          880,
          0,
          877,
          85,
          63,
          267,
          848,
          833,
          0,
          254,
          146,
          0,
          0,
          897,
          879,
          62,
          822,
          61,
          815,
          0,
          799,
          64,
          0,
          290,
          102,
          0,
          865,
          753,
          717,
          63,
          306,
          60,
          902,
          0,
          588,
          0,
          881,
          238,
          684,
          275,
          657,
          429,
          634,
          882,
          236,
          61,
          0,
          398,
          796,
          469,
          0,
          718,
          57,
          870,
          505,
          329,
          92,
          143,
          60,
          0,
          0,
          715,
          859,
          348,
          231,
          535,
          340,
          0,
          292,
          211,
          863,
          481,
          891,
          5,
          109,
          72,
          625,
          450,
          150,
          7,
          260,
          526,
          503,
          0,
          90,
          0,
          0,
          344,
          62,
          852,
          817,
          873,
          0,
          641,
          0,
          145,
          84,
          125,
          265,
          839,
          831,
          178,
          505,
          392,
          374,
          884,
          695,
          281,
          819,
          571,
          634,
          779,
          243,
          0,
          511,
          840,
          708,
          858,
          85,
          516,
          868,
          571,
          461,
          304,
          0,
          0,
          904,
          356,
          71,
          33,
          168,
          427,
          527,
          866,
          738,
          869,
          34,
          490,
          638,
          246,
          372,
          876,
          0,
          26,
          224,
          217,
          234,
          413,
          637,
          0,
          0,
          324,
          890,
          298,
          755,
          643,
          224,
          870,
          588,
          799,
          873,
          583,
          0,
          235,
          0,
          0,
          0,
          64,
          21,
          334,
          455,
          30,
          280,
          93,
          284,
          388,
          379,
          720,
          0,
          577,
          638,
          890,
          0,
          270,
          0,
          882,
          966,
          246,
          30,
          27,
          378,
          642,
          30,
          888,
          83,
          147,
          0,
          32,
          875,
          190,
          894,
          0,
          151,
          881,
          574,
          315,
          0,
          13,
          418,
          27,
          0,
          0,
          665,
          84,
          840,
          636,
          905,
          861,
          104,
          418,
          716,
          7,
          631,
          367,
          47,
          88,
          904,
          716,
          173,
          306,
          0,
          873,
          434,
          517,
          0,
          0,
          7,
          0,
          678,
          252,
          876,
          0,
          0,
          7,
          456,
          583,
          863,
          0,
          0,
          432,
          24,
          0,
          693,
          851,
          876,
          215,
          79,
          783,
          0,
          793,
          0,
          404,
          853,
          786,
          154,
          447,
          876,
          873,
          356,
          92,
          0,
          0,
          889,
          129,
          819,
          247,
          630,
          522,
          241,
          609,
          692,
          294,
          853,
          423,
          533,
          122,
          627,
          755,
          616,
          87,
          819,
          371,
          832,
          0,
          875,
          66,
          868,
          0,
          730,
          63,
          0,
          709,
          760,
          873,
          0,
          527,
          484,
          0,
          237,
          269,
          776,
          0,
          860,
          0,
          811,
          32,
          817,
          889,
          518,
          795,
          488,
          35,
          292,
          684,
          32,
          371,
          548,
          57,
          274,
          444,
          724,
          46,
          157,
          121,
          40,
          574,
          78,
          763,
          282,
          748,
          516,
          660,
          389,
          551,
          285,
          91,
          780,
          0,
          236,
          889,
          28,
          212,
          721,
          836,
          127,
          486,
          89,
          0,
          30,
          867,
          156,
          0,
          181,
          0,
          885,
          760,
          692,
          48,
          841,
          0,
          736,
          0,
          880,
          852,
          712,
          897,
          662,
          806
         ],
         "xaxis": "x3",
         "yaxis": "y3"
        },
        {
         "alignmentgroup": "True",
         "bingroup": "y",
         "hovertemplate": "Cantidad_Total=%{y}<br>count=%{x}<extra></extra>",
         "legendgroup": "",
         "marker": {
          "color": "#636efa"
         },
         "name": "",
         "offsetgroup": "",
         "opacity": 0.5,
         "showlegend": false,
         "type": "histogram",
         "xaxis": "x2",
         "y": [
          2,
          72,
          42,
          12,
          80,
          100,
          58,
          1,
          30,
          2,
          8,
          9,
          16,
          27,
          6,
          4,
          130,
          6,
          88,
          60,
          159,
          41,
          4,
          18,
          18,
          63,
          4,
          6,
          2,
          46,
          6,
          2,
          3,
          30,
          16,
          2,
          2,
          4,
          33,
          15,
          108,
          6,
          7,
          2,
          4,
          4,
          60,
          3,
          1,
          7,
          18,
          2,
          1,
          84,
          3,
          22,
          2,
          2,
          30,
          2,
          94,
          6,
          2,
          2,
          23,
          79,
          3,
          42,
          5,
          10,
          0,
          44,
          6,
          2,
          30,
          0,
          8,
          6,
          1,
          2,
          33,
          27,
          2,
          2,
          2,
          52,
          18,
          104,
          94,
          35,
          46,
          150,
          2,
          84,
          2,
          4,
          58,
          42,
          6,
          6,
          2,
          36,
          2,
          19,
          73,
          12,
          20,
          116,
          5,
          64,
          38,
          79,
          18,
          17,
          32,
          2,
          49,
          60,
          101,
          40,
          8,
          58,
          8,
          24,
          22,
          6,
          21,
          66,
          6,
          20,
          21,
          137,
          164,
          8,
          68,
          5,
          144,
          7,
          26,
          135,
          15,
          61,
          3,
          3,
          6,
          77,
          35,
          2,
          2,
          5,
          2,
          12,
          75,
          2,
          4,
          42,
          8,
          8,
          1,
          103,
          2,
          14,
          2,
          104,
          10,
          1,
          62,
          4,
          47,
          18,
          8,
          64,
          4,
          34,
          64,
          71,
          9,
          13,
          12,
          10,
          56,
          110,
          36,
          2,
          73,
          3,
          40,
          30,
          4,
          68,
          56,
          120,
          2,
          2,
          8,
          69,
          46,
          50,
          49,
          12,
          12,
          6,
          45,
          46,
          33,
          92,
          2,
          24,
          4,
          12,
          98,
          14,
          3,
          64,
          192,
          28,
          27,
          3,
          16,
          2,
          110,
          16,
          51,
          57,
          31,
          115,
          2,
          8,
          42,
          4,
          4,
          36,
          28,
          10,
          2,
          32,
          8,
          144,
          21,
          4,
          118,
          4,
          63,
          18,
          2,
          4,
          2,
          8,
          16,
          2,
          50,
          114,
          49,
          2,
          2,
          2,
          137,
          4,
          18,
          16,
          46,
          64,
          7,
          15,
          3,
          48,
          110,
          2,
          36,
          180,
          175,
          56,
          2,
          4,
          7,
          2,
          2,
          15,
          10,
          9,
          8,
          3,
          4,
          8,
          1,
          22,
          16,
          6,
          78,
          52,
          2,
          109,
          23,
          34,
          4,
          49,
          4,
          6,
          12,
          3,
          43,
          3,
          3,
          60,
          11,
          28,
          21,
          24,
          48,
          26,
          11,
          82,
          68,
          8,
          2,
          2,
          2,
          2,
          6,
          240,
          8,
          32,
          54,
          2,
          6,
          55,
          10,
          2,
          97,
          118,
          16,
          28,
          2,
          66,
          4,
          12,
          17,
          8,
          20,
          30,
          53,
          2,
          52,
          33,
          24,
          23,
          6,
          96,
          50,
          14,
          40,
          78,
          69,
          2,
          50,
          72,
          159,
          5,
          14,
          57,
          10,
          7,
          94,
          18,
          32,
          28,
          60,
          24,
          2,
          2,
          22,
          24,
          3,
          14,
          6,
          92,
          13,
          256,
          128,
          42,
          6,
          60,
          8,
          41,
          2,
          19,
          27,
          3,
          5,
          2,
          2,
          1,
          0,
          26,
          12,
          168,
          8,
          6,
          140,
          7,
          32,
          90,
          3,
          7,
          80,
          2,
          123,
          10,
          22,
          138,
          2,
          44,
          1,
          2,
          54,
          16,
          52,
          24,
          16,
          88,
          153,
          4,
          4,
          2,
          28,
          42,
          2,
          10,
          81,
          2,
          100,
          6,
          4,
          4,
          9,
          35,
          4,
          18,
          96,
          10,
          6,
          2,
          44,
          28,
          47,
          18,
          35,
          0,
          2,
          58,
          17,
          2,
          110,
          16,
          3,
          4,
          107,
          49,
          4,
          21,
          24,
          2,
          2,
          94,
          65,
          5,
          18,
          4,
          28,
          2,
          17,
          4,
          2,
          12,
          8,
          2,
          24,
          41,
          184,
          6,
          22,
          6,
          48,
          1,
          152,
          2,
          53,
          33,
          27,
          44,
          80,
          29,
          6,
          20,
          15,
          6,
          2,
          4,
          158,
          32,
          2,
          4,
          8,
          169,
          26,
          14,
          4,
          7,
          6,
          2,
          2,
          90,
          147,
          10,
          12,
          12,
          5,
          2,
          11,
          8,
          60,
          84,
          174,
          8,
          2,
          18,
          44,
          24,
          7,
          4,
          18,
          105,
          39,
          2,
          4,
          1,
          2,
          32,
          2,
          79,
          56,
          70,
          2,
          60,
          2,
          4,
          6,
          4,
          32,
          17,
          56,
          12,
          15,
          8,
          22,
          202,
          24,
          14,
          157,
          117,
          33,
          28,
          24,
          4,
          48,
          25,
          59,
          38,
          6,
          17,
          14,
          44,
          60,
          7,
          2,
          1,
          9,
          42,
          6,
          2,
          14,
          48,
          11,
          55,
          30,
          58,
          4,
          28,
          17,
          16,
          12,
          48,
          2,
          9,
          49,
          28,
          11,
          14,
          54,
          2,
          2,
          9,
          172,
          10,
          47,
          31,
          22,
          86,
          15,
          25,
          78,
          38,
          2,
          9,
          2,
          2,
          2,
          3,
          4,
          75,
          26,
          8,
          8,
          8,
          28,
          9,
          22,
          10,
          2,
          36,
          48,
          99,
          2,
          12,
          2,
          189,
          155,
          10,
          4,
          4,
          8,
          50,
          4,
          86,
          3,
          11,
          3,
          4,
          27,
          24,
          200,
          1,
          6,
          28,
          14,
          6,
          2,
          6,
          26,
          4,
          2,
          1,
          18,
          8,
          54,
          34,
          79,
          23,
          4,
          104,
          94,
          4,
          38,
          20,
          4,
          6,
          29,
          131,
          12,
          7,
          1,
          81,
          82,
          30,
          2,
          2,
          4,
          2,
          38,
          6,
          84,
          1,
          2,
          2,
          73,
          22,
          55,
          2,
          6,
          20,
          2,
          2,
          53,
          144,
          168,
          10,
          6,
          47,
          2,
          66,
          2,
          22,
          100,
          23,
          14,
          24,
          70,
          104,
          48,
          4,
          2,
          2,
          46,
          6,
          24,
          6,
          38,
          16,
          6,
          14,
          76,
          23,
          46,
          14,
          12,
          10,
          30,
          5,
          80,
          6,
          75,
          24,
          39,
          1,
          45,
          4,
          54,
          2,
          19,
          2,
          1,
          192,
          16,
          18,
          2,
          18,
          22,
          2,
          6,
          76,
          32,
          2,
          28,
          2,
          28,
          4,
          31,
          55,
          8,
          75,
          66,
          4,
          6,
          70,
          6,
          28,
          108,
          6,
          40,
          58,
          19,
          6,
          4,
          3,
          5,
          8,
          4,
          67,
          64,
          144,
          11,
          51,
          24,
          44,
          7,
          8,
          91,
          2,
          4,
          66,
          4,
          24,
          18,
          176,
          5,
          16,
          6,
          2,
          4,
          94,
          4,
          2,
          5,
          1,
          112,
          29,
          129,
          2,
          80,
          2,
          6,
          1,
          60,
          52,
          38,
          159,
          19,
          42
         ],
         "yaxis": "y2"
        }
       ],
       "layout": {
        "barmode": "overlay",
        "legend": {
         "tracegroupgap": 0
        },
        "margin": {
         "t": 60
        },
        "template": {
         "data": {
          "bar": [
           {
            "error_x": {
             "color": "#2a3f5f"
            },
            "error_y": {
             "color": "#2a3f5f"
            },
            "marker": {
             "line": {
              "color": "#E5ECF6",
              "width": 0.5
             }
            },
            "type": "bar"
           }
          ],
          "barpolar": [
           {
            "marker": {
             "line": {
              "color": "#E5ECF6",
              "width": 0.5
             }
            },
            "type": "barpolar"
           }
          ],
          "carpet": [
           {
            "aaxis": {
             "endlinecolor": "#2a3f5f",
             "gridcolor": "white",
             "linecolor": "white",
             "minorgridcolor": "white",
             "startlinecolor": "#2a3f5f"
            },
            "baxis": {
             "endlinecolor": "#2a3f5f",
             "gridcolor": "white",
             "linecolor": "white",
             "minorgridcolor": "white",
             "startlinecolor": "#2a3f5f"
            },
            "type": "carpet"
           }
          ],
          "choropleth": [
           {
            "colorbar": {
             "outlinewidth": 0,
             "ticks": ""
            },
            "type": "choropleth"
           }
          ],
          "contour": [
           {
            "colorbar": {
             "outlinewidth": 0,
             "ticks": ""
            },
            "colorscale": [
             [
              0,
              "#0d0887"
             ],
             [
              0.1111111111111111,
              "#46039f"
             ],
             [
              0.2222222222222222,
              "#7201a8"
             ],
             [
              0.3333333333333333,
              "#9c179e"
             ],
             [
              0.4444444444444444,
              "#bd3786"
             ],
             [
              0.5555555555555556,
              "#d8576b"
             ],
             [
              0.6666666666666666,
              "#ed7953"
             ],
             [
              0.7777777777777778,
              "#fb9f3a"
             ],
             [
              0.8888888888888888,
              "#fdca26"
             ],
             [
              1,
              "#f0f921"
             ]
            ],
            "type": "contour"
           }
          ],
          "contourcarpet": [
           {
            "colorbar": {
             "outlinewidth": 0,
             "ticks": ""
            },
            "type": "contourcarpet"
           }
          ],
          "heatmap": [
           {
            "colorbar": {
             "outlinewidth": 0,
             "ticks": ""
            },
            "colorscale": [
             [
              0,
              "#0d0887"
             ],
             [
              0.1111111111111111,
              "#46039f"
             ],
             [
              0.2222222222222222,
              "#7201a8"
             ],
             [
              0.3333333333333333,
              "#9c179e"
             ],
             [
              0.4444444444444444,
              "#bd3786"
             ],
             [
              0.5555555555555556,
              "#d8576b"
             ],
             [
              0.6666666666666666,
              "#ed7953"
             ],
             [
              0.7777777777777778,
              "#fb9f3a"
             ],
             [
              0.8888888888888888,
              "#fdca26"
             ],
             [
              1,
              "#f0f921"
             ]
            ],
            "type": "heatmap"
           }
          ],
          "heatmapgl": [
           {
            "colorbar": {
             "outlinewidth": 0,
             "ticks": ""
            },
            "colorscale": [
             [
              0,
              "#0d0887"
             ],
             [
              0.1111111111111111,
              "#46039f"
             ],
             [
              0.2222222222222222,
              "#7201a8"
             ],
             [
              0.3333333333333333,
              "#9c179e"
             ],
             [
              0.4444444444444444,
              "#bd3786"
             ],
             [
              0.5555555555555556,
              "#d8576b"
             ],
             [
              0.6666666666666666,
              "#ed7953"
             ],
             [
              0.7777777777777778,
              "#fb9f3a"
             ],
             [
              0.8888888888888888,
              "#fdca26"
             ],
             [
              1,
              "#f0f921"
             ]
            ],
            "type": "heatmapgl"
           }
          ],
          "histogram": [
           {
            "marker": {
             "colorbar": {
              "outlinewidth": 0,
              "ticks": ""
             }
            },
            "type": "histogram"
           }
          ],
          "histogram2d": [
           {
            "colorbar": {
             "outlinewidth": 0,
             "ticks": ""
            },
            "colorscale": [
             [
              0,
              "#0d0887"
             ],
             [
              0.1111111111111111,
              "#46039f"
             ],
             [
              0.2222222222222222,
              "#7201a8"
             ],
             [
              0.3333333333333333,
              "#9c179e"
             ],
             [
              0.4444444444444444,
              "#bd3786"
             ],
             [
              0.5555555555555556,
              "#d8576b"
             ],
             [
              0.6666666666666666,
              "#ed7953"
             ],
             [
              0.7777777777777778,
              "#fb9f3a"
             ],
             [
              0.8888888888888888,
              "#fdca26"
             ],
             [
              1,
              "#f0f921"
             ]
            ],
            "type": "histogram2d"
           }
          ],
          "histogram2dcontour": [
           {
            "colorbar": {
             "outlinewidth": 0,
             "ticks": ""
            },
            "colorscale": [
             [
              0,
              "#0d0887"
             ],
             [
              0.1111111111111111,
              "#46039f"
             ],
             [
              0.2222222222222222,
              "#7201a8"
             ],
             [
              0.3333333333333333,
              "#9c179e"
             ],
             [
              0.4444444444444444,
              "#bd3786"
             ],
             [
              0.5555555555555556,
              "#d8576b"
             ],
             [
              0.6666666666666666,
              "#ed7953"
             ],
             [
              0.7777777777777778,
              "#fb9f3a"
             ],
             [
              0.8888888888888888,
              "#fdca26"
             ],
             [
              1,
              "#f0f921"
             ]
            ],
            "type": "histogram2dcontour"
           }
          ],
          "mesh3d": [
           {
            "colorbar": {
             "outlinewidth": 0,
             "ticks": ""
            },
            "type": "mesh3d"
           }
          ],
          "parcoords": [
           {
            "line": {
             "colorbar": {
              "outlinewidth": 0,
              "ticks": ""
             }
            },
            "type": "parcoords"
           }
          ],
          "pie": [
           {
            "automargin": true,
            "type": "pie"
           }
          ],
          "scatter": [
           {
            "marker": {
             "colorbar": {
              "outlinewidth": 0,
              "ticks": ""
             }
            },
            "type": "scatter"
           }
          ],
          "scatter3d": [
           {
            "line": {
             "colorbar": {
              "outlinewidth": 0,
              "ticks": ""
             }
            },
            "marker": {
             "colorbar": {
              "outlinewidth": 0,
              "ticks": ""
             }
            },
            "type": "scatter3d"
           }
          ],
          "scattercarpet": [
           {
            "marker": {
             "colorbar": {
              "outlinewidth": 0,
              "ticks": ""
             }
            },
            "type": "scattercarpet"
           }
          ],
          "scattergeo": [
           {
            "marker": {
             "colorbar": {
              "outlinewidth": 0,
              "ticks": ""
             }
            },
            "type": "scattergeo"
           }
          ],
          "scattergl": [
           {
            "marker": {
             "colorbar": {
              "outlinewidth": 0,
              "ticks": ""
             }
            },
            "type": "scattergl"
           }
          ],
          "scattermapbox": [
           {
            "marker": {
             "colorbar": {
              "outlinewidth": 0,
              "ticks": ""
             }
            },
            "type": "scattermapbox"
           }
          ],
          "scatterpolar": [
           {
            "marker": {
             "colorbar": {
              "outlinewidth": 0,
              "ticks": ""
             }
            },
            "type": "scatterpolar"
           }
          ],
          "scatterpolargl": [
           {
            "marker": {
             "colorbar": {
              "outlinewidth": 0,
              "ticks": ""
             }
            },
            "type": "scatterpolargl"
           }
          ],
          "scatterternary": [
           {
            "marker": {
             "colorbar": {
              "outlinewidth": 0,
              "ticks": ""
             }
            },
            "type": "scatterternary"
           }
          ],
          "surface": [
           {
            "colorbar": {
             "outlinewidth": 0,
             "ticks": ""
            },
            "colorscale": [
             [
              0,
              "#0d0887"
             ],
             [
              0.1111111111111111,
              "#46039f"
             ],
             [
              0.2222222222222222,
              "#7201a8"
             ],
             [
              0.3333333333333333,
              "#9c179e"
             ],
             [
              0.4444444444444444,
              "#bd3786"
             ],
             [
              0.5555555555555556,
              "#d8576b"
             ],
             [
              0.6666666666666666,
              "#ed7953"
             ],
             [
              0.7777777777777778,
              "#fb9f3a"
             ],
             [
              0.8888888888888888,
              "#fdca26"
             ],
             [
              1,
              "#f0f921"
             ]
            ],
            "type": "surface"
           }
          ],
          "table": [
           {
            "cells": {
             "fill": {
              "color": "#EBF0F8"
             },
             "line": {
              "color": "white"
             }
            },
            "header": {
             "fill": {
              "color": "#C8D4E3"
             },
             "line": {
              "color": "white"
             }
            },
            "type": "table"
           }
          ]
         },
         "layout": {
          "annotationdefaults": {
           "arrowcolor": "#2a3f5f",
           "arrowhead": 0,
           "arrowwidth": 1
          },
          "coloraxis": {
           "colorbar": {
            "outlinewidth": 0,
            "ticks": ""
           }
          },
          "colorscale": {
           "diverging": [
            [
             0,
             "#8e0152"
            ],
            [
             0.1,
             "#c51b7d"
            ],
            [
             0.2,
             "#de77ae"
            ],
            [
             0.3,
             "#f1b6da"
            ],
            [
             0.4,
             "#fde0ef"
            ],
            [
             0.5,
             "#f7f7f7"
            ],
            [
             0.6,
             "#e6f5d0"
            ],
            [
             0.7,
             "#b8e186"
            ],
            [
             0.8,
             "#7fbc41"
            ],
            [
             0.9,
             "#4d9221"
            ],
            [
             1,
             "#276419"
            ]
           ],
           "sequential": [
            [
             0,
             "#0d0887"
            ],
            [
             0.1111111111111111,
             "#46039f"
            ],
            [
             0.2222222222222222,
             "#7201a8"
            ],
            [
             0.3333333333333333,
             "#9c179e"
            ],
            [
             0.4444444444444444,
             "#bd3786"
            ],
            [
             0.5555555555555556,
             "#d8576b"
            ],
            [
             0.6666666666666666,
             "#ed7953"
            ],
            [
             0.7777777777777778,
             "#fb9f3a"
            ],
            [
             0.8888888888888888,
             "#fdca26"
            ],
            [
             1,
             "#f0f921"
            ]
           ],
           "sequentialminus": [
            [
             0,
             "#0d0887"
            ],
            [
             0.1111111111111111,
             "#46039f"
            ],
            [
             0.2222222222222222,
             "#7201a8"
            ],
            [
             0.3333333333333333,
             "#9c179e"
            ],
            [
             0.4444444444444444,
             "#bd3786"
            ],
            [
             0.5555555555555556,
             "#d8576b"
            ],
            [
             0.6666666666666666,
             "#ed7953"
            ],
            [
             0.7777777777777778,
             "#fb9f3a"
            ],
            [
             0.8888888888888888,
             "#fdca26"
            ],
            [
             1,
             "#f0f921"
            ]
           ]
          },
          "colorway": [
           "#636efa",
           "#EF553B",
           "#00cc96",
           "#ab63fa",
           "#FFA15A",
           "#19d3f3",
           "#FF6692",
           "#B6E880",
           "#FF97FF",
           "#FECB52"
          ],
          "font": {
           "color": "#2a3f5f"
          },
          "geo": {
           "bgcolor": "white",
           "lakecolor": "white",
           "landcolor": "#E5ECF6",
           "showlakes": true,
           "showland": true,
           "subunitcolor": "white"
          },
          "hoverlabel": {
           "align": "left"
          },
          "hovermode": "closest",
          "mapbox": {
           "style": "light"
          },
          "paper_bgcolor": "white",
          "plot_bgcolor": "#E5ECF6",
          "polar": {
           "angularaxis": {
            "gridcolor": "white",
            "linecolor": "white",
            "ticks": ""
           },
           "bgcolor": "#E5ECF6",
           "radialaxis": {
            "gridcolor": "white",
            "linecolor": "white",
            "ticks": ""
           }
          },
          "scene": {
           "xaxis": {
            "backgroundcolor": "#E5ECF6",
            "gridcolor": "white",
            "gridwidth": 2,
            "linecolor": "white",
            "showbackground": true,
            "ticks": "",
            "zerolinecolor": "white"
           },
           "yaxis": {
            "backgroundcolor": "#E5ECF6",
            "gridcolor": "white",
            "gridwidth": 2,
            "linecolor": "white",
            "showbackground": true,
            "ticks": "",
            "zerolinecolor": "white"
           },
           "zaxis": {
            "backgroundcolor": "#E5ECF6",
            "gridcolor": "white",
            "gridwidth": 2,
            "linecolor": "white",
            "showbackground": true,
            "ticks": "",
            "zerolinecolor": "white"
           }
          },
          "shapedefaults": {
           "line": {
            "color": "#2a3f5f"
           }
          },
          "ternary": {
           "aaxis": {
            "gridcolor": "white",
            "linecolor": "white",
            "ticks": ""
           },
           "baxis": {
            "gridcolor": "white",
            "linecolor": "white",
            "ticks": ""
           },
           "bgcolor": "#E5ECF6",
           "caxis": {
            "gridcolor": "white",
            "linecolor": "white",
            "ticks": ""
           }
          },
          "title": {
           "x": 0.05
          },
          "xaxis": {
           "automargin": true,
           "gridcolor": "white",
           "linecolor": "white",
           "ticks": "",
           "title": {
            "standoff": 15
           },
           "zerolinecolor": "white",
           "zerolinewidth": 2
          },
          "yaxis": {
           "automargin": true,
           "gridcolor": "white",
           "linecolor": "white",
           "ticks": "",
           "title": {
            "standoff": 15
           },
           "zerolinecolor": "white",
           "zerolinewidth": 2
          }
         }
        },
        "title": {
         "text": "Relation between Medication quantity and time in study"
        },
        "xaxis": {
         "anchor": "y",
         "domain": [
          0,
          0.7363
         ],
         "title": {
          "text": "Time (days) in the treatment"
         }
        },
        "xaxis2": {
         "anchor": "y2",
         "domain": [
          0.7413,
          1
         ],
         "matches": "x2",
         "showgrid": true,
         "showline": false,
         "showticklabels": false,
         "ticks": ""
        },
        "xaxis3": {
         "anchor": "y3",
         "domain": [
          0,
          0.7363
         ],
         "matches": "x",
         "showgrid": true,
         "showticklabels": false
        },
        "xaxis4": {
         "anchor": "y4",
         "domain": [
          0.7413,
          1
         ],
         "matches": "x2",
         "showgrid": true,
         "showline": false,
         "showticklabels": false,
         "ticks": ""
        },
        "yaxis": {
         "anchor": "x",
         "domain": [
          0,
          0.7326
         ],
         "title": {
          "text": "No. of medication received"
         }
        },
        "yaxis2": {
         "anchor": "x2",
         "domain": [
          0,
          0.7326
         ],
         "matches": "y",
         "showgrid": true,
         "showticklabels": false
        },
        "yaxis3": {
         "anchor": "x3",
         "domain": [
          0.7426,
          1
         ],
         "matches": "y3",
         "showgrid": true,
         "showline": false,
         "showticklabels": false,
         "ticks": ""
        },
        "yaxis4": {
         "anchor": "x4",
         "domain": [
          0.7426,
          1
         ],
         "matches": "y3",
         "showgrid": true,
         "showline": false,
         "showticklabels": false,
         "ticks": ""
        }
       }
      },
      "text/html": [
       "<div>\n",
       "        \n",
       "        \n",
       "            <div id=\"15c2c2b0-6d14-44e5-8c73-f1ba90190506\" class=\"plotly-graph-div\" style=\"height:525px; width:100%;\"></div>\n",
       "            <script type=\"text/javascript\">\n",
       "                require([\"plotly\"], function(Plotly) {\n",
       "                    window.PLOTLYENV=window.PLOTLYENV || {};\n",
       "                    \n",
       "                if (document.getElementById(\"15c2c2b0-6d14-44e5-8c73-f1ba90190506\")) {\n",
       "                    Plotly.newPlot(\n",
       "                        '15c2c2b0-6d14-44e5-8c73-f1ba90190506',\n",
       "                        [{\"hovertemplate\": \"Delta_Time=%{x}<br>Cantidad_Total=%{y}<extra></extra>\", \"legendgroup\": \"\", \"marker\": {\"color\": \"#636efa\", \"symbol\": \"circle\"}, \"mode\": \"markers\", \"name\": \"\", \"showlegend\": false, \"type\": \"scatter\", \"x\": [0, 681, 818, 211, 882, 871, 867, 0, 342, 40, 85, 66, 498, 318, 62, 44, 867, 30, 876, 804, 892, 751, 61, 380, 121, 858, 0, 62, 0, 677, 241, 0, 239, 318, 720, 0, 0, 29, 135, 357, 648, 62, 401, 0, 7, 61, 586, 69, 0, 245, 788, 0, 0, 542, 741, 817, 0, 0, 422, 58, 554, 262, 0, 0, 712, 860, 69, 698, 180, 200, 0, 414, 58, 0, 539, 0, 869, 79, 0, 43, 158, 888, 0, 37, 0, 398, 598, 849, 896, 667, 846, 727, 0, 697, 0, 65, 883, 840, 70, 525, 58, 351, 0, 398, 842, 264, 891, 892, 169, 776, 841, 891, 150, 603, 477, 0, 477, 679, 894, 262, 21, 888, 555, 180, 346, 57, 230, 530, 261, 769, 499, 874, 862, 139, 637, 41, 885, 62, 793, 886, 460, 900, 63, 64, 737, 853, 696, 395, 0, 196, 0, 264, 734, 148, 35, 502, 367, 370, 0, 892, 0, 485, 0, 557, 464, 0, 547, 74, 752, 266, 431, 223, 375, 547, 750, 870, 256, 148, 190, 262, 641, 880, 239, 0, 868, 0, 176, 303, 0, 885, 784, 855, 0, 611, 106, 875, 512, 835, 686, 360, 149, 28, 426, 531, 155, 669, 0, 336, 30, 743, 891, 259, 14, 867, 810, 392, 834, 1, 507, 0, 703, 566, 748, 210, 366, 887, 0, 72, 884, 0, 31, 829, 834, 774, 0, 820, 41, 825, 202, 86, 810, 29, 794, 455, 0, 653, 40, 97, 175, 0, 845, 411, 553, 0, 52, 0, 883, 651, 377, 215, 667, 363, 319, 304, 0, 823, 882, 60, 345, 871, 882, 392, 0, 65, 755, 0, 0, 181, 113, 247, 127, 69, 30, 365, 0, 313, 277, 211, 807, 861, 0, 885, 694, 556, 571, 544, 724, 698, 120, 89, 799, 0, 61, 646, 458, 366, 847, 269, 643, 491, 399, 814, 572, 75, 0, 0, 0, 0, 32, 896, 28, 565, 874, 0, 691, 297, 267, 0, 859, 896, 56, 245, 0, 777, 0, 577, 282, 91, 307, 867, 835, 0, 406, 124, 181, 700, 146, 409, 854, 861, 331, 896, 857, 0, 869, 732, 903, 739, 400, 637, 545, 135, 852, 375, 460, 243, 498, 419, 0, 0, 130, 211, 115, 783, 248, 877, 419, 900, 1171, 463, 356, 251, 122, 716, 5, 608, 378, 103, 113, 0, 0, 0, 0, 237, 238, 867, 136, 82, 880, 743, 880, 893, 112, 580, 725, 0, 848, 273, 330, 843, 0, 870, 0, 0, 874, 489, 841, 567, 226, 902, 822, 88, 123, 0, 267, 713, 0, 252, 881, 0, 764, 111, 120, 118, 74, 666, 30, 124, 565, 109, 61, 0, 237, 167, 840, 528, 876, 0, 726, 874, 880, 0, 877, 85, 63, 267, 848, 833, 0, 254, 146, 0, 0, 897, 879, 62, 822, 61, 815, 0, 799, 64, 0, 290, 102, 0, 865, 753, 717, 63, 306, 60, 902, 0, 588, 0, 881, 238, 684, 275, 657, 429, 634, 882, 236, 61, 0, 398, 796, 469, 0, 718, 57, 870, 505, 329, 92, 143, 60, 0, 0, 715, 859, 348, 231, 535, 340, 0, 292, 211, 863, 481, 891, 5, 109, 72, 625, 450, 150, 7, 260, 526, 503, 0, 90, 0, 0, 344, 62, 852, 817, 873, 0, 641, 0, 145, 84, 125, 265, 839, 831, 178, 505, 392, 374, 884, 695, 281, 819, 571, 634, 779, 243, 0, 511, 840, 708, 858, 85, 516, 868, 571, 461, 304, 0, 0, 904, 356, 71, 33, 168, 427, 527, 866, 738, 869, 34, 490, 638, 246, 372, 876, 0, 26, 224, 217, 234, 413, 637, 0, 0, 324, 890, 298, 755, 643, 224, 870, 588, 799, 873, 583, 0, 235, 0, 0, 0, 64, 21, 334, 455, 30, 280, 93, 284, 388, 379, 720, 0, 577, 638, 890, 0, 270, 0, 882, 966, 246, 30, 27, 378, 642, 30, 888, 83, 147, 0, 32, 875, 190, 894, 0, 151, 881, 574, 315, 0, 13, 418, 27, 0, 0, 665, 84, 840, 636, 905, 861, 104, 418, 716, 7, 631, 367, 47, 88, 904, 716, 173, 306, 0, 873, 434, 517, 0, 0, 7, 0, 678, 252, 876, 0, 0, 7, 456, 583, 863, 0, 0, 432, 24, 0, 693, 851, 876, 215, 79, 783, 0, 793, 0, 404, 853, 786, 154, 447, 876, 873, 356, 92, 0, 0, 889, 129, 819, 247, 630, 522, 241, 609, 692, 294, 853, 423, 533, 122, 627, 755, 616, 87, 819, 371, 832, 0, 875, 66, 868, 0, 730, 63, 0, 709, 760, 873, 0, 527, 484, 0, 237, 269, 776, 0, 860, 0, 811, 32, 817, 889, 518, 795, 488, 35, 292, 684, 32, 371, 548, 57, 274, 444, 724, 46, 157, 121, 40, 574, 78, 763, 282, 748, 516, 660, 389, 551, 285, 91, 780, 0, 236, 889, 28, 212, 721, 836, 127, 486, 89, 0, 30, 867, 156, 0, 181, 0, 885, 760, 692, 48, 841, 0, 736, 0, 880, 852, 712, 897, 662, 806], \"xaxis\": \"x\", \"y\": [2, 72, 42, 12, 80, 100, 58, 1, 30, 2, 8, 9, 16, 27, 6, 4, 130, 6, 88, 60, 159, 41, 4, 18, 18, 63, 4, 6, 2, 46, 6, 2, 3, 30, 16, 2, 2, 4, 33, 15, 108, 6, 7, 2, 4, 4, 60, 3, 1, 7, 18, 2, 1, 84, 3, 22, 2, 2, 30, 2, 94, 6, 2, 2, 23, 79, 3, 42, 5, 10, 0, 44, 6, 2, 30, 0, 8, 6, 1, 2, 33, 27, 2, 2, 2, 52, 18, 104, 94, 35, 46, 150, 2, 84, 2, 4, 58, 42, 6, 6, 2, 36, 2, 19, 73, 12, 20, 116, 5, 64, 38, 79, 18, 17, 32, 2, 49, 60, 101, 40, 8, 58, 8, 24, 22, 6, 21, 66, 6, 20, 21, 137, 164, 8, 68, 5, 144, 7, 26, 135, 15, 61, 3, 3, 6, 77, 35, 2, 2, 5, 2, 12, 75, 2, 4, 42, 8, 8, 1, 103, 2, 14, 2, 104, 10, 1, 62, 4, 47, 18, 8, 64, 4, 34, 64, 71, 9, 13, 12, 10, 56, 110, 36, 2, 73, 3, 40, 30, 4, 68, 56, 120, 2, 2, 8, 69, 46, 50, 49, 12, 12, 6, 45, 46, 33, 92, 2, 24, 4, 12, 98, 14, 3, 64, 192, 28, 27, 3, 16, 2, 110, 16, 51, 57, 31, 115, 2, 8, 42, 4, 4, 36, 28, 10, 2, 32, 8, 144, 21, 4, 118, 4, 63, 18, 2, 4, 2, 8, 16, 2, 50, 114, 49, 2, 2, 2, 137, 4, 18, 16, 46, 64, 7, 15, 3, 48, 110, 2, 36, 180, 175, 56, 2, 4, 7, 2, 2, 15, 10, 9, 8, 3, 4, 8, 1, 22, 16, 6, 78, 52, 2, 109, 23, 34, 4, 49, 4, 6, 12, 3, 43, 3, 3, 60, 11, 28, 21, 24, 48, 26, 11, 82, 68, 8, 2, 2, 2, 2, 6, 240, 8, 32, 54, 2, 6, 55, 10, 2, 97, 118, 16, 28, 2, 66, 4, 12, 17, 8, 20, 30, 53, 2, 52, 33, 24, 23, 6, 96, 50, 14, 40, 78, 69, 2, 50, 72, 159, 5, 14, 57, 10, 7, 94, 18, 32, 28, 60, 24, 2, 2, 22, 24, 3, 14, 6, 92, 13, 256, 128, 42, 6, 60, 8, 41, 2, 19, 27, 3, 5, 2, 2, 1, 0, 26, 12, 168, 8, 6, 140, 7, 32, 90, 3, 7, 80, 2, 123, 10, 22, 138, 2, 44, 1, 2, 54, 16, 52, 24, 16, 88, 153, 4, 4, 2, 28, 42, 2, 10, 81, 2, 100, 6, 4, 4, 9, 35, 4, 18, 96, 10, 6, 2, 44, 28, 47, 18, 35, 0, 2, 58, 17, 2, 110, 16, 3, 4, 107, 49, 4, 21, 24, 2, 2, 94, 65, 5, 18, 4, 28, 2, 17, 4, 2, 12, 8, 2, 24, 41, 184, 6, 22, 6, 48, 1, 152, 2, 53, 33, 27, 44, 80, 29, 6, 20, 15, 6, 2, 4, 158, 32, 2, 4, 8, 169, 26, 14, 4, 7, 6, 2, 2, 90, 147, 10, 12, 12, 5, 2, 11, 8, 60, 84, 174, 8, 2, 18, 44, 24, 7, 4, 18, 105, 39, 2, 4, 1, 2, 32, 2, 79, 56, 70, 2, 60, 2, 4, 6, 4, 32, 17, 56, 12, 15, 8, 22, 202, 24, 14, 157, 117, 33, 28, 24, 4, 48, 25, 59, 38, 6, 17, 14, 44, 60, 7, 2, 1, 9, 42, 6, 2, 14, 48, 11, 55, 30, 58, 4, 28, 17, 16, 12, 48, 2, 9, 49, 28, 11, 14, 54, 2, 2, 9, 172, 10, 47, 31, 22, 86, 15, 25, 78, 38, 2, 9, 2, 2, 2, 3, 4, 75, 26, 8, 8, 8, 28, 9, 22, 10, 2, 36, 48, 99, 2, 12, 2, 189, 155, 10, 4, 4, 8, 50, 4, 86, 3, 11, 3, 4, 27, 24, 200, 1, 6, 28, 14, 6, 2, 6, 26, 4, 2, 1, 18, 8, 54, 34, 79, 23, 4, 104, 94, 4, 38, 20, 4, 6, 29, 131, 12, 7, 1, 81, 82, 30, 2, 2, 4, 2, 38, 6, 84, 1, 2, 2, 73, 22, 55, 2, 6, 20, 2, 2, 53, 144, 168, 10, 6, 47, 2, 66, 2, 22, 100, 23, 14, 24, 70, 104, 48, 4, 2, 2, 46, 6, 24, 6, 38, 16, 6, 14, 76, 23, 46, 14, 12, 10, 30, 5, 80, 6, 75, 24, 39, 1, 45, 4, 54, 2, 19, 2, 1, 192, 16, 18, 2, 18, 22, 2, 6, 76, 32, 2, 28, 2, 28, 4, 31, 55, 8, 75, 66, 4, 6, 70, 6, 28, 108, 6, 40, 58, 19, 6, 4, 3, 5, 8, 4, 67, 64, 144, 11, 51, 24, 44, 7, 8, 91, 2, 4, 66, 4, 24, 18, 176, 5, 16, 6, 2, 4, 94, 4, 2, 5, 1, 112, 29, 129, 2, 80, 2, 6, 1, 60, 52, 38, 159, 19, 42], \"yaxis\": \"y\"}, {\"alignmentgroup\": \"True\", \"bingroup\": \"x\", \"hovertemplate\": \"Delta_Time=%{x}<br>count=%{y}<extra></extra>\", \"legendgroup\": \"\", \"marker\": {\"color\": \"#636efa\"}, \"name\": \"\", \"offsetgroup\": \"\", \"opacity\": 0.5, \"showlegend\": false, \"type\": \"histogram\", \"x\": [0, 681, 818, 211, 882, 871, 867, 0, 342, 40, 85, 66, 498, 318, 62, 44, 867, 30, 876, 804, 892, 751, 61, 380, 121, 858, 0, 62, 0, 677, 241, 0, 239, 318, 720, 0, 0, 29, 135, 357, 648, 62, 401, 0, 7, 61, 586, 69, 0, 245, 788, 0, 0, 542, 741, 817, 0, 0, 422, 58, 554, 262, 0, 0, 712, 860, 69, 698, 180, 200, 0, 414, 58, 0, 539, 0, 869, 79, 0, 43, 158, 888, 0, 37, 0, 398, 598, 849, 896, 667, 846, 727, 0, 697, 0, 65, 883, 840, 70, 525, 58, 351, 0, 398, 842, 264, 891, 892, 169, 776, 841, 891, 150, 603, 477, 0, 477, 679, 894, 262, 21, 888, 555, 180, 346, 57, 230, 530, 261, 769, 499, 874, 862, 139, 637, 41, 885, 62, 793, 886, 460, 900, 63, 64, 737, 853, 696, 395, 0, 196, 0, 264, 734, 148, 35, 502, 367, 370, 0, 892, 0, 485, 0, 557, 464, 0, 547, 74, 752, 266, 431, 223, 375, 547, 750, 870, 256, 148, 190, 262, 641, 880, 239, 0, 868, 0, 176, 303, 0, 885, 784, 855, 0, 611, 106, 875, 512, 835, 686, 360, 149, 28, 426, 531, 155, 669, 0, 336, 30, 743, 891, 259, 14, 867, 810, 392, 834, 1, 507, 0, 703, 566, 748, 210, 366, 887, 0, 72, 884, 0, 31, 829, 834, 774, 0, 820, 41, 825, 202, 86, 810, 29, 794, 455, 0, 653, 40, 97, 175, 0, 845, 411, 553, 0, 52, 0, 883, 651, 377, 215, 667, 363, 319, 304, 0, 823, 882, 60, 345, 871, 882, 392, 0, 65, 755, 0, 0, 181, 113, 247, 127, 69, 30, 365, 0, 313, 277, 211, 807, 861, 0, 885, 694, 556, 571, 544, 724, 698, 120, 89, 799, 0, 61, 646, 458, 366, 847, 269, 643, 491, 399, 814, 572, 75, 0, 0, 0, 0, 32, 896, 28, 565, 874, 0, 691, 297, 267, 0, 859, 896, 56, 245, 0, 777, 0, 577, 282, 91, 307, 867, 835, 0, 406, 124, 181, 700, 146, 409, 854, 861, 331, 896, 857, 0, 869, 732, 903, 739, 400, 637, 545, 135, 852, 375, 460, 243, 498, 419, 0, 0, 130, 211, 115, 783, 248, 877, 419, 900, 1171, 463, 356, 251, 122, 716, 5, 608, 378, 103, 113, 0, 0, 0, 0, 237, 238, 867, 136, 82, 880, 743, 880, 893, 112, 580, 725, 0, 848, 273, 330, 843, 0, 870, 0, 0, 874, 489, 841, 567, 226, 902, 822, 88, 123, 0, 267, 713, 0, 252, 881, 0, 764, 111, 120, 118, 74, 666, 30, 124, 565, 109, 61, 0, 237, 167, 840, 528, 876, 0, 726, 874, 880, 0, 877, 85, 63, 267, 848, 833, 0, 254, 146, 0, 0, 897, 879, 62, 822, 61, 815, 0, 799, 64, 0, 290, 102, 0, 865, 753, 717, 63, 306, 60, 902, 0, 588, 0, 881, 238, 684, 275, 657, 429, 634, 882, 236, 61, 0, 398, 796, 469, 0, 718, 57, 870, 505, 329, 92, 143, 60, 0, 0, 715, 859, 348, 231, 535, 340, 0, 292, 211, 863, 481, 891, 5, 109, 72, 625, 450, 150, 7, 260, 526, 503, 0, 90, 0, 0, 344, 62, 852, 817, 873, 0, 641, 0, 145, 84, 125, 265, 839, 831, 178, 505, 392, 374, 884, 695, 281, 819, 571, 634, 779, 243, 0, 511, 840, 708, 858, 85, 516, 868, 571, 461, 304, 0, 0, 904, 356, 71, 33, 168, 427, 527, 866, 738, 869, 34, 490, 638, 246, 372, 876, 0, 26, 224, 217, 234, 413, 637, 0, 0, 324, 890, 298, 755, 643, 224, 870, 588, 799, 873, 583, 0, 235, 0, 0, 0, 64, 21, 334, 455, 30, 280, 93, 284, 388, 379, 720, 0, 577, 638, 890, 0, 270, 0, 882, 966, 246, 30, 27, 378, 642, 30, 888, 83, 147, 0, 32, 875, 190, 894, 0, 151, 881, 574, 315, 0, 13, 418, 27, 0, 0, 665, 84, 840, 636, 905, 861, 104, 418, 716, 7, 631, 367, 47, 88, 904, 716, 173, 306, 0, 873, 434, 517, 0, 0, 7, 0, 678, 252, 876, 0, 0, 7, 456, 583, 863, 0, 0, 432, 24, 0, 693, 851, 876, 215, 79, 783, 0, 793, 0, 404, 853, 786, 154, 447, 876, 873, 356, 92, 0, 0, 889, 129, 819, 247, 630, 522, 241, 609, 692, 294, 853, 423, 533, 122, 627, 755, 616, 87, 819, 371, 832, 0, 875, 66, 868, 0, 730, 63, 0, 709, 760, 873, 0, 527, 484, 0, 237, 269, 776, 0, 860, 0, 811, 32, 817, 889, 518, 795, 488, 35, 292, 684, 32, 371, 548, 57, 274, 444, 724, 46, 157, 121, 40, 574, 78, 763, 282, 748, 516, 660, 389, 551, 285, 91, 780, 0, 236, 889, 28, 212, 721, 836, 127, 486, 89, 0, 30, 867, 156, 0, 181, 0, 885, 760, 692, 48, 841, 0, 736, 0, 880, 852, 712, 897, 662, 806], \"xaxis\": \"x3\", \"yaxis\": \"y3\"}, {\"alignmentgroup\": \"True\", \"bingroup\": \"y\", \"hovertemplate\": \"Cantidad_Total=%{y}<br>count=%{x}<extra></extra>\", \"legendgroup\": \"\", \"marker\": {\"color\": \"#636efa\"}, \"name\": \"\", \"offsetgroup\": \"\", \"opacity\": 0.5, \"showlegend\": false, \"type\": \"histogram\", \"xaxis\": \"x2\", \"y\": [2, 72, 42, 12, 80, 100, 58, 1, 30, 2, 8, 9, 16, 27, 6, 4, 130, 6, 88, 60, 159, 41, 4, 18, 18, 63, 4, 6, 2, 46, 6, 2, 3, 30, 16, 2, 2, 4, 33, 15, 108, 6, 7, 2, 4, 4, 60, 3, 1, 7, 18, 2, 1, 84, 3, 22, 2, 2, 30, 2, 94, 6, 2, 2, 23, 79, 3, 42, 5, 10, 0, 44, 6, 2, 30, 0, 8, 6, 1, 2, 33, 27, 2, 2, 2, 52, 18, 104, 94, 35, 46, 150, 2, 84, 2, 4, 58, 42, 6, 6, 2, 36, 2, 19, 73, 12, 20, 116, 5, 64, 38, 79, 18, 17, 32, 2, 49, 60, 101, 40, 8, 58, 8, 24, 22, 6, 21, 66, 6, 20, 21, 137, 164, 8, 68, 5, 144, 7, 26, 135, 15, 61, 3, 3, 6, 77, 35, 2, 2, 5, 2, 12, 75, 2, 4, 42, 8, 8, 1, 103, 2, 14, 2, 104, 10, 1, 62, 4, 47, 18, 8, 64, 4, 34, 64, 71, 9, 13, 12, 10, 56, 110, 36, 2, 73, 3, 40, 30, 4, 68, 56, 120, 2, 2, 8, 69, 46, 50, 49, 12, 12, 6, 45, 46, 33, 92, 2, 24, 4, 12, 98, 14, 3, 64, 192, 28, 27, 3, 16, 2, 110, 16, 51, 57, 31, 115, 2, 8, 42, 4, 4, 36, 28, 10, 2, 32, 8, 144, 21, 4, 118, 4, 63, 18, 2, 4, 2, 8, 16, 2, 50, 114, 49, 2, 2, 2, 137, 4, 18, 16, 46, 64, 7, 15, 3, 48, 110, 2, 36, 180, 175, 56, 2, 4, 7, 2, 2, 15, 10, 9, 8, 3, 4, 8, 1, 22, 16, 6, 78, 52, 2, 109, 23, 34, 4, 49, 4, 6, 12, 3, 43, 3, 3, 60, 11, 28, 21, 24, 48, 26, 11, 82, 68, 8, 2, 2, 2, 2, 6, 240, 8, 32, 54, 2, 6, 55, 10, 2, 97, 118, 16, 28, 2, 66, 4, 12, 17, 8, 20, 30, 53, 2, 52, 33, 24, 23, 6, 96, 50, 14, 40, 78, 69, 2, 50, 72, 159, 5, 14, 57, 10, 7, 94, 18, 32, 28, 60, 24, 2, 2, 22, 24, 3, 14, 6, 92, 13, 256, 128, 42, 6, 60, 8, 41, 2, 19, 27, 3, 5, 2, 2, 1, 0, 26, 12, 168, 8, 6, 140, 7, 32, 90, 3, 7, 80, 2, 123, 10, 22, 138, 2, 44, 1, 2, 54, 16, 52, 24, 16, 88, 153, 4, 4, 2, 28, 42, 2, 10, 81, 2, 100, 6, 4, 4, 9, 35, 4, 18, 96, 10, 6, 2, 44, 28, 47, 18, 35, 0, 2, 58, 17, 2, 110, 16, 3, 4, 107, 49, 4, 21, 24, 2, 2, 94, 65, 5, 18, 4, 28, 2, 17, 4, 2, 12, 8, 2, 24, 41, 184, 6, 22, 6, 48, 1, 152, 2, 53, 33, 27, 44, 80, 29, 6, 20, 15, 6, 2, 4, 158, 32, 2, 4, 8, 169, 26, 14, 4, 7, 6, 2, 2, 90, 147, 10, 12, 12, 5, 2, 11, 8, 60, 84, 174, 8, 2, 18, 44, 24, 7, 4, 18, 105, 39, 2, 4, 1, 2, 32, 2, 79, 56, 70, 2, 60, 2, 4, 6, 4, 32, 17, 56, 12, 15, 8, 22, 202, 24, 14, 157, 117, 33, 28, 24, 4, 48, 25, 59, 38, 6, 17, 14, 44, 60, 7, 2, 1, 9, 42, 6, 2, 14, 48, 11, 55, 30, 58, 4, 28, 17, 16, 12, 48, 2, 9, 49, 28, 11, 14, 54, 2, 2, 9, 172, 10, 47, 31, 22, 86, 15, 25, 78, 38, 2, 9, 2, 2, 2, 3, 4, 75, 26, 8, 8, 8, 28, 9, 22, 10, 2, 36, 48, 99, 2, 12, 2, 189, 155, 10, 4, 4, 8, 50, 4, 86, 3, 11, 3, 4, 27, 24, 200, 1, 6, 28, 14, 6, 2, 6, 26, 4, 2, 1, 18, 8, 54, 34, 79, 23, 4, 104, 94, 4, 38, 20, 4, 6, 29, 131, 12, 7, 1, 81, 82, 30, 2, 2, 4, 2, 38, 6, 84, 1, 2, 2, 73, 22, 55, 2, 6, 20, 2, 2, 53, 144, 168, 10, 6, 47, 2, 66, 2, 22, 100, 23, 14, 24, 70, 104, 48, 4, 2, 2, 46, 6, 24, 6, 38, 16, 6, 14, 76, 23, 46, 14, 12, 10, 30, 5, 80, 6, 75, 24, 39, 1, 45, 4, 54, 2, 19, 2, 1, 192, 16, 18, 2, 18, 22, 2, 6, 76, 32, 2, 28, 2, 28, 4, 31, 55, 8, 75, 66, 4, 6, 70, 6, 28, 108, 6, 40, 58, 19, 6, 4, 3, 5, 8, 4, 67, 64, 144, 11, 51, 24, 44, 7, 8, 91, 2, 4, 66, 4, 24, 18, 176, 5, 16, 6, 2, 4, 94, 4, 2, 5, 1, 112, 29, 129, 2, 80, 2, 6, 1, 60, 52, 38, 159, 19, 42], \"yaxis\": \"y2\"}],\n",
       "                        {\"barmode\": \"overlay\", \"legend\": {\"tracegroupgap\": 0}, \"margin\": {\"t\": 60}, \"template\": {\"data\": {\"bar\": [{\"error_x\": {\"color\": \"#2a3f5f\"}, \"error_y\": {\"color\": \"#2a3f5f\"}, \"marker\": {\"line\": {\"color\": \"#E5ECF6\", \"width\": 0.5}}, \"type\": \"bar\"}], \"barpolar\": [{\"marker\": {\"line\": {\"color\": \"#E5ECF6\", \"width\": 0.5}}, \"type\": \"barpolar\"}], \"carpet\": [{\"aaxis\": {\"endlinecolor\": \"#2a3f5f\", \"gridcolor\": \"white\", \"linecolor\": \"white\", \"minorgridcolor\": \"white\", \"startlinecolor\": \"#2a3f5f\"}, \"baxis\": {\"endlinecolor\": \"#2a3f5f\", \"gridcolor\": \"white\", \"linecolor\": \"white\", \"minorgridcolor\": \"white\", \"startlinecolor\": \"#2a3f5f\"}, \"type\": \"carpet\"}], \"choropleth\": [{\"colorbar\": {\"outlinewidth\": 0, \"ticks\": \"\"}, \"type\": \"choropleth\"}], \"contour\": [{\"colorbar\": {\"outlinewidth\": 0, \"ticks\": \"\"}, \"colorscale\": [[0.0, \"#0d0887\"], [0.1111111111111111, \"#46039f\"], [0.2222222222222222, \"#7201a8\"], [0.3333333333333333, \"#9c179e\"], [0.4444444444444444, \"#bd3786\"], [0.5555555555555556, \"#d8576b\"], [0.6666666666666666, \"#ed7953\"], [0.7777777777777778, \"#fb9f3a\"], [0.8888888888888888, \"#fdca26\"], [1.0, \"#f0f921\"]], \"type\": \"contour\"}], \"contourcarpet\": [{\"colorbar\": {\"outlinewidth\": 0, \"ticks\": \"\"}, \"type\": \"contourcarpet\"}], \"heatmap\": [{\"colorbar\": {\"outlinewidth\": 0, \"ticks\": \"\"}, \"colorscale\": [[0.0, \"#0d0887\"], [0.1111111111111111, \"#46039f\"], [0.2222222222222222, \"#7201a8\"], [0.3333333333333333, \"#9c179e\"], [0.4444444444444444, \"#bd3786\"], [0.5555555555555556, \"#d8576b\"], [0.6666666666666666, \"#ed7953\"], [0.7777777777777778, \"#fb9f3a\"], [0.8888888888888888, \"#fdca26\"], [1.0, \"#f0f921\"]], \"type\": \"heatmap\"}], \"heatmapgl\": [{\"colorbar\": {\"outlinewidth\": 0, \"ticks\": \"\"}, \"colorscale\": [[0.0, \"#0d0887\"], [0.1111111111111111, \"#46039f\"], [0.2222222222222222, \"#7201a8\"], [0.3333333333333333, \"#9c179e\"], [0.4444444444444444, \"#bd3786\"], [0.5555555555555556, \"#d8576b\"], [0.6666666666666666, \"#ed7953\"], [0.7777777777777778, \"#fb9f3a\"], [0.8888888888888888, \"#fdca26\"], [1.0, \"#f0f921\"]], \"type\": \"heatmapgl\"}], \"histogram\": [{\"marker\": {\"colorbar\": {\"outlinewidth\": 0, \"ticks\": \"\"}}, \"type\": \"histogram\"}], \"histogram2d\": [{\"colorbar\": {\"outlinewidth\": 0, \"ticks\": \"\"}, \"colorscale\": [[0.0, \"#0d0887\"], [0.1111111111111111, \"#46039f\"], [0.2222222222222222, \"#7201a8\"], [0.3333333333333333, \"#9c179e\"], [0.4444444444444444, \"#bd3786\"], [0.5555555555555556, \"#d8576b\"], [0.6666666666666666, \"#ed7953\"], [0.7777777777777778, \"#fb9f3a\"], [0.8888888888888888, \"#fdca26\"], [1.0, \"#f0f921\"]], \"type\": \"histogram2d\"}], \"histogram2dcontour\": [{\"colorbar\": {\"outlinewidth\": 0, \"ticks\": \"\"}, \"colorscale\": [[0.0, \"#0d0887\"], [0.1111111111111111, \"#46039f\"], [0.2222222222222222, \"#7201a8\"], [0.3333333333333333, \"#9c179e\"], [0.4444444444444444, \"#bd3786\"], [0.5555555555555556, \"#d8576b\"], [0.6666666666666666, \"#ed7953\"], [0.7777777777777778, \"#fb9f3a\"], [0.8888888888888888, \"#fdca26\"], [1.0, \"#f0f921\"]], \"type\": \"histogram2dcontour\"}], \"mesh3d\": [{\"colorbar\": {\"outlinewidth\": 0, \"ticks\": \"\"}, \"type\": \"mesh3d\"}], \"parcoords\": [{\"line\": {\"colorbar\": {\"outlinewidth\": 0, \"ticks\": \"\"}}, \"type\": \"parcoords\"}], \"pie\": [{\"automargin\": true, \"type\": \"pie\"}], \"scatter\": [{\"marker\": {\"colorbar\": {\"outlinewidth\": 0, \"ticks\": \"\"}}, \"type\": \"scatter\"}], \"scatter3d\": [{\"line\": {\"colorbar\": {\"outlinewidth\": 0, \"ticks\": \"\"}}, \"marker\": {\"colorbar\": {\"outlinewidth\": 0, \"ticks\": \"\"}}, \"type\": \"scatter3d\"}], \"scattercarpet\": [{\"marker\": {\"colorbar\": {\"outlinewidth\": 0, \"ticks\": \"\"}}, \"type\": \"scattercarpet\"}], \"scattergeo\": [{\"marker\": {\"colorbar\": {\"outlinewidth\": 0, \"ticks\": \"\"}}, \"type\": \"scattergeo\"}], \"scattergl\": [{\"marker\": {\"colorbar\": {\"outlinewidth\": 0, \"ticks\": \"\"}}, \"type\": \"scattergl\"}], \"scattermapbox\": [{\"marker\": {\"colorbar\": {\"outlinewidth\": 0, \"ticks\": \"\"}}, \"type\": \"scattermapbox\"}], \"scatterpolar\": [{\"marker\": {\"colorbar\": {\"outlinewidth\": 0, \"ticks\": \"\"}}, \"type\": \"scatterpolar\"}], \"scatterpolargl\": [{\"marker\": {\"colorbar\": {\"outlinewidth\": 0, \"ticks\": \"\"}}, \"type\": \"scatterpolargl\"}], \"scatterternary\": [{\"marker\": {\"colorbar\": {\"outlinewidth\": 0, \"ticks\": \"\"}}, \"type\": \"scatterternary\"}], \"surface\": [{\"colorbar\": {\"outlinewidth\": 0, \"ticks\": \"\"}, \"colorscale\": [[0.0, \"#0d0887\"], [0.1111111111111111, \"#46039f\"], [0.2222222222222222, \"#7201a8\"], [0.3333333333333333, \"#9c179e\"], [0.4444444444444444, \"#bd3786\"], [0.5555555555555556, \"#d8576b\"], [0.6666666666666666, \"#ed7953\"], [0.7777777777777778, \"#fb9f3a\"], [0.8888888888888888, \"#fdca26\"], [1.0, \"#f0f921\"]], \"type\": \"surface\"}], \"table\": [{\"cells\": {\"fill\": {\"color\": \"#EBF0F8\"}, \"line\": {\"color\": \"white\"}}, \"header\": {\"fill\": {\"color\": \"#C8D4E3\"}, \"line\": {\"color\": \"white\"}}, \"type\": \"table\"}]}, \"layout\": {\"annotationdefaults\": {\"arrowcolor\": \"#2a3f5f\", \"arrowhead\": 0, \"arrowwidth\": 1}, \"coloraxis\": {\"colorbar\": {\"outlinewidth\": 0, \"ticks\": \"\"}}, \"colorscale\": {\"diverging\": [[0, \"#8e0152\"], [0.1, \"#c51b7d\"], [0.2, \"#de77ae\"], [0.3, \"#f1b6da\"], [0.4, \"#fde0ef\"], [0.5, \"#f7f7f7\"], [0.6, \"#e6f5d0\"], [0.7, \"#b8e186\"], [0.8, \"#7fbc41\"], [0.9, \"#4d9221\"], [1, \"#276419\"]], \"sequential\": [[0.0, \"#0d0887\"], [0.1111111111111111, \"#46039f\"], [0.2222222222222222, \"#7201a8\"], [0.3333333333333333, \"#9c179e\"], [0.4444444444444444, \"#bd3786\"], [0.5555555555555556, \"#d8576b\"], [0.6666666666666666, \"#ed7953\"], [0.7777777777777778, \"#fb9f3a\"], [0.8888888888888888, \"#fdca26\"], [1.0, \"#f0f921\"]], \"sequentialminus\": [[0.0, \"#0d0887\"], [0.1111111111111111, \"#46039f\"], [0.2222222222222222, \"#7201a8\"], [0.3333333333333333, \"#9c179e\"], [0.4444444444444444, \"#bd3786\"], [0.5555555555555556, \"#d8576b\"], [0.6666666666666666, \"#ed7953\"], [0.7777777777777778, \"#fb9f3a\"], [0.8888888888888888, \"#fdca26\"], [1.0, \"#f0f921\"]]}, \"colorway\": [\"#636efa\", \"#EF553B\", \"#00cc96\", \"#ab63fa\", \"#FFA15A\", \"#19d3f3\", \"#FF6692\", \"#B6E880\", \"#FF97FF\", \"#FECB52\"], \"font\": {\"color\": \"#2a3f5f\"}, \"geo\": {\"bgcolor\": \"white\", \"lakecolor\": \"white\", \"landcolor\": \"#E5ECF6\", \"showlakes\": true, \"showland\": true, \"subunitcolor\": \"white\"}, \"hoverlabel\": {\"align\": \"left\"}, \"hovermode\": \"closest\", \"mapbox\": {\"style\": \"light\"}, \"paper_bgcolor\": \"white\", \"plot_bgcolor\": \"#E5ECF6\", \"polar\": {\"angularaxis\": {\"gridcolor\": \"white\", \"linecolor\": \"white\", \"ticks\": \"\"}, \"bgcolor\": \"#E5ECF6\", \"radialaxis\": {\"gridcolor\": \"white\", \"linecolor\": \"white\", \"ticks\": \"\"}}, \"scene\": {\"xaxis\": {\"backgroundcolor\": \"#E5ECF6\", \"gridcolor\": \"white\", \"gridwidth\": 2, \"linecolor\": \"white\", \"showbackground\": true, \"ticks\": \"\", \"zerolinecolor\": \"white\"}, \"yaxis\": {\"backgroundcolor\": \"#E5ECF6\", \"gridcolor\": \"white\", \"gridwidth\": 2, \"linecolor\": \"white\", \"showbackground\": true, \"ticks\": \"\", \"zerolinecolor\": \"white\"}, \"zaxis\": {\"backgroundcolor\": \"#E5ECF6\", \"gridcolor\": \"white\", \"gridwidth\": 2, \"linecolor\": \"white\", \"showbackground\": true, \"ticks\": \"\", \"zerolinecolor\": \"white\"}}, \"shapedefaults\": {\"line\": {\"color\": \"#2a3f5f\"}}, \"ternary\": {\"aaxis\": {\"gridcolor\": \"white\", \"linecolor\": \"white\", \"ticks\": \"\"}, \"baxis\": {\"gridcolor\": \"white\", \"linecolor\": \"white\", \"ticks\": \"\"}, \"bgcolor\": \"#E5ECF6\", \"caxis\": {\"gridcolor\": \"white\", \"linecolor\": \"white\", \"ticks\": \"\"}}, \"title\": {\"x\": 0.05}, \"xaxis\": {\"automargin\": true, \"gridcolor\": \"white\", \"linecolor\": \"white\", \"ticks\": \"\", \"title\": {\"standoff\": 15}, \"zerolinecolor\": \"white\", \"zerolinewidth\": 2}, \"yaxis\": {\"automargin\": true, \"gridcolor\": \"white\", \"linecolor\": \"white\", \"ticks\": \"\", \"title\": {\"standoff\": 15}, \"zerolinecolor\": \"white\", \"zerolinewidth\": 2}}}, \"title\": {\"text\": \"Relation between Medication quantity and time in study\"}, \"xaxis\": {\"anchor\": \"y\", \"domain\": [0.0, 0.7363], \"title\": {\"text\": \"Time (days) in the treatment\"}}, \"xaxis2\": {\"anchor\": \"y2\", \"domain\": [0.7413, 1.0], \"matches\": \"x2\", \"showgrid\": true, \"showline\": false, \"showticklabels\": false, \"ticks\": \"\"}, \"xaxis3\": {\"anchor\": \"y3\", \"domain\": [0.0, 0.7363], \"matches\": \"x\", \"showgrid\": true, \"showticklabels\": false}, \"xaxis4\": {\"anchor\": \"y4\", \"domain\": [0.7413, 1.0], \"matches\": \"x2\", \"showgrid\": true, \"showline\": false, \"showticklabels\": false, \"ticks\": \"\"}, \"yaxis\": {\"anchor\": \"x\", \"domain\": [0.0, 0.7326], \"title\": {\"text\": \"No. of medication received\"}}, \"yaxis2\": {\"anchor\": \"x2\", \"domain\": [0.0, 0.7326], \"matches\": \"y\", \"showgrid\": true, \"showticklabels\": false}, \"yaxis3\": {\"anchor\": \"x3\", \"domain\": [0.7426, 1.0], \"matches\": \"y3\", \"showgrid\": true, \"showline\": false, \"showticklabels\": false, \"ticks\": \"\"}, \"yaxis4\": {\"anchor\": \"x4\", \"domain\": [0.7426, 1.0], \"matches\": \"y3\", \"showgrid\": true, \"showline\": false, \"showticklabels\": false, \"ticks\": \"\"}},\n",
       "                        {\"responsive\": true}\n",
       "                    ).then(function(){\n",
       "                            \n",
       "var gd = document.getElementById('15c2c2b0-6d14-44e5-8c73-f1ba90190506');\n",
       "var x = new MutationObserver(function (mutations, observer) {{\n",
       "        var display = window.getComputedStyle(gd).display;\n",
       "        if (!display || display === 'none') {{\n",
       "            console.log([gd, 'removed!']);\n",
       "            Plotly.purge(gd);\n",
       "            observer.disconnect();\n",
       "        }}\n",
       "}});\n",
       "\n",
       "// Listen for the removal of the full notebook cells\n",
       "var notebookContainer = gd.closest('#notebook-container');\n",
       "if (notebookContainer) {{\n",
       "    x.observe(notebookContainer, {childList: true});\n",
       "}}\n",
       "\n",
       "// Listen for the clearing of the current output cell\n",
       "var outputEl = gd.closest('.output');\n",
       "if (outputEl) {{\n",
       "    x.observe(outputEl, {childList: true});\n",
       "}}\n",
       "\n",
       "                        })\n",
       "                };\n",
       "                });\n",
       "            </script>\n",
       "        </div>"
      ]
     },
     "metadata": {},
     "output_type": "display_data"
    }
   ],
   "source": [
    "fig = px.scatter(data_frame=dftemp, x='Delta_Time', y='Cantidad_Total',\n",
    "                 marginal_x = \"histogram\",\n",
    "                 marginal_y = \"histogram\"\n",
    "                )\n",
    "fig.update_layout(#xaxis_type = 'log',\n",
    "                 #yaxis_type = 'log',\n",
    "                 title_text = \"Relation between Medication quantity and time in study\",\n",
    "                 xaxis_title = \"Time (days) in the treatment\",\n",
    "                 yaxis_title = \"No. of medication received\"\n",
    "                 )"
   ]
  },
  {
   "cell_type": "markdown",
   "metadata": {},
   "source": [
    "## Analysis\n",
    "We see that there is no simple relation between the amount of time in treatment and the amounth of medication received"
   ]
  },
  {
   "cell_type": "markdown",
   "metadata": {},
   "source": [
    "# Analysis of change of medication"
   ]
  },
  {
   "cell_type": "code",
   "execution_count": 171,
   "metadata": {},
   "outputs": [
    {
     "data": {
      "text/html": [
       "<div>\n",
       "<style scoped>\n",
       "    .dataframe tbody tr th:only-of-type {\n",
       "        vertical-align: middle;\n",
       "    }\n",
       "\n",
       "    .dataframe tbody tr th {\n",
       "        vertical-align: top;\n",
       "    }\n",
       "\n",
       "    .dataframe thead th {\n",
       "        text-align: right;\n",
       "    }\n",
       "</style>\n",
       "<table border=\"1\" class=\"dataframe\">\n",
       "  <thead>\n",
       "    <tr style=\"text-align: right;\">\n",
       "      <th></th>\n",
       "      <th>Identificacion</th>\n",
       "      <th>Cantidad_Total</th>\n",
       "      <th>Conteo_Evento</th>\n",
       "      <th>Delta_Time</th>\n",
       "      <th>Different_MK</th>\n",
       "    </tr>\n",
       "  </thead>\n",
       "  <tbody>\n",
       "    <tr>\n",
       "      <th>0</th>\n",
       "      <td>500547</td>\n",
       "      <td>2</td>\n",
       "      <td>1</td>\n",
       "      <td>0</td>\n",
       "      <td>1</td>\n",
       "    </tr>\n",
       "    <tr>\n",
       "      <th>1</th>\n",
       "      <td>500588</td>\n",
       "      <td>72</td>\n",
       "      <td>28</td>\n",
       "      <td>681</td>\n",
       "      <td>1</td>\n",
       "    </tr>\n",
       "    <tr>\n",
       "      <th>2</th>\n",
       "      <td>502989</td>\n",
       "      <td>42</td>\n",
       "      <td>23</td>\n",
       "      <td>818</td>\n",
       "      <td>1</td>\n",
       "    </tr>\n",
       "    <tr>\n",
       "      <th>3</th>\n",
       "      <td>506808</td>\n",
       "      <td>12</td>\n",
       "      <td>9</td>\n",
       "      <td>211</td>\n",
       "      <td>1</td>\n",
       "    </tr>\n",
       "    <tr>\n",
       "      <th>4</th>\n",
       "      <td>512938</td>\n",
       "      <td>80</td>\n",
       "      <td>20</td>\n",
       "      <td>882</td>\n",
       "      <td>1</td>\n",
       "    </tr>\n",
       "  </tbody>\n",
       "</table>\n",
       "</div>"
      ],
      "text/plain": [
       "   Identificacion  Cantidad_Total  Conteo_Evento  Delta_Time  Different_MK\n",
       "0          500547               2              1           0             1\n",
       "1          500588              72             28         681             1\n",
       "2          502989              42             23         818             1\n",
       "3          506808              12              9         211             1\n",
       "4          512938              80             20         882             1"
      ]
     },
     "execution_count": 171,
     "metadata": {},
     "output_type": "execute_result"
    }
   ],
   "source": [
    "dftemp = dataBiologicos.groupby('Identificacion').agg(\n",
    "    Cantidad_Total=pd.NamedAgg(column='Cantidad', aggfunc=sum),\n",
    "    Conteo_Evento=pd.NamedAgg(column='Cantidad', aggfunc='count'),\n",
    "    Delta_Time=pd.NamedAgg(\n",
    "        column=\"Fecha_Dcto\", \n",
    "        aggfunc=lambda x: (max(x) - min(x)).days),\n",
    "    Different_MK = pd.NamedAgg(column = 'Nom_Generico', aggfunc = 'nunique')\n",
    ").reset_index()\n",
    "dftemp.head()"
   ]
  },
  {
   "cell_type": "markdown",
   "metadata": {},
   "source": [
    "## Figure"
   ]
  },
  {
   "cell_type": "code",
   "execution_count": 172,
   "metadata": {},
   "outputs": [
    {
     "data": {
      "application/vnd.plotly.v1+json": {
       "config": {
        "plotlyServerURL": "https://plot.ly"
       },
       "data": [
        {
         "alignmentgroup": "True",
         "hovertemplate": "Different_MK=%{x}<br>Identificacion=%{y}<extra></extra>",
         "legendgroup": "",
         "marker": {
          "color": "#636efa",
          "line": {
           "color": "#303030",
           "width": 1.5
          }
         },
         "name": "",
         "offsetgroup": "",
         "opacity": 0.9,
         "orientation": "v",
         "showlegend": false,
         "textposition": "auto",
         "type": "bar",
         "x": [
          "1",
          "2",
          "3"
         ],
         "xaxis": "x",
         "y": [
          754,
          70,
          4
         ],
         "yaxis": "y"
        }
       ],
       "layout": {
        "barmode": "relative",
        "legend": {
         "tracegroupgap": 0
        },
        "margin": {
         "t": 60
        },
        "template": {
         "data": {
          "bar": [
           {
            "error_x": {
             "color": "#2a3f5f"
            },
            "error_y": {
             "color": "#2a3f5f"
            },
            "marker": {
             "line": {
              "color": "#E5ECF6",
              "width": 0.5
             }
            },
            "type": "bar"
           }
          ],
          "barpolar": [
           {
            "marker": {
             "line": {
              "color": "#E5ECF6",
              "width": 0.5
             }
            },
            "type": "barpolar"
           }
          ],
          "carpet": [
           {
            "aaxis": {
             "endlinecolor": "#2a3f5f",
             "gridcolor": "white",
             "linecolor": "white",
             "minorgridcolor": "white",
             "startlinecolor": "#2a3f5f"
            },
            "baxis": {
             "endlinecolor": "#2a3f5f",
             "gridcolor": "white",
             "linecolor": "white",
             "minorgridcolor": "white",
             "startlinecolor": "#2a3f5f"
            },
            "type": "carpet"
           }
          ],
          "choropleth": [
           {
            "colorbar": {
             "outlinewidth": 0,
             "ticks": ""
            },
            "type": "choropleth"
           }
          ],
          "contour": [
           {
            "colorbar": {
             "outlinewidth": 0,
             "ticks": ""
            },
            "colorscale": [
             [
              0,
              "#0d0887"
             ],
             [
              0.1111111111111111,
              "#46039f"
             ],
             [
              0.2222222222222222,
              "#7201a8"
             ],
             [
              0.3333333333333333,
              "#9c179e"
             ],
             [
              0.4444444444444444,
              "#bd3786"
             ],
             [
              0.5555555555555556,
              "#d8576b"
             ],
             [
              0.6666666666666666,
              "#ed7953"
             ],
             [
              0.7777777777777778,
              "#fb9f3a"
             ],
             [
              0.8888888888888888,
              "#fdca26"
             ],
             [
              1,
              "#f0f921"
             ]
            ],
            "type": "contour"
           }
          ],
          "contourcarpet": [
           {
            "colorbar": {
             "outlinewidth": 0,
             "ticks": ""
            },
            "type": "contourcarpet"
           }
          ],
          "heatmap": [
           {
            "colorbar": {
             "outlinewidth": 0,
             "ticks": ""
            },
            "colorscale": [
             [
              0,
              "#0d0887"
             ],
             [
              0.1111111111111111,
              "#46039f"
             ],
             [
              0.2222222222222222,
              "#7201a8"
             ],
             [
              0.3333333333333333,
              "#9c179e"
             ],
             [
              0.4444444444444444,
              "#bd3786"
             ],
             [
              0.5555555555555556,
              "#d8576b"
             ],
             [
              0.6666666666666666,
              "#ed7953"
             ],
             [
              0.7777777777777778,
              "#fb9f3a"
             ],
             [
              0.8888888888888888,
              "#fdca26"
             ],
             [
              1,
              "#f0f921"
             ]
            ],
            "type": "heatmap"
           }
          ],
          "heatmapgl": [
           {
            "colorbar": {
             "outlinewidth": 0,
             "ticks": ""
            },
            "colorscale": [
             [
              0,
              "#0d0887"
             ],
             [
              0.1111111111111111,
              "#46039f"
             ],
             [
              0.2222222222222222,
              "#7201a8"
             ],
             [
              0.3333333333333333,
              "#9c179e"
             ],
             [
              0.4444444444444444,
              "#bd3786"
             ],
             [
              0.5555555555555556,
              "#d8576b"
             ],
             [
              0.6666666666666666,
              "#ed7953"
             ],
             [
              0.7777777777777778,
              "#fb9f3a"
             ],
             [
              0.8888888888888888,
              "#fdca26"
             ],
             [
              1,
              "#f0f921"
             ]
            ],
            "type": "heatmapgl"
           }
          ],
          "histogram": [
           {
            "marker": {
             "colorbar": {
              "outlinewidth": 0,
              "ticks": ""
             }
            },
            "type": "histogram"
           }
          ],
          "histogram2d": [
           {
            "colorbar": {
             "outlinewidth": 0,
             "ticks": ""
            },
            "colorscale": [
             [
              0,
              "#0d0887"
             ],
             [
              0.1111111111111111,
              "#46039f"
             ],
             [
              0.2222222222222222,
              "#7201a8"
             ],
             [
              0.3333333333333333,
              "#9c179e"
             ],
             [
              0.4444444444444444,
              "#bd3786"
             ],
             [
              0.5555555555555556,
              "#d8576b"
             ],
             [
              0.6666666666666666,
              "#ed7953"
             ],
             [
              0.7777777777777778,
              "#fb9f3a"
             ],
             [
              0.8888888888888888,
              "#fdca26"
             ],
             [
              1,
              "#f0f921"
             ]
            ],
            "type": "histogram2d"
           }
          ],
          "histogram2dcontour": [
           {
            "colorbar": {
             "outlinewidth": 0,
             "ticks": ""
            },
            "colorscale": [
             [
              0,
              "#0d0887"
             ],
             [
              0.1111111111111111,
              "#46039f"
             ],
             [
              0.2222222222222222,
              "#7201a8"
             ],
             [
              0.3333333333333333,
              "#9c179e"
             ],
             [
              0.4444444444444444,
              "#bd3786"
             ],
             [
              0.5555555555555556,
              "#d8576b"
             ],
             [
              0.6666666666666666,
              "#ed7953"
             ],
             [
              0.7777777777777778,
              "#fb9f3a"
             ],
             [
              0.8888888888888888,
              "#fdca26"
             ],
             [
              1,
              "#f0f921"
             ]
            ],
            "type": "histogram2dcontour"
           }
          ],
          "mesh3d": [
           {
            "colorbar": {
             "outlinewidth": 0,
             "ticks": ""
            },
            "type": "mesh3d"
           }
          ],
          "parcoords": [
           {
            "line": {
             "colorbar": {
              "outlinewidth": 0,
              "ticks": ""
             }
            },
            "type": "parcoords"
           }
          ],
          "pie": [
           {
            "automargin": true,
            "type": "pie"
           }
          ],
          "scatter": [
           {
            "marker": {
             "colorbar": {
              "outlinewidth": 0,
              "ticks": ""
             }
            },
            "type": "scatter"
           }
          ],
          "scatter3d": [
           {
            "line": {
             "colorbar": {
              "outlinewidth": 0,
              "ticks": ""
             }
            },
            "marker": {
             "colorbar": {
              "outlinewidth": 0,
              "ticks": ""
             }
            },
            "type": "scatter3d"
           }
          ],
          "scattercarpet": [
           {
            "marker": {
             "colorbar": {
              "outlinewidth": 0,
              "ticks": ""
             }
            },
            "type": "scattercarpet"
           }
          ],
          "scattergeo": [
           {
            "marker": {
             "colorbar": {
              "outlinewidth": 0,
              "ticks": ""
             }
            },
            "type": "scattergeo"
           }
          ],
          "scattergl": [
           {
            "marker": {
             "colorbar": {
              "outlinewidth": 0,
              "ticks": ""
             }
            },
            "type": "scattergl"
           }
          ],
          "scattermapbox": [
           {
            "marker": {
             "colorbar": {
              "outlinewidth": 0,
              "ticks": ""
             }
            },
            "type": "scattermapbox"
           }
          ],
          "scatterpolar": [
           {
            "marker": {
             "colorbar": {
              "outlinewidth": 0,
              "ticks": ""
             }
            },
            "type": "scatterpolar"
           }
          ],
          "scatterpolargl": [
           {
            "marker": {
             "colorbar": {
              "outlinewidth": 0,
              "ticks": ""
             }
            },
            "type": "scatterpolargl"
           }
          ],
          "scatterternary": [
           {
            "marker": {
             "colorbar": {
              "outlinewidth": 0,
              "ticks": ""
             }
            },
            "type": "scatterternary"
           }
          ],
          "surface": [
           {
            "colorbar": {
             "outlinewidth": 0,
             "ticks": ""
            },
            "colorscale": [
             [
              0,
              "#0d0887"
             ],
             [
              0.1111111111111111,
              "#46039f"
             ],
             [
              0.2222222222222222,
              "#7201a8"
             ],
             [
              0.3333333333333333,
              "#9c179e"
             ],
             [
              0.4444444444444444,
              "#bd3786"
             ],
             [
              0.5555555555555556,
              "#d8576b"
             ],
             [
              0.6666666666666666,
              "#ed7953"
             ],
             [
              0.7777777777777778,
              "#fb9f3a"
             ],
             [
              0.8888888888888888,
              "#fdca26"
             ],
             [
              1,
              "#f0f921"
             ]
            ],
            "type": "surface"
           }
          ],
          "table": [
           {
            "cells": {
             "fill": {
              "color": "#EBF0F8"
             },
             "line": {
              "color": "white"
             }
            },
            "header": {
             "fill": {
              "color": "#C8D4E3"
             },
             "line": {
              "color": "white"
             }
            },
            "type": "table"
           }
          ]
         },
         "layout": {
          "annotationdefaults": {
           "arrowcolor": "#2a3f5f",
           "arrowhead": 0,
           "arrowwidth": 1
          },
          "coloraxis": {
           "colorbar": {
            "outlinewidth": 0,
            "ticks": ""
           }
          },
          "colorscale": {
           "diverging": [
            [
             0,
             "#8e0152"
            ],
            [
             0.1,
             "#c51b7d"
            ],
            [
             0.2,
             "#de77ae"
            ],
            [
             0.3,
             "#f1b6da"
            ],
            [
             0.4,
             "#fde0ef"
            ],
            [
             0.5,
             "#f7f7f7"
            ],
            [
             0.6,
             "#e6f5d0"
            ],
            [
             0.7,
             "#b8e186"
            ],
            [
             0.8,
             "#7fbc41"
            ],
            [
             0.9,
             "#4d9221"
            ],
            [
             1,
             "#276419"
            ]
           ],
           "sequential": [
            [
             0,
             "#0d0887"
            ],
            [
             0.1111111111111111,
             "#46039f"
            ],
            [
             0.2222222222222222,
             "#7201a8"
            ],
            [
             0.3333333333333333,
             "#9c179e"
            ],
            [
             0.4444444444444444,
             "#bd3786"
            ],
            [
             0.5555555555555556,
             "#d8576b"
            ],
            [
             0.6666666666666666,
             "#ed7953"
            ],
            [
             0.7777777777777778,
             "#fb9f3a"
            ],
            [
             0.8888888888888888,
             "#fdca26"
            ],
            [
             1,
             "#f0f921"
            ]
           ],
           "sequentialminus": [
            [
             0,
             "#0d0887"
            ],
            [
             0.1111111111111111,
             "#46039f"
            ],
            [
             0.2222222222222222,
             "#7201a8"
            ],
            [
             0.3333333333333333,
             "#9c179e"
            ],
            [
             0.4444444444444444,
             "#bd3786"
            ],
            [
             0.5555555555555556,
             "#d8576b"
            ],
            [
             0.6666666666666666,
             "#ed7953"
            ],
            [
             0.7777777777777778,
             "#fb9f3a"
            ],
            [
             0.8888888888888888,
             "#fdca26"
            ],
            [
             1,
             "#f0f921"
            ]
           ]
          },
          "colorway": [
           "#636efa",
           "#EF553B",
           "#00cc96",
           "#ab63fa",
           "#FFA15A",
           "#19d3f3",
           "#FF6692",
           "#B6E880",
           "#FF97FF",
           "#FECB52"
          ],
          "font": {
           "color": "#2a3f5f"
          },
          "geo": {
           "bgcolor": "white",
           "lakecolor": "white",
           "landcolor": "#E5ECF6",
           "showlakes": true,
           "showland": true,
           "subunitcolor": "white"
          },
          "hoverlabel": {
           "align": "left"
          },
          "hovermode": "closest",
          "mapbox": {
           "style": "light"
          },
          "paper_bgcolor": "white",
          "plot_bgcolor": "#E5ECF6",
          "polar": {
           "angularaxis": {
            "gridcolor": "white",
            "linecolor": "white",
            "ticks": ""
           },
           "bgcolor": "#E5ECF6",
           "radialaxis": {
            "gridcolor": "white",
            "linecolor": "white",
            "ticks": ""
           }
          },
          "scene": {
           "xaxis": {
            "backgroundcolor": "#E5ECF6",
            "gridcolor": "white",
            "gridwidth": 2,
            "linecolor": "white",
            "showbackground": true,
            "ticks": "",
            "zerolinecolor": "white"
           },
           "yaxis": {
            "backgroundcolor": "#E5ECF6",
            "gridcolor": "white",
            "gridwidth": 2,
            "linecolor": "white",
            "showbackground": true,
            "ticks": "",
            "zerolinecolor": "white"
           },
           "zaxis": {
            "backgroundcolor": "#E5ECF6",
            "gridcolor": "white",
            "gridwidth": 2,
            "linecolor": "white",
            "showbackground": true,
            "ticks": "",
            "zerolinecolor": "white"
           }
          },
          "shapedefaults": {
           "line": {
            "color": "#2a3f5f"
           }
          },
          "ternary": {
           "aaxis": {
            "gridcolor": "white",
            "linecolor": "white",
            "ticks": ""
           },
           "baxis": {
            "gridcolor": "white",
            "linecolor": "white",
            "ticks": ""
           },
           "bgcolor": "#E5ECF6",
           "caxis": {
            "gridcolor": "white",
            "linecolor": "white",
            "ticks": ""
           }
          },
          "title": {
           "x": 0.05
          },
          "xaxis": {
           "automargin": true,
           "gridcolor": "white",
           "linecolor": "white",
           "ticks": "",
           "title": {
            "standoff": 15
           },
           "zerolinecolor": "white",
           "zerolinewidth": 2
          },
          "yaxis": {
           "automargin": true,
           "gridcolor": "white",
           "linecolor": "white",
           "ticks": "",
           "title": {
            "standoff": 15
           },
           "zerolinecolor": "white",
           "zerolinewidth": 2
          }
         }
        },
        "xaxis": {
         "anchor": "y",
         "domain": [
          0,
          1
         ],
         "title": {
          "text": "No. of differente treatment"
         }
        },
        "yaxis": {
         "anchor": "x",
         "domain": [
          0,
          1
         ],
         "title": {
          "text": "No. of patients"
         }
        }
       }
      },
      "text/html": [
       "<div>\n",
       "        \n",
       "        \n",
       "            <div id=\"ce6cc94a-b1c1-4ca8-b00b-290f6044eb2a\" class=\"plotly-graph-div\" style=\"height:525px; width:100%;\"></div>\n",
       "            <script type=\"text/javascript\">\n",
       "                require([\"plotly\"], function(Plotly) {\n",
       "                    window.PLOTLYENV=window.PLOTLYENV || {};\n",
       "                    \n",
       "                if (document.getElementById(\"ce6cc94a-b1c1-4ca8-b00b-290f6044eb2a\")) {\n",
       "                    Plotly.newPlot(\n",
       "                        'ce6cc94a-b1c1-4ca8-b00b-290f6044eb2a',\n",
       "                        [{\"alignmentgroup\": \"True\", \"hovertemplate\": \"Different_MK=%{x}<br>Identificacion=%{y}<extra></extra>\", \"legendgroup\": \"\", \"marker\": {\"color\": \"#636efa\", \"line\": {\"color\": \"#303030\", \"width\": 1.5}}, \"name\": \"\", \"offsetgroup\": \"\", \"opacity\": 0.9, \"orientation\": \"v\", \"showlegend\": false, \"textposition\": \"auto\", \"type\": \"bar\", \"x\": [\"1\", \"2\", \"3\"], \"xaxis\": \"x\", \"y\": [754, 70, 4], \"yaxis\": \"y\"}],\n",
       "                        {\"barmode\": \"relative\", \"legend\": {\"tracegroupgap\": 0}, \"margin\": {\"t\": 60}, \"template\": {\"data\": {\"bar\": [{\"error_x\": {\"color\": \"#2a3f5f\"}, \"error_y\": {\"color\": \"#2a3f5f\"}, \"marker\": {\"line\": {\"color\": \"#E5ECF6\", \"width\": 0.5}}, \"type\": \"bar\"}], \"barpolar\": [{\"marker\": {\"line\": {\"color\": \"#E5ECF6\", \"width\": 0.5}}, \"type\": \"barpolar\"}], \"carpet\": [{\"aaxis\": {\"endlinecolor\": \"#2a3f5f\", \"gridcolor\": \"white\", \"linecolor\": \"white\", \"minorgridcolor\": \"white\", \"startlinecolor\": \"#2a3f5f\"}, \"baxis\": {\"endlinecolor\": \"#2a3f5f\", \"gridcolor\": \"white\", \"linecolor\": \"white\", \"minorgridcolor\": \"white\", \"startlinecolor\": \"#2a3f5f\"}, \"type\": \"carpet\"}], \"choropleth\": [{\"colorbar\": {\"outlinewidth\": 0, \"ticks\": \"\"}, \"type\": \"choropleth\"}], \"contour\": [{\"colorbar\": {\"outlinewidth\": 0, \"ticks\": \"\"}, \"colorscale\": [[0.0, \"#0d0887\"], [0.1111111111111111, \"#46039f\"], [0.2222222222222222, \"#7201a8\"], [0.3333333333333333, \"#9c179e\"], [0.4444444444444444, \"#bd3786\"], [0.5555555555555556, \"#d8576b\"], [0.6666666666666666, \"#ed7953\"], [0.7777777777777778, \"#fb9f3a\"], [0.8888888888888888, \"#fdca26\"], [1.0, \"#f0f921\"]], \"type\": \"contour\"}], \"contourcarpet\": [{\"colorbar\": {\"outlinewidth\": 0, \"ticks\": \"\"}, \"type\": \"contourcarpet\"}], \"heatmap\": [{\"colorbar\": {\"outlinewidth\": 0, \"ticks\": \"\"}, \"colorscale\": [[0.0, \"#0d0887\"], [0.1111111111111111, \"#46039f\"], [0.2222222222222222, \"#7201a8\"], [0.3333333333333333, \"#9c179e\"], [0.4444444444444444, \"#bd3786\"], [0.5555555555555556, \"#d8576b\"], [0.6666666666666666, \"#ed7953\"], [0.7777777777777778, \"#fb9f3a\"], [0.8888888888888888, \"#fdca26\"], [1.0, \"#f0f921\"]], \"type\": \"heatmap\"}], \"heatmapgl\": [{\"colorbar\": {\"outlinewidth\": 0, \"ticks\": \"\"}, \"colorscale\": [[0.0, \"#0d0887\"], [0.1111111111111111, \"#46039f\"], [0.2222222222222222, \"#7201a8\"], [0.3333333333333333, \"#9c179e\"], [0.4444444444444444, \"#bd3786\"], [0.5555555555555556, \"#d8576b\"], [0.6666666666666666, \"#ed7953\"], [0.7777777777777778, \"#fb9f3a\"], [0.8888888888888888, \"#fdca26\"], [1.0, \"#f0f921\"]], \"type\": \"heatmapgl\"}], \"histogram\": [{\"marker\": {\"colorbar\": {\"outlinewidth\": 0, \"ticks\": \"\"}}, \"type\": \"histogram\"}], \"histogram2d\": [{\"colorbar\": {\"outlinewidth\": 0, \"ticks\": \"\"}, \"colorscale\": [[0.0, \"#0d0887\"], [0.1111111111111111, \"#46039f\"], [0.2222222222222222, \"#7201a8\"], [0.3333333333333333, \"#9c179e\"], [0.4444444444444444, \"#bd3786\"], [0.5555555555555556, \"#d8576b\"], [0.6666666666666666, \"#ed7953\"], [0.7777777777777778, \"#fb9f3a\"], [0.8888888888888888, \"#fdca26\"], [1.0, \"#f0f921\"]], \"type\": \"histogram2d\"}], \"histogram2dcontour\": [{\"colorbar\": {\"outlinewidth\": 0, \"ticks\": \"\"}, \"colorscale\": [[0.0, \"#0d0887\"], [0.1111111111111111, \"#46039f\"], [0.2222222222222222, \"#7201a8\"], [0.3333333333333333, \"#9c179e\"], [0.4444444444444444, \"#bd3786\"], [0.5555555555555556, \"#d8576b\"], [0.6666666666666666, \"#ed7953\"], [0.7777777777777778, \"#fb9f3a\"], [0.8888888888888888, \"#fdca26\"], [1.0, \"#f0f921\"]], \"type\": \"histogram2dcontour\"}], \"mesh3d\": [{\"colorbar\": {\"outlinewidth\": 0, \"ticks\": \"\"}, \"type\": \"mesh3d\"}], \"parcoords\": [{\"line\": {\"colorbar\": {\"outlinewidth\": 0, \"ticks\": \"\"}}, \"type\": \"parcoords\"}], \"pie\": [{\"automargin\": true, \"type\": \"pie\"}], \"scatter\": [{\"marker\": {\"colorbar\": {\"outlinewidth\": 0, \"ticks\": \"\"}}, \"type\": \"scatter\"}], \"scatter3d\": [{\"line\": {\"colorbar\": {\"outlinewidth\": 0, \"ticks\": \"\"}}, \"marker\": {\"colorbar\": {\"outlinewidth\": 0, \"ticks\": \"\"}}, \"type\": \"scatter3d\"}], \"scattercarpet\": [{\"marker\": {\"colorbar\": {\"outlinewidth\": 0, \"ticks\": \"\"}}, \"type\": \"scattercarpet\"}], \"scattergeo\": [{\"marker\": {\"colorbar\": {\"outlinewidth\": 0, \"ticks\": \"\"}}, \"type\": \"scattergeo\"}], \"scattergl\": [{\"marker\": {\"colorbar\": {\"outlinewidth\": 0, \"ticks\": \"\"}}, \"type\": \"scattergl\"}], \"scattermapbox\": [{\"marker\": {\"colorbar\": {\"outlinewidth\": 0, \"ticks\": \"\"}}, \"type\": \"scattermapbox\"}], \"scatterpolar\": [{\"marker\": {\"colorbar\": {\"outlinewidth\": 0, \"ticks\": \"\"}}, \"type\": \"scatterpolar\"}], \"scatterpolargl\": [{\"marker\": {\"colorbar\": {\"outlinewidth\": 0, \"ticks\": \"\"}}, \"type\": \"scatterpolargl\"}], \"scatterternary\": [{\"marker\": {\"colorbar\": {\"outlinewidth\": 0, \"ticks\": \"\"}}, \"type\": \"scatterternary\"}], \"surface\": [{\"colorbar\": {\"outlinewidth\": 0, \"ticks\": \"\"}, \"colorscale\": [[0.0, \"#0d0887\"], [0.1111111111111111, \"#46039f\"], [0.2222222222222222, \"#7201a8\"], [0.3333333333333333, \"#9c179e\"], [0.4444444444444444, \"#bd3786\"], [0.5555555555555556, \"#d8576b\"], [0.6666666666666666, \"#ed7953\"], [0.7777777777777778, \"#fb9f3a\"], [0.8888888888888888, \"#fdca26\"], [1.0, \"#f0f921\"]], \"type\": \"surface\"}], \"table\": [{\"cells\": {\"fill\": {\"color\": \"#EBF0F8\"}, \"line\": {\"color\": \"white\"}}, \"header\": {\"fill\": {\"color\": \"#C8D4E3\"}, \"line\": {\"color\": \"white\"}}, \"type\": \"table\"}]}, \"layout\": {\"annotationdefaults\": {\"arrowcolor\": \"#2a3f5f\", \"arrowhead\": 0, \"arrowwidth\": 1}, \"coloraxis\": {\"colorbar\": {\"outlinewidth\": 0, \"ticks\": \"\"}}, \"colorscale\": {\"diverging\": [[0, \"#8e0152\"], [0.1, \"#c51b7d\"], [0.2, \"#de77ae\"], [0.3, \"#f1b6da\"], [0.4, \"#fde0ef\"], [0.5, \"#f7f7f7\"], [0.6, \"#e6f5d0\"], [0.7, \"#b8e186\"], [0.8, \"#7fbc41\"], [0.9, \"#4d9221\"], [1, \"#276419\"]], \"sequential\": [[0.0, \"#0d0887\"], [0.1111111111111111, \"#46039f\"], [0.2222222222222222, \"#7201a8\"], [0.3333333333333333, \"#9c179e\"], [0.4444444444444444, \"#bd3786\"], [0.5555555555555556, \"#d8576b\"], [0.6666666666666666, \"#ed7953\"], [0.7777777777777778, \"#fb9f3a\"], [0.8888888888888888, \"#fdca26\"], [1.0, \"#f0f921\"]], \"sequentialminus\": [[0.0, \"#0d0887\"], [0.1111111111111111, \"#46039f\"], [0.2222222222222222, \"#7201a8\"], [0.3333333333333333, \"#9c179e\"], [0.4444444444444444, \"#bd3786\"], [0.5555555555555556, \"#d8576b\"], [0.6666666666666666, \"#ed7953\"], [0.7777777777777778, \"#fb9f3a\"], [0.8888888888888888, \"#fdca26\"], [1.0, \"#f0f921\"]]}, \"colorway\": [\"#636efa\", \"#EF553B\", \"#00cc96\", \"#ab63fa\", \"#FFA15A\", \"#19d3f3\", \"#FF6692\", \"#B6E880\", \"#FF97FF\", \"#FECB52\"], \"font\": {\"color\": \"#2a3f5f\"}, \"geo\": {\"bgcolor\": \"white\", \"lakecolor\": \"white\", \"landcolor\": \"#E5ECF6\", \"showlakes\": true, \"showland\": true, \"subunitcolor\": \"white\"}, \"hoverlabel\": {\"align\": \"left\"}, \"hovermode\": \"closest\", \"mapbox\": {\"style\": \"light\"}, \"paper_bgcolor\": \"white\", \"plot_bgcolor\": \"#E5ECF6\", \"polar\": {\"angularaxis\": {\"gridcolor\": \"white\", \"linecolor\": \"white\", \"ticks\": \"\"}, \"bgcolor\": \"#E5ECF6\", \"radialaxis\": {\"gridcolor\": \"white\", \"linecolor\": \"white\", \"ticks\": \"\"}}, \"scene\": {\"xaxis\": {\"backgroundcolor\": \"#E5ECF6\", \"gridcolor\": \"white\", \"gridwidth\": 2, \"linecolor\": \"white\", \"showbackground\": true, \"ticks\": \"\", \"zerolinecolor\": \"white\"}, \"yaxis\": {\"backgroundcolor\": \"#E5ECF6\", \"gridcolor\": \"white\", \"gridwidth\": 2, \"linecolor\": \"white\", \"showbackground\": true, \"ticks\": \"\", \"zerolinecolor\": \"white\"}, \"zaxis\": {\"backgroundcolor\": \"#E5ECF6\", \"gridcolor\": \"white\", \"gridwidth\": 2, \"linecolor\": \"white\", \"showbackground\": true, \"ticks\": \"\", \"zerolinecolor\": \"white\"}}, \"shapedefaults\": {\"line\": {\"color\": \"#2a3f5f\"}}, \"ternary\": {\"aaxis\": {\"gridcolor\": \"white\", \"linecolor\": \"white\", \"ticks\": \"\"}, \"baxis\": {\"gridcolor\": \"white\", \"linecolor\": \"white\", \"ticks\": \"\"}, \"bgcolor\": \"#E5ECF6\", \"caxis\": {\"gridcolor\": \"white\", \"linecolor\": \"white\", \"ticks\": \"\"}}, \"title\": {\"x\": 0.05}, \"xaxis\": {\"automargin\": true, \"gridcolor\": \"white\", \"linecolor\": \"white\", \"ticks\": \"\", \"title\": {\"standoff\": 15}, \"zerolinecolor\": \"white\", \"zerolinewidth\": 2}, \"yaxis\": {\"automargin\": true, \"gridcolor\": \"white\", \"linecolor\": \"white\", \"ticks\": \"\", \"title\": {\"standoff\": 15}, \"zerolinecolor\": \"white\", \"zerolinewidth\": 2}}}, \"xaxis\": {\"anchor\": \"y\", \"domain\": [0.0, 1.0], \"title\": {\"text\": \"No. of differente treatment\"}}, \"yaxis\": {\"anchor\": \"x\", \"domain\": [0.0, 1.0], \"title\": {\"text\": \"No. of patients\"}}},\n",
       "                        {\"responsive\": true}\n",
       "                    ).then(function(){\n",
       "                            \n",
       "var gd = document.getElementById('ce6cc94a-b1c1-4ca8-b00b-290f6044eb2a');\n",
       "var x = new MutationObserver(function (mutations, observer) {{\n",
       "        var display = window.getComputedStyle(gd).display;\n",
       "        if (!display || display === 'none') {{\n",
       "            console.log([gd, 'removed!']);\n",
       "            Plotly.purge(gd);\n",
       "            observer.disconnect();\n",
       "        }}\n",
       "}});\n",
       "\n",
       "// Listen for the removal of the full notebook cells\n",
       "var notebookContainer = gd.closest('#notebook-container');\n",
       "if (notebookContainer) {{\n",
       "    x.observe(notebookContainer, {childList: true});\n",
       "}}\n",
       "\n",
       "// Listen for the clearing of the current output cell\n",
       "var outputEl = gd.closest('.output');\n",
       "if (outputEl) {{\n",
       "    x.observe(outputEl, {childList: true});\n",
       "}}\n",
       "\n",
       "                        })\n",
       "                };\n",
       "                });\n",
       "            </script>\n",
       "        </div>"
      ]
     },
     "metadata": {},
     "output_type": "display_data"
    }
   ],
   "source": [
    "dftemp['Different_MK']=dftemp['Different_MK'].astype(str)\n",
    "dftemp.head()\n",
    "#dftemp = dftemp.reset_index()\n",
    "dftemp2 = dftemp.groupby(['Different_MK']).count().reset_index()\n",
    "#dftemp2 = dftemp2.reset_index()\n",
    "fig = px.bar(data_frame=dftemp2, x='Different_MK', y = 'Identificacion')\n",
    "fig = fig.update_layout(\n",
    "    xaxis_title = \"No. of differente treatment\",\n",
    "    yaxis_title = \"No. of patients\"\n",
    "                 )\n",
    "fig.update_traces(\n",
    "    marker_line_color='#303030',\n",
    "    marker_line_width=1.5,\n",
    "    opacity=0.9\n",
    ")"
   ]
  },
  {
   "cell_type": "code",
   "execution_count": 173,
   "metadata": {},
   "outputs": [
    {
     "data": {
      "application/vnd.plotly.v1+json": {
       "config": {
        "plotlyServerURL": "https://plot.ly"
       },
       "data": [
        {
         "hovertemplate": "Different_MK=1<br>Delta_Time=%{x}<br>Cantidad_Total=%{y}<extra></extra>",
         "legendgroup": "1",
         "marker": {
          "color": "#3366CC",
          "line": {
           "color": "DarkSlateGrey",
           "width": 2
          },
          "size": 8,
          "symbol": "circle"
         },
         "mode": "markers",
         "name": "1",
         "showlegend": true,
         "type": "scatter",
         "x": [
          0,
          681,
          818,
          211,
          882,
          871,
          867,
          0,
          40,
          85,
          66,
          498,
          318,
          62,
          44,
          867,
          30,
          804,
          751,
          61,
          380,
          121,
          0,
          62,
          0,
          241,
          0,
          239,
          318,
          720,
          0,
          0,
          29,
          135,
          648,
          62,
          401,
          0,
          7,
          61,
          586,
          69,
          0,
          245,
          788,
          0,
          0,
          542,
          741,
          817,
          0,
          0,
          422,
          58,
          554,
          262,
          0,
          0,
          712,
          69,
          698,
          180,
          200,
          0,
          414,
          58,
          0,
          539,
          0,
          869,
          79,
          0,
          43,
          158,
          0,
          37,
          0,
          598,
          849,
          896,
          667,
          846,
          727,
          0,
          697,
          0,
          65,
          883,
          70,
          525,
          58,
          351,
          0,
          264,
          891,
          892,
          169,
          776,
          841,
          891,
          150,
          603,
          477,
          0,
          894,
          262,
          21,
          888,
          555,
          180,
          346,
          57,
          230,
          530,
          261,
          499,
          874,
          862,
          139,
          637,
          41,
          885,
          62,
          460,
          900,
          63,
          64,
          737,
          395,
          0,
          196,
          0,
          264,
          148,
          35,
          502,
          367,
          370,
          0,
          0,
          485,
          0,
          557,
          464,
          0,
          547,
          74,
          266,
          431,
          223,
          375,
          547,
          750,
          256,
          148,
          190,
          262,
          641,
          239,
          0,
          868,
          0,
          176,
          303,
          0,
          885,
          784,
          0,
          611,
          106,
          875,
          360,
          149,
          28,
          426,
          531,
          155,
          0,
          336,
          30,
          743,
          891,
          259,
          14,
          392,
          834,
          1,
          507,
          0,
          703,
          566,
          748,
          210,
          366,
          887,
          0,
          72,
          884,
          0,
          31,
          829,
          834,
          774,
          0,
          820,
          41,
          825,
          202,
          86,
          810,
          29,
          794,
          455,
          0,
          653,
          40,
          97,
          175,
          0,
          845,
          411,
          553,
          0,
          52,
          0,
          651,
          377,
          215,
          667,
          363,
          319,
          0,
          823,
          882,
          60,
          345,
          871,
          0,
          65,
          755,
          0,
          0,
          181,
          113,
          247,
          127,
          69,
          30,
          365,
          0,
          313,
          277,
          211,
          807,
          861,
          0,
          885,
          694,
          556,
          571,
          544,
          724,
          698,
          120,
          89,
          0,
          61,
          646,
          458,
          366,
          847,
          269,
          643,
          491,
          399,
          814,
          572,
          75,
          0,
          0,
          0,
          0,
          32,
          896,
          28,
          565,
          874,
          0,
          691,
          297,
          267,
          0,
          859,
          896,
          56,
          245,
          0,
          777,
          0,
          577,
          282,
          91,
          307,
          867,
          835,
          0,
          406,
          124,
          181,
          700,
          146,
          409,
          854,
          861,
          331,
          896,
          0,
          869,
          732,
          903,
          739,
          400,
          637,
          545,
          135,
          852,
          375,
          460,
          243,
          498,
          419,
          0,
          0,
          130,
          211,
          115,
          783,
          248,
          419,
          900,
          1171,
          463,
          356,
          251,
          122,
          716,
          5,
          608,
          103,
          113,
          0,
          0,
          0,
          0,
          237,
          238,
          867,
          136,
          82,
          880,
          743,
          880,
          893,
          112,
          580,
          725,
          0,
          273,
          330,
          0,
          870,
          0,
          0,
          874,
          489,
          841,
          567,
          226,
          902,
          822,
          88,
          123,
          0,
          713,
          0,
          252,
          881,
          0,
          764,
          120,
          118,
          74,
          666,
          30,
          124,
          565,
          109,
          61,
          0,
          237,
          167,
          840,
          528,
          876,
          0,
          726,
          874,
          880,
          0,
          85,
          63,
          267,
          833,
          0,
          254,
          146,
          0,
          0,
          897,
          879,
          62,
          822,
          61,
          0,
          799,
          64,
          0,
          102,
          0,
          865,
          753,
          717,
          63,
          306,
          60,
          0,
          588,
          0,
          881,
          238,
          684,
          275,
          429,
          634,
          236,
          61,
          0,
          398,
          469,
          0,
          718,
          57,
          505,
          92,
          143,
          60,
          0,
          0,
          715,
          859,
          348,
          231,
          535,
          340,
          0,
          292,
          211,
          863,
          481,
          5,
          109,
          72,
          450,
          150,
          7,
          260,
          526,
          503,
          0,
          90,
          0,
          0,
          344,
          62,
          852,
          817,
          873,
          0,
          641,
          0,
          145,
          84,
          125,
          265,
          839,
          831,
          178,
          505,
          392,
          374,
          884,
          695,
          281,
          571,
          634,
          779,
          243,
          0,
          511,
          840,
          708,
          858,
          85,
          516,
          868,
          571,
          461,
          304,
          0,
          0,
          904,
          356,
          71,
          33,
          168,
          427,
          527,
          866,
          738,
          869,
          34,
          638,
          246,
          372,
          876,
          0,
          26,
          224,
          217,
          413,
          637,
          0,
          0,
          324,
          890,
          298,
          870,
          588,
          799,
          873,
          583,
          0,
          235,
          0,
          0,
          0,
          64,
          21,
          334,
          455,
          30,
          280,
          93,
          284,
          388,
          379,
          720,
          0,
          577,
          638,
          890,
          0,
          270,
          0,
          882,
          966,
          246,
          30,
          27,
          378,
          642,
          30,
          888,
          83,
          147,
          0,
          32,
          875,
          190,
          894,
          0,
          151,
          881,
          574,
          315,
          0,
          13,
          418,
          27,
          0,
          0,
          665,
          84,
          840,
          905,
          861,
          104,
          418,
          716,
          7,
          367,
          47,
          88,
          904,
          716,
          173,
          306,
          0,
          873,
          434,
          517,
          0,
          0,
          7,
          0,
          678,
          252,
          876,
          0,
          0,
          7,
          583,
          863,
          0,
          0,
          432,
          24,
          0,
          876,
          215,
          79,
          0,
          793,
          0,
          404,
          853,
          786,
          154,
          447,
          876,
          873,
          356,
          92,
          0,
          0,
          889,
          129,
          819,
          247,
          630,
          522,
          241,
          609,
          294,
          853,
          423,
          533,
          122,
          627,
          755,
          616,
          87,
          819,
          371,
          832,
          0,
          875,
          66,
          868,
          0,
          730,
          63,
          0,
          709,
          760,
          873,
          0,
          527,
          0,
          237,
          269,
          776,
          0,
          860,
          0,
          811,
          32,
          817,
          518,
          795,
          488,
          35,
          292,
          684,
          32,
          371,
          548,
          57,
          444,
          46,
          157,
          121,
          40,
          574,
          78,
          763,
          282,
          748,
          516,
          660,
          389,
          551,
          285,
          91,
          780,
          0,
          236,
          889,
          28,
          212,
          721,
          127,
          486,
          89,
          0,
          30,
          867,
          156,
          0,
          181,
          0,
          885,
          760,
          692,
          48,
          841,
          0,
          736,
          0,
          880,
          852,
          712,
          897,
          662
         ],
         "xaxis": "x",
         "y": [
          2,
          72,
          42,
          12,
          80,
          100,
          58,
          1,
          2,
          8,
          9,
          16,
          27,
          6,
          4,
          130,
          6,
          60,
          41,
          4,
          18,
          18,
          4,
          6,
          2,
          6,
          2,
          3,
          30,
          16,
          2,
          2,
          4,
          33,
          108,
          6,
          7,
          2,
          4,
          4,
          60,
          3,
          1,
          7,
          18,
          2,
          1,
          84,
          3,
          22,
          2,
          2,
          30,
          2,
          94,
          6,
          2,
          2,
          23,
          3,
          42,
          5,
          10,
          0,
          44,
          6,
          2,
          30,
          0,
          8,
          6,
          1,
          2,
          33,
          2,
          2,
          2,
          18,
          104,
          94,
          35,
          46,
          150,
          2,
          84,
          2,
          4,
          58,
          6,
          6,
          2,
          36,
          2,
          12,
          20,
          116,
          5,
          64,
          38,
          79,
          18,
          17,
          32,
          2,
          101,
          40,
          8,
          58,
          8,
          24,
          22,
          6,
          21,
          66,
          6,
          21,
          137,
          164,
          8,
          68,
          5,
          144,
          7,
          15,
          61,
          3,
          3,
          6,
          2,
          2,
          5,
          2,
          12,
          2,
          4,
          42,
          8,
          8,
          1,
          2,
          14,
          2,
          104,
          10,
          1,
          62,
          4,
          18,
          8,
          64,
          4,
          34,
          64,
          9,
          13,
          12,
          10,
          56,
          36,
          2,
          73,
          3,
          40,
          30,
          4,
          68,
          56,
          2,
          2,
          8,
          69,
          12,
          12,
          6,
          45,
          46,
          33,
          2,
          24,
          4,
          12,
          98,
          14,
          3,
          28,
          27,
          3,
          16,
          2,
          110,
          16,
          51,
          57,
          31,
          115,
          2,
          8,
          42,
          4,
          4,
          36,
          28,
          10,
          2,
          32,
          8,
          144,
          21,
          4,
          118,
          4,
          63,
          18,
          2,
          4,
          2,
          8,
          16,
          2,
          50,
          114,
          49,
          2,
          2,
          2,
          4,
          18,
          16,
          46,
          64,
          7,
          3,
          48,
          110,
          2,
          36,
          180,
          2,
          4,
          7,
          2,
          2,
          15,
          10,
          9,
          8,
          3,
          4,
          8,
          1,
          22,
          16,
          6,
          78,
          52,
          2,
          109,
          23,
          34,
          4,
          49,
          4,
          6,
          12,
          3,
          3,
          3,
          60,
          11,
          28,
          21,
          24,
          48,
          26,
          11,
          82,
          68,
          8,
          2,
          2,
          2,
          2,
          6,
          240,
          8,
          32,
          54,
          2,
          6,
          55,
          10,
          2,
          97,
          118,
          16,
          28,
          2,
          66,
          4,
          12,
          17,
          8,
          20,
          30,
          53,
          2,
          52,
          33,
          24,
          23,
          6,
          96,
          50,
          14,
          40,
          78,
          2,
          50,
          72,
          159,
          5,
          14,
          57,
          10,
          7,
          94,
          18,
          32,
          28,
          60,
          24,
          2,
          2,
          22,
          24,
          3,
          14,
          6,
          13,
          256,
          128,
          42,
          6,
          60,
          8,
          41,
          2,
          19,
          3,
          5,
          2,
          2,
          1,
          0,
          26,
          12,
          168,
          8,
          6,
          140,
          7,
          32,
          90,
          3,
          7,
          80,
          2,
          10,
          22,
          2,
          44,
          1,
          2,
          54,
          16,
          52,
          24,
          16,
          88,
          153,
          4,
          4,
          2,
          42,
          2,
          10,
          81,
          2,
          100,
          4,
          4,
          9,
          35,
          4,
          18,
          96,
          10,
          6,
          2,
          44,
          28,
          47,
          18,
          35,
          0,
          2,
          58,
          17,
          2,
          16,
          3,
          4,
          49,
          4,
          21,
          24,
          2,
          2,
          94,
          65,
          5,
          18,
          4,
          2,
          17,
          4,
          2,
          8,
          2,
          24,
          41,
          184,
          6,
          22,
          6,
          1,
          152,
          2,
          53,
          33,
          27,
          44,
          29,
          6,
          15,
          6,
          2,
          4,
          32,
          2,
          4,
          8,
          26,
          4,
          7,
          6,
          2,
          2,
          90,
          147,
          10,
          12,
          12,
          5,
          2,
          11,
          8,
          60,
          84,
          8,
          2,
          18,
          24,
          7,
          4,
          18,
          105,
          39,
          2,
          4,
          1,
          2,
          32,
          2,
          79,
          56,
          70,
          2,
          60,
          2,
          4,
          6,
          4,
          32,
          17,
          56,
          12,
          15,
          8,
          22,
          202,
          24,
          14,
          117,
          33,
          28,
          24,
          4,
          48,
          25,
          59,
          38,
          6,
          17,
          14,
          44,
          60,
          7,
          2,
          1,
          9,
          42,
          6,
          2,
          14,
          48,
          11,
          55,
          30,
          58,
          4,
          17,
          16,
          12,
          48,
          2,
          9,
          49,
          28,
          14,
          54,
          2,
          2,
          9,
          172,
          10,
          86,
          15,
          25,
          78,
          38,
          2,
          9,
          2,
          2,
          2,
          3,
          4,
          75,
          26,
          8,
          8,
          8,
          28,
          9,
          22,
          10,
          2,
          36,
          48,
          99,
          2,
          12,
          2,
          189,
          155,
          10,
          4,
          4,
          8,
          50,
          4,
          86,
          3,
          11,
          3,
          4,
          27,
          24,
          200,
          1,
          6,
          28,
          14,
          6,
          2,
          6,
          26,
          4,
          2,
          1,
          18,
          8,
          54,
          79,
          23,
          4,
          104,
          94,
          4,
          20,
          4,
          6,
          29,
          131,
          12,
          7,
          1,
          81,
          82,
          30,
          2,
          2,
          4,
          2,
          38,
          6,
          84,
          1,
          2,
          2,
          22,
          55,
          2,
          6,
          20,
          2,
          2,
          168,
          10,
          6,
          2,
          66,
          2,
          22,
          100,
          23,
          14,
          24,
          70,
          104,
          48,
          4,
          2,
          2,
          46,
          6,
          24,
          6,
          38,
          16,
          6,
          14,
          23,
          46,
          14,
          12,
          10,
          30,
          5,
          80,
          6,
          75,
          24,
          39,
          1,
          45,
          4,
          54,
          2,
          19,
          2,
          1,
          192,
          16,
          18,
          2,
          18,
          2,
          6,
          76,
          32,
          2,
          28,
          2,
          28,
          4,
          31,
          8,
          75,
          66,
          4,
          6,
          70,
          6,
          28,
          108,
          6,
          58,
          6,
          4,
          3,
          5,
          8,
          4,
          67,
          64,
          144,
          11,
          51,
          24,
          44,
          7,
          8,
          91,
          2,
          4,
          66,
          4,
          24,
          18,
          5,
          16,
          6,
          2,
          4,
          94,
          4,
          2,
          5,
          1,
          112,
          29,
          129,
          2,
          80,
          2,
          6,
          1,
          60,
          52,
          38,
          159,
          19
         ],
         "yaxis": "y"
        },
        {
         "alignmentgroup": "True",
         "bingroup": "x",
         "hovertemplate": "Different_MK=1<br>Delta_Time=%{x}<br>count=%{y}<extra></extra>",
         "legendgroup": "1",
         "marker": {
          "color": "#3366CC"
         },
         "name": "1",
         "offsetgroup": "1",
         "opacity": 0.5,
         "showlegend": false,
         "type": "histogram",
         "x": [
          0,
          681,
          818,
          211,
          882,
          871,
          867,
          0,
          40,
          85,
          66,
          498,
          318,
          62,
          44,
          867,
          30,
          804,
          751,
          61,
          380,
          121,
          0,
          62,
          0,
          241,
          0,
          239,
          318,
          720,
          0,
          0,
          29,
          135,
          648,
          62,
          401,
          0,
          7,
          61,
          586,
          69,
          0,
          245,
          788,
          0,
          0,
          542,
          741,
          817,
          0,
          0,
          422,
          58,
          554,
          262,
          0,
          0,
          712,
          69,
          698,
          180,
          200,
          0,
          414,
          58,
          0,
          539,
          0,
          869,
          79,
          0,
          43,
          158,
          0,
          37,
          0,
          598,
          849,
          896,
          667,
          846,
          727,
          0,
          697,
          0,
          65,
          883,
          70,
          525,
          58,
          351,
          0,
          264,
          891,
          892,
          169,
          776,
          841,
          891,
          150,
          603,
          477,
          0,
          894,
          262,
          21,
          888,
          555,
          180,
          346,
          57,
          230,
          530,
          261,
          499,
          874,
          862,
          139,
          637,
          41,
          885,
          62,
          460,
          900,
          63,
          64,
          737,
          395,
          0,
          196,
          0,
          264,
          148,
          35,
          502,
          367,
          370,
          0,
          0,
          485,
          0,
          557,
          464,
          0,
          547,
          74,
          266,
          431,
          223,
          375,
          547,
          750,
          256,
          148,
          190,
          262,
          641,
          239,
          0,
          868,
          0,
          176,
          303,
          0,
          885,
          784,
          0,
          611,
          106,
          875,
          360,
          149,
          28,
          426,
          531,
          155,
          0,
          336,
          30,
          743,
          891,
          259,
          14,
          392,
          834,
          1,
          507,
          0,
          703,
          566,
          748,
          210,
          366,
          887,
          0,
          72,
          884,
          0,
          31,
          829,
          834,
          774,
          0,
          820,
          41,
          825,
          202,
          86,
          810,
          29,
          794,
          455,
          0,
          653,
          40,
          97,
          175,
          0,
          845,
          411,
          553,
          0,
          52,
          0,
          651,
          377,
          215,
          667,
          363,
          319,
          0,
          823,
          882,
          60,
          345,
          871,
          0,
          65,
          755,
          0,
          0,
          181,
          113,
          247,
          127,
          69,
          30,
          365,
          0,
          313,
          277,
          211,
          807,
          861,
          0,
          885,
          694,
          556,
          571,
          544,
          724,
          698,
          120,
          89,
          0,
          61,
          646,
          458,
          366,
          847,
          269,
          643,
          491,
          399,
          814,
          572,
          75,
          0,
          0,
          0,
          0,
          32,
          896,
          28,
          565,
          874,
          0,
          691,
          297,
          267,
          0,
          859,
          896,
          56,
          245,
          0,
          777,
          0,
          577,
          282,
          91,
          307,
          867,
          835,
          0,
          406,
          124,
          181,
          700,
          146,
          409,
          854,
          861,
          331,
          896,
          0,
          869,
          732,
          903,
          739,
          400,
          637,
          545,
          135,
          852,
          375,
          460,
          243,
          498,
          419,
          0,
          0,
          130,
          211,
          115,
          783,
          248,
          419,
          900,
          1171,
          463,
          356,
          251,
          122,
          716,
          5,
          608,
          103,
          113,
          0,
          0,
          0,
          0,
          237,
          238,
          867,
          136,
          82,
          880,
          743,
          880,
          893,
          112,
          580,
          725,
          0,
          273,
          330,
          0,
          870,
          0,
          0,
          874,
          489,
          841,
          567,
          226,
          902,
          822,
          88,
          123,
          0,
          713,
          0,
          252,
          881,
          0,
          764,
          120,
          118,
          74,
          666,
          30,
          124,
          565,
          109,
          61,
          0,
          237,
          167,
          840,
          528,
          876,
          0,
          726,
          874,
          880,
          0,
          85,
          63,
          267,
          833,
          0,
          254,
          146,
          0,
          0,
          897,
          879,
          62,
          822,
          61,
          0,
          799,
          64,
          0,
          102,
          0,
          865,
          753,
          717,
          63,
          306,
          60,
          0,
          588,
          0,
          881,
          238,
          684,
          275,
          429,
          634,
          236,
          61,
          0,
          398,
          469,
          0,
          718,
          57,
          505,
          92,
          143,
          60,
          0,
          0,
          715,
          859,
          348,
          231,
          535,
          340,
          0,
          292,
          211,
          863,
          481,
          5,
          109,
          72,
          450,
          150,
          7,
          260,
          526,
          503,
          0,
          90,
          0,
          0,
          344,
          62,
          852,
          817,
          873,
          0,
          641,
          0,
          145,
          84,
          125,
          265,
          839,
          831,
          178,
          505,
          392,
          374,
          884,
          695,
          281,
          571,
          634,
          779,
          243,
          0,
          511,
          840,
          708,
          858,
          85,
          516,
          868,
          571,
          461,
          304,
          0,
          0,
          904,
          356,
          71,
          33,
          168,
          427,
          527,
          866,
          738,
          869,
          34,
          638,
          246,
          372,
          876,
          0,
          26,
          224,
          217,
          413,
          637,
          0,
          0,
          324,
          890,
          298,
          870,
          588,
          799,
          873,
          583,
          0,
          235,
          0,
          0,
          0,
          64,
          21,
          334,
          455,
          30,
          280,
          93,
          284,
          388,
          379,
          720,
          0,
          577,
          638,
          890,
          0,
          270,
          0,
          882,
          966,
          246,
          30,
          27,
          378,
          642,
          30,
          888,
          83,
          147,
          0,
          32,
          875,
          190,
          894,
          0,
          151,
          881,
          574,
          315,
          0,
          13,
          418,
          27,
          0,
          0,
          665,
          84,
          840,
          905,
          861,
          104,
          418,
          716,
          7,
          367,
          47,
          88,
          904,
          716,
          173,
          306,
          0,
          873,
          434,
          517,
          0,
          0,
          7,
          0,
          678,
          252,
          876,
          0,
          0,
          7,
          583,
          863,
          0,
          0,
          432,
          24,
          0,
          876,
          215,
          79,
          0,
          793,
          0,
          404,
          853,
          786,
          154,
          447,
          876,
          873,
          356,
          92,
          0,
          0,
          889,
          129,
          819,
          247,
          630,
          522,
          241,
          609,
          294,
          853,
          423,
          533,
          122,
          627,
          755,
          616,
          87,
          819,
          371,
          832,
          0,
          875,
          66,
          868,
          0,
          730,
          63,
          0,
          709,
          760,
          873,
          0,
          527,
          0,
          237,
          269,
          776,
          0,
          860,
          0,
          811,
          32,
          817,
          518,
          795,
          488,
          35,
          292,
          684,
          32,
          371,
          548,
          57,
          444,
          46,
          157,
          121,
          40,
          574,
          78,
          763,
          282,
          748,
          516,
          660,
          389,
          551,
          285,
          91,
          780,
          0,
          236,
          889,
          28,
          212,
          721,
          127,
          486,
          89,
          0,
          30,
          867,
          156,
          0,
          181,
          0,
          885,
          760,
          692,
          48,
          841,
          0,
          736,
          0,
          880,
          852,
          712,
          897,
          662
         ],
         "xaxis": "x3",
         "yaxis": "y3"
        },
        {
         "alignmentgroup": "True",
         "bingroup": "y",
         "hovertemplate": "Different_MK=1<br>Cantidad_Total=%{y}<br>count=%{x}<extra></extra>",
         "legendgroup": "1",
         "marker": {
          "color": "#3366CC"
         },
         "name": "1",
         "offsetgroup": "1",
         "opacity": 0.5,
         "showlegend": false,
         "type": "histogram",
         "xaxis": "x2",
         "y": [
          2,
          72,
          42,
          12,
          80,
          100,
          58,
          1,
          2,
          8,
          9,
          16,
          27,
          6,
          4,
          130,
          6,
          60,
          41,
          4,
          18,
          18,
          4,
          6,
          2,
          6,
          2,
          3,
          30,
          16,
          2,
          2,
          4,
          33,
          108,
          6,
          7,
          2,
          4,
          4,
          60,
          3,
          1,
          7,
          18,
          2,
          1,
          84,
          3,
          22,
          2,
          2,
          30,
          2,
          94,
          6,
          2,
          2,
          23,
          3,
          42,
          5,
          10,
          0,
          44,
          6,
          2,
          30,
          0,
          8,
          6,
          1,
          2,
          33,
          2,
          2,
          2,
          18,
          104,
          94,
          35,
          46,
          150,
          2,
          84,
          2,
          4,
          58,
          6,
          6,
          2,
          36,
          2,
          12,
          20,
          116,
          5,
          64,
          38,
          79,
          18,
          17,
          32,
          2,
          101,
          40,
          8,
          58,
          8,
          24,
          22,
          6,
          21,
          66,
          6,
          21,
          137,
          164,
          8,
          68,
          5,
          144,
          7,
          15,
          61,
          3,
          3,
          6,
          2,
          2,
          5,
          2,
          12,
          2,
          4,
          42,
          8,
          8,
          1,
          2,
          14,
          2,
          104,
          10,
          1,
          62,
          4,
          18,
          8,
          64,
          4,
          34,
          64,
          9,
          13,
          12,
          10,
          56,
          36,
          2,
          73,
          3,
          40,
          30,
          4,
          68,
          56,
          2,
          2,
          8,
          69,
          12,
          12,
          6,
          45,
          46,
          33,
          2,
          24,
          4,
          12,
          98,
          14,
          3,
          28,
          27,
          3,
          16,
          2,
          110,
          16,
          51,
          57,
          31,
          115,
          2,
          8,
          42,
          4,
          4,
          36,
          28,
          10,
          2,
          32,
          8,
          144,
          21,
          4,
          118,
          4,
          63,
          18,
          2,
          4,
          2,
          8,
          16,
          2,
          50,
          114,
          49,
          2,
          2,
          2,
          4,
          18,
          16,
          46,
          64,
          7,
          3,
          48,
          110,
          2,
          36,
          180,
          2,
          4,
          7,
          2,
          2,
          15,
          10,
          9,
          8,
          3,
          4,
          8,
          1,
          22,
          16,
          6,
          78,
          52,
          2,
          109,
          23,
          34,
          4,
          49,
          4,
          6,
          12,
          3,
          3,
          3,
          60,
          11,
          28,
          21,
          24,
          48,
          26,
          11,
          82,
          68,
          8,
          2,
          2,
          2,
          2,
          6,
          240,
          8,
          32,
          54,
          2,
          6,
          55,
          10,
          2,
          97,
          118,
          16,
          28,
          2,
          66,
          4,
          12,
          17,
          8,
          20,
          30,
          53,
          2,
          52,
          33,
          24,
          23,
          6,
          96,
          50,
          14,
          40,
          78,
          2,
          50,
          72,
          159,
          5,
          14,
          57,
          10,
          7,
          94,
          18,
          32,
          28,
          60,
          24,
          2,
          2,
          22,
          24,
          3,
          14,
          6,
          13,
          256,
          128,
          42,
          6,
          60,
          8,
          41,
          2,
          19,
          3,
          5,
          2,
          2,
          1,
          0,
          26,
          12,
          168,
          8,
          6,
          140,
          7,
          32,
          90,
          3,
          7,
          80,
          2,
          10,
          22,
          2,
          44,
          1,
          2,
          54,
          16,
          52,
          24,
          16,
          88,
          153,
          4,
          4,
          2,
          42,
          2,
          10,
          81,
          2,
          100,
          4,
          4,
          9,
          35,
          4,
          18,
          96,
          10,
          6,
          2,
          44,
          28,
          47,
          18,
          35,
          0,
          2,
          58,
          17,
          2,
          16,
          3,
          4,
          49,
          4,
          21,
          24,
          2,
          2,
          94,
          65,
          5,
          18,
          4,
          2,
          17,
          4,
          2,
          8,
          2,
          24,
          41,
          184,
          6,
          22,
          6,
          1,
          152,
          2,
          53,
          33,
          27,
          44,
          29,
          6,
          15,
          6,
          2,
          4,
          32,
          2,
          4,
          8,
          26,
          4,
          7,
          6,
          2,
          2,
          90,
          147,
          10,
          12,
          12,
          5,
          2,
          11,
          8,
          60,
          84,
          8,
          2,
          18,
          24,
          7,
          4,
          18,
          105,
          39,
          2,
          4,
          1,
          2,
          32,
          2,
          79,
          56,
          70,
          2,
          60,
          2,
          4,
          6,
          4,
          32,
          17,
          56,
          12,
          15,
          8,
          22,
          202,
          24,
          14,
          117,
          33,
          28,
          24,
          4,
          48,
          25,
          59,
          38,
          6,
          17,
          14,
          44,
          60,
          7,
          2,
          1,
          9,
          42,
          6,
          2,
          14,
          48,
          11,
          55,
          30,
          58,
          4,
          17,
          16,
          12,
          48,
          2,
          9,
          49,
          28,
          14,
          54,
          2,
          2,
          9,
          172,
          10,
          86,
          15,
          25,
          78,
          38,
          2,
          9,
          2,
          2,
          2,
          3,
          4,
          75,
          26,
          8,
          8,
          8,
          28,
          9,
          22,
          10,
          2,
          36,
          48,
          99,
          2,
          12,
          2,
          189,
          155,
          10,
          4,
          4,
          8,
          50,
          4,
          86,
          3,
          11,
          3,
          4,
          27,
          24,
          200,
          1,
          6,
          28,
          14,
          6,
          2,
          6,
          26,
          4,
          2,
          1,
          18,
          8,
          54,
          79,
          23,
          4,
          104,
          94,
          4,
          20,
          4,
          6,
          29,
          131,
          12,
          7,
          1,
          81,
          82,
          30,
          2,
          2,
          4,
          2,
          38,
          6,
          84,
          1,
          2,
          2,
          22,
          55,
          2,
          6,
          20,
          2,
          2,
          168,
          10,
          6,
          2,
          66,
          2,
          22,
          100,
          23,
          14,
          24,
          70,
          104,
          48,
          4,
          2,
          2,
          46,
          6,
          24,
          6,
          38,
          16,
          6,
          14,
          23,
          46,
          14,
          12,
          10,
          30,
          5,
          80,
          6,
          75,
          24,
          39,
          1,
          45,
          4,
          54,
          2,
          19,
          2,
          1,
          192,
          16,
          18,
          2,
          18,
          2,
          6,
          76,
          32,
          2,
          28,
          2,
          28,
          4,
          31,
          8,
          75,
          66,
          4,
          6,
          70,
          6,
          28,
          108,
          6,
          58,
          6,
          4,
          3,
          5,
          8,
          4,
          67,
          64,
          144,
          11,
          51,
          24,
          44,
          7,
          8,
          91,
          2,
          4,
          66,
          4,
          24,
          18,
          5,
          16,
          6,
          2,
          4,
          94,
          4,
          2,
          5,
          1,
          112,
          29,
          129,
          2,
          80,
          2,
          6,
          1,
          60,
          52,
          38,
          159,
          19
         ],
         "yaxis": "y2"
        },
        {
         "hovertemplate": "Different_MK=2<br>Delta_Time=%{x}<br>Cantidad_Total=%{y}<extra></extra>",
         "legendgroup": "2",
         "marker": {
          "color": "#DC3912",
          "line": {
           "color": "DarkSlateGrey",
           "width": 2
          },
          "size": 8,
          "symbol": "circle"
         },
         "mode": "markers",
         "name": "2",
         "showlegend": true,
         "type": "scatter",
         "x": [
          342,
          876,
          892,
          858,
          677,
          357,
          860,
          888,
          398,
          840,
          398,
          842,
          477,
          679,
          769,
          793,
          853,
          696,
          734,
          892,
          752,
          880,
          855,
          512,
          835,
          686,
          669,
          867,
          810,
          883,
          304,
          882,
          392,
          799,
          857,
          877,
          848,
          843,
          267,
          111,
          877,
          848,
          815,
          290,
          902,
          657,
          882,
          796,
          870,
          329,
          891,
          625,
          819,
          490,
          234,
          755,
          643,
          224,
          631,
          456,
          693,
          851,
          783,
          692,
          484,
          889,
          274,
          724,
          836,
          806
         ],
         "xaxis": "x",
         "y": [
          30,
          88,
          159,
          63,
          46,
          15,
          79,
          27,
          52,
          42,
          19,
          73,
          49,
          60,
          20,
          26,
          77,
          35,
          75,
          103,
          47,
          110,
          120,
          46,
          50,
          49,
          92,
          64,
          192,
          137,
          15,
          175,
          56,
          43,
          69,
          92,
          123,
          138,
          28,
          6,
          110,
          107,
          28,
          12,
          48,
          80,
          20,
          158,
          169,
          14,
          174,
          44,
          157,
          28,
          11,
          47,
          31,
          22,
          38,
          73,
          53,
          144,
          47,
          76,
          22,
          55,
          40,
          19,
          176,
          42
         ],
         "yaxis": "y"
        },
        {
         "alignmentgroup": "True",
         "bingroup": "x",
         "hovertemplate": "Different_MK=2<br>Delta_Time=%{x}<br>count=%{y}<extra></extra>",
         "legendgroup": "2",
         "marker": {
          "color": "#DC3912"
         },
         "name": "2",
         "offsetgroup": "2",
         "opacity": 0.5,
         "showlegend": false,
         "type": "histogram",
         "x": [
          342,
          876,
          892,
          858,
          677,
          357,
          860,
          888,
          398,
          840,
          398,
          842,
          477,
          679,
          769,
          793,
          853,
          696,
          734,
          892,
          752,
          880,
          855,
          512,
          835,
          686,
          669,
          867,
          810,
          883,
          304,
          882,
          392,
          799,
          857,
          877,
          848,
          843,
          267,
          111,
          877,
          848,
          815,
          290,
          902,
          657,
          882,
          796,
          870,
          329,
          891,
          625,
          819,
          490,
          234,
          755,
          643,
          224,
          631,
          456,
          693,
          851,
          783,
          692,
          484,
          889,
          274,
          724,
          836,
          806
         ],
         "xaxis": "x3",
         "yaxis": "y3"
        },
        {
         "alignmentgroup": "True",
         "bingroup": "y",
         "hovertemplate": "Different_MK=2<br>Cantidad_Total=%{y}<br>count=%{x}<extra></extra>",
         "legendgroup": "2",
         "marker": {
          "color": "#DC3912"
         },
         "name": "2",
         "offsetgroup": "2",
         "opacity": 0.5,
         "showlegend": false,
         "type": "histogram",
         "xaxis": "x2",
         "y": [
          30,
          88,
          159,
          63,
          46,
          15,
          79,
          27,
          52,
          42,
          19,
          73,
          49,
          60,
          20,
          26,
          77,
          35,
          75,
          103,
          47,
          110,
          120,
          46,
          50,
          49,
          92,
          64,
          192,
          137,
          15,
          175,
          56,
          43,
          69,
          92,
          123,
          138,
          28,
          6,
          110,
          107,
          28,
          12,
          48,
          80,
          20,
          158,
          169,
          14,
          174,
          44,
          157,
          28,
          11,
          47,
          31,
          22,
          38,
          73,
          53,
          144,
          47,
          76,
          22,
          55,
          40,
          19,
          176,
          42
         ],
         "yaxis": "y2"
        },
        {
         "hovertemplate": "Different_MK=3<br>Delta_Time=%{x}<br>Cantidad_Total=%{y}<extra></extra>",
         "legendgroup": "3",
         "marker": {
          "color": "#FF9900",
          "line": {
           "color": "DarkSlateGrey",
           "width": 2
          },
          "size": 8,
          "symbol": "circle"
         },
         "mode": "markers",
         "name": "3",
         "showlegend": true,
         "type": "scatter",
         "x": [
          886,
          870,
          378,
          636
         ],
         "xaxis": "x",
         "y": [
          135,
          71,
          27,
          34
         ],
         "yaxis": "y"
        },
        {
         "alignmentgroup": "True",
         "bingroup": "x",
         "hovertemplate": "Different_MK=3<br>Delta_Time=%{x}<br>count=%{y}<extra></extra>",
         "legendgroup": "3",
         "marker": {
          "color": "#FF9900"
         },
         "name": "3",
         "offsetgroup": "3",
         "opacity": 0.5,
         "showlegend": false,
         "type": "histogram",
         "x": [
          886,
          870,
          378,
          636
         ],
         "xaxis": "x3",
         "yaxis": "y3"
        },
        {
         "alignmentgroup": "True",
         "bingroup": "y",
         "hovertemplate": "Different_MK=3<br>Cantidad_Total=%{y}<br>count=%{x}<extra></extra>",
         "legendgroup": "3",
         "marker": {
          "color": "#FF9900"
         },
         "name": "3",
         "offsetgroup": "3",
         "opacity": 0.5,
         "showlegend": false,
         "type": "histogram",
         "xaxis": "x2",
         "y": [
          135,
          71,
          27,
          34
         ],
         "yaxis": "y2"
        }
       ],
       "layout": {
        "barmode": "overlay",
        "height": 800,
        "legend": {
         "title": {
          "text": "Different_MK"
         },
         "tracegroupgap": 0
        },
        "margin": {
         "t": 60
        },
        "template": {
         "data": {
          "bar": [
           {
            "error_x": {
             "color": "#2a3f5f"
            },
            "error_y": {
             "color": "#2a3f5f"
            },
            "marker": {
             "line": {
              "color": "#E5ECF6",
              "width": 0.5
             }
            },
            "type": "bar"
           }
          ],
          "barpolar": [
           {
            "marker": {
             "line": {
              "color": "#E5ECF6",
              "width": 0.5
             }
            },
            "type": "barpolar"
           }
          ],
          "carpet": [
           {
            "aaxis": {
             "endlinecolor": "#2a3f5f",
             "gridcolor": "white",
             "linecolor": "white",
             "minorgridcolor": "white",
             "startlinecolor": "#2a3f5f"
            },
            "baxis": {
             "endlinecolor": "#2a3f5f",
             "gridcolor": "white",
             "linecolor": "white",
             "minorgridcolor": "white",
             "startlinecolor": "#2a3f5f"
            },
            "type": "carpet"
           }
          ],
          "choropleth": [
           {
            "colorbar": {
             "outlinewidth": 0,
             "ticks": ""
            },
            "type": "choropleth"
           }
          ],
          "contour": [
           {
            "colorbar": {
             "outlinewidth": 0,
             "ticks": ""
            },
            "colorscale": [
             [
              0,
              "#0d0887"
             ],
             [
              0.1111111111111111,
              "#46039f"
             ],
             [
              0.2222222222222222,
              "#7201a8"
             ],
             [
              0.3333333333333333,
              "#9c179e"
             ],
             [
              0.4444444444444444,
              "#bd3786"
             ],
             [
              0.5555555555555556,
              "#d8576b"
             ],
             [
              0.6666666666666666,
              "#ed7953"
             ],
             [
              0.7777777777777778,
              "#fb9f3a"
             ],
             [
              0.8888888888888888,
              "#fdca26"
             ],
             [
              1,
              "#f0f921"
             ]
            ],
            "type": "contour"
           }
          ],
          "contourcarpet": [
           {
            "colorbar": {
             "outlinewidth": 0,
             "ticks": ""
            },
            "type": "contourcarpet"
           }
          ],
          "heatmap": [
           {
            "colorbar": {
             "outlinewidth": 0,
             "ticks": ""
            },
            "colorscale": [
             [
              0,
              "#0d0887"
             ],
             [
              0.1111111111111111,
              "#46039f"
             ],
             [
              0.2222222222222222,
              "#7201a8"
             ],
             [
              0.3333333333333333,
              "#9c179e"
             ],
             [
              0.4444444444444444,
              "#bd3786"
             ],
             [
              0.5555555555555556,
              "#d8576b"
             ],
             [
              0.6666666666666666,
              "#ed7953"
             ],
             [
              0.7777777777777778,
              "#fb9f3a"
             ],
             [
              0.8888888888888888,
              "#fdca26"
             ],
             [
              1,
              "#f0f921"
             ]
            ],
            "type": "heatmap"
           }
          ],
          "heatmapgl": [
           {
            "colorbar": {
             "outlinewidth": 0,
             "ticks": ""
            },
            "colorscale": [
             [
              0,
              "#0d0887"
             ],
             [
              0.1111111111111111,
              "#46039f"
             ],
             [
              0.2222222222222222,
              "#7201a8"
             ],
             [
              0.3333333333333333,
              "#9c179e"
             ],
             [
              0.4444444444444444,
              "#bd3786"
             ],
             [
              0.5555555555555556,
              "#d8576b"
             ],
             [
              0.6666666666666666,
              "#ed7953"
             ],
             [
              0.7777777777777778,
              "#fb9f3a"
             ],
             [
              0.8888888888888888,
              "#fdca26"
             ],
             [
              1,
              "#f0f921"
             ]
            ],
            "type": "heatmapgl"
           }
          ],
          "histogram": [
           {
            "marker": {
             "colorbar": {
              "outlinewidth": 0,
              "ticks": ""
             }
            },
            "type": "histogram"
           }
          ],
          "histogram2d": [
           {
            "colorbar": {
             "outlinewidth": 0,
             "ticks": ""
            },
            "colorscale": [
             [
              0,
              "#0d0887"
             ],
             [
              0.1111111111111111,
              "#46039f"
             ],
             [
              0.2222222222222222,
              "#7201a8"
             ],
             [
              0.3333333333333333,
              "#9c179e"
             ],
             [
              0.4444444444444444,
              "#bd3786"
             ],
             [
              0.5555555555555556,
              "#d8576b"
             ],
             [
              0.6666666666666666,
              "#ed7953"
             ],
             [
              0.7777777777777778,
              "#fb9f3a"
             ],
             [
              0.8888888888888888,
              "#fdca26"
             ],
             [
              1,
              "#f0f921"
             ]
            ],
            "type": "histogram2d"
           }
          ],
          "histogram2dcontour": [
           {
            "colorbar": {
             "outlinewidth": 0,
             "ticks": ""
            },
            "colorscale": [
             [
              0,
              "#0d0887"
             ],
             [
              0.1111111111111111,
              "#46039f"
             ],
             [
              0.2222222222222222,
              "#7201a8"
             ],
             [
              0.3333333333333333,
              "#9c179e"
             ],
             [
              0.4444444444444444,
              "#bd3786"
             ],
             [
              0.5555555555555556,
              "#d8576b"
             ],
             [
              0.6666666666666666,
              "#ed7953"
             ],
             [
              0.7777777777777778,
              "#fb9f3a"
             ],
             [
              0.8888888888888888,
              "#fdca26"
             ],
             [
              1,
              "#f0f921"
             ]
            ],
            "type": "histogram2dcontour"
           }
          ],
          "mesh3d": [
           {
            "colorbar": {
             "outlinewidth": 0,
             "ticks": ""
            },
            "type": "mesh3d"
           }
          ],
          "parcoords": [
           {
            "line": {
             "colorbar": {
              "outlinewidth": 0,
              "ticks": ""
             }
            },
            "type": "parcoords"
           }
          ],
          "pie": [
           {
            "automargin": true,
            "type": "pie"
           }
          ],
          "scatter": [
           {
            "marker": {
             "colorbar": {
              "outlinewidth": 0,
              "ticks": ""
             }
            },
            "type": "scatter"
           }
          ],
          "scatter3d": [
           {
            "line": {
             "colorbar": {
              "outlinewidth": 0,
              "ticks": ""
             }
            },
            "marker": {
             "colorbar": {
              "outlinewidth": 0,
              "ticks": ""
             }
            },
            "type": "scatter3d"
           }
          ],
          "scattercarpet": [
           {
            "marker": {
             "colorbar": {
              "outlinewidth": 0,
              "ticks": ""
             }
            },
            "type": "scattercarpet"
           }
          ],
          "scattergeo": [
           {
            "marker": {
             "colorbar": {
              "outlinewidth": 0,
              "ticks": ""
             }
            },
            "type": "scattergeo"
           }
          ],
          "scattergl": [
           {
            "marker": {
             "colorbar": {
              "outlinewidth": 0,
              "ticks": ""
             }
            },
            "type": "scattergl"
           }
          ],
          "scattermapbox": [
           {
            "marker": {
             "colorbar": {
              "outlinewidth": 0,
              "ticks": ""
             }
            },
            "type": "scattermapbox"
           }
          ],
          "scatterpolar": [
           {
            "marker": {
             "colorbar": {
              "outlinewidth": 0,
              "ticks": ""
             }
            },
            "type": "scatterpolar"
           }
          ],
          "scatterpolargl": [
           {
            "marker": {
             "colorbar": {
              "outlinewidth": 0,
              "ticks": ""
             }
            },
            "type": "scatterpolargl"
           }
          ],
          "scatterternary": [
           {
            "marker": {
             "colorbar": {
              "outlinewidth": 0,
              "ticks": ""
             }
            },
            "type": "scatterternary"
           }
          ],
          "surface": [
           {
            "colorbar": {
             "outlinewidth": 0,
             "ticks": ""
            },
            "colorscale": [
             [
              0,
              "#0d0887"
             ],
             [
              0.1111111111111111,
              "#46039f"
             ],
             [
              0.2222222222222222,
              "#7201a8"
             ],
             [
              0.3333333333333333,
              "#9c179e"
             ],
             [
              0.4444444444444444,
              "#bd3786"
             ],
             [
              0.5555555555555556,
              "#d8576b"
             ],
             [
              0.6666666666666666,
              "#ed7953"
             ],
             [
              0.7777777777777778,
              "#fb9f3a"
             ],
             [
              0.8888888888888888,
              "#fdca26"
             ],
             [
              1,
              "#f0f921"
             ]
            ],
            "type": "surface"
           }
          ],
          "table": [
           {
            "cells": {
             "fill": {
              "color": "#EBF0F8"
             },
             "line": {
              "color": "white"
             }
            },
            "header": {
             "fill": {
              "color": "#C8D4E3"
             },
             "line": {
              "color": "white"
             }
            },
            "type": "table"
           }
          ]
         },
         "layout": {
          "annotationdefaults": {
           "arrowcolor": "#2a3f5f",
           "arrowhead": 0,
           "arrowwidth": 1
          },
          "coloraxis": {
           "colorbar": {
            "outlinewidth": 0,
            "ticks": ""
           }
          },
          "colorscale": {
           "diverging": [
            [
             0,
             "#8e0152"
            ],
            [
             0.1,
             "#c51b7d"
            ],
            [
             0.2,
             "#de77ae"
            ],
            [
             0.3,
             "#f1b6da"
            ],
            [
             0.4,
             "#fde0ef"
            ],
            [
             0.5,
             "#f7f7f7"
            ],
            [
             0.6,
             "#e6f5d0"
            ],
            [
             0.7,
             "#b8e186"
            ],
            [
             0.8,
             "#7fbc41"
            ],
            [
             0.9,
             "#4d9221"
            ],
            [
             1,
             "#276419"
            ]
           ],
           "sequential": [
            [
             0,
             "#0d0887"
            ],
            [
             0.1111111111111111,
             "#46039f"
            ],
            [
             0.2222222222222222,
             "#7201a8"
            ],
            [
             0.3333333333333333,
             "#9c179e"
            ],
            [
             0.4444444444444444,
             "#bd3786"
            ],
            [
             0.5555555555555556,
             "#d8576b"
            ],
            [
             0.6666666666666666,
             "#ed7953"
            ],
            [
             0.7777777777777778,
             "#fb9f3a"
            ],
            [
             0.8888888888888888,
             "#fdca26"
            ],
            [
             1,
             "#f0f921"
            ]
           ],
           "sequentialminus": [
            [
             0,
             "#0d0887"
            ],
            [
             0.1111111111111111,
             "#46039f"
            ],
            [
             0.2222222222222222,
             "#7201a8"
            ],
            [
             0.3333333333333333,
             "#9c179e"
            ],
            [
             0.4444444444444444,
             "#bd3786"
            ],
            [
             0.5555555555555556,
             "#d8576b"
            ],
            [
             0.6666666666666666,
             "#ed7953"
            ],
            [
             0.7777777777777778,
             "#fb9f3a"
            ],
            [
             0.8888888888888888,
             "#fdca26"
            ],
            [
             1,
             "#f0f921"
            ]
           ]
          },
          "colorway": [
           "#636efa",
           "#EF553B",
           "#00cc96",
           "#ab63fa",
           "#FFA15A",
           "#19d3f3",
           "#FF6692",
           "#B6E880",
           "#FF97FF",
           "#FECB52"
          ],
          "font": {
           "color": "#2a3f5f"
          },
          "geo": {
           "bgcolor": "white",
           "lakecolor": "white",
           "landcolor": "#E5ECF6",
           "showlakes": true,
           "showland": true,
           "subunitcolor": "white"
          },
          "hoverlabel": {
           "align": "left"
          },
          "hovermode": "closest",
          "mapbox": {
           "style": "light"
          },
          "paper_bgcolor": "white",
          "plot_bgcolor": "#E5ECF6",
          "polar": {
           "angularaxis": {
            "gridcolor": "white",
            "linecolor": "white",
            "ticks": ""
           },
           "bgcolor": "#E5ECF6",
           "radialaxis": {
            "gridcolor": "white",
            "linecolor": "white",
            "ticks": ""
           }
          },
          "scene": {
           "xaxis": {
            "backgroundcolor": "#E5ECF6",
            "gridcolor": "white",
            "gridwidth": 2,
            "linecolor": "white",
            "showbackground": true,
            "ticks": "",
            "zerolinecolor": "white"
           },
           "yaxis": {
            "backgroundcolor": "#E5ECF6",
            "gridcolor": "white",
            "gridwidth": 2,
            "linecolor": "white",
            "showbackground": true,
            "ticks": "",
            "zerolinecolor": "white"
           },
           "zaxis": {
            "backgroundcolor": "#E5ECF6",
            "gridcolor": "white",
            "gridwidth": 2,
            "linecolor": "white",
            "showbackground": true,
            "ticks": "",
            "zerolinecolor": "white"
           }
          },
          "shapedefaults": {
           "line": {
            "color": "#2a3f5f"
           }
          },
          "ternary": {
           "aaxis": {
            "gridcolor": "white",
            "linecolor": "white",
            "ticks": ""
           },
           "baxis": {
            "gridcolor": "white",
            "linecolor": "white",
            "ticks": ""
           },
           "bgcolor": "#E5ECF6",
           "caxis": {
            "gridcolor": "white",
            "linecolor": "white",
            "ticks": ""
           }
          },
          "title": {
           "x": 0.05
          },
          "xaxis": {
           "automargin": true,
           "gridcolor": "white",
           "linecolor": "white",
           "ticks": "",
           "title": {
            "standoff": 15
           },
           "zerolinecolor": "white",
           "zerolinewidth": 2
          },
          "yaxis": {
           "automargin": true,
           "gridcolor": "white",
           "linecolor": "white",
           "ticks": "",
           "title": {
            "standoff": 15
           },
           "zerolinecolor": "white",
           "zerolinewidth": 2
          }
         }
        },
        "title": {
         "text": "Relation between Medication quantity and time in study"
        },
        "xaxis": {
         "anchor": "y",
         "domain": [
          0,
          0.7363
         ],
         "title": {
          "text": "Time (days) in the treatment"
         }
        },
        "xaxis2": {
         "anchor": "y2",
         "domain": [
          0.7413,
          1
         ],
         "matches": "x2",
         "showgrid": true,
         "showline": false,
         "showticklabels": false,
         "ticks": ""
        },
        "xaxis3": {
         "anchor": "y3",
         "domain": [
          0,
          0.7363
         ],
         "matches": "x",
         "showgrid": true,
         "showticklabels": false
        },
        "xaxis4": {
         "anchor": "y4",
         "domain": [
          0.7413,
          1
         ],
         "matches": "x2",
         "showgrid": true,
         "showline": false,
         "showticklabels": false,
         "ticks": ""
        },
        "yaxis": {
         "anchor": "x",
         "domain": [
          0,
          0.7326
         ],
         "title": {
          "text": "No. of medication received"
         }
        },
        "yaxis2": {
         "anchor": "x2",
         "domain": [
          0,
          0.7326
         ],
         "matches": "y",
         "showgrid": true,
         "showticklabels": false
        },
        "yaxis3": {
         "anchor": "x3",
         "domain": [
          0.7426,
          1
         ],
         "matches": "y3",
         "showgrid": true,
         "showline": false,
         "showticklabels": false,
         "ticks": ""
        },
        "yaxis4": {
         "anchor": "x4",
         "domain": [
          0.7426,
          1
         ],
         "matches": "y3",
         "showgrid": true,
         "showline": false,
         "showticklabels": false,
         "ticks": ""
        }
       }
      },
      "text/html": [
       "<div>\n",
       "        \n",
       "        \n",
       "            <div id=\"d145cc17-e973-425f-8d07-7b4014a5ffdd\" class=\"plotly-graph-div\" style=\"height:800px; width:100%;\"></div>\n",
       "            <script type=\"text/javascript\">\n",
       "                require([\"plotly\"], function(Plotly) {\n",
       "                    window.PLOTLYENV=window.PLOTLYENV || {};\n",
       "                    \n",
       "                if (document.getElementById(\"d145cc17-e973-425f-8d07-7b4014a5ffdd\")) {\n",
       "                    Plotly.newPlot(\n",
       "                        'd145cc17-e973-425f-8d07-7b4014a5ffdd',\n",
       "                        [{\"hovertemplate\": \"Different_MK=1<br>Delta_Time=%{x}<br>Cantidad_Total=%{y}<extra></extra>\", \"legendgroup\": \"1\", \"marker\": {\"color\": \"#3366CC\", \"line\": {\"color\": \"DarkSlateGrey\", \"width\": 2}, \"size\": 8, \"symbol\": \"circle\"}, \"mode\": \"markers\", \"name\": \"1\", \"showlegend\": true, \"type\": \"scatter\", \"x\": [0, 681, 818, 211, 882, 871, 867, 0, 40, 85, 66, 498, 318, 62, 44, 867, 30, 804, 751, 61, 380, 121, 0, 62, 0, 241, 0, 239, 318, 720, 0, 0, 29, 135, 648, 62, 401, 0, 7, 61, 586, 69, 0, 245, 788, 0, 0, 542, 741, 817, 0, 0, 422, 58, 554, 262, 0, 0, 712, 69, 698, 180, 200, 0, 414, 58, 0, 539, 0, 869, 79, 0, 43, 158, 0, 37, 0, 598, 849, 896, 667, 846, 727, 0, 697, 0, 65, 883, 70, 525, 58, 351, 0, 264, 891, 892, 169, 776, 841, 891, 150, 603, 477, 0, 894, 262, 21, 888, 555, 180, 346, 57, 230, 530, 261, 499, 874, 862, 139, 637, 41, 885, 62, 460, 900, 63, 64, 737, 395, 0, 196, 0, 264, 148, 35, 502, 367, 370, 0, 0, 485, 0, 557, 464, 0, 547, 74, 266, 431, 223, 375, 547, 750, 256, 148, 190, 262, 641, 239, 0, 868, 0, 176, 303, 0, 885, 784, 0, 611, 106, 875, 360, 149, 28, 426, 531, 155, 0, 336, 30, 743, 891, 259, 14, 392, 834, 1, 507, 0, 703, 566, 748, 210, 366, 887, 0, 72, 884, 0, 31, 829, 834, 774, 0, 820, 41, 825, 202, 86, 810, 29, 794, 455, 0, 653, 40, 97, 175, 0, 845, 411, 553, 0, 52, 0, 651, 377, 215, 667, 363, 319, 0, 823, 882, 60, 345, 871, 0, 65, 755, 0, 0, 181, 113, 247, 127, 69, 30, 365, 0, 313, 277, 211, 807, 861, 0, 885, 694, 556, 571, 544, 724, 698, 120, 89, 0, 61, 646, 458, 366, 847, 269, 643, 491, 399, 814, 572, 75, 0, 0, 0, 0, 32, 896, 28, 565, 874, 0, 691, 297, 267, 0, 859, 896, 56, 245, 0, 777, 0, 577, 282, 91, 307, 867, 835, 0, 406, 124, 181, 700, 146, 409, 854, 861, 331, 896, 0, 869, 732, 903, 739, 400, 637, 545, 135, 852, 375, 460, 243, 498, 419, 0, 0, 130, 211, 115, 783, 248, 419, 900, 1171, 463, 356, 251, 122, 716, 5, 608, 103, 113, 0, 0, 0, 0, 237, 238, 867, 136, 82, 880, 743, 880, 893, 112, 580, 725, 0, 273, 330, 0, 870, 0, 0, 874, 489, 841, 567, 226, 902, 822, 88, 123, 0, 713, 0, 252, 881, 0, 764, 120, 118, 74, 666, 30, 124, 565, 109, 61, 0, 237, 167, 840, 528, 876, 0, 726, 874, 880, 0, 85, 63, 267, 833, 0, 254, 146, 0, 0, 897, 879, 62, 822, 61, 0, 799, 64, 0, 102, 0, 865, 753, 717, 63, 306, 60, 0, 588, 0, 881, 238, 684, 275, 429, 634, 236, 61, 0, 398, 469, 0, 718, 57, 505, 92, 143, 60, 0, 0, 715, 859, 348, 231, 535, 340, 0, 292, 211, 863, 481, 5, 109, 72, 450, 150, 7, 260, 526, 503, 0, 90, 0, 0, 344, 62, 852, 817, 873, 0, 641, 0, 145, 84, 125, 265, 839, 831, 178, 505, 392, 374, 884, 695, 281, 571, 634, 779, 243, 0, 511, 840, 708, 858, 85, 516, 868, 571, 461, 304, 0, 0, 904, 356, 71, 33, 168, 427, 527, 866, 738, 869, 34, 638, 246, 372, 876, 0, 26, 224, 217, 413, 637, 0, 0, 324, 890, 298, 870, 588, 799, 873, 583, 0, 235, 0, 0, 0, 64, 21, 334, 455, 30, 280, 93, 284, 388, 379, 720, 0, 577, 638, 890, 0, 270, 0, 882, 966, 246, 30, 27, 378, 642, 30, 888, 83, 147, 0, 32, 875, 190, 894, 0, 151, 881, 574, 315, 0, 13, 418, 27, 0, 0, 665, 84, 840, 905, 861, 104, 418, 716, 7, 367, 47, 88, 904, 716, 173, 306, 0, 873, 434, 517, 0, 0, 7, 0, 678, 252, 876, 0, 0, 7, 583, 863, 0, 0, 432, 24, 0, 876, 215, 79, 0, 793, 0, 404, 853, 786, 154, 447, 876, 873, 356, 92, 0, 0, 889, 129, 819, 247, 630, 522, 241, 609, 294, 853, 423, 533, 122, 627, 755, 616, 87, 819, 371, 832, 0, 875, 66, 868, 0, 730, 63, 0, 709, 760, 873, 0, 527, 0, 237, 269, 776, 0, 860, 0, 811, 32, 817, 518, 795, 488, 35, 292, 684, 32, 371, 548, 57, 444, 46, 157, 121, 40, 574, 78, 763, 282, 748, 516, 660, 389, 551, 285, 91, 780, 0, 236, 889, 28, 212, 721, 127, 486, 89, 0, 30, 867, 156, 0, 181, 0, 885, 760, 692, 48, 841, 0, 736, 0, 880, 852, 712, 897, 662], \"xaxis\": \"x\", \"y\": [2, 72, 42, 12, 80, 100, 58, 1, 2, 8, 9, 16, 27, 6, 4, 130, 6, 60, 41, 4, 18, 18, 4, 6, 2, 6, 2, 3, 30, 16, 2, 2, 4, 33, 108, 6, 7, 2, 4, 4, 60, 3, 1, 7, 18, 2, 1, 84, 3, 22, 2, 2, 30, 2, 94, 6, 2, 2, 23, 3, 42, 5, 10, 0, 44, 6, 2, 30, 0, 8, 6, 1, 2, 33, 2, 2, 2, 18, 104, 94, 35, 46, 150, 2, 84, 2, 4, 58, 6, 6, 2, 36, 2, 12, 20, 116, 5, 64, 38, 79, 18, 17, 32, 2, 101, 40, 8, 58, 8, 24, 22, 6, 21, 66, 6, 21, 137, 164, 8, 68, 5, 144, 7, 15, 61, 3, 3, 6, 2, 2, 5, 2, 12, 2, 4, 42, 8, 8, 1, 2, 14, 2, 104, 10, 1, 62, 4, 18, 8, 64, 4, 34, 64, 9, 13, 12, 10, 56, 36, 2, 73, 3, 40, 30, 4, 68, 56, 2, 2, 8, 69, 12, 12, 6, 45, 46, 33, 2, 24, 4, 12, 98, 14, 3, 28, 27, 3, 16, 2, 110, 16, 51, 57, 31, 115, 2, 8, 42, 4, 4, 36, 28, 10, 2, 32, 8, 144, 21, 4, 118, 4, 63, 18, 2, 4, 2, 8, 16, 2, 50, 114, 49, 2, 2, 2, 4, 18, 16, 46, 64, 7, 3, 48, 110, 2, 36, 180, 2, 4, 7, 2, 2, 15, 10, 9, 8, 3, 4, 8, 1, 22, 16, 6, 78, 52, 2, 109, 23, 34, 4, 49, 4, 6, 12, 3, 3, 3, 60, 11, 28, 21, 24, 48, 26, 11, 82, 68, 8, 2, 2, 2, 2, 6, 240, 8, 32, 54, 2, 6, 55, 10, 2, 97, 118, 16, 28, 2, 66, 4, 12, 17, 8, 20, 30, 53, 2, 52, 33, 24, 23, 6, 96, 50, 14, 40, 78, 2, 50, 72, 159, 5, 14, 57, 10, 7, 94, 18, 32, 28, 60, 24, 2, 2, 22, 24, 3, 14, 6, 13, 256, 128, 42, 6, 60, 8, 41, 2, 19, 3, 5, 2, 2, 1, 0, 26, 12, 168, 8, 6, 140, 7, 32, 90, 3, 7, 80, 2, 10, 22, 2, 44, 1, 2, 54, 16, 52, 24, 16, 88, 153, 4, 4, 2, 42, 2, 10, 81, 2, 100, 4, 4, 9, 35, 4, 18, 96, 10, 6, 2, 44, 28, 47, 18, 35, 0, 2, 58, 17, 2, 16, 3, 4, 49, 4, 21, 24, 2, 2, 94, 65, 5, 18, 4, 2, 17, 4, 2, 8, 2, 24, 41, 184, 6, 22, 6, 1, 152, 2, 53, 33, 27, 44, 29, 6, 15, 6, 2, 4, 32, 2, 4, 8, 26, 4, 7, 6, 2, 2, 90, 147, 10, 12, 12, 5, 2, 11, 8, 60, 84, 8, 2, 18, 24, 7, 4, 18, 105, 39, 2, 4, 1, 2, 32, 2, 79, 56, 70, 2, 60, 2, 4, 6, 4, 32, 17, 56, 12, 15, 8, 22, 202, 24, 14, 117, 33, 28, 24, 4, 48, 25, 59, 38, 6, 17, 14, 44, 60, 7, 2, 1, 9, 42, 6, 2, 14, 48, 11, 55, 30, 58, 4, 17, 16, 12, 48, 2, 9, 49, 28, 14, 54, 2, 2, 9, 172, 10, 86, 15, 25, 78, 38, 2, 9, 2, 2, 2, 3, 4, 75, 26, 8, 8, 8, 28, 9, 22, 10, 2, 36, 48, 99, 2, 12, 2, 189, 155, 10, 4, 4, 8, 50, 4, 86, 3, 11, 3, 4, 27, 24, 200, 1, 6, 28, 14, 6, 2, 6, 26, 4, 2, 1, 18, 8, 54, 79, 23, 4, 104, 94, 4, 20, 4, 6, 29, 131, 12, 7, 1, 81, 82, 30, 2, 2, 4, 2, 38, 6, 84, 1, 2, 2, 22, 55, 2, 6, 20, 2, 2, 168, 10, 6, 2, 66, 2, 22, 100, 23, 14, 24, 70, 104, 48, 4, 2, 2, 46, 6, 24, 6, 38, 16, 6, 14, 23, 46, 14, 12, 10, 30, 5, 80, 6, 75, 24, 39, 1, 45, 4, 54, 2, 19, 2, 1, 192, 16, 18, 2, 18, 2, 6, 76, 32, 2, 28, 2, 28, 4, 31, 8, 75, 66, 4, 6, 70, 6, 28, 108, 6, 58, 6, 4, 3, 5, 8, 4, 67, 64, 144, 11, 51, 24, 44, 7, 8, 91, 2, 4, 66, 4, 24, 18, 5, 16, 6, 2, 4, 94, 4, 2, 5, 1, 112, 29, 129, 2, 80, 2, 6, 1, 60, 52, 38, 159, 19], \"yaxis\": \"y\"}, {\"alignmentgroup\": \"True\", \"bingroup\": \"x\", \"hovertemplate\": \"Different_MK=1<br>Delta_Time=%{x}<br>count=%{y}<extra></extra>\", \"legendgroup\": \"1\", \"marker\": {\"color\": \"#3366CC\"}, \"name\": \"1\", \"offsetgroup\": \"1\", \"opacity\": 0.5, \"showlegend\": false, \"type\": \"histogram\", \"x\": [0, 681, 818, 211, 882, 871, 867, 0, 40, 85, 66, 498, 318, 62, 44, 867, 30, 804, 751, 61, 380, 121, 0, 62, 0, 241, 0, 239, 318, 720, 0, 0, 29, 135, 648, 62, 401, 0, 7, 61, 586, 69, 0, 245, 788, 0, 0, 542, 741, 817, 0, 0, 422, 58, 554, 262, 0, 0, 712, 69, 698, 180, 200, 0, 414, 58, 0, 539, 0, 869, 79, 0, 43, 158, 0, 37, 0, 598, 849, 896, 667, 846, 727, 0, 697, 0, 65, 883, 70, 525, 58, 351, 0, 264, 891, 892, 169, 776, 841, 891, 150, 603, 477, 0, 894, 262, 21, 888, 555, 180, 346, 57, 230, 530, 261, 499, 874, 862, 139, 637, 41, 885, 62, 460, 900, 63, 64, 737, 395, 0, 196, 0, 264, 148, 35, 502, 367, 370, 0, 0, 485, 0, 557, 464, 0, 547, 74, 266, 431, 223, 375, 547, 750, 256, 148, 190, 262, 641, 239, 0, 868, 0, 176, 303, 0, 885, 784, 0, 611, 106, 875, 360, 149, 28, 426, 531, 155, 0, 336, 30, 743, 891, 259, 14, 392, 834, 1, 507, 0, 703, 566, 748, 210, 366, 887, 0, 72, 884, 0, 31, 829, 834, 774, 0, 820, 41, 825, 202, 86, 810, 29, 794, 455, 0, 653, 40, 97, 175, 0, 845, 411, 553, 0, 52, 0, 651, 377, 215, 667, 363, 319, 0, 823, 882, 60, 345, 871, 0, 65, 755, 0, 0, 181, 113, 247, 127, 69, 30, 365, 0, 313, 277, 211, 807, 861, 0, 885, 694, 556, 571, 544, 724, 698, 120, 89, 0, 61, 646, 458, 366, 847, 269, 643, 491, 399, 814, 572, 75, 0, 0, 0, 0, 32, 896, 28, 565, 874, 0, 691, 297, 267, 0, 859, 896, 56, 245, 0, 777, 0, 577, 282, 91, 307, 867, 835, 0, 406, 124, 181, 700, 146, 409, 854, 861, 331, 896, 0, 869, 732, 903, 739, 400, 637, 545, 135, 852, 375, 460, 243, 498, 419, 0, 0, 130, 211, 115, 783, 248, 419, 900, 1171, 463, 356, 251, 122, 716, 5, 608, 103, 113, 0, 0, 0, 0, 237, 238, 867, 136, 82, 880, 743, 880, 893, 112, 580, 725, 0, 273, 330, 0, 870, 0, 0, 874, 489, 841, 567, 226, 902, 822, 88, 123, 0, 713, 0, 252, 881, 0, 764, 120, 118, 74, 666, 30, 124, 565, 109, 61, 0, 237, 167, 840, 528, 876, 0, 726, 874, 880, 0, 85, 63, 267, 833, 0, 254, 146, 0, 0, 897, 879, 62, 822, 61, 0, 799, 64, 0, 102, 0, 865, 753, 717, 63, 306, 60, 0, 588, 0, 881, 238, 684, 275, 429, 634, 236, 61, 0, 398, 469, 0, 718, 57, 505, 92, 143, 60, 0, 0, 715, 859, 348, 231, 535, 340, 0, 292, 211, 863, 481, 5, 109, 72, 450, 150, 7, 260, 526, 503, 0, 90, 0, 0, 344, 62, 852, 817, 873, 0, 641, 0, 145, 84, 125, 265, 839, 831, 178, 505, 392, 374, 884, 695, 281, 571, 634, 779, 243, 0, 511, 840, 708, 858, 85, 516, 868, 571, 461, 304, 0, 0, 904, 356, 71, 33, 168, 427, 527, 866, 738, 869, 34, 638, 246, 372, 876, 0, 26, 224, 217, 413, 637, 0, 0, 324, 890, 298, 870, 588, 799, 873, 583, 0, 235, 0, 0, 0, 64, 21, 334, 455, 30, 280, 93, 284, 388, 379, 720, 0, 577, 638, 890, 0, 270, 0, 882, 966, 246, 30, 27, 378, 642, 30, 888, 83, 147, 0, 32, 875, 190, 894, 0, 151, 881, 574, 315, 0, 13, 418, 27, 0, 0, 665, 84, 840, 905, 861, 104, 418, 716, 7, 367, 47, 88, 904, 716, 173, 306, 0, 873, 434, 517, 0, 0, 7, 0, 678, 252, 876, 0, 0, 7, 583, 863, 0, 0, 432, 24, 0, 876, 215, 79, 0, 793, 0, 404, 853, 786, 154, 447, 876, 873, 356, 92, 0, 0, 889, 129, 819, 247, 630, 522, 241, 609, 294, 853, 423, 533, 122, 627, 755, 616, 87, 819, 371, 832, 0, 875, 66, 868, 0, 730, 63, 0, 709, 760, 873, 0, 527, 0, 237, 269, 776, 0, 860, 0, 811, 32, 817, 518, 795, 488, 35, 292, 684, 32, 371, 548, 57, 444, 46, 157, 121, 40, 574, 78, 763, 282, 748, 516, 660, 389, 551, 285, 91, 780, 0, 236, 889, 28, 212, 721, 127, 486, 89, 0, 30, 867, 156, 0, 181, 0, 885, 760, 692, 48, 841, 0, 736, 0, 880, 852, 712, 897, 662], \"xaxis\": \"x3\", \"yaxis\": \"y3\"}, {\"alignmentgroup\": \"True\", \"bingroup\": \"y\", \"hovertemplate\": \"Different_MK=1<br>Cantidad_Total=%{y}<br>count=%{x}<extra></extra>\", \"legendgroup\": \"1\", \"marker\": {\"color\": \"#3366CC\"}, \"name\": \"1\", \"offsetgroup\": \"1\", \"opacity\": 0.5, \"showlegend\": false, \"type\": \"histogram\", \"xaxis\": \"x2\", \"y\": [2, 72, 42, 12, 80, 100, 58, 1, 2, 8, 9, 16, 27, 6, 4, 130, 6, 60, 41, 4, 18, 18, 4, 6, 2, 6, 2, 3, 30, 16, 2, 2, 4, 33, 108, 6, 7, 2, 4, 4, 60, 3, 1, 7, 18, 2, 1, 84, 3, 22, 2, 2, 30, 2, 94, 6, 2, 2, 23, 3, 42, 5, 10, 0, 44, 6, 2, 30, 0, 8, 6, 1, 2, 33, 2, 2, 2, 18, 104, 94, 35, 46, 150, 2, 84, 2, 4, 58, 6, 6, 2, 36, 2, 12, 20, 116, 5, 64, 38, 79, 18, 17, 32, 2, 101, 40, 8, 58, 8, 24, 22, 6, 21, 66, 6, 21, 137, 164, 8, 68, 5, 144, 7, 15, 61, 3, 3, 6, 2, 2, 5, 2, 12, 2, 4, 42, 8, 8, 1, 2, 14, 2, 104, 10, 1, 62, 4, 18, 8, 64, 4, 34, 64, 9, 13, 12, 10, 56, 36, 2, 73, 3, 40, 30, 4, 68, 56, 2, 2, 8, 69, 12, 12, 6, 45, 46, 33, 2, 24, 4, 12, 98, 14, 3, 28, 27, 3, 16, 2, 110, 16, 51, 57, 31, 115, 2, 8, 42, 4, 4, 36, 28, 10, 2, 32, 8, 144, 21, 4, 118, 4, 63, 18, 2, 4, 2, 8, 16, 2, 50, 114, 49, 2, 2, 2, 4, 18, 16, 46, 64, 7, 3, 48, 110, 2, 36, 180, 2, 4, 7, 2, 2, 15, 10, 9, 8, 3, 4, 8, 1, 22, 16, 6, 78, 52, 2, 109, 23, 34, 4, 49, 4, 6, 12, 3, 3, 3, 60, 11, 28, 21, 24, 48, 26, 11, 82, 68, 8, 2, 2, 2, 2, 6, 240, 8, 32, 54, 2, 6, 55, 10, 2, 97, 118, 16, 28, 2, 66, 4, 12, 17, 8, 20, 30, 53, 2, 52, 33, 24, 23, 6, 96, 50, 14, 40, 78, 2, 50, 72, 159, 5, 14, 57, 10, 7, 94, 18, 32, 28, 60, 24, 2, 2, 22, 24, 3, 14, 6, 13, 256, 128, 42, 6, 60, 8, 41, 2, 19, 3, 5, 2, 2, 1, 0, 26, 12, 168, 8, 6, 140, 7, 32, 90, 3, 7, 80, 2, 10, 22, 2, 44, 1, 2, 54, 16, 52, 24, 16, 88, 153, 4, 4, 2, 42, 2, 10, 81, 2, 100, 4, 4, 9, 35, 4, 18, 96, 10, 6, 2, 44, 28, 47, 18, 35, 0, 2, 58, 17, 2, 16, 3, 4, 49, 4, 21, 24, 2, 2, 94, 65, 5, 18, 4, 2, 17, 4, 2, 8, 2, 24, 41, 184, 6, 22, 6, 1, 152, 2, 53, 33, 27, 44, 29, 6, 15, 6, 2, 4, 32, 2, 4, 8, 26, 4, 7, 6, 2, 2, 90, 147, 10, 12, 12, 5, 2, 11, 8, 60, 84, 8, 2, 18, 24, 7, 4, 18, 105, 39, 2, 4, 1, 2, 32, 2, 79, 56, 70, 2, 60, 2, 4, 6, 4, 32, 17, 56, 12, 15, 8, 22, 202, 24, 14, 117, 33, 28, 24, 4, 48, 25, 59, 38, 6, 17, 14, 44, 60, 7, 2, 1, 9, 42, 6, 2, 14, 48, 11, 55, 30, 58, 4, 17, 16, 12, 48, 2, 9, 49, 28, 14, 54, 2, 2, 9, 172, 10, 86, 15, 25, 78, 38, 2, 9, 2, 2, 2, 3, 4, 75, 26, 8, 8, 8, 28, 9, 22, 10, 2, 36, 48, 99, 2, 12, 2, 189, 155, 10, 4, 4, 8, 50, 4, 86, 3, 11, 3, 4, 27, 24, 200, 1, 6, 28, 14, 6, 2, 6, 26, 4, 2, 1, 18, 8, 54, 79, 23, 4, 104, 94, 4, 20, 4, 6, 29, 131, 12, 7, 1, 81, 82, 30, 2, 2, 4, 2, 38, 6, 84, 1, 2, 2, 22, 55, 2, 6, 20, 2, 2, 168, 10, 6, 2, 66, 2, 22, 100, 23, 14, 24, 70, 104, 48, 4, 2, 2, 46, 6, 24, 6, 38, 16, 6, 14, 23, 46, 14, 12, 10, 30, 5, 80, 6, 75, 24, 39, 1, 45, 4, 54, 2, 19, 2, 1, 192, 16, 18, 2, 18, 2, 6, 76, 32, 2, 28, 2, 28, 4, 31, 8, 75, 66, 4, 6, 70, 6, 28, 108, 6, 58, 6, 4, 3, 5, 8, 4, 67, 64, 144, 11, 51, 24, 44, 7, 8, 91, 2, 4, 66, 4, 24, 18, 5, 16, 6, 2, 4, 94, 4, 2, 5, 1, 112, 29, 129, 2, 80, 2, 6, 1, 60, 52, 38, 159, 19], \"yaxis\": \"y2\"}, {\"hovertemplate\": \"Different_MK=2<br>Delta_Time=%{x}<br>Cantidad_Total=%{y}<extra></extra>\", \"legendgroup\": \"2\", \"marker\": {\"color\": \"#DC3912\", \"line\": {\"color\": \"DarkSlateGrey\", \"width\": 2}, \"size\": 8, \"symbol\": \"circle\"}, \"mode\": \"markers\", \"name\": \"2\", \"showlegend\": true, \"type\": \"scatter\", \"x\": [342, 876, 892, 858, 677, 357, 860, 888, 398, 840, 398, 842, 477, 679, 769, 793, 853, 696, 734, 892, 752, 880, 855, 512, 835, 686, 669, 867, 810, 883, 304, 882, 392, 799, 857, 877, 848, 843, 267, 111, 877, 848, 815, 290, 902, 657, 882, 796, 870, 329, 891, 625, 819, 490, 234, 755, 643, 224, 631, 456, 693, 851, 783, 692, 484, 889, 274, 724, 836, 806], \"xaxis\": \"x\", \"y\": [30, 88, 159, 63, 46, 15, 79, 27, 52, 42, 19, 73, 49, 60, 20, 26, 77, 35, 75, 103, 47, 110, 120, 46, 50, 49, 92, 64, 192, 137, 15, 175, 56, 43, 69, 92, 123, 138, 28, 6, 110, 107, 28, 12, 48, 80, 20, 158, 169, 14, 174, 44, 157, 28, 11, 47, 31, 22, 38, 73, 53, 144, 47, 76, 22, 55, 40, 19, 176, 42], \"yaxis\": \"y\"}, {\"alignmentgroup\": \"True\", \"bingroup\": \"x\", \"hovertemplate\": \"Different_MK=2<br>Delta_Time=%{x}<br>count=%{y}<extra></extra>\", \"legendgroup\": \"2\", \"marker\": {\"color\": \"#DC3912\"}, \"name\": \"2\", \"offsetgroup\": \"2\", \"opacity\": 0.5, \"showlegend\": false, \"type\": \"histogram\", \"x\": [342, 876, 892, 858, 677, 357, 860, 888, 398, 840, 398, 842, 477, 679, 769, 793, 853, 696, 734, 892, 752, 880, 855, 512, 835, 686, 669, 867, 810, 883, 304, 882, 392, 799, 857, 877, 848, 843, 267, 111, 877, 848, 815, 290, 902, 657, 882, 796, 870, 329, 891, 625, 819, 490, 234, 755, 643, 224, 631, 456, 693, 851, 783, 692, 484, 889, 274, 724, 836, 806], \"xaxis\": \"x3\", \"yaxis\": \"y3\"}, {\"alignmentgroup\": \"True\", \"bingroup\": \"y\", \"hovertemplate\": \"Different_MK=2<br>Cantidad_Total=%{y}<br>count=%{x}<extra></extra>\", \"legendgroup\": \"2\", \"marker\": {\"color\": \"#DC3912\"}, \"name\": \"2\", \"offsetgroup\": \"2\", \"opacity\": 0.5, \"showlegend\": false, \"type\": \"histogram\", \"xaxis\": \"x2\", \"y\": [30, 88, 159, 63, 46, 15, 79, 27, 52, 42, 19, 73, 49, 60, 20, 26, 77, 35, 75, 103, 47, 110, 120, 46, 50, 49, 92, 64, 192, 137, 15, 175, 56, 43, 69, 92, 123, 138, 28, 6, 110, 107, 28, 12, 48, 80, 20, 158, 169, 14, 174, 44, 157, 28, 11, 47, 31, 22, 38, 73, 53, 144, 47, 76, 22, 55, 40, 19, 176, 42], \"yaxis\": \"y2\"}, {\"hovertemplate\": \"Different_MK=3<br>Delta_Time=%{x}<br>Cantidad_Total=%{y}<extra></extra>\", \"legendgroup\": \"3\", \"marker\": {\"color\": \"#FF9900\", \"line\": {\"color\": \"DarkSlateGrey\", \"width\": 2}, \"size\": 8, \"symbol\": \"circle\"}, \"mode\": \"markers\", \"name\": \"3\", \"showlegend\": true, \"type\": \"scatter\", \"x\": [886, 870, 378, 636], \"xaxis\": \"x\", \"y\": [135, 71, 27, 34], \"yaxis\": \"y\"}, {\"alignmentgroup\": \"True\", \"bingroup\": \"x\", \"hovertemplate\": \"Different_MK=3<br>Delta_Time=%{x}<br>count=%{y}<extra></extra>\", \"legendgroup\": \"3\", \"marker\": {\"color\": \"#FF9900\"}, \"name\": \"3\", \"offsetgroup\": \"3\", \"opacity\": 0.5, \"showlegend\": false, \"type\": \"histogram\", \"x\": [886, 870, 378, 636], \"xaxis\": \"x3\", \"yaxis\": \"y3\"}, {\"alignmentgroup\": \"True\", \"bingroup\": \"y\", \"hovertemplate\": \"Different_MK=3<br>Cantidad_Total=%{y}<br>count=%{x}<extra></extra>\", \"legendgroup\": \"3\", \"marker\": {\"color\": \"#FF9900\"}, \"name\": \"3\", \"offsetgroup\": \"3\", \"opacity\": 0.5, \"showlegend\": false, \"type\": \"histogram\", \"xaxis\": \"x2\", \"y\": [135, 71, 27, 34], \"yaxis\": \"y2\"}],\n",
       "                        {\"barmode\": \"overlay\", \"height\": 800, \"legend\": {\"title\": {\"text\": \"Different_MK\"}, \"tracegroupgap\": 0}, \"margin\": {\"t\": 60}, \"template\": {\"data\": {\"bar\": [{\"error_x\": {\"color\": \"#2a3f5f\"}, \"error_y\": {\"color\": \"#2a3f5f\"}, \"marker\": {\"line\": {\"color\": \"#E5ECF6\", \"width\": 0.5}}, \"type\": \"bar\"}], \"barpolar\": [{\"marker\": {\"line\": {\"color\": \"#E5ECF6\", \"width\": 0.5}}, \"type\": \"barpolar\"}], \"carpet\": [{\"aaxis\": {\"endlinecolor\": \"#2a3f5f\", \"gridcolor\": \"white\", \"linecolor\": \"white\", \"minorgridcolor\": \"white\", \"startlinecolor\": \"#2a3f5f\"}, \"baxis\": {\"endlinecolor\": \"#2a3f5f\", \"gridcolor\": \"white\", \"linecolor\": \"white\", \"minorgridcolor\": \"white\", \"startlinecolor\": \"#2a3f5f\"}, \"type\": \"carpet\"}], \"choropleth\": [{\"colorbar\": {\"outlinewidth\": 0, \"ticks\": \"\"}, \"type\": \"choropleth\"}], \"contour\": [{\"colorbar\": {\"outlinewidth\": 0, \"ticks\": \"\"}, \"colorscale\": [[0.0, \"#0d0887\"], [0.1111111111111111, \"#46039f\"], [0.2222222222222222, \"#7201a8\"], [0.3333333333333333, \"#9c179e\"], [0.4444444444444444, \"#bd3786\"], [0.5555555555555556, \"#d8576b\"], [0.6666666666666666, \"#ed7953\"], [0.7777777777777778, \"#fb9f3a\"], [0.8888888888888888, \"#fdca26\"], [1.0, \"#f0f921\"]], \"type\": \"contour\"}], \"contourcarpet\": [{\"colorbar\": {\"outlinewidth\": 0, \"ticks\": \"\"}, \"type\": \"contourcarpet\"}], \"heatmap\": [{\"colorbar\": {\"outlinewidth\": 0, \"ticks\": \"\"}, \"colorscale\": [[0.0, \"#0d0887\"], [0.1111111111111111, \"#46039f\"], [0.2222222222222222, \"#7201a8\"], [0.3333333333333333, \"#9c179e\"], [0.4444444444444444, \"#bd3786\"], [0.5555555555555556, \"#d8576b\"], [0.6666666666666666, \"#ed7953\"], [0.7777777777777778, \"#fb9f3a\"], [0.8888888888888888, \"#fdca26\"], [1.0, \"#f0f921\"]], \"type\": \"heatmap\"}], \"heatmapgl\": [{\"colorbar\": {\"outlinewidth\": 0, \"ticks\": \"\"}, \"colorscale\": [[0.0, \"#0d0887\"], [0.1111111111111111, \"#46039f\"], [0.2222222222222222, \"#7201a8\"], [0.3333333333333333, \"#9c179e\"], [0.4444444444444444, \"#bd3786\"], [0.5555555555555556, \"#d8576b\"], [0.6666666666666666, \"#ed7953\"], [0.7777777777777778, \"#fb9f3a\"], [0.8888888888888888, \"#fdca26\"], [1.0, \"#f0f921\"]], \"type\": \"heatmapgl\"}], \"histogram\": [{\"marker\": {\"colorbar\": {\"outlinewidth\": 0, \"ticks\": \"\"}}, \"type\": \"histogram\"}], \"histogram2d\": [{\"colorbar\": {\"outlinewidth\": 0, \"ticks\": \"\"}, \"colorscale\": [[0.0, \"#0d0887\"], [0.1111111111111111, \"#46039f\"], [0.2222222222222222, \"#7201a8\"], [0.3333333333333333, \"#9c179e\"], [0.4444444444444444, \"#bd3786\"], [0.5555555555555556, \"#d8576b\"], [0.6666666666666666, \"#ed7953\"], [0.7777777777777778, \"#fb9f3a\"], [0.8888888888888888, \"#fdca26\"], [1.0, \"#f0f921\"]], \"type\": \"histogram2d\"}], \"histogram2dcontour\": [{\"colorbar\": {\"outlinewidth\": 0, \"ticks\": \"\"}, \"colorscale\": [[0.0, \"#0d0887\"], [0.1111111111111111, \"#46039f\"], [0.2222222222222222, \"#7201a8\"], [0.3333333333333333, \"#9c179e\"], [0.4444444444444444, \"#bd3786\"], [0.5555555555555556, \"#d8576b\"], [0.6666666666666666, \"#ed7953\"], [0.7777777777777778, \"#fb9f3a\"], [0.8888888888888888, \"#fdca26\"], [1.0, \"#f0f921\"]], \"type\": \"histogram2dcontour\"}], \"mesh3d\": [{\"colorbar\": {\"outlinewidth\": 0, \"ticks\": \"\"}, \"type\": \"mesh3d\"}], \"parcoords\": [{\"line\": {\"colorbar\": {\"outlinewidth\": 0, \"ticks\": \"\"}}, \"type\": \"parcoords\"}], \"pie\": [{\"automargin\": true, \"type\": \"pie\"}], \"scatter\": [{\"marker\": {\"colorbar\": {\"outlinewidth\": 0, \"ticks\": \"\"}}, \"type\": \"scatter\"}], \"scatter3d\": [{\"line\": {\"colorbar\": {\"outlinewidth\": 0, \"ticks\": \"\"}}, \"marker\": {\"colorbar\": {\"outlinewidth\": 0, \"ticks\": \"\"}}, \"type\": \"scatter3d\"}], \"scattercarpet\": [{\"marker\": {\"colorbar\": {\"outlinewidth\": 0, \"ticks\": \"\"}}, \"type\": \"scattercarpet\"}], \"scattergeo\": [{\"marker\": {\"colorbar\": {\"outlinewidth\": 0, \"ticks\": \"\"}}, \"type\": \"scattergeo\"}], \"scattergl\": [{\"marker\": {\"colorbar\": {\"outlinewidth\": 0, \"ticks\": \"\"}}, \"type\": \"scattergl\"}], \"scattermapbox\": [{\"marker\": {\"colorbar\": {\"outlinewidth\": 0, \"ticks\": \"\"}}, \"type\": \"scattermapbox\"}], \"scatterpolar\": [{\"marker\": {\"colorbar\": {\"outlinewidth\": 0, \"ticks\": \"\"}}, \"type\": \"scatterpolar\"}], \"scatterpolargl\": [{\"marker\": {\"colorbar\": {\"outlinewidth\": 0, \"ticks\": \"\"}}, \"type\": \"scatterpolargl\"}], \"scatterternary\": [{\"marker\": {\"colorbar\": {\"outlinewidth\": 0, \"ticks\": \"\"}}, \"type\": \"scatterternary\"}], \"surface\": [{\"colorbar\": {\"outlinewidth\": 0, \"ticks\": \"\"}, \"colorscale\": [[0.0, \"#0d0887\"], [0.1111111111111111, \"#46039f\"], [0.2222222222222222, \"#7201a8\"], [0.3333333333333333, \"#9c179e\"], [0.4444444444444444, \"#bd3786\"], [0.5555555555555556, \"#d8576b\"], [0.6666666666666666, \"#ed7953\"], [0.7777777777777778, \"#fb9f3a\"], [0.8888888888888888, \"#fdca26\"], [1.0, \"#f0f921\"]], \"type\": \"surface\"}], \"table\": [{\"cells\": {\"fill\": {\"color\": \"#EBF0F8\"}, \"line\": {\"color\": \"white\"}}, \"header\": {\"fill\": {\"color\": \"#C8D4E3\"}, \"line\": {\"color\": \"white\"}}, \"type\": \"table\"}]}, \"layout\": {\"annotationdefaults\": {\"arrowcolor\": \"#2a3f5f\", \"arrowhead\": 0, \"arrowwidth\": 1}, \"coloraxis\": {\"colorbar\": {\"outlinewidth\": 0, \"ticks\": \"\"}}, \"colorscale\": {\"diverging\": [[0, \"#8e0152\"], [0.1, \"#c51b7d\"], [0.2, \"#de77ae\"], [0.3, \"#f1b6da\"], [0.4, \"#fde0ef\"], [0.5, \"#f7f7f7\"], [0.6, \"#e6f5d0\"], [0.7, \"#b8e186\"], [0.8, \"#7fbc41\"], [0.9, \"#4d9221\"], [1, \"#276419\"]], \"sequential\": [[0.0, \"#0d0887\"], [0.1111111111111111, \"#46039f\"], [0.2222222222222222, \"#7201a8\"], [0.3333333333333333, \"#9c179e\"], [0.4444444444444444, \"#bd3786\"], [0.5555555555555556, \"#d8576b\"], [0.6666666666666666, \"#ed7953\"], [0.7777777777777778, \"#fb9f3a\"], [0.8888888888888888, \"#fdca26\"], [1.0, \"#f0f921\"]], \"sequentialminus\": [[0.0, \"#0d0887\"], [0.1111111111111111, \"#46039f\"], [0.2222222222222222, \"#7201a8\"], [0.3333333333333333, \"#9c179e\"], [0.4444444444444444, \"#bd3786\"], [0.5555555555555556, \"#d8576b\"], [0.6666666666666666, \"#ed7953\"], [0.7777777777777778, \"#fb9f3a\"], [0.8888888888888888, \"#fdca26\"], [1.0, \"#f0f921\"]]}, \"colorway\": [\"#636efa\", \"#EF553B\", \"#00cc96\", \"#ab63fa\", \"#FFA15A\", \"#19d3f3\", \"#FF6692\", \"#B6E880\", \"#FF97FF\", \"#FECB52\"], \"font\": {\"color\": \"#2a3f5f\"}, \"geo\": {\"bgcolor\": \"white\", \"lakecolor\": \"white\", \"landcolor\": \"#E5ECF6\", \"showlakes\": true, \"showland\": true, \"subunitcolor\": \"white\"}, \"hoverlabel\": {\"align\": \"left\"}, \"hovermode\": \"closest\", \"mapbox\": {\"style\": \"light\"}, \"paper_bgcolor\": \"white\", \"plot_bgcolor\": \"#E5ECF6\", \"polar\": {\"angularaxis\": {\"gridcolor\": \"white\", \"linecolor\": \"white\", \"ticks\": \"\"}, \"bgcolor\": \"#E5ECF6\", \"radialaxis\": {\"gridcolor\": \"white\", \"linecolor\": \"white\", \"ticks\": \"\"}}, \"scene\": {\"xaxis\": {\"backgroundcolor\": \"#E5ECF6\", \"gridcolor\": \"white\", \"gridwidth\": 2, \"linecolor\": \"white\", \"showbackground\": true, \"ticks\": \"\", \"zerolinecolor\": \"white\"}, \"yaxis\": {\"backgroundcolor\": \"#E5ECF6\", \"gridcolor\": \"white\", \"gridwidth\": 2, \"linecolor\": \"white\", \"showbackground\": true, \"ticks\": \"\", \"zerolinecolor\": \"white\"}, \"zaxis\": {\"backgroundcolor\": \"#E5ECF6\", \"gridcolor\": \"white\", \"gridwidth\": 2, \"linecolor\": \"white\", \"showbackground\": true, \"ticks\": \"\", \"zerolinecolor\": \"white\"}}, \"shapedefaults\": {\"line\": {\"color\": \"#2a3f5f\"}}, \"ternary\": {\"aaxis\": {\"gridcolor\": \"white\", \"linecolor\": \"white\", \"ticks\": \"\"}, \"baxis\": {\"gridcolor\": \"white\", \"linecolor\": \"white\", \"ticks\": \"\"}, \"bgcolor\": \"#E5ECF6\", \"caxis\": {\"gridcolor\": \"white\", \"linecolor\": \"white\", \"ticks\": \"\"}}, \"title\": {\"x\": 0.05}, \"xaxis\": {\"automargin\": true, \"gridcolor\": \"white\", \"linecolor\": \"white\", \"ticks\": \"\", \"title\": {\"standoff\": 15}, \"zerolinecolor\": \"white\", \"zerolinewidth\": 2}, \"yaxis\": {\"automargin\": true, \"gridcolor\": \"white\", \"linecolor\": \"white\", \"ticks\": \"\", \"title\": {\"standoff\": 15}, \"zerolinecolor\": \"white\", \"zerolinewidth\": 2}}}, \"title\": {\"text\": \"Relation between Medication quantity and time in study\"}, \"xaxis\": {\"anchor\": \"y\", \"domain\": [0.0, 0.7363], \"title\": {\"text\": \"Time (days) in the treatment\"}}, \"xaxis2\": {\"anchor\": \"y2\", \"domain\": [0.7413, 1.0], \"matches\": \"x2\", \"showgrid\": true, \"showline\": false, \"showticklabels\": false, \"ticks\": \"\"}, \"xaxis3\": {\"anchor\": \"y3\", \"domain\": [0.0, 0.7363], \"matches\": \"x\", \"showgrid\": true, \"showticklabels\": false}, \"xaxis4\": {\"anchor\": \"y4\", \"domain\": [0.7413, 1.0], \"matches\": \"x2\", \"showgrid\": true, \"showline\": false, \"showticklabels\": false, \"ticks\": \"\"}, \"yaxis\": {\"anchor\": \"x\", \"domain\": [0.0, 0.7326], \"title\": {\"text\": \"No. of medication received\"}}, \"yaxis2\": {\"anchor\": \"x2\", \"domain\": [0.0, 0.7326], \"matches\": \"y\", \"showgrid\": true, \"showticklabels\": false}, \"yaxis3\": {\"anchor\": \"x3\", \"domain\": [0.7426, 1.0], \"matches\": \"y3\", \"showgrid\": true, \"showline\": false, \"showticklabels\": false, \"ticks\": \"\"}, \"yaxis4\": {\"anchor\": \"x4\", \"domain\": [0.7426, 1.0], \"matches\": \"y3\", \"showgrid\": true, \"showline\": false, \"showticklabels\": false, \"ticks\": \"\"}},\n",
       "                        {\"responsive\": true}\n",
       "                    ).then(function(){\n",
       "                            \n",
       "var gd = document.getElementById('d145cc17-e973-425f-8d07-7b4014a5ffdd');\n",
       "var x = new MutationObserver(function (mutations, observer) {{\n",
       "        var display = window.getComputedStyle(gd).display;\n",
       "        if (!display || display === 'none') {{\n",
       "            console.log([gd, 'removed!']);\n",
       "            Plotly.purge(gd);\n",
       "            observer.disconnect();\n",
       "        }}\n",
       "}});\n",
       "\n",
       "// Listen for the removal of the full notebook cells\n",
       "var notebookContainer = gd.closest('#notebook-container');\n",
       "if (notebookContainer) {{\n",
       "    x.observe(notebookContainer, {childList: true});\n",
       "}}\n",
       "\n",
       "// Listen for the clearing of the current output cell\n",
       "var outputEl = gd.closest('.output');\n",
       "if (outputEl) {{\n",
       "    x.observe(outputEl, {childList: true});\n",
       "}}\n",
       "\n",
       "                        })\n",
       "                };\n",
       "                });\n",
       "            </script>\n",
       "        </div>"
      ]
     },
     "metadata": {},
     "output_type": "display_data"
    }
   ],
   "source": [
    "fig = px.scatter(data_frame=dftemp, x='Delta_Time', y='Cantidad_Total',\n",
    "                 color = 'Different_MK',\n",
    "                 #color_discrete_sequence = ['red','blue','green'],\n",
    "                 color_discrete_sequence=px.colors.qualitative.G10,\n",
    "                 marginal_x = \"histogram\",\n",
    "                 marginal_y = \"histogram\",\n",
    "                 height  = 800\n",
    "                )\n",
    "fig = fig.update_layout(#xaxis_type = 'log',\n",
    "                 #yaxis_type = 'log',\n",
    "                 title_text = \"Relation between Medication quantity and time in study\",\n",
    "                 xaxis_title = \"Time (days) in the treatment\",\n",
    "                 yaxis_title = \"No. of medication received\"\n",
    "                 )\n",
    "fig.update_traces(marker=dict(size=8,\n",
    "                              line=dict(width=2,\n",
    "                                        color='DarkSlateGrey')),\n",
    "                  selector=dict(mode='markers'))"
   ]
  },
  {
   "cell_type": "markdown",
   "metadata": {},
   "source": [
    "# Distribution of the time between medication claim"
   ]
  },
  {
   "cell_type": "code",
   "execution_count": 174,
   "metadata": {
    "run_control": {
     "marked": false
    }
   },
   "outputs": [],
   "source": [
    "# We define an arbitrary initial time to perform differences\n",
    "date_of_reference = datetime.strptime(\"2000-01-01\", \"%Y-%m-%d\")\n",
    "\n",
    "dftemp = dataBiologicos.groupby('Identificacion').agg(\n",
    "    Delta_Time=pd.NamedAgg(\n",
    "        column=\"Fecha_Dcto\", \n",
    "        aggfunc=lambda x: [np.diff((x.sort_values() - date_of_reference).dt.days,axis = 0)])\n",
    "    \n",
    "    #lambda calculate the time interval between claims of medication\n",
    "    # we use a date_of_reference as an arbitrary date to make calculation but is irrelevant\n",
    "    \n",
    ").reset_index()\n",
    "\n",
    "# Flatten function\n",
    "delta_claim = dftemp.Delta_Time.explode().explode()\n",
    "\n",
    "# histogram\n",
    "dftemp = delta_claim.value_counts().reset_index().sort_values(by='index')"
   ]
  },
  {
   "cell_type": "markdown",
   "metadata": {},
   "source": [
    "## Figure"
   ]
  },
  {
   "cell_type": "code",
   "execution_count": 175,
   "metadata": {},
   "outputs": [
    {
     "data": {
      "application/vnd.plotly.v1+json": {
       "config": {
        "plotlyServerURL": "https://plot.ly"
       },
       "data": [
        {
         "alignmentgroup": "True",
         "hovertemplate": "index=%{x}<br>Delta_Time=%{y}<extra></extra>",
         "legendgroup": "",
         "marker": {
          "color": "#636efa"
         },
         "name": "",
         "offsetgroup": "",
         "orientation": "v",
         "showlegend": false,
         "textposition": "auto",
         "type": "bar",
         "x": [
          1,
          2,
          3,
          4,
          5,
          6,
          7,
          8,
          9,
          10,
          11,
          12,
          13,
          14,
          15,
          16,
          17,
          18,
          19,
          20,
          21,
          22,
          23,
          24,
          25,
          26,
          27,
          28,
          29,
          30,
          31,
          32,
          33,
          34,
          35,
          36,
          37,
          38,
          39,
          40,
          41,
          42,
          43,
          44,
          45,
          46,
          47,
          48,
          49,
          50,
          51,
          52,
          53,
          54,
          55,
          56,
          57,
          58,
          59,
          60,
          61,
          62,
          63,
          64,
          65,
          66,
          67,
          68,
          69,
          70,
          71,
          72,
          73,
          74,
          75,
          76,
          77,
          78,
          79,
          80,
          81,
          82,
          84,
          85,
          86,
          87,
          88,
          89,
          90,
          91,
          92,
          93,
          94,
          95,
          96,
          97,
          98,
          99
         ],
         "xaxis": "x",
         "y": [
          25,
          26,
          33,
          28,
          32,
          18,
          29,
          16,
          37,
          40,
          123,
          184,
          435,
          1946,
          575,
          313,
          225,
          150,
          154,
          113,
          165,
          72,
          61,
          66,
          75,
          90,
          146,
          612,
          428,
          648,
          668,
          408,
          252,
          209,
          218,
          108,
          87,
          83,
          68,
          77,
          72,
          71,
          44,
          41,
          53,
          37,
          27,
          29,
          45,
          28,
          21,
          24,
          17,
          19,
          22,
          50,
          19,
          43,
          44,
          38,
          41,
          43,
          44,
          30,
          18,
          15,
          12,
          9,
          9,
          28,
          16,
          7,
          7,
          8,
          11,
          5,
          15,
          7,
          8,
          8,
          8,
          5,
          14,
          9,
          8,
          5,
          4,
          2,
          3,
          8,
          7,
          3,
          3,
          3,
          3,
          6,
          10,
          3
         ],
         "yaxis": "y"
        }
       ],
       "layout": {
        "barmode": "relative",
        "legend": {
         "tracegroupgap": 0
        },
        "margin": {
         "t": 60
        },
        "template": {
         "data": {
          "bar": [
           {
            "error_x": {
             "color": "#2a3f5f"
            },
            "error_y": {
             "color": "#2a3f5f"
            },
            "marker": {
             "line": {
              "color": "#E5ECF6",
              "width": 0.5
             }
            },
            "type": "bar"
           }
          ],
          "barpolar": [
           {
            "marker": {
             "line": {
              "color": "#E5ECF6",
              "width": 0.5
             }
            },
            "type": "barpolar"
           }
          ],
          "carpet": [
           {
            "aaxis": {
             "endlinecolor": "#2a3f5f",
             "gridcolor": "white",
             "linecolor": "white",
             "minorgridcolor": "white",
             "startlinecolor": "#2a3f5f"
            },
            "baxis": {
             "endlinecolor": "#2a3f5f",
             "gridcolor": "white",
             "linecolor": "white",
             "minorgridcolor": "white",
             "startlinecolor": "#2a3f5f"
            },
            "type": "carpet"
           }
          ],
          "choropleth": [
           {
            "colorbar": {
             "outlinewidth": 0,
             "ticks": ""
            },
            "type": "choropleth"
           }
          ],
          "contour": [
           {
            "colorbar": {
             "outlinewidth": 0,
             "ticks": ""
            },
            "colorscale": [
             [
              0,
              "#0d0887"
             ],
             [
              0.1111111111111111,
              "#46039f"
             ],
             [
              0.2222222222222222,
              "#7201a8"
             ],
             [
              0.3333333333333333,
              "#9c179e"
             ],
             [
              0.4444444444444444,
              "#bd3786"
             ],
             [
              0.5555555555555556,
              "#d8576b"
             ],
             [
              0.6666666666666666,
              "#ed7953"
             ],
             [
              0.7777777777777778,
              "#fb9f3a"
             ],
             [
              0.8888888888888888,
              "#fdca26"
             ],
             [
              1,
              "#f0f921"
             ]
            ],
            "type": "contour"
           }
          ],
          "contourcarpet": [
           {
            "colorbar": {
             "outlinewidth": 0,
             "ticks": ""
            },
            "type": "contourcarpet"
           }
          ],
          "heatmap": [
           {
            "colorbar": {
             "outlinewidth": 0,
             "ticks": ""
            },
            "colorscale": [
             [
              0,
              "#0d0887"
             ],
             [
              0.1111111111111111,
              "#46039f"
             ],
             [
              0.2222222222222222,
              "#7201a8"
             ],
             [
              0.3333333333333333,
              "#9c179e"
             ],
             [
              0.4444444444444444,
              "#bd3786"
             ],
             [
              0.5555555555555556,
              "#d8576b"
             ],
             [
              0.6666666666666666,
              "#ed7953"
             ],
             [
              0.7777777777777778,
              "#fb9f3a"
             ],
             [
              0.8888888888888888,
              "#fdca26"
             ],
             [
              1,
              "#f0f921"
             ]
            ],
            "type": "heatmap"
           }
          ],
          "heatmapgl": [
           {
            "colorbar": {
             "outlinewidth": 0,
             "ticks": ""
            },
            "colorscale": [
             [
              0,
              "#0d0887"
             ],
             [
              0.1111111111111111,
              "#46039f"
             ],
             [
              0.2222222222222222,
              "#7201a8"
             ],
             [
              0.3333333333333333,
              "#9c179e"
             ],
             [
              0.4444444444444444,
              "#bd3786"
             ],
             [
              0.5555555555555556,
              "#d8576b"
             ],
             [
              0.6666666666666666,
              "#ed7953"
             ],
             [
              0.7777777777777778,
              "#fb9f3a"
             ],
             [
              0.8888888888888888,
              "#fdca26"
             ],
             [
              1,
              "#f0f921"
             ]
            ],
            "type": "heatmapgl"
           }
          ],
          "histogram": [
           {
            "marker": {
             "colorbar": {
              "outlinewidth": 0,
              "ticks": ""
             }
            },
            "type": "histogram"
           }
          ],
          "histogram2d": [
           {
            "colorbar": {
             "outlinewidth": 0,
             "ticks": ""
            },
            "colorscale": [
             [
              0,
              "#0d0887"
             ],
             [
              0.1111111111111111,
              "#46039f"
             ],
             [
              0.2222222222222222,
              "#7201a8"
             ],
             [
              0.3333333333333333,
              "#9c179e"
             ],
             [
              0.4444444444444444,
              "#bd3786"
             ],
             [
              0.5555555555555556,
              "#d8576b"
             ],
             [
              0.6666666666666666,
              "#ed7953"
             ],
             [
              0.7777777777777778,
              "#fb9f3a"
             ],
             [
              0.8888888888888888,
              "#fdca26"
             ],
             [
              1,
              "#f0f921"
             ]
            ],
            "type": "histogram2d"
           }
          ],
          "histogram2dcontour": [
           {
            "colorbar": {
             "outlinewidth": 0,
             "ticks": ""
            },
            "colorscale": [
             [
              0,
              "#0d0887"
             ],
             [
              0.1111111111111111,
              "#46039f"
             ],
             [
              0.2222222222222222,
              "#7201a8"
             ],
             [
              0.3333333333333333,
              "#9c179e"
             ],
             [
              0.4444444444444444,
              "#bd3786"
             ],
             [
              0.5555555555555556,
              "#d8576b"
             ],
             [
              0.6666666666666666,
              "#ed7953"
             ],
             [
              0.7777777777777778,
              "#fb9f3a"
             ],
             [
              0.8888888888888888,
              "#fdca26"
             ],
             [
              1,
              "#f0f921"
             ]
            ],
            "type": "histogram2dcontour"
           }
          ],
          "mesh3d": [
           {
            "colorbar": {
             "outlinewidth": 0,
             "ticks": ""
            },
            "type": "mesh3d"
           }
          ],
          "parcoords": [
           {
            "line": {
             "colorbar": {
              "outlinewidth": 0,
              "ticks": ""
             }
            },
            "type": "parcoords"
           }
          ],
          "pie": [
           {
            "automargin": true,
            "type": "pie"
           }
          ],
          "scatter": [
           {
            "marker": {
             "colorbar": {
              "outlinewidth": 0,
              "ticks": ""
             }
            },
            "type": "scatter"
           }
          ],
          "scatter3d": [
           {
            "line": {
             "colorbar": {
              "outlinewidth": 0,
              "ticks": ""
             }
            },
            "marker": {
             "colorbar": {
              "outlinewidth": 0,
              "ticks": ""
             }
            },
            "type": "scatter3d"
           }
          ],
          "scattercarpet": [
           {
            "marker": {
             "colorbar": {
              "outlinewidth": 0,
              "ticks": ""
             }
            },
            "type": "scattercarpet"
           }
          ],
          "scattergeo": [
           {
            "marker": {
             "colorbar": {
              "outlinewidth": 0,
              "ticks": ""
             }
            },
            "type": "scattergeo"
           }
          ],
          "scattergl": [
           {
            "marker": {
             "colorbar": {
              "outlinewidth": 0,
              "ticks": ""
             }
            },
            "type": "scattergl"
           }
          ],
          "scattermapbox": [
           {
            "marker": {
             "colorbar": {
              "outlinewidth": 0,
              "ticks": ""
             }
            },
            "type": "scattermapbox"
           }
          ],
          "scatterpolar": [
           {
            "marker": {
             "colorbar": {
              "outlinewidth": 0,
              "ticks": ""
             }
            },
            "type": "scatterpolar"
           }
          ],
          "scatterpolargl": [
           {
            "marker": {
             "colorbar": {
              "outlinewidth": 0,
              "ticks": ""
             }
            },
            "type": "scatterpolargl"
           }
          ],
          "scatterternary": [
           {
            "marker": {
             "colorbar": {
              "outlinewidth": 0,
              "ticks": ""
             }
            },
            "type": "scatterternary"
           }
          ],
          "surface": [
           {
            "colorbar": {
             "outlinewidth": 0,
             "ticks": ""
            },
            "colorscale": [
             [
              0,
              "#0d0887"
             ],
             [
              0.1111111111111111,
              "#46039f"
             ],
             [
              0.2222222222222222,
              "#7201a8"
             ],
             [
              0.3333333333333333,
              "#9c179e"
             ],
             [
              0.4444444444444444,
              "#bd3786"
             ],
             [
              0.5555555555555556,
              "#d8576b"
             ],
             [
              0.6666666666666666,
              "#ed7953"
             ],
             [
              0.7777777777777778,
              "#fb9f3a"
             ],
             [
              0.8888888888888888,
              "#fdca26"
             ],
             [
              1,
              "#f0f921"
             ]
            ],
            "type": "surface"
           }
          ],
          "table": [
           {
            "cells": {
             "fill": {
              "color": "#EBF0F8"
             },
             "line": {
              "color": "white"
             }
            },
            "header": {
             "fill": {
              "color": "#C8D4E3"
             },
             "line": {
              "color": "white"
             }
            },
            "type": "table"
           }
          ]
         },
         "layout": {
          "annotationdefaults": {
           "arrowcolor": "#2a3f5f",
           "arrowhead": 0,
           "arrowwidth": 1
          },
          "coloraxis": {
           "colorbar": {
            "outlinewidth": 0,
            "ticks": ""
           }
          },
          "colorscale": {
           "diverging": [
            [
             0,
             "#8e0152"
            ],
            [
             0.1,
             "#c51b7d"
            ],
            [
             0.2,
             "#de77ae"
            ],
            [
             0.3,
             "#f1b6da"
            ],
            [
             0.4,
             "#fde0ef"
            ],
            [
             0.5,
             "#f7f7f7"
            ],
            [
             0.6,
             "#e6f5d0"
            ],
            [
             0.7,
             "#b8e186"
            ],
            [
             0.8,
             "#7fbc41"
            ],
            [
             0.9,
             "#4d9221"
            ],
            [
             1,
             "#276419"
            ]
           ],
           "sequential": [
            [
             0,
             "#0d0887"
            ],
            [
             0.1111111111111111,
             "#46039f"
            ],
            [
             0.2222222222222222,
             "#7201a8"
            ],
            [
             0.3333333333333333,
             "#9c179e"
            ],
            [
             0.4444444444444444,
             "#bd3786"
            ],
            [
             0.5555555555555556,
             "#d8576b"
            ],
            [
             0.6666666666666666,
             "#ed7953"
            ],
            [
             0.7777777777777778,
             "#fb9f3a"
            ],
            [
             0.8888888888888888,
             "#fdca26"
            ],
            [
             1,
             "#f0f921"
            ]
           ],
           "sequentialminus": [
            [
             0,
             "#0d0887"
            ],
            [
             0.1111111111111111,
             "#46039f"
            ],
            [
             0.2222222222222222,
             "#7201a8"
            ],
            [
             0.3333333333333333,
             "#9c179e"
            ],
            [
             0.4444444444444444,
             "#bd3786"
            ],
            [
             0.5555555555555556,
             "#d8576b"
            ],
            [
             0.6666666666666666,
             "#ed7953"
            ],
            [
             0.7777777777777778,
             "#fb9f3a"
            ],
            [
             0.8888888888888888,
             "#fdca26"
            ],
            [
             1,
             "#f0f921"
            ]
           ]
          },
          "colorway": [
           "#636efa",
           "#EF553B",
           "#00cc96",
           "#ab63fa",
           "#FFA15A",
           "#19d3f3",
           "#FF6692",
           "#B6E880",
           "#FF97FF",
           "#FECB52"
          ],
          "font": {
           "color": "#2a3f5f"
          },
          "geo": {
           "bgcolor": "white",
           "lakecolor": "white",
           "landcolor": "#E5ECF6",
           "showlakes": true,
           "showland": true,
           "subunitcolor": "white"
          },
          "hoverlabel": {
           "align": "left"
          },
          "hovermode": "closest",
          "mapbox": {
           "style": "light"
          },
          "paper_bgcolor": "white",
          "plot_bgcolor": "#E5ECF6",
          "polar": {
           "angularaxis": {
            "gridcolor": "white",
            "linecolor": "white",
            "ticks": ""
           },
           "bgcolor": "#E5ECF6",
           "radialaxis": {
            "gridcolor": "white",
            "linecolor": "white",
            "ticks": ""
           }
          },
          "scene": {
           "xaxis": {
            "backgroundcolor": "#E5ECF6",
            "gridcolor": "white",
            "gridwidth": 2,
            "linecolor": "white",
            "showbackground": true,
            "ticks": "",
            "zerolinecolor": "white"
           },
           "yaxis": {
            "backgroundcolor": "#E5ECF6",
            "gridcolor": "white",
            "gridwidth": 2,
            "linecolor": "white",
            "showbackground": true,
            "ticks": "",
            "zerolinecolor": "white"
           },
           "zaxis": {
            "backgroundcolor": "#E5ECF6",
            "gridcolor": "white",
            "gridwidth": 2,
            "linecolor": "white",
            "showbackground": true,
            "ticks": "",
            "zerolinecolor": "white"
           }
          },
          "shapedefaults": {
           "line": {
            "color": "#2a3f5f"
           }
          },
          "ternary": {
           "aaxis": {
            "gridcolor": "white",
            "linecolor": "white",
            "ticks": ""
           },
           "baxis": {
            "gridcolor": "white",
            "linecolor": "white",
            "ticks": ""
           },
           "bgcolor": "#E5ECF6",
           "caxis": {
            "gridcolor": "white",
            "linecolor": "white",
            "ticks": ""
           }
          },
          "title": {
           "x": 0.05
          },
          "xaxis": {
           "automargin": true,
           "gridcolor": "white",
           "linecolor": "white",
           "ticks": "",
           "title": {
            "standoff": 15
           },
           "zerolinecolor": "white",
           "zerolinewidth": 2
          },
          "yaxis": {
           "automargin": true,
           "gridcolor": "white",
           "linecolor": "white",
           "ticks": "",
           "title": {
            "standoff": 15
           },
           "zerolinecolor": "white",
           "zerolinewidth": 2
          }
         }
        },
        "xaxis": {
         "anchor": "y",
         "domain": [
          0,
          1
         ],
         "title": {
          "text": "Time interval between MK claim"
         }
        },
        "yaxis": {
         "anchor": "x",
         "domain": [
          0,
          1
         ],
         "title": {
          "text": "Count of events"
         }
        }
       }
      },
      "text/html": [
       "<div>\n",
       "        \n",
       "        \n",
       "            <div id=\"059361cc-391d-4b7a-991b-28bc25a286ed\" class=\"plotly-graph-div\" style=\"height:525px; width:100%;\"></div>\n",
       "            <script type=\"text/javascript\">\n",
       "                require([\"plotly\"], function(Plotly) {\n",
       "                    window.PLOTLYENV=window.PLOTLYENV || {};\n",
       "                    \n",
       "                if (document.getElementById(\"059361cc-391d-4b7a-991b-28bc25a286ed\")) {\n",
       "                    Plotly.newPlot(\n",
       "                        '059361cc-391d-4b7a-991b-28bc25a286ed',\n",
       "                        [{\"alignmentgroup\": \"True\", \"hovertemplate\": \"index=%{x}<br>Delta_Time=%{y}<extra></extra>\", \"legendgroup\": \"\", \"marker\": {\"color\": \"#636efa\"}, \"name\": \"\", \"offsetgroup\": \"\", \"orientation\": \"v\", \"showlegend\": false, \"textposition\": \"auto\", \"type\": \"bar\", \"x\": [1, 2, 3, 4, 5, 6, 7, 8, 9, 10, 11, 12, 13, 14, 15, 16, 17, 18, 19, 20, 21, 22, 23, 24, 25, 26, 27, 28, 29, 30, 31, 32, 33, 34, 35, 36, 37, 38, 39, 40, 41, 42, 43, 44, 45, 46, 47, 48, 49, 50, 51, 52, 53, 54, 55, 56, 57, 58, 59, 60, 61, 62, 63, 64, 65, 66, 67, 68, 69, 70, 71, 72, 73, 74, 75, 76, 77, 78, 79, 80, 81, 82, 84, 85, 86, 87, 88, 89, 90, 91, 92, 93, 94, 95, 96, 97, 98, 99], \"xaxis\": \"x\", \"y\": [25, 26, 33, 28, 32, 18, 29, 16, 37, 40, 123, 184, 435, 1946, 575, 313, 225, 150, 154, 113, 165, 72, 61, 66, 75, 90, 146, 612, 428, 648, 668, 408, 252, 209, 218, 108, 87, 83, 68, 77, 72, 71, 44, 41, 53, 37, 27, 29, 45, 28, 21, 24, 17, 19, 22, 50, 19, 43, 44, 38, 41, 43, 44, 30, 18, 15, 12, 9, 9, 28, 16, 7, 7, 8, 11, 5, 15, 7, 8, 8, 8, 5, 14, 9, 8, 5, 4, 2, 3, 8, 7, 3, 3, 3, 3, 6, 10, 3], \"yaxis\": \"y\"}],\n",
       "                        {\"barmode\": \"relative\", \"legend\": {\"tracegroupgap\": 0}, \"margin\": {\"t\": 60}, \"template\": {\"data\": {\"bar\": [{\"error_x\": {\"color\": \"#2a3f5f\"}, \"error_y\": {\"color\": \"#2a3f5f\"}, \"marker\": {\"line\": {\"color\": \"#E5ECF6\", \"width\": 0.5}}, \"type\": \"bar\"}], \"barpolar\": [{\"marker\": {\"line\": {\"color\": \"#E5ECF6\", \"width\": 0.5}}, \"type\": \"barpolar\"}], \"carpet\": [{\"aaxis\": {\"endlinecolor\": \"#2a3f5f\", \"gridcolor\": \"white\", \"linecolor\": \"white\", \"minorgridcolor\": \"white\", \"startlinecolor\": \"#2a3f5f\"}, \"baxis\": {\"endlinecolor\": \"#2a3f5f\", \"gridcolor\": \"white\", \"linecolor\": \"white\", \"minorgridcolor\": \"white\", \"startlinecolor\": \"#2a3f5f\"}, \"type\": \"carpet\"}], \"choropleth\": [{\"colorbar\": {\"outlinewidth\": 0, \"ticks\": \"\"}, \"type\": \"choropleth\"}], \"contour\": [{\"colorbar\": {\"outlinewidth\": 0, \"ticks\": \"\"}, \"colorscale\": [[0.0, \"#0d0887\"], [0.1111111111111111, \"#46039f\"], [0.2222222222222222, \"#7201a8\"], [0.3333333333333333, \"#9c179e\"], [0.4444444444444444, \"#bd3786\"], [0.5555555555555556, \"#d8576b\"], [0.6666666666666666, \"#ed7953\"], [0.7777777777777778, \"#fb9f3a\"], [0.8888888888888888, \"#fdca26\"], [1.0, \"#f0f921\"]], \"type\": \"contour\"}], \"contourcarpet\": [{\"colorbar\": {\"outlinewidth\": 0, \"ticks\": \"\"}, \"type\": \"contourcarpet\"}], \"heatmap\": [{\"colorbar\": {\"outlinewidth\": 0, \"ticks\": \"\"}, \"colorscale\": [[0.0, \"#0d0887\"], [0.1111111111111111, \"#46039f\"], [0.2222222222222222, \"#7201a8\"], [0.3333333333333333, \"#9c179e\"], [0.4444444444444444, \"#bd3786\"], [0.5555555555555556, \"#d8576b\"], [0.6666666666666666, \"#ed7953\"], [0.7777777777777778, \"#fb9f3a\"], [0.8888888888888888, \"#fdca26\"], [1.0, \"#f0f921\"]], \"type\": \"heatmap\"}], \"heatmapgl\": [{\"colorbar\": {\"outlinewidth\": 0, \"ticks\": \"\"}, \"colorscale\": [[0.0, \"#0d0887\"], [0.1111111111111111, \"#46039f\"], [0.2222222222222222, \"#7201a8\"], [0.3333333333333333, \"#9c179e\"], [0.4444444444444444, \"#bd3786\"], [0.5555555555555556, \"#d8576b\"], [0.6666666666666666, \"#ed7953\"], [0.7777777777777778, \"#fb9f3a\"], [0.8888888888888888, \"#fdca26\"], [1.0, \"#f0f921\"]], \"type\": \"heatmapgl\"}], \"histogram\": [{\"marker\": {\"colorbar\": {\"outlinewidth\": 0, \"ticks\": \"\"}}, \"type\": \"histogram\"}], \"histogram2d\": [{\"colorbar\": {\"outlinewidth\": 0, \"ticks\": \"\"}, \"colorscale\": [[0.0, \"#0d0887\"], [0.1111111111111111, \"#46039f\"], [0.2222222222222222, \"#7201a8\"], [0.3333333333333333, \"#9c179e\"], [0.4444444444444444, \"#bd3786\"], [0.5555555555555556, \"#d8576b\"], [0.6666666666666666, \"#ed7953\"], [0.7777777777777778, \"#fb9f3a\"], [0.8888888888888888, \"#fdca26\"], [1.0, \"#f0f921\"]], \"type\": \"histogram2d\"}], \"histogram2dcontour\": [{\"colorbar\": {\"outlinewidth\": 0, \"ticks\": \"\"}, \"colorscale\": [[0.0, \"#0d0887\"], [0.1111111111111111, \"#46039f\"], [0.2222222222222222, \"#7201a8\"], [0.3333333333333333, \"#9c179e\"], [0.4444444444444444, \"#bd3786\"], [0.5555555555555556, \"#d8576b\"], [0.6666666666666666, \"#ed7953\"], [0.7777777777777778, \"#fb9f3a\"], [0.8888888888888888, \"#fdca26\"], [1.0, \"#f0f921\"]], \"type\": \"histogram2dcontour\"}], \"mesh3d\": [{\"colorbar\": {\"outlinewidth\": 0, \"ticks\": \"\"}, \"type\": \"mesh3d\"}], \"parcoords\": [{\"line\": {\"colorbar\": {\"outlinewidth\": 0, \"ticks\": \"\"}}, \"type\": \"parcoords\"}], \"pie\": [{\"automargin\": true, \"type\": \"pie\"}], \"scatter\": [{\"marker\": {\"colorbar\": {\"outlinewidth\": 0, \"ticks\": \"\"}}, \"type\": \"scatter\"}], \"scatter3d\": [{\"line\": {\"colorbar\": {\"outlinewidth\": 0, \"ticks\": \"\"}}, \"marker\": {\"colorbar\": {\"outlinewidth\": 0, \"ticks\": \"\"}}, \"type\": \"scatter3d\"}], \"scattercarpet\": [{\"marker\": {\"colorbar\": {\"outlinewidth\": 0, \"ticks\": \"\"}}, \"type\": \"scattercarpet\"}], \"scattergeo\": [{\"marker\": {\"colorbar\": {\"outlinewidth\": 0, \"ticks\": \"\"}}, \"type\": \"scattergeo\"}], \"scattergl\": [{\"marker\": {\"colorbar\": {\"outlinewidth\": 0, \"ticks\": \"\"}}, \"type\": \"scattergl\"}], \"scattermapbox\": [{\"marker\": {\"colorbar\": {\"outlinewidth\": 0, \"ticks\": \"\"}}, \"type\": \"scattermapbox\"}], \"scatterpolar\": [{\"marker\": {\"colorbar\": {\"outlinewidth\": 0, \"ticks\": \"\"}}, \"type\": \"scatterpolar\"}], \"scatterpolargl\": [{\"marker\": {\"colorbar\": {\"outlinewidth\": 0, \"ticks\": \"\"}}, \"type\": \"scatterpolargl\"}], \"scatterternary\": [{\"marker\": {\"colorbar\": {\"outlinewidth\": 0, \"ticks\": \"\"}}, \"type\": \"scatterternary\"}], \"surface\": [{\"colorbar\": {\"outlinewidth\": 0, \"ticks\": \"\"}, \"colorscale\": [[0.0, \"#0d0887\"], [0.1111111111111111, \"#46039f\"], [0.2222222222222222, \"#7201a8\"], [0.3333333333333333, \"#9c179e\"], [0.4444444444444444, \"#bd3786\"], [0.5555555555555556, \"#d8576b\"], [0.6666666666666666, \"#ed7953\"], [0.7777777777777778, \"#fb9f3a\"], [0.8888888888888888, \"#fdca26\"], [1.0, \"#f0f921\"]], \"type\": \"surface\"}], \"table\": [{\"cells\": {\"fill\": {\"color\": \"#EBF0F8\"}, \"line\": {\"color\": \"white\"}}, \"header\": {\"fill\": {\"color\": \"#C8D4E3\"}, \"line\": {\"color\": \"white\"}}, \"type\": \"table\"}]}, \"layout\": {\"annotationdefaults\": {\"arrowcolor\": \"#2a3f5f\", \"arrowhead\": 0, \"arrowwidth\": 1}, \"coloraxis\": {\"colorbar\": {\"outlinewidth\": 0, \"ticks\": \"\"}}, \"colorscale\": {\"diverging\": [[0, \"#8e0152\"], [0.1, \"#c51b7d\"], [0.2, \"#de77ae\"], [0.3, \"#f1b6da\"], [0.4, \"#fde0ef\"], [0.5, \"#f7f7f7\"], [0.6, \"#e6f5d0\"], [0.7, \"#b8e186\"], [0.8, \"#7fbc41\"], [0.9, \"#4d9221\"], [1, \"#276419\"]], \"sequential\": [[0.0, \"#0d0887\"], [0.1111111111111111, \"#46039f\"], [0.2222222222222222, \"#7201a8\"], [0.3333333333333333, \"#9c179e\"], [0.4444444444444444, \"#bd3786\"], [0.5555555555555556, \"#d8576b\"], [0.6666666666666666, \"#ed7953\"], [0.7777777777777778, \"#fb9f3a\"], [0.8888888888888888, \"#fdca26\"], [1.0, \"#f0f921\"]], \"sequentialminus\": [[0.0, \"#0d0887\"], [0.1111111111111111, \"#46039f\"], [0.2222222222222222, \"#7201a8\"], [0.3333333333333333, \"#9c179e\"], [0.4444444444444444, \"#bd3786\"], [0.5555555555555556, \"#d8576b\"], [0.6666666666666666, \"#ed7953\"], [0.7777777777777778, \"#fb9f3a\"], [0.8888888888888888, \"#fdca26\"], [1.0, \"#f0f921\"]]}, \"colorway\": [\"#636efa\", \"#EF553B\", \"#00cc96\", \"#ab63fa\", \"#FFA15A\", \"#19d3f3\", \"#FF6692\", \"#B6E880\", \"#FF97FF\", \"#FECB52\"], \"font\": {\"color\": \"#2a3f5f\"}, \"geo\": {\"bgcolor\": \"white\", \"lakecolor\": \"white\", \"landcolor\": \"#E5ECF6\", \"showlakes\": true, \"showland\": true, \"subunitcolor\": \"white\"}, \"hoverlabel\": {\"align\": \"left\"}, \"hovermode\": \"closest\", \"mapbox\": {\"style\": \"light\"}, \"paper_bgcolor\": \"white\", \"plot_bgcolor\": \"#E5ECF6\", \"polar\": {\"angularaxis\": {\"gridcolor\": \"white\", \"linecolor\": \"white\", \"ticks\": \"\"}, \"bgcolor\": \"#E5ECF6\", \"radialaxis\": {\"gridcolor\": \"white\", \"linecolor\": \"white\", \"ticks\": \"\"}}, \"scene\": {\"xaxis\": {\"backgroundcolor\": \"#E5ECF6\", \"gridcolor\": \"white\", \"gridwidth\": 2, \"linecolor\": \"white\", \"showbackground\": true, \"ticks\": \"\", \"zerolinecolor\": \"white\"}, \"yaxis\": {\"backgroundcolor\": \"#E5ECF6\", \"gridcolor\": \"white\", \"gridwidth\": 2, \"linecolor\": \"white\", \"showbackground\": true, \"ticks\": \"\", \"zerolinecolor\": \"white\"}, \"zaxis\": {\"backgroundcolor\": \"#E5ECF6\", \"gridcolor\": \"white\", \"gridwidth\": 2, \"linecolor\": \"white\", \"showbackground\": true, \"ticks\": \"\", \"zerolinecolor\": \"white\"}}, \"shapedefaults\": {\"line\": {\"color\": \"#2a3f5f\"}}, \"ternary\": {\"aaxis\": {\"gridcolor\": \"white\", \"linecolor\": \"white\", \"ticks\": \"\"}, \"baxis\": {\"gridcolor\": \"white\", \"linecolor\": \"white\", \"ticks\": \"\"}, \"bgcolor\": \"#E5ECF6\", \"caxis\": {\"gridcolor\": \"white\", \"linecolor\": \"white\", \"ticks\": \"\"}}, \"title\": {\"x\": 0.05}, \"xaxis\": {\"automargin\": true, \"gridcolor\": \"white\", \"linecolor\": \"white\", \"ticks\": \"\", \"title\": {\"standoff\": 15}, \"zerolinecolor\": \"white\", \"zerolinewidth\": 2}, \"yaxis\": {\"automargin\": true, \"gridcolor\": \"white\", \"linecolor\": \"white\", \"ticks\": \"\", \"title\": {\"standoff\": 15}, \"zerolinecolor\": \"white\", \"zerolinewidth\": 2}}}, \"xaxis\": {\"anchor\": \"y\", \"domain\": [0.0, 1.0], \"title\": {\"text\": \"Time interval between MK claim\"}}, \"yaxis\": {\"anchor\": \"x\", \"domain\": [0.0, 1.0], \"title\": {\"text\": \"Count of events\"}}},\n",
       "                        {\"responsive\": true}\n",
       "                    ).then(function(){\n",
       "                            \n",
       "var gd = document.getElementById('059361cc-391d-4b7a-991b-28bc25a286ed');\n",
       "var x = new MutationObserver(function (mutations, observer) {{\n",
       "        var display = window.getComputedStyle(gd).display;\n",
       "        if (!display || display === 'none') {{\n",
       "            console.log([gd, 'removed!']);\n",
       "            Plotly.purge(gd);\n",
       "            observer.disconnect();\n",
       "        }}\n",
       "}});\n",
       "\n",
       "// Listen for the removal of the full notebook cells\n",
       "var notebookContainer = gd.closest('#notebook-container');\n",
       "if (notebookContainer) {{\n",
       "    x.observe(notebookContainer, {childList: true});\n",
       "}}\n",
       "\n",
       "// Listen for the clearing of the current output cell\n",
       "var outputEl = gd.closest('.output');\n",
       "if (outputEl) {{\n",
       "    x.observe(outputEl, {childList: true});\n",
       "}}\n",
       "\n",
       "                        })\n",
       "                };\n",
       "                });\n",
       "            </script>\n",
       "        </div>"
      ]
     },
     "metadata": {},
     "output_type": "display_data"
    }
   ],
   "source": [
    "# Filter 0 values meanning two medication claim the same day\n",
    "fig = px.bar(data_frame=dftemp[(0 < dftemp['index']) & (dftemp['index'] < 100)], x='index', y='Delta_Time')\n",
    "fig.update_layout(\n",
    "    xaxis = dict(#type = 'log',\n",
    "                 title = \"Time interval between MK claim\"),\n",
    "    yaxis = dict(#type = 'log',\n",
    "                 title = \"Count of events\")\n",
    ")"
   ]
  },
  {
   "cell_type": "markdown",
   "metadata": {},
   "source": [
    "## Analysis\n",
    "We observe a clear bimodal distribution with modes in 15 days and 30 days showing two kind of medication.\n",
    "Of course the problem is we have deviation from the modes."
   ]
  },
  {
   "cell_type": "code",
   "execution_count": null,
   "metadata": {},
   "outputs": [],
   "source": []
  }
 ],
 "metadata": {
  "kernelspec": {
   "display_name": "Python 3",
   "language": "python",
   "name": "python3"
  },
  "language_info": {
   "codemirror_mode": {
    "name": "ipython",
    "version": 3
   },
   "file_extension": ".py",
   "mimetype": "text/x-python",
   "name": "python",
   "nbconvert_exporter": "python",
   "pygments_lexer": "ipython3",
   "version": "3.7.6"
  },
  "toc": {
   "base_numbering": 1,
   "nav_menu": {},
   "number_sections": true,
   "sideBar": true,
   "skip_h1_title": false,
   "title_cell": "Table of Contents",
   "title_sidebar": "Contents",
   "toc_cell": false,
   "toc_position": {
    "height": "calc(100% - 180px)",
    "left": "10px",
    "top": "150px",
    "width": "202.5px"
   },
   "toc_section_display": true,
   "toc_window_display": true
  },
  "varInspector": {
   "cols": {
    "lenName": 16,
    "lenType": 16,
    "lenVar": 40
   },
   "kernels_config": {
    "python": {
     "delete_cmd_postfix": "",
     "delete_cmd_prefix": "del ",
     "library": "var_list.py",
     "varRefreshCmd": "print(var_dic_list())"
    },
    "r": {
     "delete_cmd_postfix": ") ",
     "delete_cmd_prefix": "rm(",
     "library": "var_list.r",
     "varRefreshCmd": "cat(var_dic_list()) "
    }
   },
   "types_to_exclude": [
    "module",
    "function",
    "builtin_function_or_method",
    "instance",
    "_Feature"
   ],
   "window_display": false
  }
 },
 "nbformat": 4,
 "nbformat_minor": 4
}
