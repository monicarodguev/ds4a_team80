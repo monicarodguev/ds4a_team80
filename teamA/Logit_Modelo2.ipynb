{
 "cells": [
  {
   "cell_type": "markdown",
   "metadata": {},
   "source": [
    "# Modelo Final\n",
    "\n",
    "## 0. Previos\n",
    "\n",
    "Se cargan las bases y las librerías a utilizar."
   ]
  },
  {
   "cell_type": "code",
   "execution_count": 1,
   "metadata": {},
   "outputs": [],
   "source": [
    "# Librerías\n",
    "\n",
    "import datetime\n",
    "import pandas as pd\n",
    "import numpy as np\n",
    "import matplotlib.pyplot as plt\n",
    "import seaborn as sns\n",
    "import statsmodels.api as sm\n",
    "from statsmodels.formula.api import ols\n",
    "import statsmodels\n",
    "from scipy import stats\n",
    "from pingouin import pairwise_ttests #this is for performing the pairwise tests\n",
    "import pydotplus\n",
    "\n",
    "from io import StringIO\n",
    "from IPython.display import Image, SVG\n",
    "from graphviz import Source\n",
    "from matplotlib import cm\n",
    "from matplotlib.colors import ListedColormap, LinearSegmentedColormap\n",
    "from matplotlib.patches import Patch\n",
    "\n",
    "\n",
    "from scipy.stats import chi2_contingency, norm\n",
    "\n",
    "from sklearn.linear_model import LogisticRegression\n",
    "from sklearn.tree import export_graphviz\n",
    "from sklearn import tree\n",
    "from sklearn.tree import DecisionTreeClassifier\n",
    "from sklearn.tree import DecisionTreeRegressor\n",
    "from sklearn.ensemble import RandomForestClassifier\n",
    "\n",
    "from sklearn.metrics import roc_curve, auc, accuracy_score\n",
    "from sklearn.metrics import classification_report, confusion_matrix\n",
    "\n",
    "from sklearn.model_selection import StratifiedKFold, train_test_split\n",
    "from statsmodels.formula.api import ols\n",
    "from sklearn.model_selection import train_test_split # Import train_test_split function\n",
    "from sklearn import metrics #Import scikit-learn metrics module for accuracy calculation\n",
    "\n",
    "from sklearn.model_selection import GridSearchCV\n",
    "\n",
    "from sympy import var, plot_implicit, Eq\n",
    "\n",
    "\n",
    "#import generic_funcions as gf\n",
    "#import adherence_functions as af\n",
    "import warnings\n",
    "warnings.filterwarnings('ignore')\n",
    "\n"
   ]
  },
  {
   "cell_type": "code",
   "execution_count": 2,
   "metadata": {},
   "outputs": [
    {
     "name": "stdout",
     "output_type": "stream",
     "text": [
      "C:/Users/Usuario/Documents/Logit_Omnivida/\n"
     ]
    }
   ],
   "source": [
    "ruta_archivos = 'C:/Users/Usuario/Documents/Logit_Omnivida/'\n",
    "print(ruta_archivos)"
   ]
  },
  {
   "cell_type": "markdown",
   "metadata": {},
   "source": [
    "## 1. Variables Dataframe"
   ]
  },
  {
   "cell_type": "code",
   "execution_count": 3,
   "metadata": {},
   "outputs": [],
   "source": [
    "base = pd.read_csv( ruta_archivos + 'base_adeherencia_features_3.csv', sep='|' )"
   ]
  },
  {
   "cell_type": "code",
   "execution_count": 4,
   "metadata": {},
   "outputs": [
    {
     "data": {
      "text/plain": [
       "Index(['id', 'year', 'month', 'adeherencia_12', 'cantidad', 'key',\n",
       "       'far_rea_asma_sum_6', 'far_rea_total_sum_6', 'far_evo_aun_sum_6',\n",
       "       'far_cau_def_sum_6',\n",
       "       ...\n",
       "       'hab_ejercicio_avg_12', 'inc_con_sum_6', 'inc_inc_sum_6',\n",
       "       'inc_con_sum_12', 'inc_inc_sum_12', 'imc_avg_6', 'imc_avg_12',\n",
       "       'imc_foto', 'adh_sum_6', 'adh_sum_12'],\n",
       "      dtype='object', length=142)"
      ]
     },
     "execution_count": 4,
     "metadata": {},
     "output_type": "execute_result"
    }
   ],
   "source": [
    "base.columns"
   ]
  },
  {
   "cell_type": "code",
   "execution_count": 5,
   "metadata": {},
   "outputs": [
    {
     "name": "stdout",
     "output_type": "stream",
     "text": [
      "(3717, 142)\n"
     ]
    },
    {
     "data": {
      "text/html": [
       "<div>\n",
       "<style scoped>\n",
       "    .dataframe tbody tr th:only-of-type {\n",
       "        vertical-align: middle;\n",
       "    }\n",
       "\n",
       "    .dataframe tbody tr th {\n",
       "        vertical-align: top;\n",
       "    }\n",
       "\n",
       "    .dataframe thead th {\n",
       "        text-align: right;\n",
       "    }\n",
       "</style>\n",
       "<table border=\"1\" class=\"dataframe\">\n",
       "  <thead>\n",
       "    <tr style=\"text-align: right;\">\n",
       "      <th></th>\n",
       "      <th>id</th>\n",
       "      <th>year</th>\n",
       "      <th>month</th>\n",
       "      <th>adeherencia_12</th>\n",
       "      <th>cantidad</th>\n",
       "      <th>key</th>\n",
       "      <th>far_rea_asma_sum_6</th>\n",
       "      <th>far_rea_total_sum_6</th>\n",
       "      <th>far_evo_aun_sum_6</th>\n",
       "      <th>far_cau_def_sum_6</th>\n",
       "      <th>...</th>\n",
       "      <th>hab_ejercicio_avg_12</th>\n",
       "      <th>inc_con_sum_6</th>\n",
       "      <th>inc_inc_sum_6</th>\n",
       "      <th>inc_con_sum_12</th>\n",
       "      <th>inc_inc_sum_12</th>\n",
       "      <th>imc_avg_6</th>\n",
       "      <th>imc_avg_12</th>\n",
       "      <th>imc_foto</th>\n",
       "      <th>adh_sum_6</th>\n",
       "      <th>adh_sum_12</th>\n",
       "    </tr>\n",
       "  </thead>\n",
       "  <tbody>\n",
       "    <tr>\n",
       "      <th>0</th>\n",
       "      <td>500547</td>\n",
       "      <td>2016</td>\n",
       "      <td>7</td>\n",
       "      <td>0</td>\n",
       "      <td>1.0</td>\n",
       "      <td>1</td>\n",
       "      <td>NaN</td>\n",
       "      <td>NaN</td>\n",
       "      <td>NaN</td>\n",
       "      <td>NaN</td>\n",
       "      <td>...</td>\n",
       "      <td>NaN</td>\n",
       "      <td>0.0</td>\n",
       "      <td>3.0</td>\n",
       "      <td>0.0</td>\n",
       "      <td>3.0</td>\n",
       "      <td>NaN</td>\n",
       "      <td>NaN</td>\n",
       "      <td>NaN</td>\n",
       "      <td>NaN</td>\n",
       "      <td>NaN</td>\n",
       "    </tr>\n",
       "    <tr>\n",
       "      <th>1</th>\n",
       "      <td>500547</td>\n",
       "      <td>2019</td>\n",
       "      <td>3</td>\n",
       "      <td>0</td>\n",
       "      <td>4.0</td>\n",
       "      <td>1</td>\n",
       "      <td>NaN</td>\n",
       "      <td>NaN</td>\n",
       "      <td>NaN</td>\n",
       "      <td>NaN</td>\n",
       "      <td>...</td>\n",
       "      <td>NaN</td>\n",
       "      <td>NaN</td>\n",
       "      <td>NaN</td>\n",
       "      <td>NaN</td>\n",
       "      <td>NaN</td>\n",
       "      <td>NaN</td>\n",
       "      <td>NaN</td>\n",
       "      <td>NaN</td>\n",
       "      <td>NaN</td>\n",
       "      <td>NaN</td>\n",
       "    </tr>\n",
       "    <tr>\n",
       "      <th>2</th>\n",
       "      <td>500547</td>\n",
       "      <td>2019</td>\n",
       "      <td>10</td>\n",
       "      <td>0</td>\n",
       "      <td>5.0</td>\n",
       "      <td>1</td>\n",
       "      <td>NaN</td>\n",
       "      <td>NaN</td>\n",
       "      <td>NaN</td>\n",
       "      <td>NaN</td>\n",
       "      <td>...</td>\n",
       "      <td>NaN</td>\n",
       "      <td>NaN</td>\n",
       "      <td>NaN</td>\n",
       "      <td>NaN</td>\n",
       "      <td>NaN</td>\n",
       "      <td>NaN</td>\n",
       "      <td>25.8</td>\n",
       "      <td>NaN</td>\n",
       "      <td>NaN</td>\n",
       "      <td>0.0</td>\n",
       "    </tr>\n",
       "    <tr>\n",
       "      <th>3</th>\n",
       "      <td>500547</td>\n",
       "      <td>2019</td>\n",
       "      <td>12</td>\n",
       "      <td>0</td>\n",
       "      <td>4.0</td>\n",
       "      <td>1</td>\n",
       "      <td>NaN</td>\n",
       "      <td>NaN</td>\n",
       "      <td>NaN</td>\n",
       "      <td>NaN</td>\n",
       "      <td>...</td>\n",
       "      <td>NaN</td>\n",
       "      <td>NaN</td>\n",
       "      <td>NaN</td>\n",
       "      <td>NaN</td>\n",
       "      <td>NaN</td>\n",
       "      <td>NaN</td>\n",
       "      <td>25.8</td>\n",
       "      <td>NaN</td>\n",
       "      <td>0.0</td>\n",
       "      <td>0.0</td>\n",
       "    </tr>\n",
       "    <tr>\n",
       "      <th>4</th>\n",
       "      <td>500547</td>\n",
       "      <td>2020</td>\n",
       "      <td>1</td>\n",
       "      <td>0</td>\n",
       "      <td>3.0</td>\n",
       "      <td>1</td>\n",
       "      <td>NaN</td>\n",
       "      <td>NaN</td>\n",
       "      <td>NaN</td>\n",
       "      <td>NaN</td>\n",
       "      <td>...</td>\n",
       "      <td>NaN</td>\n",
       "      <td>NaN</td>\n",
       "      <td>NaN</td>\n",
       "      <td>NaN</td>\n",
       "      <td>NaN</td>\n",
       "      <td>NaN</td>\n",
       "      <td>25.8</td>\n",
       "      <td>NaN</td>\n",
       "      <td>0.0</td>\n",
       "      <td>0.0</td>\n",
       "    </tr>\n",
       "  </tbody>\n",
       "</table>\n",
       "<p>5 rows × 142 columns</p>\n",
       "</div>"
      ],
      "text/plain": [
       "       id  year  month  adeherencia_12  cantidad  key  far_rea_asma_sum_6  \\\n",
       "0  500547  2016      7               0       1.0    1                 NaN   \n",
       "1  500547  2019      3               0       4.0    1                 NaN   \n",
       "2  500547  2019     10               0       5.0    1                 NaN   \n",
       "3  500547  2019     12               0       4.0    1                 NaN   \n",
       "4  500547  2020      1               0       3.0    1                 NaN   \n",
       "\n",
       "   far_rea_total_sum_6  far_evo_aun_sum_6  far_cau_def_sum_6  ...  \\\n",
       "0                  NaN                NaN                NaN  ...   \n",
       "1                  NaN                NaN                NaN  ...   \n",
       "2                  NaN                NaN                NaN  ...   \n",
       "3                  NaN                NaN                NaN  ...   \n",
       "4                  NaN                NaN                NaN  ...   \n",
       "\n",
       "   hab_ejercicio_avg_12  inc_con_sum_6  inc_inc_sum_6  inc_con_sum_12  \\\n",
       "0                   NaN            0.0            3.0             0.0   \n",
       "1                   NaN            NaN            NaN             NaN   \n",
       "2                   NaN            NaN            NaN             NaN   \n",
       "3                   NaN            NaN            NaN             NaN   \n",
       "4                   NaN            NaN            NaN             NaN   \n",
       "\n",
       "   inc_inc_sum_12  imc_avg_6  imc_avg_12  imc_foto  adh_sum_6  adh_sum_12  \n",
       "0             3.0        NaN         NaN       NaN        NaN         NaN  \n",
       "1             NaN        NaN         NaN       NaN        NaN         NaN  \n",
       "2             NaN        NaN        25.8       NaN        NaN         0.0  \n",
       "3             NaN        NaN        25.8       NaN        0.0         0.0  \n",
       "4             NaN        NaN        25.8       NaN        0.0         0.0  \n",
       "\n",
       "[5 rows x 142 columns]"
      ]
     },
     "execution_count": 5,
     "metadata": {},
     "output_type": "execute_result"
    }
   ],
   "source": [
    "print(base.shape)\n",
    "\n",
    "base['adeherencia_12'] = (base['adeherencia_12']/base['cantidad']).apply(lambda x: 1 if x>=0.5 else 0)\n",
    "#base['adeherencia_12'] = base['adeherencia_12'].apply(lambda x: 1 if x>=1 else x)\n",
    "\n",
    "ids = ['id','year','month','adeherencia_12']\n",
    "base.head()"
   ]
  },
  {
   "cell_type": "code",
   "execution_count": 6,
   "metadata": {},
   "outputs": [
    {
     "name": "stdout",
     "output_type": "stream",
     "text": [
      "15\n"
     ]
    },
    {
     "data": {
      "text/plain": [
       "['bio_benralizumab_avg_12',\n",
       " 'med_num_doses_otra_avg_6',\n",
       " 'anf_j_sum_12',\n",
       " 'acd_uso_inhal_avg_12',\n",
       " 'epo_4_sum_6',\n",
       " 'bio_omalizumab_avg_6',\n",
       " 'urg_j_total_sum_12',\n",
       " 'cal_psi_avg_12',\n",
       " 'med_num_dis_avg_12',\n",
       " 'far_des_no_flag',\n",
       " 'far_rea_total_sum_6',\n",
       " 'far_cau_def_sum_12',\n",
       " 'inc_inc_sum_12',\n",
       " 'med_flag_j_avg_12',\n",
       " 'adh_sum_6']"
      ]
     },
     "execution_count": 6,
     "metadata": {},
     "output_type": "execute_result"
    }
   ],
   "source": [
    "# Using variables vector of 'Mostrar' analysis.\n",
    "vec2 = ['bio_benralizumab_avg_12', 'med_num_doses_otra_avg_6', 'anf_j_sum_12', 'acd_uso_inhal_avg_12', 'epo_4_sum_6', 'bio_omalizumab_avg_6', 'urg_j_total_sum_12', 'cal_psi_avg_12', 'med_num_dis_avg_12', 'far_des_no_flag', 'far_rea_total_sum_6', 'far_cau_def_sum_12', 'inc_inc_sum_12', 'med_flag_j_avg_12', 'adh_sum_6']\n",
    "print(len(vec2))\n",
    "vec2"
   ]
  },
  {
   "cell_type": "code",
   "execution_count": 7,
   "metadata": {},
   "outputs": [],
   "source": [
    "def preprocesar( base, ids, ruta_archivos ):\n",
    "    \n",
    "    # Variables \n",
    "    vec2 = ['bio_benralizumab_avg_12', 'med_num_doses_otra_avg_6', 'anf_j_sum_12', 'acd_uso_inhal_avg_12', 'epo_4_sum_6', 'bio_omalizumab_avg_6', 'urg_j_total_sum_12', 'cal_psi_avg_12', 'med_num_dis_avg_12', 'far_des_no_flag', 'far_rea_total_sum_6', 'far_cau_def_sum_12', 'inc_inc_sum_12', 'med_flag_j_avg_12', 'adh_sum_6']\n",
    "    base_nueva = base[ids + vec2]\n",
    "    \n",
    "    # Imputación\n",
    "    base_nueva.fillna(-1,inplace = True)\n",
    "    \n",
    "    # Cruce con datosbasicos\n",
    "    datosbasicos = pd.read_csv( ruta_archivos + 'DatosBasicos.csv', sep='|' )\n",
    "    datosbasicos.drop_duplicates( inplace = True )\n",
    "    Agregada = base_nueva.merge(datosbasicos, on=\"id\", how ='inner')\n",
    "    \n",
    "    Agregada.dropna( inplace = True )\n",
    "    \n",
    "    # Procesamiento variables\n",
    "    Agregada['edad'] = round((Agregada['year'] - Agregada['year_n']) + (Agregada['month'] - Agregada['month_n'])/12,0)\n",
    "    Agregada.drop(columns=['Unnamed: 0', 'fecha_n', 'year_n', 'month_n'], inplace= True)\n",
    "    \n",
    "    \n",
    "    ### Variables categoricas\n",
    "    categorias = ['genero', 'zona', 'ciudad']\n",
    "    \n",
    "    for var in categorias:\n",
    "        Agregada[var] = Agregada[var].astype('category')\n",
    "        Agregada[var]=Agregada[var].cat.codes\n",
    "    \n",
    "    # Escolaridad\n",
    "    letras = ['ANALFABETA', 'EDAD PREESCOLAR', 'PRIMARIA', 'SECUNDARIA', 'TECNICO', 'TECNOLOGO', 'UNIVERSITARIO', 'POSGRADO']\n",
    "    valor = [0,1,2,3,4,5,6,7]\n",
    "    Agregada.replace(letras, valor,inplace = True)\n",
    "    \n",
    "    # Estado civil\n",
    "    letras = ['SOLTERO (A)', 'UNIÓN LIBRE', 'CASADO (A)', 'SEPARADO (A)', 'VIUDO (A)']\n",
    "    valor = [0,1,2,3,4]\n",
    "    Agregada.replace(letras, valor,inplace = True)\n",
    "    \n",
    "    # Nivel socioeconomico\n",
    "    letras = ['NIVEL 0 DEL SISBEN', 'NIVEL 1 DEL SISBEN', 'NIVEL 2 DEL SISBEN', 'A', 'B', 'C']\n",
    "    valor = [0,1,2,3,4,5]\n",
    "    Agregada.replace(letras, valor,inplace = True)\n",
    "    \n",
    "    # Ocupacion\n",
    "    letras = ['SIN DEFINIR', 'ESTUDIANTE', 'DESEMPLEADO', 'AMA DE CASA', 'INDEPENDIENTE', 'EMPLEADO', 'JUBILADO', 'PENSIONADO']\n",
    "    valor = [0,1,2,3,4,5,6,7]\n",
    "    Agregada.replace(letras, valor,inplace = True)\n",
    "    \n",
    "    Agregada = Agregada.drop('departamento', axis=1 )\n",
    "        \n",
    "    return Agregada"
   ]
  },
  {
   "cell_type": "code",
   "execution_count": 8,
   "metadata": {},
   "outputs": [],
   "source": [
    "df_t = preprocesar( base, ['id', 'year', 'month', 'adeherencia_12'], ruta_archivos )"
   ]
  },
  {
   "cell_type": "code",
   "execution_count": 9,
   "metadata": {},
   "outputs": [
    {
     "data": {
      "text/html": [
       "<div>\n",
       "<style scoped>\n",
       "    .dataframe tbody tr th:only-of-type {\n",
       "        vertical-align: middle;\n",
       "    }\n",
       "\n",
       "    .dataframe tbody tr th {\n",
       "        vertical-align: top;\n",
       "    }\n",
       "\n",
       "    .dataframe thead th {\n",
       "        text-align: right;\n",
       "    }\n",
       "</style>\n",
       "<table border=\"1\" class=\"dataframe\">\n",
       "  <thead>\n",
       "    <tr style=\"text-align: right;\">\n",
       "      <th></th>\n",
       "      <th>id</th>\n",
       "      <th>year</th>\n",
       "      <th>month</th>\n",
       "      <th>adeherencia_12</th>\n",
       "      <th>bio_benralizumab_avg_12</th>\n",
       "      <th>med_num_doses_otra_avg_6</th>\n",
       "      <th>anf_j_sum_12</th>\n",
       "      <th>acd_uso_inhal_avg_12</th>\n",
       "      <th>epo_4_sum_6</th>\n",
       "      <th>bio_omalizumab_avg_6</th>\n",
       "      <th>...</th>\n",
       "      <th>adh_sum_6</th>\n",
       "      <th>genero</th>\n",
       "      <th>escolaridad</th>\n",
       "      <th>estadocivil</th>\n",
       "      <th>ciudad</th>\n",
       "      <th>estrato</th>\n",
       "      <th>zona</th>\n",
       "      <th>nivelsocioeconomico</th>\n",
       "      <th>ocupacion</th>\n",
       "      <th>edad</th>\n",
       "    </tr>\n",
       "  </thead>\n",
       "  <tbody>\n",
       "    <tr>\n",
       "      <th>0</th>\n",
       "      <td>500547</td>\n",
       "      <td>2016</td>\n",
       "      <td>7</td>\n",
       "      <td>0</td>\n",
       "      <td>-1.0</td>\n",
       "      <td>-1.000000</td>\n",
       "      <td>-1.0</td>\n",
       "      <td>-1.0</td>\n",
       "      <td>-1.0</td>\n",
       "      <td>-1.0</td>\n",
       "      <td>...</td>\n",
       "      <td>-1.0</td>\n",
       "      <td>1</td>\n",
       "      <td>3</td>\n",
       "      <td>2</td>\n",
       "      <td>27</td>\n",
       "      <td>3.0</td>\n",
       "      <td>1</td>\n",
       "      <td>3</td>\n",
       "      <td>5</td>\n",
       "      <td>54.0</td>\n",
       "    </tr>\n",
       "    <tr>\n",
       "      <th>1</th>\n",
       "      <td>500547</td>\n",
       "      <td>2019</td>\n",
       "      <td>3</td>\n",
       "      <td>0</td>\n",
       "      <td>-1.0</td>\n",
       "      <td>1021.800000</td>\n",
       "      <td>-1.0</td>\n",
       "      <td>-1.0</td>\n",
       "      <td>-1.0</td>\n",
       "      <td>-1.0</td>\n",
       "      <td>...</td>\n",
       "      <td>-1.0</td>\n",
       "      <td>1</td>\n",
       "      <td>3</td>\n",
       "      <td>2</td>\n",
       "      <td>27</td>\n",
       "      <td>3.0</td>\n",
       "      <td>1</td>\n",
       "      <td>3</td>\n",
       "      <td>5</td>\n",
       "      <td>57.0</td>\n",
       "    </tr>\n",
       "    <tr>\n",
       "      <th>2</th>\n",
       "      <td>500547</td>\n",
       "      <td>2019</td>\n",
       "      <td>10</td>\n",
       "      <td>0</td>\n",
       "      <td>-1.0</td>\n",
       "      <td>259.200000</td>\n",
       "      <td>-1.0</td>\n",
       "      <td>-1.0</td>\n",
       "      <td>-1.0</td>\n",
       "      <td>3.0</td>\n",
       "      <td>...</td>\n",
       "      <td>-1.0</td>\n",
       "      <td>1</td>\n",
       "      <td>3</td>\n",
       "      <td>2</td>\n",
       "      <td>27</td>\n",
       "      <td>3.0</td>\n",
       "      <td>1</td>\n",
       "      <td>3</td>\n",
       "      <td>5</td>\n",
       "      <td>57.0</td>\n",
       "    </tr>\n",
       "    <tr>\n",
       "      <th>3</th>\n",
       "      <td>500547</td>\n",
       "      <td>2019</td>\n",
       "      <td>12</td>\n",
       "      <td>0</td>\n",
       "      <td>-1.0</td>\n",
       "      <td>596.833333</td>\n",
       "      <td>-1.0</td>\n",
       "      <td>-1.0</td>\n",
       "      <td>-1.0</td>\n",
       "      <td>3.0</td>\n",
       "      <td>...</td>\n",
       "      <td>0.0</td>\n",
       "      <td>1</td>\n",
       "      <td>3</td>\n",
       "      <td>2</td>\n",
       "      <td>27</td>\n",
       "      <td>3.0</td>\n",
       "      <td>1</td>\n",
       "      <td>3</td>\n",
       "      <td>5</td>\n",
       "      <td>58.0</td>\n",
       "    </tr>\n",
       "    <tr>\n",
       "      <th>4</th>\n",
       "      <td>500547</td>\n",
       "      <td>2020</td>\n",
       "      <td>1</td>\n",
       "      <td>0</td>\n",
       "      <td>-1.0</td>\n",
       "      <td>732.000000</td>\n",
       "      <td>-1.0</td>\n",
       "      <td>-1.0</td>\n",
       "      <td>-1.0</td>\n",
       "      <td>3.0</td>\n",
       "      <td>...</td>\n",
       "      <td>0.0</td>\n",
       "      <td>1</td>\n",
       "      <td>3</td>\n",
       "      <td>2</td>\n",
       "      <td>27</td>\n",
       "      <td>3.0</td>\n",
       "      <td>1</td>\n",
       "      <td>3</td>\n",
       "      <td>5</td>\n",
       "      <td>58.0</td>\n",
       "    </tr>\n",
       "  </tbody>\n",
       "</table>\n",
       "<p>5 rows × 28 columns</p>\n",
       "</div>"
      ],
      "text/plain": [
       "       id  year  month  adeherencia_12  bio_benralizumab_avg_12  \\\n",
       "0  500547  2016      7               0                     -1.0   \n",
       "1  500547  2019      3               0                     -1.0   \n",
       "2  500547  2019     10               0                     -1.0   \n",
       "3  500547  2019     12               0                     -1.0   \n",
       "4  500547  2020      1               0                     -1.0   \n",
       "\n",
       "   med_num_doses_otra_avg_6  anf_j_sum_12  acd_uso_inhal_avg_12  epo_4_sum_6  \\\n",
       "0                 -1.000000          -1.0                  -1.0         -1.0   \n",
       "1               1021.800000          -1.0                  -1.0         -1.0   \n",
       "2                259.200000          -1.0                  -1.0         -1.0   \n",
       "3                596.833333          -1.0                  -1.0         -1.0   \n",
       "4                732.000000          -1.0                  -1.0         -1.0   \n",
       "\n",
       "   bio_omalizumab_avg_6  ...  adh_sum_6  genero  escolaridad  estadocivil  \\\n",
       "0                  -1.0  ...       -1.0       1            3            2   \n",
       "1                  -1.0  ...       -1.0       1            3            2   \n",
       "2                   3.0  ...       -1.0       1            3            2   \n",
       "3                   3.0  ...        0.0       1            3            2   \n",
       "4                   3.0  ...        0.0       1            3            2   \n",
       "\n",
       "   ciudad  estrato  zona  nivelsocioeconomico  ocupacion  edad  \n",
       "0      27      3.0     1                    3          5  54.0  \n",
       "1      27      3.0     1                    3          5  57.0  \n",
       "2      27      3.0     1                    3          5  57.0  \n",
       "3      27      3.0     1                    3          5  58.0  \n",
       "4      27      3.0     1                    3          5  58.0  \n",
       "\n",
       "[5 rows x 28 columns]"
      ]
     },
     "execution_count": 9,
     "metadata": {},
     "output_type": "execute_result"
    }
   ],
   "source": [
    "df_t.head()"
   ]
  },
  {
   "cell_type": "markdown",
   "metadata": {},
   "source": [
    "## 2. Covariables"
   ]
  },
  {
   "cell_type": "code",
   "execution_count": 22,
   "metadata": {},
   "outputs": [
    {
     "data": {
      "text/plain": [
       "Index(['bio_benralizumab_avg_12', 'med_num_doses_otra_avg_6', 'anf_j_sum_12',\n",
       "       'acd_uso_inhal_avg_12', 'epo_4_sum_6', 'bio_omalizumab_avg_6',\n",
       "       'urg_j_total_sum_12', 'cal_psi_avg_12', 'med_num_dis_avg_12',\n",
       "       'far_des_no_flag', 'far_rea_total_sum_6', 'far_cau_def_sum_12',\n",
       "       'inc_inc_sum_12', 'med_flag_j_avg_12', 'adh_sum_6', 'genero',\n",
       "       'escolaridad', 'estadocivil', 'ciudad', 'estrato', 'zona',\n",
       "       'nivelsocioeconomico', 'ocupacion', 'edad'],\n",
       "      dtype='object')"
      ]
     },
     "execution_count": 22,
     "metadata": {},
     "output_type": "execute_result"
    }
   ],
   "source": [
    "covariates=df_t.columns[4:]\n",
    "covariates\n"
   ]
  },
  {
   "cell_type": "code",
   "execution_count": 48,
   "metadata": {},
   "outputs": [
    {
     "data": {
      "text/plain": [
       "['bio_benralizumab_avg_12',\n",
       " 'med_num_doses_otra_avg_6',\n",
       " 'epo_4_sum_6',\n",
       " 'bio_omalizumab_avg_6',\n",
       " 'cal_psi_avg_12',\n",
       " 'med_num_dis_avg_12',\n",
       " 'far_rea_total_sum_6',\n",
       " 'far_cau_def_sum_12',\n",
       " 'inc_inc_sum_12',\n",
       " 'med_flag_j_avg_12',\n",
       " 'adh_sum_6',\n",
       " 'escolaridad',\n",
       " 'zona']"
      ]
     },
     "execution_count": 48,
     "metadata": {},
     "output_type": "execute_result"
    }
   ],
   "source": [
    "Significativas = ['bio_benralizumab_avg_12','med_num_doses_otra_avg_6','epo_4_sum_6','bio_omalizumab_avg_6','cal_psi_avg_12','med_num_dis_avg_12','far_rea_total_sum_6','far_cau_def_sum_12','inc_inc_sum_12','med_flag_j_avg_12','adh_sum_6','escolaridad','zona']\n",
    "Significativas"
   ]
  },
  {
   "cell_type": "code",
   "execution_count": 49,
   "metadata": {},
   "outputs": [
    {
     "data": {
      "text/html": [
       "<div>\n",
       "<style scoped>\n",
       "    .dataframe tbody tr th:only-of-type {\n",
       "        vertical-align: middle;\n",
       "    }\n",
       "\n",
       "    .dataframe tbody tr th {\n",
       "        vertical-align: top;\n",
       "    }\n",
       "\n",
       "    .dataframe thead th {\n",
       "        text-align: right;\n",
       "    }\n",
       "</style>\n",
       "<table border=\"1\" class=\"dataframe\">\n",
       "  <thead>\n",
       "    <tr style=\"text-align: right;\">\n",
       "      <th></th>\n",
       "      <th>bio_benralizumab_avg_12</th>\n",
       "      <th>med_num_doses_otra_avg_6</th>\n",
       "      <th>epo_4_sum_6</th>\n",
       "      <th>bio_omalizumab_avg_6</th>\n",
       "      <th>cal_psi_avg_12</th>\n",
       "      <th>med_num_dis_avg_12</th>\n",
       "      <th>far_rea_total_sum_6</th>\n",
       "      <th>far_cau_def_sum_12</th>\n",
       "      <th>inc_inc_sum_12</th>\n",
       "      <th>med_flag_j_avg_12</th>\n",
       "      <th>adh_sum_6</th>\n",
       "      <th>escolaridad</th>\n",
       "      <th>zona</th>\n",
       "    </tr>\n",
       "  </thead>\n",
       "  <tbody>\n",
       "    <tr>\n",
       "      <th>0</th>\n",
       "      <td>-1.0</td>\n",
       "      <td>-1.000000</td>\n",
       "      <td>-1.0</td>\n",
       "      <td>-1.0</td>\n",
       "      <td>-1.0</td>\n",
       "      <td>-1.000000</td>\n",
       "      <td>-1.0</td>\n",
       "      <td>-1.0</td>\n",
       "      <td>3.0</td>\n",
       "      <td>-1.000000</td>\n",
       "      <td>-1.0</td>\n",
       "      <td>3</td>\n",
       "      <td>1</td>\n",
       "    </tr>\n",
       "    <tr>\n",
       "      <th>1</th>\n",
       "      <td>-1.0</td>\n",
       "      <td>1021.800000</td>\n",
       "      <td>-1.0</td>\n",
       "      <td>-1.0</td>\n",
       "      <td>-1.0</td>\n",
       "      <td>4.444444</td>\n",
       "      <td>-1.0</td>\n",
       "      <td>-1.0</td>\n",
       "      <td>-1.0</td>\n",
       "      <td>0.111111</td>\n",
       "      <td>-1.0</td>\n",
       "      <td>3</td>\n",
       "      <td>1</td>\n",
       "    </tr>\n",
       "    <tr>\n",
       "      <th>2</th>\n",
       "      <td>-1.0</td>\n",
       "      <td>259.200000</td>\n",
       "      <td>-1.0</td>\n",
       "      <td>3.0</td>\n",
       "      <td>-1.0</td>\n",
       "      <td>3.272727</td>\n",
       "      <td>-1.0</td>\n",
       "      <td>-1.0</td>\n",
       "      <td>-1.0</td>\n",
       "      <td>0.090909</td>\n",
       "      <td>-1.0</td>\n",
       "      <td>3</td>\n",
       "      <td>1</td>\n",
       "    </tr>\n",
       "    <tr>\n",
       "      <th>3</th>\n",
       "      <td>-1.0</td>\n",
       "      <td>596.833333</td>\n",
       "      <td>-1.0</td>\n",
       "      <td>3.0</td>\n",
       "      <td>-1.0</td>\n",
       "      <td>3.636364</td>\n",
       "      <td>-1.0</td>\n",
       "      <td>-1.0</td>\n",
       "      <td>-1.0</td>\n",
       "      <td>0.090909</td>\n",
       "      <td>0.0</td>\n",
       "      <td>3</td>\n",
       "      <td>1</td>\n",
       "    </tr>\n",
       "    <tr>\n",
       "      <th>4</th>\n",
       "      <td>-1.0</td>\n",
       "      <td>732.000000</td>\n",
       "      <td>-1.0</td>\n",
       "      <td>3.0</td>\n",
       "      <td>-1.0</td>\n",
       "      <td>3.727273</td>\n",
       "      <td>-1.0</td>\n",
       "      <td>-1.0</td>\n",
       "      <td>-1.0</td>\n",
       "      <td>0.000000</td>\n",
       "      <td>0.0</td>\n",
       "      <td>3</td>\n",
       "      <td>1</td>\n",
       "    </tr>\n",
       "  </tbody>\n",
       "</table>\n",
       "</div>"
      ],
      "text/plain": [
       "   bio_benralizumab_avg_12  med_num_doses_otra_avg_6  epo_4_sum_6  \\\n",
       "0                     -1.0                 -1.000000         -1.0   \n",
       "1                     -1.0               1021.800000         -1.0   \n",
       "2                     -1.0                259.200000         -1.0   \n",
       "3                     -1.0                596.833333         -1.0   \n",
       "4                     -1.0                732.000000         -1.0   \n",
       "\n",
       "   bio_omalizumab_avg_6  cal_psi_avg_12  med_num_dis_avg_12  \\\n",
       "0                  -1.0            -1.0           -1.000000   \n",
       "1                  -1.0            -1.0            4.444444   \n",
       "2                   3.0            -1.0            3.272727   \n",
       "3                   3.0            -1.0            3.636364   \n",
       "4                   3.0            -1.0            3.727273   \n",
       "\n",
       "   far_rea_total_sum_6  far_cau_def_sum_12  inc_inc_sum_12  med_flag_j_avg_12  \\\n",
       "0                 -1.0                -1.0             3.0          -1.000000   \n",
       "1                 -1.0                -1.0            -1.0           0.111111   \n",
       "2                 -1.0                -1.0            -1.0           0.090909   \n",
       "3                 -1.0                -1.0            -1.0           0.090909   \n",
       "4                 -1.0                -1.0            -1.0           0.000000   \n",
       "\n",
       "   adh_sum_6  escolaridad  zona  \n",
       "0       -1.0            3     1  \n",
       "1       -1.0            3     1  \n",
       "2       -1.0            3     1  \n",
       "3        0.0            3     1  \n",
       "4        0.0            3     1  "
      ]
     },
     "execution_count": 49,
     "metadata": {},
     "output_type": "execute_result"
    }
   ],
   "source": [
    "X = df_t[Significativas]\n",
    "X.head()"
   ]
  },
  {
   "cell_type": "markdown",
   "metadata": {},
   "source": [
    "## 3. Modelos"
   ]
  },
  {
   "cell_type": "code",
   "execution_count": 50,
   "metadata": {},
   "outputs": [],
   "source": [
    "X = df_t[Significativas]\n",
    "y = df_t['adeherencia_12']"
   ]
  },
  {
   "cell_type": "code",
   "execution_count": 51,
   "metadata": {},
   "outputs": [],
   "source": [
    "X_train, X_test, y_train, y_test = train_test_split(X, y, test_size=0.20)"
   ]
  },
  {
   "cell_type": "markdown",
   "metadata": {},
   "source": [
    "### Logistic Regression"
   ]
  },
  {
   "cell_type": "code",
   "execution_count": 52,
   "metadata": {},
   "outputs": [
    {
     "data": {
      "text/plain": [
       "LogisticRegression()"
      ]
     },
     "execution_count": 52,
     "metadata": {},
     "output_type": "execute_result"
    }
   ],
   "source": [
    "logreg = LogisticRegression()\n",
    "logreg.fit(X_train, y_train)"
   ]
  },
  {
   "cell_type": "code",
   "execution_count": 53,
   "metadata": {},
   "outputs": [
    {
     "data": {
      "text/plain": [
       "Index(['bio_benralizumab_avg_12', 'med_num_doses_otra_avg_6', 'epo_4_sum_6',\n",
       "       'bio_omalizumab_avg_6', 'cal_psi_avg_12', 'med_num_dis_avg_12',\n",
       "       'far_rea_total_sum_6', 'far_cau_def_sum_12', 'inc_inc_sum_12',\n",
       "       'med_flag_j_avg_12', 'adh_sum_6', 'escolaridad', 'zona'],\n",
       "      dtype='object')"
      ]
     },
     "execution_count": 53,
     "metadata": {},
     "output_type": "execute_result"
    }
   ],
   "source": [
    "X_train.columns"
   ]
  },
  {
   "cell_type": "code",
   "execution_count": 54,
   "metadata": {},
   "outputs": [
    {
     "data": {
      "text/plain": [
       "array([[-0.09096888, -0.00150256, -0.08822074, -0.09690575,  0.00380046,\n",
       "        -0.13314734, -0.40677709,  0.52016335,  0.16535644,  0.48737605,\n",
       "         0.11681602,  0.05008977, -0.80540068]])"
      ]
     },
     "execution_count": 54,
     "metadata": {},
     "output_type": "execute_result"
    }
   ],
   "source": [
    "#Coeficientes\n",
    "logreg.coef_"
   ]
  },
  {
   "cell_type": "code",
   "execution_count": 55,
   "metadata": {},
   "outputs": [
    {
     "name": "stdout",
     "output_type": "stream",
     "text": [
      "Accuracy of logistic regression classifier on test set: 0.78\n"
     ]
    }
   ],
   "source": [
    "yl_pred = logreg.predict(X_test)\n",
    "print('Accuracy of logistic regression classifier on test set: {:.2f}'.format(logreg.score(X_test, y_test)))"
   ]
  },
  {
   "cell_type": "markdown",
   "metadata": {},
   "source": [
    "# Estimators\n",
    "https://www.datacamp.com/community/tutorials/logistic-regression-R"
   ]
  },
  {
   "cell_type": "code",
   "execution_count": 43,
   "metadata": {},
   "outputs": [],
   "source": [
    "Base2 = pd.concat([X_train, y_train], axis=1)"
   ]
  },
  {
   "cell_type": "code",
   "execution_count": 44,
   "metadata": {},
   "outputs": [
    {
     "data": {
      "text/plain": [
       "Index(['bio_benralizumab_avg_12', 'med_num_doses_otra_avg_6', 'epo_4_sum_6',\n",
       "       'bio_omalizumab_avg_6', 'cal_psi_avg_12', 'med_num_dis_avg_12',\n",
       "       'far_rea_total_sum_6', 'far_cau_def_sum_12', 'inc_inc_sum_12',\n",
       "       'med_flag_j_avg_12', 'adh_sum_6', 'escolaridad', 'estadocivil', 'zona',\n",
       "       'adeherencia_12', 'Intercept'],\n",
       "      dtype='object')"
      ]
     },
     "execution_count": 44,
     "metadata": {},
     "output_type": "execute_result"
    }
   ],
   "source": [
    "Base2['Intercept'] = 1\n",
    "Base2.columns"
   ]
  },
  {
   "cell_type": "code",
   "execution_count": 47,
   "metadata": {
    "scrolled": true
   },
   "outputs": [
    {
     "name": "stdout",
     "output_type": "stream",
     "text": [
      "Optimization terminated successfully.\n",
      "         Current function value: 0.498234\n",
      "         Iterations 7\n"
     ]
    },
    {
     "data": {
      "text/html": [
       "<table class=\"simpletable\">\n",
       "<caption>Logit Regression Results</caption>\n",
       "<tr>\n",
       "  <th>Dep. Variable:</th>    <td>adeherencia_12</td>  <th>  No. Observations:  </th>  <td>  3000</td>  \n",
       "</tr>\n",
       "<tr>\n",
       "  <th>Model:</th>                 <td>Logit</td>      <th>  Df Residuals:      </th>  <td>  2986</td>  \n",
       "</tr>\n",
       "<tr>\n",
       "  <th>Method:</th>                 <td>MLE</td>       <th>  Df Model:          </th>  <td>    13</td>  \n",
       "</tr>\n",
       "<tr>\n",
       "  <th>Date:</th>            <td>Sat, 25 Jul 2020</td> <th>  Pseudo R-squ.:     </th>  <td>0.08424</td> \n",
       "</tr>\n",
       "<tr>\n",
       "  <th>Time:</th>                <td>16:30:28</td>     <th>  Log-Likelihood:    </th> <td> -1494.7</td> \n",
       "</tr>\n",
       "<tr>\n",
       "  <th>converged:</th>             <td>True</td>       <th>  LL-Null:           </th> <td> -1632.2</td> \n",
       "</tr>\n",
       "<tr>\n",
       "  <th>Covariance Type:</th>     <td>nonrobust</td>    <th>  LLR p-value:       </th> <td>4.047e-51</td>\n",
       "</tr>\n",
       "</table>\n",
       "<table class=\"simpletable\">\n",
       "<tr>\n",
       "              <td></td>                <th>coef</th>     <th>std err</th>      <th>z</th>      <th>P>|z|</th>  <th>[0.025</th>    <th>0.975]</th>  \n",
       "</tr>\n",
       "<tr>\n",
       "  <th>Intercept</th>                <td>   -2.5714</td> <td>    0.473</td> <td>   -5.434</td> <td> 0.000</td> <td>   -3.499</td> <td>   -1.644</td>\n",
       "</tr>\n",
       "<tr>\n",
       "  <th>bio_benralizumab_avg_12</th>  <td>   -0.9388</td> <td>    0.319</td> <td>   -2.942</td> <td> 0.003</td> <td>   -1.564</td> <td>   -0.313</td>\n",
       "</tr>\n",
       "<tr>\n",
       "  <th>med_num_doses_otra_avg_6</th> <td>   -0.0010</td> <td>    0.001</td> <td>   -1.979</td> <td> 0.048</td> <td>   -0.002</td> <td>-9.62e-06</td>\n",
       "</tr>\n",
       "<tr>\n",
       "  <th>epo_4_sum_6</th>              <td>   -0.7066</td> <td>    0.221</td> <td>   -3.201</td> <td> 0.001</td> <td>   -1.139</td> <td>   -0.274</td>\n",
       "</tr>\n",
       "<tr>\n",
       "  <th>bio_omalizumab_avg_6</th>     <td>   -0.0652</td> <td>    0.021</td> <td>   -3.061</td> <td> 0.002</td> <td>   -0.107</td> <td>   -0.023</td>\n",
       "</tr>\n",
       "<tr>\n",
       "  <th>cal_psi_avg_12</th>           <td>    0.0075</td> <td>    0.002</td> <td>    3.599</td> <td> 0.000</td> <td>    0.003</td> <td>    0.012</td>\n",
       "</tr>\n",
       "<tr>\n",
       "  <th>med_num_dis_avg_12</th>       <td>   -0.1401</td> <td>    0.072</td> <td>   -1.936</td> <td> 0.053</td> <td>   -0.282</td> <td>    0.002</td>\n",
       "</tr>\n",
       "<tr>\n",
       "  <th>far_rea_total_sum_6</th>      <td>   -0.4366</td> <td>    0.155</td> <td>   -2.808</td> <td> 0.005</td> <td>   -0.741</td> <td>   -0.132</td>\n",
       "</tr>\n",
       "<tr>\n",
       "  <th>far_cau_def_sum_12</th>       <td>    0.5435</td> <td>    0.210</td> <td>    2.588</td> <td> 0.010</td> <td>    0.132</td> <td>    0.955</td>\n",
       "</tr>\n",
       "<tr>\n",
       "  <th>inc_inc_sum_12</th>           <td>    0.1652</td> <td>    0.017</td> <td>    9.942</td> <td> 0.000</td> <td>    0.133</td> <td>    0.198</td>\n",
       "</tr>\n",
       "<tr>\n",
       "  <th>med_flag_j_avg_12</th>        <td>    0.2963</td> <td>    0.115</td> <td>    2.585</td> <td> 0.010</td> <td>    0.072</td> <td>    0.521</td>\n",
       "</tr>\n",
       "<tr>\n",
       "  <th>adh_sum_6</th>                <td>    0.1218</td> <td>    0.060</td> <td>    2.033</td> <td> 0.042</td> <td>    0.004</td> <td>    0.239</td>\n",
       "</tr>\n",
       "<tr>\n",
       "  <th>escolaridad</th>              <td>    0.0748</td> <td>    0.032</td> <td>    2.340</td> <td> 0.019</td> <td>    0.012</td> <td>    0.137</td>\n",
       "</tr>\n",
       "<tr>\n",
       "  <th>zona</th>                     <td>   -0.4999</td> <td>    0.208</td> <td>   -2.401</td> <td> 0.016</td> <td>   -0.908</td> <td>   -0.092</td>\n",
       "</tr>\n",
       "</table>"
      ],
      "text/plain": [
       "<class 'statsmodels.iolib.summary.Summary'>\n",
       "\"\"\"\n",
       "                           Logit Regression Results                           \n",
       "==============================================================================\n",
       "Dep. Variable:         adeherencia_12   No. Observations:                 3000\n",
       "Model:                          Logit   Df Residuals:                     2986\n",
       "Method:                           MLE   Df Model:                           13\n",
       "Date:                Sat, 25 Jul 2020   Pseudo R-squ.:                 0.08424\n",
       "Time:                        16:30:28   Log-Likelihood:                -1494.7\n",
       "converged:                       True   LL-Null:                       -1632.2\n",
       "Covariance Type:            nonrobust   LLR p-value:                 4.047e-51\n",
       "============================================================================================\n",
       "                               coef    std err          z      P>|z|      [0.025      0.975]\n",
       "--------------------------------------------------------------------------------------------\n",
       "Intercept                   -2.5714      0.473     -5.434      0.000      -3.499      -1.644\n",
       "bio_benralizumab_avg_12     -0.9388      0.319     -2.942      0.003      -1.564      -0.313\n",
       "med_num_doses_otra_avg_6    -0.0010      0.001     -1.979      0.048      -0.002   -9.62e-06\n",
       "epo_4_sum_6                 -0.7066      0.221     -3.201      0.001      -1.139      -0.274\n",
       "bio_omalizumab_avg_6        -0.0652      0.021     -3.061      0.002      -0.107      -0.023\n",
       "cal_psi_avg_12               0.0075      0.002      3.599      0.000       0.003       0.012\n",
       "med_num_dis_avg_12          -0.1401      0.072     -1.936      0.053      -0.282       0.002\n",
       "far_rea_total_sum_6         -0.4366      0.155     -2.808      0.005      -0.741      -0.132\n",
       "far_cau_def_sum_12           0.5435      0.210      2.588      0.010       0.132       0.955\n",
       "inc_inc_sum_12               0.1652      0.017      9.942      0.000       0.133       0.198\n",
       "med_flag_j_avg_12            0.2963      0.115      2.585      0.010       0.072       0.521\n",
       "adh_sum_6                    0.1218      0.060      2.033      0.042       0.004       0.239\n",
       "escolaridad                  0.0748      0.032      2.340      0.019       0.012       0.137\n",
       "zona                        -0.4999      0.208     -2.401      0.016      -0.908      -0.092\n",
       "============================================================================================\n",
       "\"\"\""
      ]
     },
     "execution_count": 47,
     "metadata": {},
     "output_type": "execute_result"
    }
   ],
   "source": [
    "logit2 = sm.Logit(Base2['adeherencia_12'], Base2[['Intercept','bio_benralizumab_avg_12','med_num_doses_otra_avg_6','epo_4_sum_6','bio_omalizumab_avg_6','cal_psi_avg_12','med_num_dis_avg_12','far_rea_total_sum_6','far_cau_def_sum_12','inc_inc_sum_12','med_flag_j_avg_12','adh_sum_6','escolaridad','zona']])\n",
    "logit_res2 = logit2.fit()\n",
    "logit_res2.summary()"
   ]
  },
  {
   "cell_type": "code",
   "execution_count": null,
   "metadata": {},
   "outputs": [],
   "source": []
  },
  {
   "cell_type": "markdown",
   "metadata": {},
   "source": [
    "# Model Evaluation using Confusion Matrix\n",
    "https://www.datacamp.com/community/tutorials/understanding-logistic-regression-python"
   ]
  },
  {
   "cell_type": "code",
   "execution_count": 56,
   "metadata": {},
   "outputs": [],
   "source": [
    "# import required modules\n",
    "import numpy as np\n",
    "import matplotlib.pyplot as plt\n",
    "import seaborn as sns\n",
    "%matplotlib inline"
   ]
  },
  {
   "cell_type": "code",
   "execution_count": 57,
   "metadata": {},
   "outputs": [
    {
     "data": {
      "text/plain": [
       "array([[559,  14],\n",
       "       [152,  26]], dtype=int64)"
      ]
     },
     "execution_count": 57,
     "metadata": {},
     "output_type": "execute_result"
    }
   ],
   "source": [
    "from sklearn import metrics\n",
    "cnf_matrix = confusion_matrix(y_test, yl_pred)\n",
    "cnf_matrix"
   ]
  },
  {
   "cell_type": "code",
   "execution_count": 58,
   "metadata": {},
   "outputs": [
    {
     "data": {
      "text/plain": [
       "Text(0.5, 257.44, 'Predicted label')"
      ]
     },
     "execution_count": 58,
     "metadata": {},
     "output_type": "execute_result"
    },
    {
     "data": {
      "image/png": "[encoded data removed]",
      "text/plain": [
       "<Figure size 432x288 with 2 Axes>"
      ]
     },
     "metadata": {
      "needs_background": "light"
     },
     "output_type": "display_data"
    }
   ],
   "source": [
    "# Visualizing Confusion Matrix using Heatmap\n",
    "class_names=[0,1] # name  of classes\n",
    "fig, ax = plt.subplots()\n",
    "tick_marks = np.arange(len(class_names))\n",
    "plt.xticks(tick_marks, class_names)\n",
    "plt.yticks(tick_marks, class_names)\n",
    "# create heatmap\n",
    "sns.heatmap(pd.DataFrame(cnf_matrix), annot=True, cmap=\"YlGnBu\" ,fmt='g')\n",
    "ax.xaxis.set_label_position(\"top\")\n",
    "plt.tight_layout()\n",
    "plt.title('Confusion matrix', y=1.1)\n",
    "plt.ylabel('Actual label')\n",
    "plt.xlabel('Predicted label')"
   ]
  },
  {
   "cell_type": "code",
   "execution_count": 59,
   "metadata": {},
   "outputs": [
    {
     "name": "stdout",
     "output_type": "stream",
     "text": [
      "[[559  14]\n",
      " [152  26]]\n",
      "              precision    recall  f1-score   support\n",
      "\n",
      "           0       0.79      0.98      0.87       573\n",
      "           1       0.65      0.15      0.24       178\n",
      "\n",
      "    accuracy                           0.78       751\n",
      "   macro avg       0.72      0.56      0.55       751\n",
      "weighted avg       0.75      0.78      0.72       751\n",
      "\n"
     ]
    },
    {
     "data": {
      "image/png": "[encoded data removed]",
      "text/plain": [
       "<Figure size 432x288 with 1 Axes>"
      ]
     },
     "metadata": {
      "needs_background": "light"
     },
     "output_type": "display_data"
    }
   ],
   "source": [
    "plt.hist(logreg.predict_proba(X_test))\n",
    "print(confusion_matrix(y_test, yl_pred))\n",
    "print(classification_report(y_test, yl_pred))"
   ]
  },
  {
   "cell_type": "code",
   "execution_count": 60,
   "metadata": {},
   "outputs": [
    {
     "name": "stdout",
     "output_type": "stream",
     "text": [
      "Accuracy: 0.7789613848202397\n",
      "Precision: 0.65\n",
      "Recall: 0.14606741573033707\n"
     ]
    }
   ],
   "source": [
    "print(\"Accuracy:\",metrics.accuracy_score(y_test, yl_pred))\n",
    "print(\"Precision:\",metrics.precision_score(y_test, yl_pred))\n",
    "print(\"Recall:\",metrics.recall_score(y_test, yl_pred))"
   ]
  },
  {
   "cell_type": "markdown",
   "metadata": {},
   "source": [
    "# ROC Curve"
   ]
  },
  {
   "cell_type": "code",
   "execution_count": 62,
   "metadata": {},
   "outputs": [
    {
     "data": {
      "image/png": "[encoded data removed]",
      "text/plain": [
       "<Figure size 432x288 with 1 Axes>"
      ]
     },
     "metadata": {
      "needs_background": "light"
     },
     "output_type": "display_data"
    }
   ],
   "source": [
    "y_pred_proba = logreg.predict_proba(X_test)[::,1]\n",
    "fpr, tpr, _ = metrics.roc_curve(y_test,  y_pred_proba)\n",
    "auc = metrics.roc_auc_score(y_test, y_pred_proba)\n",
    "plt.plot(fpr,tpr,label=\"data 1, auc=\"+str(auc))\n",
    "plt.legend(loc=4)\n",
    "plt.show()"
   ]
  },
  {
   "cell_type": "markdown",
   "metadata": {},
   "source": [
    "# Sensitivity and Specificity"
   ]
  },
  {
   "cell_type": "code",
   "execution_count": 63,
   "metadata": {},
   "outputs": [
    {
     "name": "stdout",
     "output_type": "stream",
     "text": [
      "Confusion Matrix : \n",
      " [[559  14]\n",
      " [152  26]]\n",
      "Accuracy :  0.7789613848202397\n",
      "Sensitivity :  0.9755671902268761\n",
      "Specificity :  0.14606741573033707\n"
     ]
    }
   ],
   "source": [
    "#Confusion matrix, Accuracy, sensitivity and specificity\n",
    "from sklearn.metrics import confusion_matrix\n",
    "\n",
    "cm1 = confusion_matrix(y_test, yl_pred)\n",
    "print('Confusion Matrix : \\n', cm1)\n",
    "\n",
    "\n",
    "total1=sum(sum(cm1))\n",
    "#####from confusion matrix calculate accuracy\n",
    "accuracy1=(cm1[0,0]+cm1[1,1])/total1\n",
    "print ('Accuracy : ', accuracy1)\n",
    "\n",
    "sensitivity1 = cm1[0,0]/(cm1[0,0]+cm1[0,1])\n",
    "print('Sensitivity : ', sensitivity1 )\n",
    "\n",
    "specificity1 = cm1[1,1]/(cm1[1,0]+cm1[1,1])\n",
    "print('Specificity : ', specificity1)"
   ]
  }
 ],
 "metadata": {
  "kernelspec": {
   "display_name": "Python 3",
   "language": "python",
   "name": "python3"
  },
  "language_info": {
   "codemirror_mode": {
    "name": "ipython",
    "version": 3
   },
   "file_extension": ".py",
   "mimetype": "text/x-python",
   "name": "python",
   "nbconvert_exporter": "python",
   "pygments_lexer": "ipython3",
   "version": "3.7.6"
  }
 },
 "nbformat": 4,
 "nbformat_minor": 4
}
